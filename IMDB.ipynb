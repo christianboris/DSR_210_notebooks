{
  "cells": [
    {
      "cell_type": "code",
      "execution_count": null,
      "metadata": {
        "id": "dxUuRS75NQ5d"
      },
      "outputs": [],
      "source": [
        "# @title\n",
        "import tensorflow as tf\n",
        "from tensorflow.keras import models, layers\n",
        "import tensorflow_datasets as tfds\n",
        "import matplotlib.pyplot as plt\n",
        "import numpy as np"
      ]
    },
    {
      "cell_type": "code",
      "execution_count": null,
      "metadata": {
        "id": "IRQK0AB9oZOu"
      },
      "outputs": [],
      "source": [
        "# Batch for training, then gradients and improvement of model, doing till all batches are exhausted (aka one epoch done)"
      ]
    },
    {
      "cell_type": "code",
      "execution_count": null,
      "metadata": {
        "colab": {
          "base_uri": "https://localhost:8080/",
          "height": 116,
          "referenced_widgets": [
            "10ebd4ed2b814ce7a948442fce1a4cca",
            "0c87a1dbd2b8462a82a2e27c77d2a03d",
            "ab3c22a4e3c6493fb8ea8718475ce276",
            "a339ed34d7e248eba393a32689c266f8",
            "2ddf7e43661744939877aa16b85ca307",
            "b8a7edad01a143009377ddba17f40eb6",
            "8fbd958cb9254b3f942c4eeabb3e6545",
            "22db3b58218142aa9c0eed32d7a8f8f4",
            "4b4893b3676c4db0a8bfdccc10293383",
            "fab7b1528942403aa00b01ff639f80af",
            "1c9ed272883d47f09027dd08b838fc5f",
            "d5327c954b1d4f7999b2ba52fa24cbc0",
            "0291302a53ca4a55a57853203156e838",
            "ebd8249670c2459d901ba99ed9e9c8ac",
            "9a9b698b7cac459f8f56f953a38cee92",
            "171f5108e83a489d8acb81f2123712b2",
            "2b03c0012d3f457cbfae3487aec15e67",
            "950e11e02fa14eaf8ab59b40a96e80a6",
            "ce80190b2835431ab6a582ac0538dc4c",
            "c6f25ea7e5884d598cf5b99d66964ade",
            "07861eb7c61b4f19823574b0bc413701",
            "ea961471bf77423b9d07104c14ad5427",
            "1f02fd0d4d944125b06a060745da423a",
            "efd28e93da424cd68e01bdb3611fb088",
            "fc3500bec4f34dc583b86d37ee51c106",
            "9a2d9e2ae3a840b5937358fca5121dc3",
            "45f8162da4744f8fa76e30463beca2cb",
            "34f88fdf8fc24ab4a23181e8a5044d06",
            "a0a458d04e7847239c9ea8e35317b9e8",
            "2559fbe2c69c498dafe3f7fdf769d9d9",
            "1f0dc689f890410197502689ac2ca001",
            "38ef9436276949c1bd003d6f19f64afb",
            "091c234ed0654dcbbc45f67449b9e67f",
            "6422c41cca96459f8145b8af4de3759d",
            "38b72741bb6448cba637c0493ef8fb4a",
            "57ce1c7e25884dd8b3bfc5c3c14fa5ed",
            "476d7a89be344fbf8a7f6376e016d86c",
            "043fe10452ea40629ebb153301a9d8bd",
            "309c3282be8d494b88e2e4a9b7527e69",
            "46761f2b3dc54f2ea4927ce2168802b1",
            "8f6b3b2b5abb40f4b336bab41fde318e",
            "2defd5a6b8f04a75881a366427c7e846",
            "0d0c77d1b6234bdb8bef26c1a9a078e3",
            "ed16fcdaf1304d5a83d17d8a850f329d",
            "163889520c71403e80c4a68f1593a987",
            "f6b5a036854f4bdba3b8ce3a013c2cc3",
            "0ca81fd196a04dd7889601c14808efb1",
            "68bb9cd3cbcc416c8f842f15a0375a06",
            "0b4c204308154a0c8f52083fd717e747",
            "91eae0506fed44dcba0c60a402cbf057",
            "e7952ce258164cb2817faf21ad5f325f",
            "ab4e8f451eeb477cacc6dc3271d155ee",
            "7868208e953a44a59cf166a5a070df2c",
            "654d7d1cb9f84ff89e75393b1626e2ed",
            "9ee3eb9a929e40a386c8a2c0d77b407d",
            "12fa7fcb354743ca80eea29b7e6cbecd",
            "0e6116e6e40647c3a3e5d569d1454821",
            "8c4232585a1046c7a6f170831f99cdb9",
            "a7fe2ddfe44042f3a3cddfae644859c9",
            "cd9fea6fff4744cfa19d4710d710bf65",
            "7af3e5d8b0504b24809c0d67f3db3c4c",
            "7933246183f5404fa2ea6c5035cb0ea6",
            "707ac35e82e64c9aba0257c282f7719c",
            "a9af48381d0d4cf9ab6779ccb576158e",
            "8f3146057879408894e61c359658de34",
            "200cafe55b8742d8b0a09361349c7708",
            "9b5dbfbcd0e7442ea0e2dc645fda20cb",
            "b3b916fed99e44cc97f09d72d242d928",
            "92d0abac11ff4611931c7dc9ae1ee203",
            "b5ef5432fa9d41ba8e4420fa05b201f4",
            "b037bdfd429e4d0b9032e2a9c534750b",
            "be6cff1939ff487b8ccd44e405c1eb18",
            "aa89271f9cfd496e9c3c7dd4f61dc090",
            "e52839fa183443c79e6b72c42822c9fa",
            "4a4d426385564bfdbdf611e3c787f07c",
            "73cb8ae3b0544f4fad5a64b59618bdfe",
            "916fdab00442450e8228528fb89d5c62",
            "7e4c339a1aea45dc9da028697b83f397",
            "6a6c25c0b7514e8da808be6142589be3",
            "56b078197ed747c0bc1c2c61389c292b",
            "2f1047396c9d4774b1663260d2b7b341",
            "ec5e8b0f9df84a9e9121603165793ed0",
            "cd1de4fb6e5c48d7a51db54288a4f529",
            "e8bad309c989426ca68ed711d7521811",
            "022555e2c17941d2b6730f5b7c7fcee6",
            "461b39e6bf904e77a58af39e8a625302",
            "ff06b14ee31b4c61a91be0e3de20d4e8",
            "fb0cc00bd48c4e6fa102aaa937ab7b6a",
            "1bf25e24f9b6452f8fa78f51c24caf24",
            "16021ddd9a684c9eb28f7731597e0048",
            "58d2cba9701b47f4ba170b1aa9122e16",
            "875cfb0777a546dbba7acf9ebe6f3625",
            "3647a0f888ee44998e7601188ec3c575",
            "65d4f2b3b11140df8950786832bde64b",
            "8eadff4b2da547e88404145be18368d9",
            "4d84ea2a793e4ce4a12f9f23aa681ea5",
            "8fbda60cee414d67a949edd0bc20484e",
            "f100bcad80b84538a5b75260318af16b",
            "eae68175c2fe44819cbd6134b5b96d6d"
          ]
        },
        "id": "Te2vScQ4UPJ5",
        "outputId": "074714eb-7863-4945-e92a-a24eac31e908"
      },
      "outputs": [
        {
          "output_type": "stream",
          "name": "stdout",
          "text": [
            "Downloading and preparing dataset 80.23 MiB (download: 80.23 MiB, generated: Unknown size, total: 80.23 MiB) to /root/tensorflow_datasets/imdb_reviews/plain_text/1.0.0...\n"
          ]
        },
        {
          "output_type": "display_data",
          "data": {
            "text/plain": [
              "Dl Completed...: 0 url [00:00, ? url/s]"
            ],
            "application/vnd.jupyter.widget-view+json": {
              "version_major": 2,
              "version_minor": 0,
              "model_id": "10ebd4ed2b814ce7a948442fce1a4cca"
            }
          },
          "metadata": {}
        },
        {
          "output_type": "display_data",
          "data": {
            "text/plain": [
              "Dl Size...: 0 MiB [00:00, ? MiB/s]"
            ],
            "application/vnd.jupyter.widget-view+json": {
              "version_major": 2,
              "version_minor": 0,
              "model_id": "d5327c954b1d4f7999b2ba52fa24cbc0"
            }
          },
          "metadata": {}
        },
        {
          "output_type": "display_data",
          "data": {
            "text/plain": [
              "Generating splits...:   0%|          | 0/3 [00:00<?, ? splits/s]"
            ],
            "application/vnd.jupyter.widget-view+json": {
              "version_major": 2,
              "version_minor": 0,
              "model_id": "1f02fd0d4d944125b06a060745da423a"
            }
          },
          "metadata": {}
        },
        {
          "output_type": "display_data",
          "data": {
            "text/plain": [
              "Generating train examples...:   0%|          | 0/25000 [00:00<?, ? examples/s]"
            ],
            "application/vnd.jupyter.widget-view+json": {
              "version_major": 2,
              "version_minor": 0,
              "model_id": "6422c41cca96459f8145b8af4de3759d"
            }
          },
          "metadata": {}
        },
        {
          "output_type": "display_data",
          "data": {
            "text/plain": [
              "Shuffling /root/tensorflow_datasets/imdb_reviews/plain_text/1.0.0.incompleteWWDHGG/imdb_reviews-train.tfrecord…"
            ],
            "application/vnd.jupyter.widget-view+json": {
              "version_major": 2,
              "version_minor": 0,
              "model_id": "163889520c71403e80c4a68f1593a987"
            }
          },
          "metadata": {}
        },
        {
          "output_type": "display_data",
          "data": {
            "text/plain": [
              "Generating test examples...:   0%|          | 0/25000 [00:00<?, ? examples/s]"
            ],
            "application/vnd.jupyter.widget-view+json": {
              "version_major": 2,
              "version_minor": 0,
              "model_id": "12fa7fcb354743ca80eea29b7e6cbecd"
            }
          },
          "metadata": {}
        },
        {
          "output_type": "display_data",
          "data": {
            "text/plain": [
              "Shuffling /root/tensorflow_datasets/imdb_reviews/plain_text/1.0.0.incompleteWWDHGG/imdb_reviews-test.tfrecord*…"
            ],
            "application/vnd.jupyter.widget-view+json": {
              "version_major": 2,
              "version_minor": 0,
              "model_id": "9b5dbfbcd0e7442ea0e2dc645fda20cb"
            }
          },
          "metadata": {}
        },
        {
          "output_type": "display_data",
          "data": {
            "text/plain": [
              "Generating unsupervised examples...:   0%|          | 0/50000 [00:00<?, ? examples/s]"
            ],
            "application/vnd.jupyter.widget-view+json": {
              "version_major": 2,
              "version_minor": 0,
              "model_id": "7e4c339a1aea45dc9da028697b83f397"
            }
          },
          "metadata": {}
        },
        {
          "output_type": "display_data",
          "data": {
            "text/plain": [
              "Shuffling /root/tensorflow_datasets/imdb_reviews/plain_text/1.0.0.incompleteWWDHGG/imdb_reviews-unsupervised.t…"
            ],
            "application/vnd.jupyter.widget-view+json": {
              "version_major": 2,
              "version_minor": 0,
              "model_id": "1bf25e24f9b6452f8fa78f51c24caf24"
            }
          },
          "metadata": {}
        },
        {
          "output_type": "stream",
          "name": "stdout",
          "text": [
            "Dataset imdb_reviews downloaded and prepared to /root/tensorflow_datasets/imdb_reviews/plain_text/1.0.0. Subsequent calls will reuse this data.\n"
          ]
        }
      ],
      "source": [
        "datasets, info = tfds.load(\n",
        "    \"imdb_reviews/plain_text\",\n",
        "    split=[\"train\",\"test[:50%]\", \"test[50%:]\"],\n",
        "    as_supervised=True,\n",
        "    with_info=True,\n",
        ")\n",
        "#info\n",
        "dataset_train_original = datasets[0]\n",
        "dataset_validate_original = datasets[1]\n",
        "dataset_test_original = datasets[2]"
      ]
    },
    {
      "cell_type": "code",
      "execution_count": null,
      "metadata": {
        "colab": {
          "base_uri": "https://localhost:8080/"
        },
        "id": "f7f77-XGUrcq",
        "outputId": "3a422070-19a9-4dd8-c982-85b575eacee4"
      },
      "outputs": [
        {
          "output_type": "stream",
          "name": "stdout",
          "text": [
            "tf.Tensor(b\"This was an absolutely terrible movie. Don't be lured in by Christopher Walken or Michael Ironside. Both are great actors, but this must simply be their worst role in history. Even their great acting could not redeem this movie's ridiculous storyline. This movie is an early nineties US propaganda piece. The most pathetic scenes were those when the Columbian rebels were making their cases for revolutions. Maria Conchita Alonso appeared phony, and her pseudo-love affair with Walken was nothing but a pathetic emotional plug in a movie that was devoid of any real meaning. I am disappointed that there are movies like this, ruining actor's like Christopher Walken's good name. I could barely sit through it.\", shape=(), dtype=string)\n",
            "tf.Tensor(0, shape=(), dtype=int64)\n",
            "\n",
            "tf.Tensor(b'I have been known to fall asleep during films, but this is usually due to a combination of things including, really tired, being warm and comfortable on the sette and having just eaten a lot. However on this occasion I fell asleep because the film was rubbish. The plot development was constant. Constantly slow and boring. Things seemed to happen, but with no explanation of what was causing them or why. I admit, I may have missed part of the film, but i watched the majority of it and everything just seemed to happen of its own accord without any real concern for anything else. I cant recommend this film at all.', shape=(), dtype=string)\n",
            "tf.Tensor(0, shape=(), dtype=int64)\n",
            "\n",
            "tf.Tensor(b'Mann photographs the Alberta Rocky Mountains in a superb fashion, and Jimmy Stewart and Walter Brennan give enjoyable performances as they always seem to do. <br /><br />But come on Hollywood - a Mountie telling the people of Dawson City, Yukon to elect themselves a marshal (yes a marshal!) and to enforce the law themselves, then gunfighters battling it out on the streets for control of the town? <br /><br />Nothing even remotely resembling that happened on the Canadian side of the border during the Klondike gold rush. Mr. Mann and company appear to have mistaken Dawson City for Deadwood, the Canadian North for the American Wild West.<br /><br />Canadian viewers be prepared for a Reefer Madness type of enjoyable howl with this ludicrous plot, or, to shake your head in disgust.', shape=(), dtype=string)\n",
            "tf.Tensor(0, shape=(), dtype=int64)\n",
            "\n",
            "tf.Tensor(b'This is the kind of film for a snowy Sunday afternoon when the rest of the world can go ahead with its own business as you descend into a big arm-chair and mellow for a couple of hours. Wonderful performances from Cher and Nicolas Cage (as always) gently row the plot along. There are no rapids to cross, no dangerous waters, just a warm and witty paddle through New York life at its best. A family film in every sense and one that deserves the praise it received.', shape=(), dtype=string)\n",
            "tf.Tensor(1, shape=(), dtype=int64)\n",
            "\n",
            "tf.Tensor(b'As others have mentioned, all the women that go nude in this film are mostly absolutely gorgeous. The plot very ably shows the hypocrisy of the female libido. When men are around they want to be pursued, but when no \"men\" are around, they become the pursuers of a 14 year old boy. And the boy becomes a man really fast (we should all be so lucky at this age!). He then gets up the courage to pursue his true love.', shape=(), dtype=string)\n",
            "tf.Tensor(1, shape=(), dtype=int64)\n",
            "\n",
            "tf.Tensor(b\"This is a film which should be seen by anybody interested in, effected by, or suffering from an eating disorder. It is an amazingly accurate and sensitive portrayal of bulimia in a teenage girl, its causes and its symptoms. The girl is played by one of the most brilliant young actresses working in cinema today, Alison Lohman, who was later so spectacular in 'Where the Truth Lies'. I would recommend that this film be shown in all schools, as you will never see a better on this subject. Alison Lohman is absolutely outstanding, and one marvels at her ability to convey the anguish of a girl suffering from this compulsive disorder. If barometers tell us the air pressure, Alison Lohman tells us the emotional pressure with the same degree of accuracy. Her emotional range is so precise, each scene could be measured microscopically for its gradations of trauma, on a scale of rising hysteria and desperation which reaches unbearable intensity. Mare Winningham is the perfect choice to play her mother, and does so with immense sympathy and a range of emotions just as finely tuned as Lohman's. Together, they make a pair of sensitive emotional oscillators vibrating in resonance with one another. This film is really an astonishing achievement, and director Katt Shea should be proud of it. The only reason for not seeing it is if you are not interested in people. But even if you like nature films best, this is after all animal behaviour at the sharp edge. Bulimia is an extreme version of how a tormented soul can destroy her own body in a frenzy of despair. And if we don't sympathise with people suffering from the depths of despair, then we are dead inside.\", shape=(), dtype=string)\n",
            "tf.Tensor(1, shape=(), dtype=int64)\n",
            "\n"
          ]
        }
      ],
      "source": [
        "for x, y in dataset_train_original.take(6):\n",
        "  print(x)\n",
        "  print(y)\n",
        "  print(\"\")"
      ]
    },
    {
      "cell_type": "code",
      "execution_count": null,
      "metadata": {
        "colab": {
          "base_uri": "https://localhost:8080/"
        },
        "id": "KibnKKS_sEy3",
        "outputId": "f73d674f-7254-4f15-afc5-d961a78e9848"
      },
      "outputs": [
        {
          "output_type": "stream",
          "name": "stdout",
          "text": [
            "This was an absolutely terrible movie. Don't be lured in by Christopher Walken or Michael Ironside. Both are great actors, but this must simply be their worst role in history. Even their great acting could not redeem this movie's ridiculous storyline. This movie is an early nineties US propaganda piece. The most pathetic scenes were those when the Columbian rebels were making their cases for revolutions. Maria Conchita Alonso appeared phony, and her pseudo-love affair with Walken was nothing but a pathetic emotional plug in a movie that was devoid of any real meaning. I am disappointed that there are movies like this, ruining actor's like Christopher Walken's good name. I could barely sit through it.\n",
            "0\n",
            "\n",
            "I have been known to fall asleep during films, but this is usually due to a combination of things including, really tired, being warm and comfortable on the sette and having just eaten a lot. However on this occasion I fell asleep because the film was rubbish. The plot development was constant. Constantly slow and boring. Things seemed to happen, but with no explanation of what was causing them or why. I admit, I may have missed part of the film, but i watched the majority of it and everything just seemed to happen of its own accord without any real concern for anything else. I cant recommend this film at all.\n",
            "0\n",
            "\n",
            "Mann photographs the Alberta Rocky Mountains in a superb fashion, and Jimmy Stewart and Walter Brennan give enjoyable performances as they always seem to do. <br /><br />But come on Hollywood - a Mountie telling the people of Dawson City, Yukon to elect themselves a marshal (yes a marshal!) and to enforce the law themselves, then gunfighters battling it out on the streets for control of the town? <br /><br />Nothing even remotely resembling that happened on the Canadian side of the border during the Klondike gold rush. Mr. Mann and company appear to have mistaken Dawson City for Deadwood, the Canadian North for the American Wild West.<br /><br />Canadian viewers be prepared for a Reefer Madness type of enjoyable howl with this ludicrous plot, or, to shake your head in disgust.\n",
            "0\n",
            "\n",
            "This is the kind of film for a snowy Sunday afternoon when the rest of the world can go ahead with its own business as you descend into a big arm-chair and mellow for a couple of hours. Wonderful performances from Cher and Nicolas Cage (as always) gently row the plot along. There are no rapids to cross, no dangerous waters, just a warm and witty paddle through New York life at its best. A family film in every sense and one that deserves the praise it received.\n",
            "1\n",
            "\n",
            "As others have mentioned, all the women that go nude in this film are mostly absolutely gorgeous. The plot very ably shows the hypocrisy of the female libido. When men are around they want to be pursued, but when no \"men\" are around, they become the pursuers of a 14 year old boy. And the boy becomes a man really fast (we should all be so lucky at this age!). He then gets up the courage to pursue his true love.\n",
            "1\n",
            "\n",
            "This is a film which should be seen by anybody interested in, effected by, or suffering from an eating disorder. It is an amazingly accurate and sensitive portrayal of bulimia in a teenage girl, its causes and its symptoms. The girl is played by one of the most brilliant young actresses working in cinema today, Alison Lohman, who was later so spectacular in 'Where the Truth Lies'. I would recommend that this film be shown in all schools, as you will never see a better on this subject. Alison Lohman is absolutely outstanding, and one marvels at her ability to convey the anguish of a girl suffering from this compulsive disorder. If barometers tell us the air pressure, Alison Lohman tells us the emotional pressure with the same degree of accuracy. Her emotional range is so precise, each scene could be measured microscopically for its gradations of trauma, on a scale of rising hysteria and desperation which reaches unbearable intensity. Mare Winningham is the perfect choice to play her mother, and does so with immense sympathy and a range of emotions just as finely tuned as Lohman's. Together, they make a pair of sensitive emotional oscillators vibrating in resonance with one another. This film is really an astonishing achievement, and director Katt Shea should be proud of it. The only reason for not seeing it is if you are not interested in people. But even if you like nature films best, this is after all animal behaviour at the sharp edge. Bulimia is an extreme version of how a tormented soul can destroy her own body in a frenzy of despair. And if we don't sympathise with people suffering from the depths of despair, then we are dead inside.\n",
            "1\n",
            "\n"
          ]
        }
      ],
      "source": [
        "for x, y in dataset_train_original.take(6):\n",
        "  print(x.numpy().decode(\"utf-8\"))\n",
        "  print(y.numpy())\n",
        "  print(\"\")"
      ]
    },
    {
      "cell_type": "code",
      "execution_count": null,
      "metadata": {
        "colab": {
          "base_uri": "https://localhost:8080/",
          "height": 430
        },
        "id": "1XVDJmzGqHmB",
        "outputId": "256b9a64-833f-4298-ce32-ab31309a8f0b"
      },
      "outputs": [
        {
          "output_type": "display_data",
          "data": {
            "text/plain": [
              "<Figure size 640x480 with 1 Axes>"
            ],
            "image/png": "[encoded data removed]"
          },
          "metadata": {}
        }
      ],
      "source": [
        "lengths = []\n",
        "for x, _ in dataset_train_original:\n",
        "  lengths.append(len(x.numpy().split()))\n",
        "\n",
        "plt.hist(lengths, bins=100)\n",
        "plt.show()"
      ]
    },
    {
      "cell_type": "code",
      "execution_count": null,
      "metadata": {
        "colab": {
          "base_uri": "https://localhost:8080/",
          "height": 430
        },
        "id": "VsjdTGIPtzdA",
        "outputId": "78c3596b-a134-4baf-9f82-8307f73fd457"
      },
      "outputs": [
        {
          "output_type": "display_data",
          "data": {
            "text/plain": [
              "<Figure size 640x480 with 1 Axes>"
            ],
            "image/png": "[encoded data removed]"
          },
          "metadata": {}
        }
      ],
      "source": [
        "# Is the target balanced?\n",
        "labels = []\n",
        "for _,y in dataset_train_original:\n",
        "  labels.append(y.numpy())\n",
        "\n",
        "plt.hist(labels)\n",
        "plt.show()"
      ]
    },
    {
      "cell_type": "code",
      "source": [
        "#np"
      ],
      "metadata": {
        "id": "eWEm3oTxOeG1"
      },
      "execution_count": null,
      "outputs": []
    },
    {
      "cell_type": "markdown",
      "metadata": {
        "id": "cr6qd_fXzHe0"
      },
      "source": [
        "#Bag of words encoding"
      ]
    },
    {
      "cell_type": "code",
      "execution_count": null,
      "metadata": {
        "colab": {
          "base_uri": "https://localhost:8080/"
        },
        "id": "yeN-tRf5-HMS",
        "outputId": "4b0fa1ee-4c29-40d4-ed89-e14f0f08d565"
      },
      "outputs": [
        {
          "output_type": "stream",
          "name": "stdout",
          "text": [
            "tf.Tensor(\n",
            "[b\"This was an absolutely terrible movie. Don't be lured in by Christopher Walken or Michael Ironside. Both are great actors, but this must simply be their worst role in history. Even their great acting could not redeem this movie's ridiculous storyline. This movie is an early nineties US propaganda piece. The most pathetic scenes were those when the Columbian rebels were making their cases for revolutions. Maria Conchita Alonso appeared phony, and her pseudo-love affair with Walken was nothing but a pathetic emotional plug in a movie that was devoid of any real meaning. I am disappointed that there are movies like this, ruining actor's like Christopher Walken's good name. I could barely sit through it.\"\n",
            " b'I have been known to fall asleep during films, but this is usually due to a combination of things including, really tired, being warm and comfortable on the sette and having just eaten a lot. However on this occasion I fell asleep because the film was rubbish. The plot development was constant. Constantly slow and boring. Things seemed to happen, but with no explanation of what was causing them or why. I admit, I may have missed part of the film, but i watched the majority of it and everything just seemed to happen of its own accord without any real concern for anything else. I cant recommend this film at all.'\n",
            " b'Mann photographs the Alberta Rocky Mountains in a superb fashion, and Jimmy Stewart and Walter Brennan give enjoyable performances as they always seem to do. <br /><br />But come on Hollywood - a Mountie telling the people of Dawson City, Yukon to elect themselves a marshal (yes a marshal!) and to enforce the law themselves, then gunfighters battling it out on the streets for control of the town? <br /><br />Nothing even remotely resembling that happened on the Canadian side of the border during the Klondike gold rush. Mr. Mann and company appear to have mistaken Dawson City for Deadwood, the Canadian North for the American Wild West.<br /><br />Canadian viewers be prepared for a Reefer Madness type of enjoyable howl with this ludicrous plot, or, to shake your head in disgust.'\n",
            " b'This is the kind of film for a snowy Sunday afternoon when the rest of the world can go ahead with its own business as you descend into a big arm-chair and mellow for a couple of hours. Wonderful performances from Cher and Nicolas Cage (as always) gently row the plot along. There are no rapids to cross, no dangerous waters, just a warm and witty paddle through New York life at its best. A family film in every sense and one that deserves the praise it received.'], shape=(4,), dtype=string)\n"
          ]
        }
      ],
      "source": [
        "for sample in dataset_train_original.map(lambda text, label: text).batch(4).take(1):\n",
        "  print(sample)"
      ]
    },
    {
      "cell_type": "code",
      "execution_count": null,
      "metadata": {
        "id": "vojEnlLkzBDx"
      },
      "outputs": [],
      "source": [
        "vocabulary_size = 10_000\n",
        "\n",
        "encoder = layers.TextVectorization(\n",
        "    max_tokens=vocabulary_size,\n",
        "    standardize=\"lower_and_strip_punctuation\",\n",
        "    split=\"whitespace\",\n",
        "    output_mode=\"multi_hot\"\n",
        ")\n",
        "encoder.adapt(dataset_train_original.map(lambda text, label: text).batch(2048))"
      ]
    },
    {
      "cell_type": "code",
      "execution_count": null,
      "metadata": {
        "colab": {
          "base_uri": "https://localhost:8080/"
        },
        "id": "LY54WjYlAgAP",
        "outputId": "b587fdae-67ec-4375-a7f4-3ab63942b56f"
      },
      "outputs": [
        {
          "output_type": "stream",
          "name": "stdout",
          "text": [
            "['[UNK]', 'the', 'and', 'a', 'of', 'to', 'is', 'in', 'it', 'i', 'this', 'that', 'br', 'was', 'as', 'for', 'with', 'movie', 'but', 'film', 'on', 'not', 'you', 'are', 'his', 'have', 'he', 'be', 'one', 'its', 'at', 'all', 'by', 'an', 'they', 'from', 'who', 'so', 'like', 'her', 'just', 'or', 'about', 'has', 'if', 'out', 'some', 'there', 'what', 'good', 'when', 'more', 'very', 'even', 'she', 'my', 'no', 'up', 'would', 'which', 'only', 'time', 'really', 'story', 'their', 'were', 'had', 'see', 'can', 'me', 'than', 'we', 'much', 'well', 'been', 'get', 'will', 'into', 'also', 'because', 'other', 'do', 'people', 'bad', 'great', 'first', 'how', 'most', 'him', 'dont', 'made', 'then', 'movies', 'make', 'films', 'could', 'way', 'them', 'any', 'too', 'after', 'characters', 'think', 'watch', 'two', 'many', 'being', 'seen', 'character', 'never', 'little', 'acting', 'where', 'plot', 'best', 'love', 'did', 'know', 'life', 'show', 'does', 'ever', 'your', 'still', 'better', 'over', 'off', 'these', 'end', 'say', 'while', 'here', 'man', 'why', 'scene', 'such', 'scenes', 'go', 'should', 'something', 'through', 'im', 'back', 'those', 'doesnt', 'real', 'watching', 'years', 'though', 'now', 'thing', 'actors', 'didnt', 'another', 'new', 'before', 'actually', 'nothing', 'makes', 'find', 'work', 'funny', 'look', 'few', 'old', 'going', 'same', 'every', 'lot', 'us', 'part', 'director', 'again', 'thats', 'cant', 'quite', 'cast', 'want', 'pretty', 'things', 'seems', 'young', 'got', 'around', 'fact', 'however', 'down', 'world', 'take', 'enough', 'both', 'give', 'between', 'may', 'ive', 'big', 'horror', 'original', 'thought', 'own', 'without', 'gets', 'always', 'series', 'right', 'long', 'isnt', 'saw', 'come', 'almost', 'times', 'least', 'theres', 'role', 'point', 'action', 'must', 'interesting', 'whole', 'comedy', 'bit', 'family', 'music', 'done', 'script', 'last', 'might', 'hes', 'anything', 'guy', 'since', 'feel', 'minutes', 'far', 'probably', 'performance', 'am', 'kind', 'rather', 'worst', 'yet', 'away', 'sure', 'tv', 'making', 'woman', 'girl', 'each', 'found', 'fun', 'played', 'having', 'anyone', 'our', 'although', 'believe', 'comes', 'trying', 'course', 'especially', 'goes', 'day', 'looks', 'hard', 'shows', 'put', 'different', 'wasnt', 'place', 'maybe', 'book', 'once', 'set', 'main', 'reason', 'money', 'worth', 'sense', 'everything', 'looking', 'true', 'ending', 'someone', 'watched', 'plays', 'job', '2', 'actor', 'seem', 'three', 'said', 'takes', 'screen', 'dvd', 'together', 'play', 'instead', 'john', 'during', 'beautiful', 'later', '10', 'effects', 'himself', 'everyone', 'version', 'left', 'seeing', 'special', 'audience', 'night', 'excellent', 'house', 'american', 'idea', 'simply', 'nice', 'wife', 'shot', 'youre', 'read', 'high', 'black', 'less', 'completely', 'second', 'kids', 'help', 'else', 'poor', 'fan', 'war', 'star', 'used', 'given', 'year', 'try', 'father', 'death', 'friends', 'need', 'use', 'rest', 'enjoy', 'home', 'men', 'performances', 'short', 'mind', 'classic', 'until', 'either', 'truly', 'along', 'hollywood', 'boring', 'half', 'dead', 'wrong', 'tell', 'production', 'women', 'line', 'remember', 'couple', 'came', 'next', 'recommend', 'start', 'perhaps', 'full', 'let', 'understand', 'wonderful', 'stupid', 'getting', 'others', 'mean', 'moments', 'playing', 'awful', 'keep', 'episode', 'terrible', 'camera', 'small', 'definitely', 'gives', 'often', 'stars', 'doing', 'sex', 'video', 'early', 'perfect', 'become', 'finally', 'name', 'felt', 'school', 'human', 'supposed', 'face', 'couldnt', 'liked', 'lines', 'dialogue', 'piece', 'person', 'itself', 'lost', 'absolutely', 'top', 'yes', 'case', 'against', 'entire', 'went', 'certainly', 'written', 'live', 'title', 'waste', 'shes', 'sort', 'head', 'budget', 'hope', 'problem', 'style', 'several', 'overall', 'picture', 'loved', 'evil', 'mr', 'worse', 'id', 'fans', 'becomes', 'entertaining', '3', 'cinema', 'boy', 'beginning', 'seemed', 'white', 'based', 'already', 'despite', 'care', 'oh', 'wanted', 'example', 'dark', '\\x96', 'lives', 'guys', 'unfortunately', 'killer', 'throughout', 'mother', 'direction', 'final', 'friend', 'turn', 'totally', 'fine', 'wont', '1', 'wants', 'children', 'amazing', 'sound', 'laugh', 'girls', 'drama', 'youll', 'guess', 'lead', 'tries', 'low', 'called', 'humor', 'writing', 'under', 'michael', 'works', 'history', 'turns', 'able', 'enjoyed', 'theyre', 'behind', 'past', 'quality', 'days', 'gave', 'favorite', 'starts', 'son', 'kill', 'game', 'act', 'sometimes', 'side', 'viewer', 'town', 'horrible', 'parts', 'car', 'actress', 'soon', 'child', 'ones', 'eyes', 'expect', 'obviously', 'flick', 'themselves', 'directed', 'thinking', 'heart', 'art', 'brilliant', 'stories', 'ill', 'decent', 'highly', 'run', 'feeling', 'myself', 'genre', 'late', 'blood', 'stuff', 'fight', 'says', 'close', 'took', 'city', 'except', 'cannot', 'heard', 'hand', 'leave', 'killed', 'kid', 'matter', 'police', 'hell', 'moment', 'wouldnt', 'extremely', 'strong', 'roles', 'happens', 'particularly', 'lack', 'hour', 'involved', 'happened', 'obvious', 'attempt', 'james', 'told', 'living', 'chance', 'violence', 'wonder', 'including', 'etc', 'complete', 'save', 'voice', 'coming', 'murder', 'anyway', 'group', 'daughter', 'looked', 'age', 'please', 'type', 'itbr', 'alone', 'experience', 'simple', 'none', 'god', 'number', 'score', 'exactly', 'slow', 'shown', 'happen', 'ok', 'ago', 'lets', 'interest', 'whose', 'taken', 'brother', 'usually', 'serious', 'david', 'across', 'stop', 'cinematography', 'somewhat', 'running', 'hours', 'annoying', 'sad', 'opening', 'song', 'known', 'ends', 'musical', 'usual', 'possible', 'finds', 'career', 'wish', 'hit', 'yourself', 'released', 'started', 'huge', 'gore', 'relationship', 'seriously', 'scary', 'jokes', 'change', 'saying', 'order', 'crap', 'mostly', 'shots', 'reality', 'ridiculous', 'cut', 'today', 'robert', 'english', 'taking', 'major', 'episodes', 'hilarious', 'novel', 'cool', 'female', 'body', 'talking', 'opinion', '4', 'call', 'apparently', 'directors', 'strange', 'due', 'basically', '5', 'important', 'hero', 'supporting', 'clearly', 'power', 'knows', 'documentary', 'knew', 'happy', 'events', 'view', 'turned', 'husband', 'songs', 'talent', 'level', 'arent', 'king', 'british', 'room', 'easily', 'tells', 'single', 'local', 'rating', 'attention', 'word', 'moviebr', 'bring', 'words', 'problems', 'cheap', 'whats', 'modern', 'silly', 'television', 'beyond', 'sequence', 'whether', 'disappointed', 'light', 'jack', 'falls', 'sets', 'four', 'future', 'five', 'similar', 'paul', 'miss', 'country', 'needs', 'appears', 'romantic', 'giving', 'upon', 'earth', 'viewers', 'comic', 'richard', 'predictable', 'george', 'talk', 'entertainment', 'within', 'review', 'havent', 'feels', 'nearly', 'mention', 'message', 'enjoyable', 'animation', 'bunch', 'filmbr', 'theater', 'lots', 'lady', 'storyline', 'rock', 'add', 'actual', 'using', 'moving', 'points', 'above', 'middle', 'surprised', 'named', 'theme', 'mystery', 'herself', 'ten', 'dull', 'among', 'begins', 'comments', 'writer', 'ways', 'typical', 'fantastic', 'stay', 'showing', 'sequel', 'york', 'elements', 'easy', 'certain', 'thriller', 'team', 'tried', 'fall', 'effort', 'clear', 'near', 'avoid', 'release', 'hate', 'french', 'tale', 'famous', 'sorry', 'somehow', 'parents', 'means', 'straight', 'leads', 'peter', 'red', 'kept', 'working', 'buy', 'greatest', 'dialog', 'doubt', 'soundtrack', 'form', 'class', 'season', 'editing', 'sister', 'general', 'brought', 'weak', 'tom', 'filmed', 'figure', 'feature', 'oscar', 'hear', 'gone', 'whos', 'particular', 'material', 'check', 'viewing', 'learn', 'realistic', 'imagine', 'eventually', 'youve', 'eye', 'move', 'fast', 'atmosphere', 'reviews', 'decided', 'sequences', 'possibly', 'period', 'forget', 'lame', 'deal', 'third', 'premise', 'lee', 'follow', 'de', 'became', 'space', 'dance', 'wait', 'stand', 'indeed', 'japanese', 'zombie', 'sit', 'difficult', 'poorly', 'sexual', 'expected', 'die', 'whatever', 'writers', 'surprise', 'nor', 'crime', 'nature', 'rent', 'average', '80s', 'suspense', 'leaves', 'subject', 'okay', 'stage', 'killing', 'truth', 'believable', 'screenplay', 'needed', 'filmmakers', 'reading', 'note', 'meets', 'meet', 'dr', 'question', 'begin', 'boys', 'joe', 'romance', 'street', 'realize', 'forced', 'otherwise', 'emotional', 'memorable', 'unless', 'write', 'superb', 'shame', 'older', 'minute', 'interested', 'earlier', 'keeps', 'baby', 'weird', 'situation', 'disney', 'whom', 'footage', 'features', 'dramatic', 'credits', 'beauty', 'towards', 'dog', 'badly', 'ask', 'total', 'previous', 'hot', 'sounds', 'crazy', 'brings', 'comment', 'male', 'plenty', 'personal', 'worked', 'incredibly', 'plus', 'directing', 'society', 'quickly', 'perfectly', 'cheesy', 'admit', 'result', 'unique', 'deep', 'return', 'america', 'laughs', 'free', 'creepy', 'development', 'leading', 'appear', 'meant', 'hardly', 'open', 'brothers', '20', 'imdb', 'hands', 'b', 'apart', 'mark', 'various', 'casting', 'remake', 'effect', 'create', 'setting', 'christmas', 'potential', 'mess', 'bill', 'battle', 'background', 'scifi', 'monster', 'forward', 'powerful', 'portrayed', 'dream', 'inside', 'outside', '70s', 'fairly', 'business', 'la', 'manages', 'ideas', 'expecting', 'jane', 'fails', 'deserves', 'present', 'political', 'missing', 'attempts', 'twist', 'secret', 'fire', 'dumb', 'unlike', 'fighting', 'fantasy', 'pay', 'air', 'joke', 'gay', 'ben', 'william', 'recently', 'rich', 'front', 'nudity', 'married', 'further', 'masterpiece', 'reasons', 'copy', 'match', 'box', 'sadly', 'agree', 'acted', 'break', 'telling', 'talented', 'plain', 'western', 'success', 'cute', 'pure', 'villain', 'missed', 'incredible', 'odd', 'girlfriend', 'doctor', 'crew', 'following', 'caught', 'decides', 'cop', 'social', 'large', 'considering', 'waiting', 'sees', 'mentioned', 'members', 'uses', 'flat', 'popular', 'hold', 'ended', 'slightly', 'wasted', 'public', 'suddenly', 'pace', 'neither', 'compared', 'wrote', 'sweet', 'spent', 'kills', 'entirely', 'rate', 'intelligent', 'created', 'familiar', 'office', 'audiences', 'ultimately', 'cause', 'tension', 'scott', 'convincing', 'clever', 'bored', 'visual', 'party', 'escape', 'era', 'moves', 'cartoon', 'basic', 'credit', 'biggest', 'mary', 'list', 'revenge', 'laughing', 'fear', 'successful', 'recent', 'consider', 'spirit', 'island', 'trouble', 'spend', 'violent', 'positive', 'gun', 'choice', 'dancing', 'cover', 'books', 'appreciate', 'zombies', 'water', 'speak', 'science', 'former', 'died', 'cold', 'singing', 'filled', 'concept', 'younger', 'portrayal', '12', 'produced', 'value', 'solid', 'adult', 'state', 'exciting', 'common', 'bizarre', '8', 'werent', 'amount', 'walk', 'focus', 'animated', 'showed', 'language', 'effective', 'band', 'amusing', 'german', 'italian', 'producers', 'fit', 'follows', '7', 'van', 'runs', 'considered', 'impressive', 'impossible', 'decide', 'chemistry', 'cat', 'tone', 'won', 'pointless', 'company', '15', 'store', 'depth', 'barely', 'win', 'somewhere', 'control', 'studio', 'situations', 'prison', 'mad', 'sick', 'leaving', 'college', 'project', 'respect', 'force', 'changed', 'recommended', 'hair', 'surprisingly', 'aside', 'tony', 'starring', 'awesome', 'trip', 'century', 'longer', 'likes', 'generally', 'failed', 'shooting', 'planet', 'charming', 'slasher', 'involving', 'questions', 'honest', 'trash', 'thanks', 'immediately', 'literally', 'images', 'disturbing', 'accent', 'steve', 'spoilers', '30', 'values', 'utterly', 'bought', 'south', 'ghost', 'fake', 'touch', 'pictures', 'magic', 'jim', 'natural', 'conclusion', 'west', 'glad', 'sitting', 'ability', 'pathetic', 'honestly', 'frank', 'aspect', 'adaptation', 'computer', 'adventure', 'explain', 'normal', 'fair', 'culture', 'appearance', 'stick', 'personally', 'cult', 'camp', 'knowing', 'alive', 'tough', 'added', 'remains', 'rare', 'dad', 'catch', 'thinks', 'meaning', 'yeah', 'detective', 'sam', 'appeal', 'silent', 'humour', 'army', 'genius', 'beautifully', 'terms', 'managed', 'attack', 'walking', 'thank', 'taste', 'sexy', 'military', 'equally', 'standard', 'soldiers', 'smith', 'garbage', 'twists', 'subtle', 'london', 'harry', 'dreams', 'loves', 'journey', 'comedies', '100', 'pick', 'nowhere', 'terrific', 'touching', 'purpose', 'naked', 'complex', 'woods', 'nobody', 'likely', 'wild', 'channel', 'surely', 'mood', 'lovely', 'excuse', 'plan', 'master', 'fully', 'thus', 'narrative', 'chase', 'road', 'contains', 'cinematic', 'themes', 'fiction', 'constantly', 'central', 'unbelievable', 'outstanding', 'issues', 'youd', 'week', 'slowly', 'self', 'brain', 'painful', 'innocent', 'chris', 'batman', 'thrown', 'presented', 'pass', 'disappointing', 'presence', 'historical', 'marriage', 'date', 'christopher', 'animals', 'stunning', 'mysterious', 'laughable', 'charles', 'impression', 'hoping', 'besides', 'shoot', 'places', 'minor', 'costumes', 'club', 'mistake', 'critics', 'bottom', 'stands', 'makers', 'edge', 'details', 'sent', 'photography', 'indian', 'stewart', 'soul', 'justice', 'charm', 'makeup', 'door', 'aspects', '9', 'ride', 'law', 'heavy', 'finish', 'brief', 'boss', 'vampire', 'mainly', 'government', 'exception', 'feelings', 'climax', 'throw', 'suppose', 'support', 'manner', 'festival', 'color', 'train', 'scenery', 'pieces', 'paris', 'opportunity', 'hey', 'gang', 'expectations', 'element', 'cry', 'names', 'loud', 'filming', 'charlie', 'acts', 'victims', 'rated', 'bother', 'track', 'puts', 'fascinating', '6', 'smart', 'serial', 'falling', 'changes', 'award', 'intended', 'emotions', 'drawn', 'available', 'tired', 'victim', 'suggest', 'henry', 'speaking', 'include', 'church', 'disappointment', 'blue', 'twice', 'hasnt', 'likable', 'emotion', 'confused', 'building', 'hotel', 'followed', 'wow', 'compelling', 'students', 'motion', 'green', 'giant', 'appeared', 'image', 'everybody', 'dies', 'developed', 'ahead', 'pain', 'mans', 'laughed', 'bruce', 'lacks', 'kelly', 'gorgeous', 'approach', 'share', 'impact', 'difference', 'supposedly', 'offer', 'million', 'hurt', 'forever', 'fellow', 'fresh', 'bed', 'wondering', 'trailer', 'moral', 'merely', 'proves', 'jerry', 'happening', 'confusing', 'shock', 'helps', 'funniest', 'finding', 'relationships', 'putting', 'notice', 'grade', 'drive', 'billy', 'bar', 'answer', 'adults', 'system', 'random', 'student', 'producer', 'mix', 'key', 'creative', 'spoiler', 'numbers', 'mediocre', 'delivers', 'christian', 'zero', 'opera', 'noir', 'murders', 'lighting', 'jones', 'damn', 'provides', 'born', 'paid', 'absolute', 'thoroughly', 'summer', 'timebr', 'negative', 'lived', 'drug', 'content', 'addition', 'seemingly', 'reminded', 'ms', 'impressed', 'fell', 'event', 'becoming', 'alien', 'tragedy', 'park', 'offers', 'land', 'gem', 'flying', 'flicks', 'childhood', 'boyfriend', 'lover', 'imagination', 'hospital', 'attractive', 'stuck', 'lose', 'williams', 'race', 'holes', 'flaws', 'extreme', 'al', 'tragic', 'ii', 'ugly', 'six', 'rented', 'page', 'nasty', 'hidden', 'arthur', 'americans', 'shouldnt', 'martin', 'held', 'agent', '90', 'spot', 'adds', 'standards', 'rape', 'intense', 'folks', 'alan', 'ray', 'pull', 'faces', 'detail', 'beat', 'asks', 'artistic', 'afraid', 'turning', 'therefore', 'seconds', 'filmmaker', 'super', 'step', 'porn', 'games', 'latter', 'industry', 'davis', 'collection', 'states', 'shocking', 'forgotten', 'favourite', 'describe', 'affair', 'picked', 'onto', 'angry', 'teenage', 'seven', 'redeeming', 'ready', 'led', 'brian', 'actresses', 'mom', 'dirty', 'design', 'count', 'deliver', 'area', 'wooden', 'soldier', 'information', 'compare', 'queen', 'carry', 'allowed', 'thin', 'struggle', 'lord', 'willing', 'stephen', 'news', 'inspired', 'includes', 'chinese', 'allen', 'personality', 'moved', 'location', 'jason', 'apartment', 'helped', 'ground', 'fashion', 'desperate', 'deeply', 'cliché', 'animal', 'wonderfully', 'martial', 'intelligence', 'bond', 'wars', 'quick', 'listen', 'castle', 'uncle', 'professional', 'member', 'grace', 'don', 'direct', 'criminal', 'trust', 'scientist', 'rarely', 'food', 'cops', 'captain', 'began', 'todays', 'creature', 'clothes', 'cgi', 'humans', 'worthy', 'phone', 'mental', 'introduced', 'double', 'wearing', 'theatre', 'necessary', 'independent', 'comedic', 'realized', 'plane', 'fox', 'anymore', 'allow', 'unusual', 'treat', 'technical', 'tears', 'superior', 'drugs', 'commentary', 'apparent', 'physical', 'energy', 'dying', 'wall', 'provide', 'tim', 'sky', 'ship', 'normally', 'epic', 'desire', 'continue', 'nightmare', 'danny', 'stone', 'sight', 'remarkable', 'mouth', 'douglas', 'arts', 'filmmaking', 'accident', 'scared', 'returns', 'powers', 'limited', 'station', 'ring', 'reminds', 'holds', 'heroes', 'bloody', 'accept', 'witch', 'suspect', 'search', 'pleasure', 'engaging', '60s', 'wedding', 'warning', 'surprising', 'intriguing', 'brutal', 'actions', 'wanting', 'teacher', 'machine', 'hated', 'build', 'according', 'whatsoever', 'russian', 'fred', 'disaster', 'asked', 'academy', 'unnecessary', 'sleep', 'skip', 'pacing', 'grand', 'clichés', 'johnny', 'finished', 'constant', 'vision', 'bits', 'andy', 'religious', 'nicely', 'joan', 'ie', 'extra', 'anybody', 'suicide', 'sat', 'process', 'originally', 'legend', 'heres', 'artist', 'passion', 'lies', 'growing', 'ed', 'absurd', 'roll', 'monsters', 'blame', 'anywhere', 'toward', 'suit', 'media', 'lovers', 'killers', 'joy', 'gotten', 'ladies', 'faith', 'explanation', 'dangerous', 'watchable', 'players', 'met', 'instance', 'eddie', 'deserve', 'unknown', 'memory', 'kevin', 'jeff', 'dick', 'winning', 'whilst', 'villains', 'somebody', 'quiet', 'higher', 'hadnt', 'torture', 'starting', 'smile', 'nick', 'capture', 'accurate', '40', 'pilot', 'jump', 'heads', 'cars', 'superman', 'hopes', 'heaven', 'creating', 'jr', 'guns', 'featuring', 'fail', 'exist', 'dressed', 'community', 'adam', 'river', 'responsible', 'teen', 'friendship', 'fights', 'worlds', 'vs', 'tarzan', 'saved', 'record', 'pulled', 'prince', 'england', 'moon', 'months', 'keeping', 'jesus', 'european', 'understanding', 'terribly', 'taylor', 'reviewers', 'lowbudget', 'jean', 'treated', 'mixed', 'manage', 'kinda', 'explained', 'whenever', 'radio', 'numerous', 'memories', 'knowledge', 'hits', 'finest', 'thembr', 'loving', 'judge', 'delightful', 'private', 'price', 'pop', 'player', 'peoples', 'officer', 'lacking', 'jackson', 'issue', 'gene', 'fat', '50', 'weve', 'unfunny', 'bland', 'vhs', 'sucks', 'psychological', 'prove', 'mike', 'forces', 'eat', 'discover', 'deserved', 'screaming', 'pretentious', 'loose', 'japan', 'horse', 'floor', 'witty', 'streets', 'sign', 'regular', 'ordinary', 'loss', 'included', 'field', 'spanish', 'opposite', 'heroine', 'empty', 'drunk', 'driving', 'broken', 'saving', 'portray', 'loses', 'humanity', 'dated', 'cage', 'cable', 'skills', 'opens', 'noticed', 'naturally', 'conflict', 'bright', 'cuts', 'c', 'bigger', 'aware', 'talents', 'locations', 'discovered', 'calls', 'breaks', 'wind', 'visually', 'partner', 'international', 'essentially', 'deals', 'dealing', 'continues', 'blonde', 'youth', 'werewolf', 'visit', 'theyve', 'soap', 'morning', 'jimmy', 'humorous', 'fate', 'captured', 'scream', 'morgan', 'mine', 'magnificent', 'length', 'golden', 'curious', 'ball', '1010', 'traditional', 'realism', 'plots', 'miles', 'kate', 'gold', 'gags', 'current', 'connection', 'concerned', 'shallow', 'results', 'received', 'occasionally', 'nonsense', 'genuine', 'debut', 'sing', 'sean', 'satire', 'rubbish', 'perspective', 'murdered', 'frankly', 'allows', 'advice', 'versions', 'genuinely', 'below', 'anthony', 'national', 'learned', 'gary', 'bob', 'washington', 'behavior', 'proved', 'mrs', 'lesson', 'kong', 'grew', 'blind', 'bank', '90s', '1950s', 'welles', 'stock', 'segment', 'santa', 'rob', 'revealed', 'mission', 'fathers', 'corny', 'context', 'vampires', 'underrated', 'unable', 'ultimate', 'sudden', 'sheer', 'keaton', 'cameo', 'visuals', 'unexpected', 'shop', 'meanwhile', 'formula', 'ford', 'favor', 'develop', 'albert', 'thisbr', 'steal', 'owner', 'jennifer', 'himbr', 'finale', 'survive', 'study', 'remembered', 'references', 'reach', 'luck', 'harris', 'efforts', 'ann', 'ages', 'window', 'village', 'singer', 'logic', 'identity', 'gonna', 'eric', 'decade', 'cross', 'brilliantly', 'sea', 'program', 'passed', 'ice', 'discovers', 'awkward', 'wise', 'utter', 'strength', 'spectacular', 'desert', 'crappy', 'steven', 'standing', 'majority', 'grant', 'gangster', 'dan', 'candy', 'types', 'stereotypes', 'sisters', 'sake', 'leader', 'flashbacks', 'existence', 'delivered', 'board', 'awards', 'creates', 'bet', 'robin', 'relate', 'reaction', 'ran', 'lucky', 'lake', 'insane', 'caused', 'trek', 'sucked', 'pair', 'painfully', 'meeting', 'gratuitous', 'graphic', 'foreign', 'dreadful', 'daughters', 'speed', 'relief', 'practically', 'pleasant', 'edited', 'devil', 'travel', 'fault', 'families', 'emotionally', 'boat', 'technology', 'nevertheless', 'endless', 'author', 'twenty', 'thomas', 'site', 'simon', 'reviewer', 'overly', 'native', 'decision', 'comparison', 'seasons', 'portrays', 'freedom', 'failure', 'described', 'combination', 'barbara', 'assume', 'anime', 'ancient', 'aka', 'test', 'rules', 'proper', 'president', 'feet', 'attitude', 'wide', 'vehicle', 'treatment', 'parody', 'hearing', 'brown', 'stopped', 'sell', 'range', 'portraying', 'howard', 'foot', 'eating', 'choose', 'buddy', 'bear', 'asking', 'uk', 'marry', 'luke', 'learns', 'laughter', 'hitler', 'halloween', 'executed', 'drew', 'chosen', 'capable', 'believes', 'tape', 'lynch', 'largely', 'involves', 'gory', 'fill', 'excited', 'evening', 'daniel', 'commercial', 'anna', 'allbr', 'wood', 'religion', 'recall', 'produce', 'grow', 'classics', 'broadway', 'wit', 'theatrical', 'product', 'model', 'victor', 'unrealistic', 'theaters', 'sheriff', 'parker', 'kick', 'haunting', 'entertained', 'contrived', 'center', '50s', 'suffering', 'strongly', 'storybr', 'ruined', 'round', 'rise', 'levels', 'depressing', 'clue', 'sequels', 'rescue', 'r', 'joseph', 'irritating', 'freddy', 'extras', 'd', 'contrast', 'built', 'appealing', 'woody', 'rose', 'onebr', 'heck', 'handsome', 'costs', 'claim', 'sympathetic', 'sports', 'shakespeare', 'research', 'matt', 'losing', 'individual', 'destroy', '11', 'talks', 'protagonist', 'generation', 'evidence', 'embarrassing', 'disgusting', 'clean', 'captures', 'vote', 'thatbr', 'tend', 'post', 'patrick', 'matters', 'hill', 'facts', 'dry', 'chief', 'chick', 'appropriate', 'hunter', 'hanging', 'fame', 'canadian', 'alex', 'voices', 'virtually', 'naive', 'hopefully', 'grown', 'football', 'exploitation', 'bringing', 'asian', 'walks', 'training', 'scare', 'roy', 'relatively', 'obsessed', 'jackie', 'horribly', 'haunted', 'costume', 'cares', 'thoughts', 'steals', 'spoil', 'saturday', 'safe', 'promise', 'priest', 'pity', 'mask', 'lousy', 'louis', 'france', 'fits', 'convinced', 'bomb', 'walter', 'teenagers', 'insult', 'frame', 'cost', 'correct', 'till', 'teenager', 'ryan', 'oliver', 'mebr', 'dogs', 'crowd', 'creatures', 'wellbr', 'send', 'satisfying', 'initial', 'halfway', 'fly', 'excitement', 'dubbed', 'depicted', 'winner', 'united', 's', 'remain', 'gordon', 'europe', 'cinderella', 'cash', 'angel', 'amateurish', '1970s', 'tiny', 'texas', 'tedious', 'nancy', 'lower', 'influence', 'holding', 'hide', 'germany', 'contemporary', 'anne', 'weekend', 'unlikely', 'unfortunate', 'substance', 'soft', 'psycho', 'nominated', 'lewis', 'cowboy', 'circumstances', 'asleep', 'viewed', 'touches', 'presents', 'marie', 'lawyer', 'flesh', 'continuity', 'closer', 'bodies', 'baseball', 'witness', 'serves', 'provided', 'max', 'f', 'drag', 'danger', 'australian', '810', 'trilogy', 'suffers', 'shocked', 'reporter', 'handled', 'fool', 'cartoons', 'brave', 'amateur', 'weeks', 'wayne', 'surreal', 'structure', 'source', 'sons', 'ruin', 'roger', 'repeated', 'refreshing', 'fare', 'category', 'supernatural', 'seat', 'politics', 'plans', 'offensive', 'latest', 'hunt', 'fu', 'display', 'deaths', 'chose', 'africa', 'accidentally', 'welcome', 'warm', 'surprises', 'studios', 'sinatra', 'robot', 'promising', 'pile', 'north', 'market', 'angles', 'target', 'speaks', 'realizes', 'qualities', 'previously', 'overthetop', 'colors', 'claims', 'bugs', 'harsh', 'granted', 'experiences', 'edward', 'deadly', 'convince', 'adventures', 'accents', 'storytelling', 'factor', 'designed', 'covered', 'artists', 'wouldve', 'whoever', 'veteran', 'universal', 'speech', 'skin', 'service', 'rental', 'recognize', 'movement', 'lesbian', 'hall', 'draw', 'believed', 'victoria', 'routine', 'professor', 'mainstream', 'highlight', 'degree', 'uninteresting', 'rain', 'propaganda', 'occasional', 'mistakes', 'kim', 'hat', 'enter', 'columbo', 'walked', 'twisted', 'technically', 'sympathy', 'struggling', 'peace', 'outbr', 'minds', 'magical', 'guilty', 'directly', 'aliens', 'nude', 'massive', 'kinds', 'invisible', 'friday', 'focused', 'explains', 'downright', 'combined', 'breaking', 'teens', 'section', 'print', 'princess', 'paper', 'inner', 'committed', '710', 'remotely', 'offered', 'narration', 'j', 'gritty', 'donald', 'ass', 'suspenseful', 'spends', 'sorts', 'prime', 'multiple', 'moore', 'irish', 'featured', 'experienced', 'enemy', 'atrocious', 'universe', 'treasure', 'sharp', 'reveal', 'regret', 'lonely', 'legendary', 'insight', 'frightening', 'express', 'execution', 'variety', 'security', 'reputation', 'performed', 'hong', 'forgettable', 'figured', 'exact', 'dollars', 'anger', '25', 'waybr', 'surface', 'stolen', 'rings', 'prior', 'path', 'passing', 'herebr', 'forest', 'figures', 'fictional', 'false', 'dozen', 'crash', 'bothered', 'birth', 'abuse', 'abandoned', '1980s', 'theory', 'subtitles', 'spy', 'pulls', 'powell', 'hired', 'ghosts', 'fairy', 'eight', 'darkness', 'crying', 'conversation', '13', 'von', 'statement', 'russell', 'reveals', 'required', 'paint', 'paced', 'melodrama', 'isbr', 'erotic', 'emma', 'cutting', 'core', 'anderson', 'wilson', 'urban', 'trapped', 'terror', 'stays', 'stayed', 'significant', 'mountain', 'hed', 'gas', 'effectively', 'drop', 'demons', 'blow', 'worthwhile', 'slapstick', 'paying', 'grim', 'crude', '14', 'rights', 'proud', 'mgm', 'mere', 'listening', 'jon', 'focuses', 'dean', 'clark', 'buying', 'wear', 'spite', 'sir', 'quest', 'necessarily', 'lights', 'bmovie', 'beach', 'african', 'account', 'unconvincing', 'scale', 'jobs', 'heavily', 'grave', 'forth', 'titanic', 'sunday', 'scares', 'network', 'julia', 'facial', 'everywhere', 'destroyed', 'department', 'delivery', 'cruel', 'clichéd', 'childrens', 'caine', 'bus', 'andor', 'amazed', 'afternoon', '1930s', 'vietnam', 'scenario', 'san', 'murphy', 'metal', 'matrix', 'imagery', 'driven', 'desperately', 'closing', 'changing', 'alright', 'thankfully', 'sounded', 'skill', 'sensitive', 'rule', 'ron', 'reminiscent', 'position', 'placed', 'mothers', 'midnight', 'mature', 'junk', 'idiot', 'forgot', 'flashback', 'favorites', 'faithful', 'fabulous', 'device', 'code', 'blockbuster', 'belief', 'alice', 'suffer', 'stereotypical', 'revolution', 'pitt', 'novels', 'mexican', 'interview', 'ignore', 'extraordinary', 'driver', 'campy', 'aint', '110', 'views', 'summary', 'sleeping', 'settings', 'seek', 'musicals', 'lifetime', 'happiness', 'greater', 'examples', 'dude', 'deeper', 'california', 'beloved', 'angle', 'amazingly', 'understood', 'sarah', 'renting', 'prefer', 'pacino', 'notorious', 'initially', 'inept', 'helping', 'fourth', 'dennis', 'criminals', 'court', 'burns', 'blah', 'beast', 'achieve', 'teeth', 'susan', 'sitcom', 'rolling', 'regarding', 'pregnant', 'lifebr', 'learning', 'league', 'depiction', 'breathtaking', 'brad', 'bourne', 'rip', 'raw', 'mexico', 'lisa', 'larry', 'jungle', 'endbr', 'couldve', 'convey', 'complicated', 'china', 'bore', 'table', 'quirky', 'purely', 'picks', 'kung', 'indie', 'format', 'entertain', 'encounter', 'cultural', 'starred', 'rough', 'rachel', 'prepared', 'ned', 'murderer', 'mildly', 'julie', 'freeman', 'expert', 'dragon', 'disbelief', 'description', 'decades', 'critical', 'calling', 'cabin', 'writerdirector', 'via', 'underground', 'touched', 'throws', 'throwing', 'status', 'serve', 'productions', 'notable', 'leslie', 'join', 'funnier', 'friendly', 'drinking', 'appreciated', 'subplot', 'onbr', 'introduction', 'flight', 'expression', 'everyday', 'dress', 'carries', 'basis', 'arms', 'answers', 'adding', 'task', 'strangely', 'raised', 'protect', 'honor', 'criticism', 'comical', 'bollywood', 'blown', 'base', 'againbr', 'wears', 'suck', 'succeeds', 'racist', 'kiss', 'intellectual', 'fallen', 'extent', 'caring', 'brooks', 'amongst', 'usa', 'truck', 'ted', 'sword', 'shadow', 'regard', 'raise', 'originality', 'inspiration', 'hoffman', 'foster', 'environment', 'claire', 'causes', 'carrying', 'carried', 'attempting', 'x', 'weapons', 'socalled', 'ripoff', 'protagonists', 'praise', 'michelle', 'maria', 'johnson', 'jessica', 'handle', 'enjoying', 'embarrassed', 'choices', 'charge', 'challenge', 'cell', 'cases', 'angels', '410', 'tales', 'spoof', 'sinister', 'sidney', 'shut', 'rogers', 'related', 'ludicrous', 'lazy', 'warned', 'turkey', 'southern', 'replaced', 'obnoxious', 'needless', 'lugosi', 'locked', 'ironic', 'gruesome', 'experiment', 'elizabeth', 'determined', 'breath', 'wins', 'westerns', 'sun', 'sleazy', 'screening', 'properly', 'pet', 'nowadays', 'lie', 'interpretation', 'escapes', 'daily', 'burt', 'aunt', 'trick', 'tradition', 'remote', 'obsession', 'jail', 'hardy', 'graphics', 'clips', 'chilling', 'blair', 'bbc', 'attacked', 'wave', 'warner', 'u', 'tight', 'stanley', 'served', 'scripts', 'remind', 'reference', 'laura', 'jumps', 'interviews', 'exists', 'essential', 'arrives', 'alas', 'stops', 'st', 'sold', 'punch', 'navy', 'marvelous', 'india', 'hitchcock', 'fortunately', 'contain', 'busy', 'timing', 'successfully', 'oddly', 'nonexistent', 'hills', 'goofy', 'goodbr', 'frequently', 'established', 'dollar', 'ashamed', '310', 'term', 'sum', 'stylish', 'rival', 'revolves', 'refuses', 'ratings', 'oscars', 'o', 'jewish', 'inspector', 'flawed', 'drives', 'balance', 'authentic', 'warn', 'upset', 'struggles', 'risk', 'nation', 'mirror', 'mindless', 'mentally', 'manager', 'legs', 'horrific', 'hence', 'guard', 'flow', 'che', 'andrews', 'tree', 'titles', 'sides', 'shower', 'riding', 'retarded', 'philip', 'par', 'overcome', 'hood', 'greatly', 'delight', 'comedian', 'bette', 'toy', 'tense', 'suspects', 'stomach', 'spoken', 'roberts', 'poignant', 'nonetheless', 'mob', 'mansion', 'lesser', 'lane', 'intentions', 'intensity', 'gods', 'cynical', 'bridge', 'attacks', 'albeit', 'wishes', 'topic', 'thousands', 'presentation', 'madness', 'lion', 'lessons', 'jay', 'husbands', 'fbi', 'expressions', 'cooper', 'controversial', 'buck', 'bitter', 'wealthy', 'wasting', 'vacation', 'thrilling', 'suffered', 'stupidity', 'stranger', 'seeking', 'personalities', 'opened', 'medical', 'lucy', 'glimpse', 'demon', 'confusion', 'chan', 'adapted', 'storm', 'scientists', 'pride', 'nazi', 'internet', 'hundreds', 'holmes', 'guessing', 'eg', 'dubbing', 'dinner', 'bound', '30s', 'whereas', 'uncomfortable', 'tracy', 'thief', 'text', 'shorts', 'shines', 'separate', 'perform', 'patient', 'mass', 'infamous', 'hint', 'happily', 'gross', 'dislike', 'courage', 'contact', 'broke', 'advantage', 'trite', 'sings', 'reed', 'performers', 'noble', 'miscast', 'miller', 'countries', 'corner', 'chases', 'chair', 'trial', 'suggests', 'shape', 'rocks', 'physically', 'mouse', 'millions', 'letting', 'innocence', 'horses', 'helen', 'elvis', 'east', 'credible', 'credibility', 'atmospheric', '910', '2006', '1960s', 'womans', 'tied', 'therebr', 'technique', 'sin', 'sexuality', 'reunion', 'racism', 'hundred', 'hole', 'glass', 'cook', 'consists', 'youbr', 'troubled', 'steps', 'portrait', 'pool', 'lying', 'lovable', 'gripping', 'grey', 'ensemble', 'develops', 'curse', 'crisis', 'cameos', 'badbr', '2000', 'torn', 'stretch', 'screenwriter', 'saves', 'ralph', 'oneliners', 'noted', 'meaningful', 'idiotic', 'holiday', 'hanks', 'concert', 'catholic', 'bo', 'bettie', 'bears', 'wwii', 'weapon', 'vincent', 'unforgettable', 'sentimental', 'searching', 'proof', 'plastic', 'neat', 'kurt', 'gain', 'exceptional', 'enjoyment', 'drink', 'accepted', 'toobr', 'thrillers', 'shed', 'imaginative', 'host', 'hiding', 'herbr', 'franchise', 'fish', 'entry', 'dig', 'dialogs', 'connected', 'belongs', 'attraction', 'spots', 'solve', 'sends', 'sandler', 'nine', 'lincoln', 'hoped', 'concerns', 'christ', 'card', 'annoyed', 'andrew', 'aired', 'worry', 'widmark', 'virgin', 'succeed', 'quote', 'object', 'n', 'lucas', 'jake', 'italy', 'guts', 'flaw', 'endearing', 'closely', 'assistant', 'arm', 'achieved', 'striking', 'repeat', 'redemption', 'profound', 'irony', 'homeless', 'hearts', 'ha', 'fortune', 'equal', 'encounters', 'eerie', 'dealt', 'crimes', 'cousin', 'colorful', 'checking', 'battles', 'bag', 'appearances', 'aged', 'videos', 'tune', 'tribute', 'tour', 'teach', 'sutherland', 'stanwyck', 'segments', 'persons', 'pat', 'oil', 'nights', 'nelson', 'neighborhood', 'mst3k', 'library', 'h', 'factory', 'dragged', 'dentist', 'covers', 'complaint', '1st', 'stan', 'snow', 'slight', 'pointed', 'ourselves', 'miniseries', 'hunting', 'hooked', 'hang', 'hamlet', 'essence', 'dear', 'cube', 'civil', 'bucks', 'believing', 'bat', 'thousand', 'surrounding', 'strikes', 'split', 'shoots', 'seagal', 'rush', 'pitch', 'pack', 'moviesbr', 'laid', 'knife', 'incoherent', 'health', 'glory', 'expensive', 'dare', 'countless', 'cheese', 'charisma', 'branagh', 'baker', 'appearing', '18', 'zone', 'workers', 'theyd', 'surrounded', 'stood', 'stealing', 'spending', 'matthau', 'massacre', 'lloyd', 'jeremy', 'dorothy', 'dancer', 'condition', 'competent', 'chasing', 'charismatic', 'chances', 'catherine', 'briefly', 'attempted', 'unintentionally', 'tons', 'terrifying', 'stunts', 'stronger', 'specific', 'shall', 'rushed', 'rochester', 'ripped', 'intention', 'horrendous', 'grows', 'fx', 'elsewhere', 'denzel', 'curtis', 'crafted', 'colour', 'birthday', 'attached', 'aforementioned', 'wing', 'wanna', 'trade', 'sullivan', 'sexually', 'setup', 'reactions', 'messages', 'individuals', 'hip', 'easier', 'betterbr', 'associated', 'admittedly', '80', 'university', 'tricks', 'requires', 'perfection', 'noise', 'month', 'magazine', 'le', 'guilt', 'gag', 'forgive', 'creators', 'burning', 'beating', 'arnold', '2001', 'wake', 'typically', 'stunt', 'stated', 'spike', 'silver', 'revelation', 'per', 'nose', 'luckily', 'increasingly', 'identify', 'homage', 'guest', 'goal', 'gift', 'dropped', 'drags', 'corrupt', '17', 'vague', 'strictly', 'represents', 'overrated', 'neck', 'kings', 'importance', 'ian', 'gotta', 'gothic', 'fired', 'faced', 'exercise', 'dramas', 'dawn', 'chuck', 'cats', 'cardboard', 'boredom', 'allowing', 'winter', 'walls', 'virus', 'techniques', 't', 'reynolds', 'ps', 'performing', 'painting', 'mild', 'medium', 'loser', 'killings', 'kidnapped', 'kicks', 'kane', 'instantly', 'importantly', 'hype', 'fitting', 'fifteen', 'enters', 'contract', 'commit', 'chaplin', 'camerawork', 'barry', 'sophisticated', 'row', 'relevant', 'pushed', 'presumably', 'jesse', 'horrors', 'handful', 'godfather', 'disagree', 'carefully', 'brando', 'boll', 'bobby', 'basement', '24', 'wonders', 'weight', 'thumbs', 'shining', 'sally', 'reallife', 'realise', 'pleased', 'plague', 'pie', 'partly', 'packed', 'nuclear', 'notch', 'letter', 'flash', 'eva', 'doors', 'brand', '45', 'wondered', 'tremendous', 'toilet', 'talked', 'superhero', 'silence', 'returning', 'resolution', 'pleasantly', 'overlooked', 'occurs', 'mustsee', 'marks', 'korean', 'hudson', 'hitting', 'heat', 'frustrated', 'executive', 'destruction', 'derek', 'continued', 'comics', 'buried', 'britain', 'admire', 'acceptable', 'worthless', 'superbly', 'strip', 'secretary', 'prevent', 'persona', 'listed', 'lab', 'jamie', 'inevitable', 'iii', 'fears', 'evident', 'competition', 'canada', 'bride', 'breasts', 'arrested', 'subplots', 'strike', 'stiff', 'spell', 'shy', 'relative', 'regardless', 'projects', 'press', 'picking', 'opposed', 'masters', 'larger', 'investigation', 'flawless', 'fatal', 'estate', 'doc', 'digital', 'citizen', 'carol', 'bush', 'bullets', 'boxing', 'bible', 'beings', 'attracted', 'accused', 'walken', 'struck', 'splendid', 'spiritual', 'someones', 'root', 'revealing', 'planning', 'outrageous', 'nazis', 'menacing', 'mafia', 'los', 'kudos', 'karloff', 'jumping', 'highlights', 'glover', 'directorial', 'closeups', 'burn', 'appalling', 'afterwards', '40s', '3d', 'useless', 'union', 'uninspired', 'thrills', 'suits', 'subsequent', 'spooky', 'sole', 'slightest', 'savage', 'remaining', 'precious', 'notes', 'logical', 'lacked', 'ironically', 'inspiring', 'hire', 'guide', 'genres', 'flynn', 'dvds', 'cup', 'conspiracy', 'characterization', 'brilliance', 'ambitious', '911', '2005', 'wes', 'watches', 'ward', 'twin', 'streisand', 'spoiled', 'souls', 'repetitive', 'repeatedly', 'reasonably', 'raped', 'pulling', 'photographed', 'notably', 'neighbor', 'morality', 'melodramatic', 'ken', 'installment', 'heston', 'francisco', 'elderly', 'documentaries', 'dire', 'depression', 'curiosity', 'creation', 'convoluted', 'clues', 'blob', 'aimed', 'accomplished', 'worldbr', 'wicked', 'wannabe', 'timothy', 'ticket', 'theyll', 'territory', 'tea', 'smooth', 'shortly', 'screams', 'samurai', 'rid', 'response', 'push', 'providing', 'poverty', 'overdone', 'minimal', 'loosely', 'jerk', 'intrigued', 'insulting', 'generous', 'forbidden', 'duke', 'drunken', 'draws', 'cox', 'con', 'cia', 'cared', 'border', 'bleak', 'achievement', 'timeless', 'spring', 'shadows', 'ritter', 'reduced', 'psychiatrist', 'non', 'neil', 'mile', 'mid', 'mel', 'jealous', 'hatred', 'gradually', 'futuristic', 'funnybr', 'filmsbr', 'failing', 'explore', 'emily', 'elvira', 'distant', 'definite', 'davies', 'darker', 'corpse', 'adams', '20th', 'wells', 'thirty', 'tall', 'sticks', 'shell', 'reasonable', 'piano', 'outcome', 'obscure', 'meat', 'manhattan', 'laurel', 'intent', 'goldberg', 'carpenter', 'captivating', 'blows', 'unbelievably', 'trap', 'spielberg', 'rap', 'pushing', 'nurse', 'motivation', 'mitchell', 'misses', 'knock', 'indians', 'improved', 'ignored', 'grandmother', 'gentle', 'elaborate', 'doctors', 'discussion', 'burton', 'beaten', 'argument', 'alike', 'ad', 'absence', 'turner', 'tunes', 'tortured', 'stole', 'spin', 'resembles', 'psychotic', 'norman', 'miserably', 'liberal', 'huh', 'fisher', 'farce', 'explicit', 'et', 'em', 'disease', 'dave', 'cruise', 'cried', 'contrary', 'connect', 'concerning', 'childish', 'cameras', 'brazil', 'beer', 'alexander', 'worried', 'waters', 'warrior', 'vicious', 'throat', 'threat', 'temple', 'string', 'sloppy', 'shoes', 'shark', 'returned', 'reached', 'ranks', 'purple', 'monkey', 'lou', 'kenneth', 'horrid', 'hardcore', 'glenn', 'fancy', 'extended', 'exaggerated', 'eve', 'displays', 'diamond', 'danes', 'currently', 'craig', 'complain', 'cole', 'builds', 'blend', 'affected', 'wreck', 'website', 'upbr', 'threw', 'swedish', 'sunshine', 'subjects', 'spoilersbr', 'spirits', 'sacrifice', 'prom', 'pretend', 'panic', 'ought', 'matthew', 'idiots', 'houses', 'hollow', 'fay', 'enjoys', 'distance', 'demands', 'dancers', 'consequences', 'charactersbr', 'carter', 'arrive', 'alltime', 'warren', 'triumph', 'smoking', 'robots', 'ridiculously', 'restaurant', 'receive', 'poster', 'photographer', 'overacting', 'hysterical', 'harder', 'fever', 'farm', 'eyre', 'drivel', 'drawing', 'broad', 'blank', 'beats', 'argue', 'smoke', 'size', 'scripted', 'progress', 'officers', 'movements', 'modesty', 'landscape', 'jet', 'groups', 'greek', 'dynamic', 'duo', 'conversations', 'burned', 'australia', 'annie', 'upper', 'trio', 'styles', 'staying', 'selling', 'scientific', 'ruth', 'recognized', 'popcorn', 'murderous', 'load', 'ireland', 'involvement', 'investigate', 'incident', 'hugh', 'holy', 'heroic', 'exposed', 'engaged', 'empire', 'dignity', 'devoted', 'daring', 'cusack', 'commercials', 'comfortable', 'carrey', 'buddies', 'broadcast', 'brains', 'anyways', 'vivid', 'translation', 'titled', 'threatening', 'symbolism', 'swear', 'superficial', 'selfish', 'secrets', 'rural', 'producing', 'proceedings', 'orders', 'offering', 'occur', 'newspaper', 'mountains', 'machines', 'lily', 'kitchen', 'journalist', 'joey', 'existed', 'escaped', 'dinosaurs', 'differences', 'critic', 'couples', 'choreography', 'cagney', 'brosnan', 'bands', 'astaire', 'areas', 'aging', '210', 'winters', 'uneven', 'tame', 'relies', 'rage', 'margaret', 'lips', 'innovative', 'gray', 'grab', 'explaining', 'ex', 'discovery', 'detailed', 'deliberately', 'clint', 'block', 'bite', 'bathroom', 'apes', '60', '2nd', '16', 'workbr', 'wealth', 'versus', 'unpleasant', 'twelve', 'timesbr', 'thugs', 'stiller', 'staff', 'soviet', 'signs', 'removed', 'possibility', 'perry', 'occurred', 'nearby', 'mildred', 'merit', 'mate', 'lighthearted', 'juvenile', 'intrigue', 'ingredients', 'implausible', 'imagined', 'hollywoods', 'folk', 'focusing', 'felix', 'editor', 'dialogues', 'dawson', 'causing', 'birds', 'bell', 'audio', '2004', 'web', 'watchbr', 'undoubtedly', 'travels', 'sidekick', 'showbr', 'sadness', 'sadistic', 'resemblance', 'primary', 'population', 'pays', 'overwhelming', 'onscreen', 'nightmares', 'meaningless', 'maker', 'lawrence', 'kirk', 'generic', 'furthermore', 'disturbed', 'defeat', 'damage', 'craft', 'conventional', 'combat', 'chain', 'catches', 'adequate', 'abilities', 'abc', '2003', 'w', 'unbearable', 'trees', 'ships', 'remarkably', 'pulp', 'primarily', 'portion', 'passes', 'narrator', 'lifestyle', 'karen', 'hurts', 'headed', 'flies', 'falk', 'explosion', 'eccentric', 'discuss', 'devoid', 'composed', 'clumsy', 'clothing', 'bin', 'banned', 'atlantis', 'altogether', '0', 'yesterday', 'winds', 'unintentional', 'thrill', 'surviving', 'spare', 'settle', 'secondly', 'react', 'official', 'maggie', 'liking', 'leg', 'jeffrey', 'itll', 'hitman', 'highest', 'hates', 'glorious', 'giallo', 'g', 'financial', 'explored', 'exotic', 'enormous', 'dracula', 'dozens', 'cuba', 'chaos', 'cameron', 'backdrop', 'antics', 'afford', '2002', 'urge', 'survival', 'smaller', 'shine', 'scheme', 'roman', 'represent', 'reaches', 'morebr', 'models', 'mixture', 'mickey', 'kapoor', 'gandhi', 'fond', 'doomed', 'disjointed', 'decisions', 'consistently', 'carl', 'blatant', 'bird', 'beneath', '1990s', 'wallace', 'walker', 'uwe', 'ups', 'unwatchable', 'slap', 'rank', 'rambo', 'props', 'paulie', 'outer', 'odds', 'notion', 'notbr', 'neighbors', 'mistaken', 'judging', 'hints', 'fighter', 'errors', 'edie', 'dutch', 'distracting', 'disc', 'describes', 'coherent', 'clown', 'cheating', 'cary', 'careers', 'brady', 'bold', 'vast', 'trailers', 'tommy', 'thick', 'tear', 'tap', 'survivors', 'subtlety', 'sport', 'specifically', 'senseless', 'sellers', 'scenebr', 'richards', 'possessed', 'offended', 'monkeys', 'kennedy', 'instant', 'influenced', 'impress', 'ideal', 'hideous', 'heartwarming', 'hal', 'garden', 'gangsters', 'freak', 'florida', 'everyones', 'enterprise', 'drops', 'directs', 'diane', 'dating', 'dances', 'contained', 'butt', 'brooklyn', 'blew', 'bedroom', 'april', 'amy', 'ah', 'advance', '3rd', 'wolf', 'whale', 'weakest', 'voight', 'toys', 'topless', 'ties', 'stellar', 'soccer', 'simplistic', 'seenbr', 'screenbr', 'revolutionary', 'relations', 'rebel', 'practice', 'peters', 'performer', 'montage', 'matches', 'loads', 'linda', 'lasted', 'jazz', 'introduces', 'guessed', 'frustration', 'explosions', 'etcbr', 'ego', 'desperation', 'depressed', 'dedicated', 'commented', 'classes', 'celluloid', 'blake', 'benefit', 'adorable', 'todd', 'tender', 'suited', 'succeeded', 'staged', 'shelf', 'seventies', 'satan', 'saga', 'ruthless', 'rooms', 'rick', 'principal', 'politically', 'philosophy', 'passionate', 'occasion', 'mysteries', 'miserable', 'method', 'loyal', 'leonard', 'justify', 'involve', 'immensely', 'illogical', 'honesty', 'holly', 'hammer', 'forms', 'flop', 'emphasis', 'eastwood', 'doll', 'developing', 'crush', 'countryside', 'coffee', 'claimed', 'circle', 'bare', 'backgrounds', 'awake', 'arrogant', 'wrestling', 'wasbr', 'unfolds', 'traveling', 'trashy', 'transformation', 'tracks', 'thoughtful', 'tad', 'synopsis', 'stress', 'solely', 'similarities', 'severe', 'recorded', 'realizing', 'planned', 'outfit', 'motives', 'melting', 'measure', 'lust', 'link', 'kicked', 'jonathan', 'interaction', 'hank', 'funeral', 'endure', 'endings', 'disappeared', 'disappear', 'destiny', 'considerable', 'command', 'chorus', 'bone', 'blues', 'wore', 'treats', 'stereotype', 'shirley', 'quotes', 'photos', 'orson', 'menace', 'lemmon', 'isolated', 'hbo', 'harvey', 'hamilton', 'ginger', 'facing', 'ease', 'displayed', 'dickens', 'cure', 'corruption', 'consistent', 'comparing', 'companion', 'chased', 'cards', 'avoided', 'authority', 'angeles', 'aid', 'agrees', 'yellow', 'waited', 'tongue', 'taught', 'switch', 'swimming', 'surfing', 'sits', 'similarly', 'scenesbr', 'satisfied', 'riveting', 'represented', 'report', 'purchase', 'preview', 'possibilities', 'moody', 'madefortv', 'lyrics', 'kidding', 'inventive', 'helicopter', 'grasp', 'goodness', 'formulaic', 'enemies', 'ellen', 'eighties', 'e', 'donna', 'dolls', 'colonel', 'celebrity', 'buffs', 'bonus', 'amanda', 'wished', 'widow', 'voiceover', 'vegas', 'user', 'terrorist', 'solo', 'snl', 'relation', 'prostitute', 'promised', 'onedimensional', 'nervous', 'myers', 'mario', 'march', 'judy', 'improve', 'hunters', 'handed', 'embarrassment', 'ears', 'duty', 'divorce', 'delivering', 'defend', 'combine', 'cliff', 'charlotte', 'cg', 'carrie', 'behave', 'akshay', '1999', 'wives', 'waves', 'valuable', 'unsettling', 'unhappy', 'transfer', 'suitable', 'reads', 'philosophical', 'parent', 'pages', 'oz', 'l', 'ignorant', 'horrifying', 'hook', 'godzilla', 'global', 'fix', 'crack', 'closet', 'closest', 'chess', 'buildings', 'blond', '1996', '1980', 'virginia', 'tonight', 'thru', 'stooges', 'stinker', 'snake', 'scottish', 'scores', 'sappy', 'reflect', 'reaching', 'painted', 'online', 'nicholson', 'motivations', 'maintain', 'lately', 'kingdom', 'inbr', 'inane', 'humble', 'hart', 'faster', 'engage', 'elegant', 'education', 'diana', 'destroying', 'corporate', 'buff', 'blacks', 'bebr', 'artificial', 'agents', 'affect', 'yelling', 'wet', 'wed', 'useful', 'understandable', 'tiresome', 'terry', 'stinks', 'stevens', 'staring', 'splatter', 'slave', 'shake', 'sentence', 'seed', 'secretly', 'scope', 'scarecrow', 'safety', 'rotten', 'rex', 'remarks', 'racial', 'questionable', 'pretending', 'potentially', 'plant', 'museum', 'miracle', 'miike', 'letters', 'lees', 'germans', 'fooled', 'earned', 'disappoint', 'conflicts', 'concern', 'coach', 'cleverly', 'centers', 'bullet', 'armed', 'airport', 'airplane', 'access', 'abysmal', 'wandering', 'trained', 'survived', 'slick', 'sandra', 'rocket', 'purchased', 'provoking', 'poetic', 'nostalgic', 'nicholas', 'mall', 'm', 'lay', 'jumped', 'iron', 'intentionally', 'inferior', 'hung', 'gadget', 'francis', 'firstly', 'finger', 'faults', 'exploration', 'elephant', 'dub', 'disneys', 'dinosaur', 'depicts', 'communist', 'civilization', 'campbell', 'brutally', 'blunt', 'blade', 'amounts', 'americas', 'alongside', 'alcoholic', 'advise', 'womens', 'wizard', 'willis', 'vulnerable', 'understated', 'troops', 'tie', 'sub', 'streep', 'stilted', 'steel', 'spoke', 'showcase', 'september', 'robbery', 'rising', 'rendition', 'raising', 'punk', 'proceeds', 'porno', 'pokemon', 'plight', 'patients', 'nomination', 'namely', 'mini', 'lengthy', 'lena', 'joined', 'illegal', 'guarantee', 'grinch', 'greedy', 'fonda', 'floating', 'ethan', 'edgar', 'convincingly', 'confidence', 'channels', 'beliefs', 'bath', 'arrived', 'arguably', 'advanced', 'abusive', '2007', 'wrapped', 'witches', 'visits', 'transition', 'spread', 'species', 'resort', 'relatives', 'pig', 'peoplebr', 'nonstop', 'morris', 'madonna', 'homosexual', 'gundam', 'fascinated', 'familys', 'downhill', 'dimensional', 'designs', 'construction', 'cinematographer', 'chicago', 'carradine', 'careful', 'cake', 'bottle', 'beatty', 'balls', 'ballet', 'attitudes', 'ape', 'agreed', 'advertising', 'accompanied', '70', '3000', '1940s', 'wound', 'worker', 'taxi', 'sue', 'simplicity', 'signed', 'shirt', 'satisfy', 'ruby', 'recognition', 'pops', 'parallel', 'nyc', 'niro', 'molly', 'macy', 'lowest', 'lit', 'limits', 'likewise', 'li', 'latin', 'junior', 'june', 'jenny', 'intimate', 'hopper', 'heartbreaking', 'frequent', 'foul', 'devils', 'demented', 'damon', 'copies', 'complexity', 'compelled', 'classical', 'cities', 'christians', 'cave', 'catchy', 'capturing', 'berlin', 'aids', '1972', 'ya', 'vengeance', 'v', 'tends', 'schools', 'robinson', 'prisoner', 'prequel', 'phantom', 'paltrow', 'opinions', 'olivier', 'nostalgia', 'nonsensical', 'mundane', 'mars', 'manipulative', 'losers', 'lone', 'khan', 'inappropriate', 'illness', 'hilariously', 'grandfather', 'gerard', 'georges', 'exceptionally', 'equivalent', 'eager', 'dreary', 'descent', 'der', 'del', 'daddy', 'crucial', 'chicks', 'cheated', 'challenging', 'bang', 'bakshi', 'babe', 'alternate', '1990', 'writes', 'witnesses', 'wishing', 'widely', 'wellknown', 'twilight', 'tomatoes', 'suspicious', 'shelley', 'seeks', 'scooby', 'restored', 'remakes', 'raymond', 'rat', 'pursuit', 'prisoners', 'poetry', 'pearl', 'overlook', 'ocean', 'muchbr', 'montana', 'misery', 'lol', 'lively', 'leo', 'incomprehensible', 'homer', 'excessive', 'edition', 'eaten', 'domestic', 'demand', 'cinemas', 'choreographed', 'chooses', 'chest', 'capital', 'boot', 'awe', 'appreciation', 'amitabh', '1968', 'wisdom', 'vaguely', 'suspend', 'square', 'smiling', 'sincere', 'simmons', 'seriesbr', 'royal', 'robbins', 'resources', 'progresses', 'prize', 'plotbr', 'plausible', 'performs', 'paranoia', 'opportunities', 'nations', 'methods', 'messed', 'masterful', 'mann', 'literature', 'legal', 'laws', 'landscapes', 'kicking', 'justin', 'invasion', 'introduce', 'incompetent', 'franco', 'experiments', 'enthusiasm', 'elm', 'doubts', 'desired', 'dalton', 'da', 'crocodile', 'constructed', 'conservative', 'calm', 'bumbling', 'brenda', 'blowing', 'belong', 'bela', 'basketball', 'awfully', 'wacky', 'viewings', 'trademark', 'tag', 'suffice', 'richardson', 'responsibility', 'resist', 'resident', 'recording', 'randomly', 'promises', 'polished', 'petty', 'nuts', 'mummy', 'mentions', 'mechanical', 'mayor', 'masterpieces', 'louise', 'loaded', 'kay', 'generations', 'feed', 'eitherbr', 'earl', 'distinct', 'creativity', 'craven', 'climactic', 'cd', 'borrowed', 'bacall', 'assigned', 'assault', 'arrival', '1983', 'wounded', 'witnessed', 'wholly', 'wendy', 'waitress', 'visible', 'unoriginal', 'underlying', 'unaware', 'troubles', 'terrorists', 'teachers', 'strangers', 'stones', 'stargate', 'standout', 'stale', 'spirited', 'solution', 'sneak', 'slaughter', 'sink', 'simpson', 'showdown', 'scrooge', 'ruins', 'receives', 'rangers', 'punishment', 'polanski', 'poem', 'pit', 'parties', 'operation', 'omen', 'marty', 'map', 'jaws', 'inevitably', 'improvement', 'icon', 'heights', 'greed', 'gifted', 'fury', 'fields', 'expressed', 'dust', 'dolph', 'creep', 'conceived', 'betty', 'attorney', 'attend', 'assumed', 'ashley', '–', 'willie', 'whoopi', 'warriors', 'warmth', 'unit', 'testament', 'teaching', 'straightforward', 'rats', 'randy', 'rabbit', 'quit', 'property', 'pot', 'overlong', 'offbr', 'muslim', 'mighty', 'mentioning', 'lumet', 'laughably', 'keith', 'iraq', 'iran', 'instinct', 'historically', 'gabriel', 'females', 'educational', 'edgy', 'contest', 'closed', 'chapter', 'businessman', 'bergman', 'angela', 'alfred', 'activities', 'acid', 'aboutbr', '1973', 'wouldbe', 'withbr', 'voiced', 'verhoeven', 'twins', 'tooth', 'tiger', 'swim', 'survivor', 'supported', 'stunned', 'spain', 'sid', 'rolled', 'rocky', 'popularity', 'pink', 'pamela', 'moronic', 'mistress', 'minutesbr', 'minimum', 'middleaged', 'meryl', 'merits', 'kubrick', 'irrelevant', 'imitation', 'household', 'hello', 'greg', 'grabs', 'garbo', 'funbr', 'fashioned', 'exposure', 'equipment', 'domino', 'depicting', 'christy', 'catching', 'button', 'bull', 'boom', 'alert', '13th', 'valley', 'uplifting', 'unseen', 'unreal', 'unpredictable', 'tribe', 'timon', 'suggested', 'subjected', 'stretched', 'spock', 'sounding', 'significance', 'shaw', 'shaky', 'seldom', 'rubber', 'romero', 'resulting', 'resemble', 'psychic', 'pressure', 'pierce', 'phony', 'noone', 'masses', 'marketing', 'loyalty', 'kyle', 'invented', 'integrity', 'heartfelt', 'fulci', 'fought', 'feelgood', 'exchange', 'eugene', 'empathy', 'doom', 'disliked', 'directions', 'despair', 'definition', 'daybr', 'cringe', 'confrontation', 'compassion', 'championship', 'cannibal', 'butler', 'bud', 'bay', 'astonishing', 'analysis', 'ambiguous', 'accuracy', '35', 'wrongbr', 'wretched', 'wifes', 'watson', 'unexpectedly', 'trail', 'stumbled', 'sopranos', 'simultaneously', 'roots', 'retired', 'remained', 'reflection', 'ramones', 'peak', 'patience', 'pants', 'palace', 'package', 'otherbr', 'othello', 'orleans', 'ollie', 'nicole', 'monk', 'metaphor', 'landing', 'lackluster', 'josh', 'interests', 'inability', 'immediate', 'hopeless', 'grayson', 'gather', 'furious', 'firm', 'fascination', 'expedition', 'drake', 'distribution', 'defined', 'defense', 'darren', 'costar', 'confess', 'comfort', 'cliche', 'checked', 'biography', 'austin', 'album', 'adaptations', '1984', 'victory', 'unfair', 'underneath', 'travesty', 'technicolor', 'sums', 'spacey', 'sixties', 'shanghai', 'roth', 'roommate', 'require', 'refused', 'reel', 'rave', 'raises', 'primitive', 'presenting', 'phil', 'pan', 'objective', 'newly', 'nail', 'marion', 'mankind', 'legacy', 'kissing', 'israel', 'hears', 'frightened', 'farrell', 'eastern', 'dixon', 'difficulties', 'dee', 'deceased', 'daniels', 'dana', 'creator', 'conditions', 'composer', 'companies', 'closeup', 'clip', 'claus', 'blast', 'antwone', 'alec', 'actingbr', 'abraham', 'yearsbr', 'wakes', 'vulgar', 'ustinov', 'unlikable', 'teaches', 'tastes', 'subpar', 'stark', 'specially', 'softcore', 'sissy', 'sharon', 'screens', 'scotland', 'rises', 'respected', 'replace', 'remade', 'reid', 'rates', 'raines', 'quietly', 'precisely', 'photo', 'passable', 'pal', 'owen', 'musicians', 'milk', 'maniac', 'maid', 'lundgren', 'karl', 'julian', 'joins', 'joel', 'interactions', 'glasses', 'gentleman', 'gender', 'frustrating', 'flair', 'fido', 'favour', 'experimental', 'dreck', 'discovering', 'dimension', 'desires', 'deranged', 'connery', 'comedians', 'coast', 'christianity', 'buffalo', 'barrymore', 'andre', 'abused', '1971', '1933', 'yard', 'widescreen', 'warming', 'wang', 'walsh', 'thingbr', 'tank', 'sunny', 'stuart', 'rude', 'rely', 'relax', 'reeves', 'nowbr', 'ninja', 'nerd', 'nathan', 'muddled', 'matched', 'literary', 'lands', 'inexplicably', 'hyde', 'griffith', 'graham', 'framed', 'examination', 'encourage', 'electric', 'dysfunctional', 'dresses', 'dose', 'correctly', 'characterbr', 'casts', 'carell', 'brutality', 'behaviour', 'awhile', 'audiencebr', 'assassin', 'aspiring', 'appropriately', 'amused', 'alcohol', 'adopted', 'wrap', 'wildly', 'visiting', 'tracking', 'tomorrow', 'teams', 'tacky', 'shouldve', 'shoddy', 'shared', 'sentinel', 'sentiment', 'sabrina', 'ross', 'roof', 'rifle', 'referred', 'purposes', 'provocative', 'preston', 'preposterous', 'prepare', 'premiere', 'positively', 'phrase', 'pg13', 'paradise', 'parade', 'ordered', 'musician', 'mode', 'masks', 'marshall', 'macarthur', 'lock', 'les', 'knocked', 'invites', 'hopkins', 'generated', 'frankenstein', 'fingers', 'filling', 'fest', 'femme', 'exposition', 'emperor', 'downey', 'credited', 'choppy', 'chicken', 'charged', 'bunny', 'bernard', 'automatically', 'amusement', 'alternative', 'additional', 'absent', '75', '1993', '1987', 'yearold', 'vice', 'vance', 'unfold', 'uncut', 'tube', 'translated', 'topnotch', 'swing', 'sung', 'spark', 'senses', 'rooney', 'romp', 'respective', 'releases', 'reign', 'region', 'refer', 'realised', 'posters', 'poison', 'murdering', 'moreover', 'morbid', 'mclaglen', 'madebr', 'loneliness', 'leon', 'ladder', 'items', 'insurance', 'hopelessly', 'hawke', 'hackneyed', 'greatness', 'glowing', 'fantasies', 'demise', 'deaf', 'counts', 'complaining', 'citizens', 'cattle', 'biko', 'beverly', 'babies', 'alicia', 'accomplish', 'youngest', 'wellwritten', 'weakness', 'trend', 'thoughtprovoking', 'skull', 'singers', 'silliness', 'shoulders', 'shares', 'russia', 'regarded', 'realm', 'pun', 'pitiful', 'objects', 'nephew', 'naughty', 'mtv', 'misleading', 'lush', 'laurence', 'kansas', 'invited', 'infected', 'indication', 'imaginable', 'ignorance', 'harm', 'handling', 'guests', 'grotesque', 'gambling', 'function', 'forty', 'fi', 'fed', 'eternal', 'ensues', 'deserted', 'costars', 'corpses', 'complaints', 'challenges', 'celebration', 'caricatures', 'bridget', 'bargain', 'alison', 'admirable', 'accepts', 'absurdity', 'abrupt', '19th', '1995', 'towns', 'threatens', 'suspension', 'skits', 'severely', 'servant', 'secondary', 'sci', 'respectively', 'reflects', 'recycled', 'recommendation', 'receiving', 'puppet', 'promote', 'pro', 'prey', 'phillips', 'partners', 'palance', 'owners', 'oldest', 'noises', 'nod', 'nicolas', 'muppets', 'minded', 'jews', 'insipid', 'iconic', 'ho', 'hk', 'hitlers', 'grief', 'evidently', 'drove', 'din', 'devices', 'depending', 'crystal', 'cruelty', 'cope', 'conveys', 'coincidence', 'chills', 'chainsaw', 'canyon', 'beside', 'asylum', 'affection', 'address', 'active', '1997', '1986', 'wilderness', 'weaknesses', 'visited', 'venture', 'underworld', 'understands', 'tyler', 'togetherbr', 'tasteless', 'sympathize', 'strongest', 'stores', 'standup', 'squad', 'shades', 'rita', 'reluctant', 'records', 'priceless', 'prejudice', 'posted', 'portrayals', 'policeman', 'paramount', 'outing', 'outfits', 'occasions', 'obligatory', 'nolan', 'minus', 'mill', 'mccoy', 'malone', 'lois', 'lifted', 'kumar', 'investigating', 'industrial', 'hughes', 'heros', 'heading', 'hammy', 'freaks', 'el', 'edit', 'disappears', 'deniro', 'damme', 'cue', 'crawford', 'conviction', 'conventions', 'conscience', 'comparisons', 'buster', 'burst', 'belushi', 'baldwin', 'authors', 'aim', 'affairs', 'acclaimed', 'acceptance', '73', '1970', '1936', 'wwe', 'trivia', 'tobr', 'thread', 'terrified', 'suitably', 'studying', 'steady', 'stages', 'spinal', 'sketch', 'shakespeares', 'selection', 'renaissance', 'rejected', 'redeem', 'psychology', 'programs', 'profanity', 'previews', 'predict', 'pointbr', 'phenomenon', 'penny', 'patricia', 'murray', 'muppet', 'morally', 'misguided', 'locals', 'labor', 'kolchak', 'interestingly', 'hers', 'heist', 'hapless', 'guaranteed', 'gregory', 'frankie', 'fog', 'fishing', 'filler', 'fiancé', 'explores', 'entitled', 'emerges', 'elses', 'ear', 'difficulty', 'designer', 'demonstrates', 'dates', 'darn', 'cassidy', 'caliber', 'bros', 'billed', 'attract', 'anywaybr', 'ants', '2008', '1989', '1979', '1978', 'zombi', 'worn', 'vital', 'visions', 'vibrant', 'vein', 'unexplained', 'tripe', 'soup', 'sooner', 'someday', 'snakes', 'slimy', 'sht', 'shouting', 'sending', 'rome', 'representation', 'reader', 'ratso', 'prominent', 'physics', 'pg', 'palma', 'orange', 'option', 'michaels', 'marvel', 'marries', 'iv', 'insists', 'inconsistent', 'hippie', 'harold', 'harmless', 'guitar', 'gems', 'forcing', 'flashy', 'filth', 'feminist', 'eats', 'dud', 'discussing', 'diehard', 'despicable', 'deleted', 'cream', 'conclude', 'communicate', 'commander', 'clock', 'claustrophobic', 'clarke', 'cancer', 'betrayal', 'beatles', 'basinger', 'banal', 'assuming', 'anticipation', 'agenda', 'winchester', 'welldone', 'vader', 'unrelated', 'transformed', 'tierney', 'tempted', 'studies', 'springer', 'sox', 'slice', 'sirk', 'shootout', 'route', 'rod', 'rhythm', 'pounds', 'placebr', 'mentality', 'martha', 'lindsay', 'kungfu', 'knight', 'kitty', 'jacksons', 'ingenious', 'immature', 'housewife', 'flowers', 'europa', 'downbr', 'depends', 'delicate', 'danish', 'crazed', 'considerably', 'clueless', 'clan', 'claiming', 'circus', 'champion', 'casual', 'cannon', 'bread', 'blatantly', 'bike', 'biased', 'befriends', 'wings', 'wellmade', 'voted', 'towers', 'tail', 'symbolic', 'stumbles', 'soso', 'smiles', 'shortcomings', 'schlock', 'sassy', 'rukh', 'rolebr', 'riot', 'repeating', 'remove', 'recognizable', 'quinn', 'pete', 'paxton', 'mirrors', 'millionaire', 'melody', 'meg', 'marlon', 'limit', 'lifeless', 'legends', 'kathryn', 'iq', 'inhabitants', 'inexplicable', 'hokey', 'historic', 'height', 'grudge', 'grainy', 'glamorous', 'gina', 'gear', 'fuller', 'foxx', 'fontaine', 'fluff', 'fifty', 'exploring', 'ethnic', 'dukes', 'dressing', 'detectives', 'defeated', 'coupled', 'connections', 'co', 'charlton', 'challenged', 'carla', 'campaign', 'boston', 'bend', 'awaybr', 'audrey', 'altman', 'allens', 'agency', 'adolescent', 'addicted', 'vocal', 'uniformly', 'tunnel', 'trials', 'ton', 'thompson', 'swept', 'surgery', 'static', 'stairs', 'sorely', 'shopping', 'serving', 'screwed', 'screenwriters', 'satirical', 'rapist', 'praised', 'partially', 'parsons', 'paintings', 'outright', 'offbeat', 'novak', 'nemesis', 'minority', 'las', 'keen', 'item', 'institution', 'independence', 'incidentally', 'hangs', 'handles', 'freddys', 'firing', 'feeding', 'familybr', 'exceptions', 'esther', 'employed', 'drivein', 'disgusted', 'disguise', 'deserving', 'departure', 'coup', 'couch', 'controlled', 'continually', 'computers', 'chuckle', 'childs', 'charms', 'boyle', 'bars', 'backs', 'assassination', 'ambition', 'ace', '23', 'wax', 'toronto', 'token', 'tip', 'thrilled', 'threatened', 'sugar', 'shoulder', 'ripping', 'preferred', 'preachy', 'posey', 'pacific', 'outdated', 'northern', 'newer', 'neurotic', 'natives', 'nails', 'messy', 'mercy', 'melissa', 'macho', 'kidman', 'inspire', 'insightful', 'hilarity', 'hearted', 'hack', 'girlfriends', 'gate', 'garner', 'firmly', 'feat', 'farfetched', 'elite', 'earn', 'dylan', 'duck', 'disastrous', 'dirt', 'destroys', 'debate', 'curly', 'commenting', 'colin', 'cheer', 'centre', 'cassavetes', 'camcorder', 'bully', 'bridges', 'brendan', 'boxer', 'bowl', 'bondage', 'bogus', 'bates', 'bacon', 'artwork', 'artsy', 'arthouse', 'accurately', '4th', '1988', '1981', 'yeti', 'windows', 'wheres', 'vile', 'vain', 'unlikeable', 'uma', 'triangle', 'traffic', 'topics', 'suggestion', 'subtly', 'strings', 'steele', 'stalker', 'speeches', 'somethingbr', 'sleeps', 'sincerely', 'sharing', 'shaking', 'rooting', 'refuse', 'readers', 'predecessor', 'organized', 'obtain', 'norm', 'neatly', 'mutual', 'mayhem', 'males', 'liners', 'leigh', 'layers', 'kline', 'info', 'hides', 'healthy', 'harrison', 'guinness', 'gillian', 'fist', 'fade', 'excess', 'evolution', 'entered', 'engrossing', 'endingbr', 'election', 'duration', 'dudley', 'doo', 'donebr', 'disorder', 'destined', 'describing', 'demonic', 'containing', 'concepts', 'completed', 'chavez', 'centered', 'cartoonish', 'brooding', 'boringbr', 'boasts', 'bent', 'audition', 'anton', '22', '1976', '1969', '1000', 'woo', 'wig', 'weather', 'weaker', 'wanders', 'vastly', 'undead', 'triple', 'ta', 'stopping', 'stack', 'sometime', 'sobr', 'skit', 'seedy', 'saint', 'rope', 'reruns', 'rendered', 'relentless', 'refers', 'raj', 'quaid', 'punches', 'profession', 'politician', 'pole', 'originals', 'nope', 'newman', 'mesmerizing', 'masterfully', 'mannerisms', 'loretta', 'lifes', 'leaders', 'jess', 'injured', 'hungry', 'hugely', 'hires', 'helpless', 'helpful', 'hartley', 'guards', 'genie', 'gal', 'frances', 'exquisite', 'elevator', 'des', 'deny', 'dazzling', 'damaged', 'critique', 'christine', 'carmen', 'bulk', 'boris', 'beware', 'authorities', 'applaud', 'anyones', 'affects', 'advertised', '1945', 'wendigo', 'users', 'unsuspecting', 'tower', 'tops', 'thunderbirds', 'tenant', 'tarantino', 'stunningly', 'strengths', 'statue', 'startling', 'stare', 'stallone', 'shorter', 'scoop', 'scariest', 'rides', 'restrained', 'residents', 'realities', 'randolph', 'racing', 'publicity', 'proving', 'preparing', 'passengers', 'owes', 'nut', 'nina', 'myth', 'motive', 'mixing', 'min', 'lukas', 'luis', 'lift', 'lauren', 'lasts', 'lasting', 'knowbr', 'knightley', 'jared', 'itselfbr', 'internal', 'ingrid', 'hulk', 'goodbye', 'gained', 'fifties', 'fastpaced', 'exploits', 'excellently', 'error', 'emerge', 'duvall', 'dropping', 'detract', 'demanding', 'crashes', 'contempt', 'conrad', 'cliches', 'chronicles', 'choosing', 'cbs', 'carey', 'candidate', 'btw', 'breed', 'bow', 'behold', 'backwards', 'alvin', 'alley', 'akin', 'activity', '\\x85', 'zizek', 'youthful', 'wardrobe', 'votes', 'vanessa', 'valentine', 'tokyo', 'timberlake', 'tara', 'suburban', 'storys', 'spree', 'soylent', 'sniper', 'sleaze', 'sinking', 'servants', 'screw', 'referring', 'rapidly', 'radical', 'puerto', 'promptly', 'poker', 'origins', 'origin', 'nolte', 'netflix', 'net', 'mutant', 'modest', 'misfortune', 'minister', 'miami', 'mail', 'macabre', 'lovebr', 'located', 'limitations', 'label', 'kent', 'justified', 'jordan', 'joker', 'jaw', 'insults', 'insights', 'inaccurate', 'highway', 'heels', 'grounds', 'globe', 'gimmick', 'giants', 'gere', 'galaxy', 'forbr', 'fools', 'fifth', 'factors', 'expertly', 'everbr', 'errol', 'entering', 'elsebr', 'eleven', 'dubious', 'dj', 'disguised', 'disappointedbr', 'didbr', 'deliverance', 'cracking', 'convinces', 'contribution', 'continuing', 'confronted', 'confront', 'compete', 'cerebral', 'casino', 'buys', 'bronson', 'breakfast', 'bitch', 'belt', 'banter', 'bachelor', 'authenticity', 'attenborough', 'ariel', 'approaches', 'antonio', 'anil', 'alexandre', 'abruptly', '21st', '1991', '1939', 'wander', 'walt', 'vividly', 'unsure', 'underwater', 'undeniably', 'tossed', 'tormented', 'toni', 'supply', 'sticking', 'sf', 'salvation', 'salt', 'rookie', 'ronald', 'reward', 'repulsive', 'repressed', 'regards', 'rampage', 'puppets', 'principals', 'phillip', 'perception', 'pale', 'painter', 'owns', 'ol', 'monty', 'mol', 'mitch', 'lowkey', 'lend', 'landed', 'jarring', 'interact', 'insanity', 'inherent', 'homicide', 'homes', 'heavyhanded', 'growth', 'greatbr', 'grateful', 'formed', 'fords', 'expects', 'eventual', 'endlessly', 'differently', 'derivative', 'depths', 'definitive', 'dandy', 'crapbr', 'convicted', 'confident', 'conan', 'comedybr', 'colours', 'cents', 'braveheart', 'bmovies', 'bitten', 'biblical', 'austen', 'approaching', 'altered', 'accessible', '1977', 'yokai', 'witchcraft', 'wisely', 'vehicles', 'unattractive', 'terminator', 'survives', 'stranded', 'spies', 'siblings', 'sg1', 'separated', 'sensible', 'scriptbr', 'sale', 'runner', 'reviewing', 'published', 'pray', 'polly', 'pickup', 'photographs', 'peck', 'overblown', 'outline', 'nominations', 'natalie', 'moe', 'mobile', 'mice', 'meandering', 'mathieu', 'marc', 'letdown', 'juliet', 'jules', 'judd', 'jedi', 'irene', 'incapable', 'imo', 'immortal', 'identical', 'heavens', 'hats', 'handheld', 'ham', 'gunga', 'goodlooking', 'godawful', 'glued', 'gates', 'frames', 'flimsy', 'flashes', 'fatale', 'exterior', 'exploit', 'exit', 'evelyn', 'eternity', 'energetic', 'ebert', 'dragons', 'dobr', 'dismal', 'devastating', 'depict', 'decidedly', 'damned', 'cries', 'conveyed', 'concentrate', 'cemetery', 'caricature', 'buzz', 'bruno', 'bravo', 'beforebr', 'barrel', 'assured', 'angst', 'ally', 'adore', 'zane', 'wtf', 'wonderland', 'wagner', 'volume', 'unimaginative', 'uniform', 'thoughbr', 'tapes', 'swallow', 'subway', 'sublime', 'stalking', 'sophie', 'soderbergh', 'simpsons', 'severed', 'scarface', 'rivers', 'respectable', 'reports', 'reminder', 'reliable', 'quantum', 'psychopath', 'promoted', 'principle', 'pleasing', 'playboy', 'performancebr', 'penn', 'pc', 'payoff', 'pattern', 'papers', 'owned', 'overbr', 'oldfashioned', 'niece', 'mermaid', 'longest', 'lester', 'lance', 'judgment', 'janes', 'intricate', 'inspirational', 'improbable', 'implied', 'homosexuality', 'hindi', 'harriet', 'fragile', 'filthy', 'farmer', 'expose', 'excruciatingly', 'entirety', 'enthusiastic', 'ensure', 'enhanced', 'dread', 'downs', 'divine', 'disgrace', 'disabled', 'demonstrate', 'delicious', 'cypher', 'cushing', 'cultures', 'crossing', 'crisp', 'crippled', 'creek', 'contribute', 'cons', 'combines', 'colleagues', 'cliffhanger', 'cleaning', 'clara', 'chopped', 'characteristics', 'cecil', 'butcher', 'butch', 'bug', 'bsg', 'bones', 'bloom', 'beowulf', 'arguing', 'arab', 'appeals', 'antonioni', 'africanamerican', 'addict', 'accounts', 'absorbing', '300', '1985', '1950', 'youtube', 'whiny', 'whining', 'victorian', 'vanilla', 'ultimatum', 'tremendously', 'tendency', 'switched', 'steam', 'sidewalk', 'sergeant', 'sentimentality', 'senior', 'seeming', 'scratch', 'salman', 'revolt', 'reeve', 'rainy', 'quentin', 'pursue', 'possess', 'popping', 'pirate', 'pickford', 'paula', 'parallels', 'packs', 'p', 'ominous', 'ohara', 'ny', 'noticeable', 'nightclub', 'nerves', 'morals', 'mitchum', 'missile', 'miranda', 'mindbr', 'lighter', 'lex', 'leather', 'kidnapping', 'jodie', 'jacket', 'immense', 'holocaust', 'hippies', 'habit', 'fairbanks', 'experiencing', 'estranged', 'escaping', 'embrace', 'email', 'dustin', 'drinks', 'divorced', 'distract', 'deer', 'decline', 'cyborg', 'collect', 'christina', 'budgets', 'boyer', 'bills', 'attacking', 'astounding', 'assembled', 'anyhow', 'answered', 'amrita', 'aided', 'affleck', '95', '28', '1994', '1974', '1920s', 'yours', 'wounds', 'wire', 'wilder', 'werewolves', 'wellacted', 'voyage', 'virtual', 'vince', 'updated', 'unsatisfying', 'turmoil', 'truman', 'toby', 'theories', 'sydney', 'sucker', 'subtext', 'stewarts', 'stardom', 'spectacle', 'spaghetti', 'sought', 'seymour', 'selected', 'sand', 'rounded', 'reviewed', 'resulted', 'resolved', 'rescued', 'remembering', 'rebellious', 'precode', 'postwar', 'pin', 'peculiar', 'peaceful', 'messing', 'manbr', 'magician', 'longtime', 'longing', 'lola', 'logan', 'literal', 'liam', 'lavish', 'kurosawa', 'knocks', 'juliette', 'jill', 'jaded', 'isolation', 'havoc', 'hackman', 'grass', 'goldblum', 'glaring', 'ghetto', 'garland', 'gable', 'forgiven', 'foolish', 'followup', 'fills', 'expectation', 'exorcist', 'earnest', 'disgust', 'dilemma', 'denis', 'demonstrated', 'deliberate', 'daysbr', 'dashing', 'dame', 'crown', 'crashing', 'corporation', 'copied', 'conveniently', 'contestants', 'collective', 'classy', 'clash', 'christie', 'chill', 'cheaply', 'casper', 'begging', 'bach', 'avoiding', 'asia', 'approached', 'amazon', 'alleged', 'aiming', 'adrian', '21', '200', '19', '\\x97', 'yep', 'worms', 'whites', 'wartime', 'verdict', 'vega', 'traits', 'trains', 'tourist', 'tonys', 'thieves', 'thelma', 'taped', 'swearing', 'suspected', 'spit', 'spencer', 'span', 'snuff', 'slip', 'slaves', 'slapped', 'skilled', 'settled', 'serials', 'scotts', 'samantha', 'rowlands', 'romeo', 'ritchie', 'relentlessly', 'rehash', 'rear', 'quarter', 'q', 'potter', 'poses', 'pocket', 'plotting', 'planets', 'pad', 'odyssey', 'mystical', 'mum', 'morons', 'melvyn', 'liveaction', 'liu', 'lightning', 'laurie', 'kellys', 'keatons', 'karate', 'judged', 'jobbr', 'jealousy', 'indiana', 'hayworth', 'goods', 'gentlemen', 'gamera', 'feast', 'executives', 'excuses', 'establish', 'erika', 'enhance', 'dump', 'dramatically', 'diverse', 'delighted', 'define', 'debt', 'dealer', 'contributed', 'commits', 'coat', 'climb', 'cinemabr', 'cher', 'celebrated', 'canceled', 'bw', 'burke', 'borders', 'bombs', 'bittersweet', 'aussie', 'arriving', 'arc', 'admired', 'addiction', 'acquired', 'achieves', 'accepting', '1959', 'yawn', 'worsebr', 'wiped', 'vintage', 'vanity', 'underwear', 'ultra', 'uh', 'tool', 'tax', 'taboo', 'suggesting', 'strict', 'stella', 'spice', 'slugs', 'shepherd', 'serum', 'seebr', 'seductive', 'seasoned', 'sarcastic', 'romances', 'ritual', 'rewarding', 'remembers', 'redundant', 'readily', 'races', 'pumbaa', 'psychologist', 'preminger', 'predictably', 'posing', 'populated', 'planes', 'pirates', 'phenomenal', 'pedestrian', 'pause', 'overboard', 'novelty', 'nbc', 'moron', 'mason', 'lunch', 'loy', 'likeable', 'legitimate', 'leap', 'korea', 'jersey', 'introducing', 'intentional', 'insist', 'inmates', 'informed', 'incorrect', 'immigrant', 'horny', 'hepburn', 'headache', 'gypo', 'guinea', 'graveyard', 'furniture', 'frontier', 'freaky', 'fluid', 'flavor', 'explosive', 'exploding', 'expense', 'drab', 'delightfully', 'deliciously', 'defies', 'dads', 'cuban', 'covering', 'courtroom', 'cookie', 'comprehend', 'commitment', 'cohen', 'circles', 'cheek', 'cape', 'bye', 'breakdown', 'brainless', 'bounty', 'bestbr', 'basket', 'backbr', 'axe', 'attending', 'amidst', '1944', 'wine', 'wider', 'watchingbr', 'wastes', 'unsympathetic', 'trace', 'tongueincheek', 'tolerable', 'thirties', 'symbol', 'stylized', 'stroke', 'stephanie', 'steer', 'slide', 'sixth', 'shockingly', 'sgt', 'sells', 'screwball', 'robbers', 'ricky', 'respects', 'redneck', 'ranch', 'pushes', 'produces', 'pound', 'possession', 'possesses', 'politicians', 'polish', 'poe', 'pixar', 'pilots', 'phase', 'passage', 'parking', 'pans', 'otto', 'nuances', 'newcomer', 'mysteriously', 'mouths', 'mortal', 'mins', 'medieval', 'meantime', 'lucille', 'lethal', 'lends', 'lean', 'kinnear', 'jacques', 'ira', 'instincts', 'hybrid', 'gwyneth', 'groundbreaking', 'gilbert', 'gielgud', 'franklin', 'foundation', 'firstrate', 'festivals', 'experiencebr', 'europeans', 'establishing', 'encountered', 'embarrassingly', 'einstein', 'dominated', 'deciding', 'debbie', 'deanna', 'daylewis', 'crosby', 'counter', 'corbett', 'consist', 'consideration', 'clive', 'cliched', 'clerk', 'cigarette', 'charlies', 'caron', 'carnage', 'cal', 'branaghs', 'beg', 'barbra', 'bachchan', 'awakening', 'attended', 'arrest', 'arranged', 'apply', 'anytime', 'anxious', 'additionally', 'actorsbr', '10br', 'xfiles', 'viewpoint', 'unusually', 'unanswered', 'tickets', 'tactics', 'stating', 'stabbed', 'sparks', 'sources', 'session', 'scorsese', 'scored', 'sarandon', 'salesman', 'routines', 'roughly', 'rider', 'reverse', 'rejects', 'rational', 'queens', 'pursued', 'psyche', 'porter', 'pfeiffer', 'penelope', 'ordeal', 'optimistic', 'olivia', 'obstacles', 'obsessive', 'noteworthy', 'neglected', 'narrow', 'mute', 'motions', 'misunderstood', 'milo', 'mens', 'marilyn', 'longoria', 'laterbr', 'kubricks', 'keys', 'kazan', 'kathy', 'jury', 'july', 'jewel', 'invite', 'invention', 'informative', 'indifferent', 'indicate', 'incidents', 'huston', 'horrified', 'hop', 'herbert', 'hateful', 'haines', 'gloria', 'freaking', 'forgetting', 'flock', 'flickbr', 'feminine', 'feeble', 'exploited', 'explodes', 'excruciating', 'en', 'dumped', 'dumbest', 'duel', 'document', 'distress', 'distracted', 'diary', 'denise', 'degrees', 'deathbr', 'daisy', 'controlling', 'compliment', 'clone', 'cindy', 'casablanca', 'busey', 'brides', 'breathing', 'blandings', 'begs', 'arty', 'armstrong', 'anticipated', 'anthology', 'aftermath', 'adaption', 'abandon', '99', '1975', '1953', 'whore', 'warns', 'void', 'veterans', 'verbal', 'varied', 'upcoming', 'uncanny', 'un', 'tvs', 'turd', 'translate', 'thurman', 'targets', 'sundance', 'stations', 'spiderman', 'sickening', 'sensebr', 'sanders', 'rosemarys', 'rightbr', 'relevance', 'regularly', 'rambling', 'puzzle', 'pros', 'products', 'pointing', 'pathos', 'participants', 'ofbr', 'niven', 'mythology', 'murky', 'moss', 'mormon', 'monologue', 'minnelli', 'meal', 'mcqueen', 'martian', 'mama', 'jenna', 'iranian', 'intensely', 'instances', 'inaccuracies', 'historybr', 'hannah', 'grandma', 'grabbed', 'goals', 'generate', 'gangs', 'fright', 'freeze', 'frantic', 'flower', 'fishburne', 'eagerly', 'distraction', 'depictions', 'debra', 'daylight', 'darth', 'cunningham', 'corn', 'corman', 'corey', 'cooking', 'convention', 'combs', 'columbia', 'ches', 'centuries', 'cannes', 'biopic', 'belly', 'arquette', 'arguments', 'angie', 'agony', 'aggressive', 'afterward', '34', '1998', '1940', 'zorro', 'z', 'widowed', 'whybr', 'upside', 'update', 'tuned', 'traps', 'tomei', 'tcm', 'swinging', 'suspicion', 'sunrise', 'statements', 'starters', 'starsbr', 'stance', 'spine', 'sondra', 'shifts', 'shift', 'services', 'seats', 'sang', 'rounds', 'rosario', 'resembling', 'replies', 'releasing', 'relating', 'realization', 'realistically', 'predator', 'policy', 'plodding', 'phones', 'paths', 'parks', 'paints', 'overbearing', 'nerve', 'naschy', 'motorcycle', 'midst', 'mates', 'masterson', 'manners', 'lurking', 'lowe', 'lip', 'lions', 'lionel', 'launch', 'laputa', 'kidnap', 'juan', 'jose', 'jolie', 'intro', 'interestingbr', 'inclusion', 'ignoring', 'hyped', 'hoot', 'herman', 'heath', 'harlow', 'hadley', 'grip', 'gooding', 'glimpses', 'glance', 'gallery', 'funding', 'forties', 'followers', 'flames', 'fanatic', 'exclusively', 'evans', 'enigmatic', 'enchanted', 'employee', 'economic', 'dumber', 'dismiss', 'discussed', 'dillinger', 'deputy', 'deed', 'curiously', 'criticize', 'controversy', 'coffin', 'click', 'claude', 'carpenters', 'bogart', 'blamed', 'berkeley', 'begun', 'august', 'ambitions', 'ambiguity', 'admitted', '85', '1982', '1948', 'wong', 'warden', 'uniforms', 'troma', 'syndrome', 'sweden', 'surroundings', 'substantial', 'stuffbr', 'stream', 'stiles', 'sterling', 'stereotyped', 'stardust', 'stalked', 'snowman', 'snipes', 'smash', 'sly', 'skinny', 'sketches', 'shore', 'shepard', 'sentences', 'selfindulgent', 'scripting', 'scenarios', 'scarecrows', 'saloon', 'safely', 'rupert', 'ruining', 'rewarded', 'reunite', 'reiser', 'reflected', 'qualify', 'popped', 'platform', 'periods', 'pains', 'ownbr', 'omar', 'offscreen', 'october', 'necessity', 'narrated', 'murderers', 'moneybr', 'moms', 'miyazaki', 'meteor', 'maureen', 'maintains', 'mabel', 'linked', 'lastly', 'kris', 'kathleen', 'imaginary', 'ignores', 'idol', 'hinted', 'hines', 'haunt', 'goldie', 'gloomy', 'gigantic', 'gestures', 'gap', 'frontal', 'frog', 'fried', 'foremost', 'foil', 'fleshed', 'factual', 'extensive', 'envy', 'enoughbr', 'educated', 'edith', 'dynamics', 'dreamy', 'dominic', 'cycle', 'county', 'consequently', 'consequence', 'comeback', 'cheadle', 'chamber', 'capacity', 'campus', 'bosses', 'biker', 'battlestar', 'backed', 'avid', 'assignment', 'apt', 'applies', 'applied', 'angelina', 'ample', 'alot', 'abortion', '1934', 'witnessing', 'wheel', 'wayans', 'valid', 'unstable', 'unfolding', 'ugh', 'trier', 'tones', 'tho', 'therapy', 'soprano', 'smell', 'slim', 'sins', 'sights', 'sheets', 'shaggy', 'sebastian', 'schneider', 'schedule', 'sammo', 'sailor', 'russ', 'rodriguez', 'robertson', 'rips', 'revolving', 'revival', 'reunited', 'resume', 'resistance', 'replacement', 'repeats', 're', 'protest', 'precise', 'pose', 'pornography', 'phantasm', 'pegg', 'paranoid', 'observe', 'nuanced', 'muslims', 'moviemaking', 'moviegoers', 'momentum', 'momentsbr', 'mick', 'medicine', 'marisa', 'knights', 'kells', 'jacks', 'israeli', 'islands', 'investigator', 'invested', 'intact', 'insomnia', 'homicidal', 'gus', 'graduate', 'georgia', 'genrebr', 'gaps', 'frozen', 'entrance', 'eli', 'du', 'diner', 'denouement', 'delirious', 'daytime', 'collins', 'clunky', 'clay', 'characterizations', 'characterisation', 'chamberlain', 'castbr', 'carlos', 'cap', 'cab', 'bubble', 'brooke', 'breast', 'bonnie', 'blockbusters', 'bleed', 'blaise', 'biting', 'bikini', 'benefits', 'beckinsale', 'bats', 'bait', 'awfulbr', 'assure', 'arrow', 'array', 'arkin', 'anita', 'alliance', 'acknowledge', '1992', '101', 'weekly', 'waking', 'vivian', 'villainous', 'unhinged', 'tomb', 'tire', 'throughbr', 'thereby', 'talky', 'supreme', 'sufficient', 'studied', 'stern', 'stadium', 'spider', 'sour', 'sonny', 'skeptical', 'sitcoms', 'similarity', 'silverman', 'shotgun', 'shocks', 'sherlock', 'sheen', 'sensibility', 'seduce', 'sarcasm', 'rolls', 'rightly', 'retelling', 'reserved', 'relying', 'rebels', 'realises', 'raging', 'questioning', 'prophecy', 'playwright', 'pivotal', 'parrot', 'offend', 'networks', 'needing', 'mustve', 'moviei', 'marked', 'lynchs', 'lopez', 'lil', 'landmark', 'laboratory', 'jude', 'joking', 'johns', 'johansson', 'interrupted', 'inadvertently', 'hysterically', 'hooker', 'hayes', 'geisha', 'gathering', 'fuzzy', 'fundamental', 'fortunate', 'fleet', 'famed', 'ernie', 'entertainingbr', 'enchanting', 'displaying', 'detroit', 'deemed', 'customers', 'crushed', 'cow', 'commanding', 'colored', 'collette', 'coke', 'clooney', 'childlike', 'chiba', 'cheers', 'boundaries', 'bias', 'bc', 'bauer', 'balanced', 'babes', 'artistry', 'admits', 'abound', '1967', 'ww2', 'worldwide', 'washed', 'wash', 'visitor', 'vignettes', 'vargas', 'usbr', 'upstairs', 'unnatural', 'unfamiliar', 'understandably', 'unclear', 'truths', 'trivial', 'trauma', 'sweat', 'sunset', 'substitute', 'subsequently', 'subgenre', 'stumble', 'stake', 'spotlight', 'smug', 'shred', 'shameless', 'scheming', 'samuel', 'rice', 'republic', 'reminding', 'reluctantly', 'randall', 'quintessential', 'puppy', 'psychedelic', 'progressed', 'professionals', 'phoenix', 'penned', 'olsen', 'observations', 'northam', 'nauseating', 'myrna', 'maximum', 'mandy', 'madsen', 'madeleine', 'lunatic', 'janet', 'iturbi', 'interviewed', 'interior', 'insert', 'howling', 'hostel', 'hitchcocks', 'harrowing', 'hardened', 'handicapped', 'gackt', 'fuel', 'fruit', 'frombr', 'forgets', 'finishing', 'finishes', 'favourites', 'fassbinder', 'fart', 'evokes', 'epics', 'enduring', 'egyptian', 'drowned', 'doug', 'divided', 'diversity', 'district', 'disco', 'determination', 'despise', 'demille', 'deathtrap', 'criticized', 'coworker', 'courtesy', 'convent', 'controls', 'confined', 'complications', 'comparable', 'commendable', 'chew', 'cheerful', 'charges', 'chaotic', 'celebrities', 'caretaker', 'caprica', 'bust', 'brett', 'boots', 'boogie', 'beckham', 'bakshis', 'baddies', 'awareness', 'arrogance', 'arebr', 'announced', 'ala', 'ajay', 'addressed', 'accompanying', 'accidental', '1943', 'yell', 'wright', 'wholesome', 'whod', 'whimsical', 'verge', 'unnecessarily', 'um', 'travis', 'transparent', 'traditions', 'titular', 'timmy', 'tide', 'thrust', 'thailand', 'testing', 'temper', 'tashan', 'targeted', 'sylvia', 'surround', 'summed', 'spoiling', 'sincerity', 'sholay', 'shannon', 'seth', 'semblance', 'scarlett', 'sanity', 'salvage', 'roses', 'relaxed', 'recover', 'rea', 'python', 'programme', 'perverted', 'participate', 'owl', 'outlandish', 'orchestra', 'olds', 'occult', 'obscurity', 'musicbr', 'monotonous', 'monks', 'misty', 'meadows', 'mccarthy', 'martians', 'magically', 'license', 'lens', 'laying', 'krueger', 'kirsten', 'kindly', 'judges', 'interpretations', 'inserted', 'injury', 'infinitely', 'hunted', 'hostile', 'hostage', 'hiphop', 'himselfbr', 'hawn', 'hallmark', 'gut', 'guardian', 'gorilla', 'galactica', 'flows', 'file', 'fascist', 'fairytale', 'explode', 'entries', 'earliest', 'dynamite', 'distributed', 'destination', 'deeds', 'cutter', 'convenient', 'considers', 'composition', 'colleague', 'cmon', 'chuckles', 'chong', 'characteristic', 'captivated', 'camping', 'cameraman', 'cain', 'burial', 'brent', 'brat', 'bonds', 'bonanza', 'blackandwhite', 'baron', 'backstory', 'aroundbr', 'antagonist', 'annoy', 'affecting', 'adele', '1963', '1951', 'wrestler', 'winners', 'whove', 'wherever', 'wesley', 'walmart', 'vomit', 'variation', 'upbeat', 'understatement', 'underdeveloped', 'unappealing', 'turkish', 'toxic', 'toned', 'thunder', 'taut', 'takashi', 'suzanne', 'sunk', 'stuffed', 'stepmother', 'sporting', 'spoilerbr', 'smiths', 'slashers', 'sho', 'searched', 'se', 'scoobydoo', 'satisfaction', 'sane', 'sales', 'robbed', 'rivals', 'resolve', 'remark', 'recreate', 'raunchy', 'rampant', 'protection', 'preaching', 'portuguese', 'plate', 'pizza', 'pigs', 'philo', 'partbr', 'outrageously', 'othersbr', 'orphan', 'openly', 'observation', 'nun', 'novelist', 'nightmarish', 'motel', 'mister', 'miraculously', 'miikes', 'melancholy', 'marcel', 'manipulation', 'macdonald', 'listened', 'kinski', 'jagger', 'intend', 'inclined', 'incestuous', 'implies', 'hooper', 'herd', 'happenbr', 'gypsy', 'grin', 'ghastly', 'fritz', 'flashing', 'flag', 'finney', 'fetish', 'faded', 'eyesbr', 'exploitative', 'excels', 'engine', 'elsa', 'elliott', 'elephants', 'ealing', 'dwight', 'dvdbr', 'duh', 'drowning', 'drift', 'dragging', 'devotion', 'dangerously', 'dallas', 'dahmer', 'dafoe', 'crosses', 'crossed', 'crooks', 'creasy', 'counting', 'constraints', 'complained', 'compensate', 'communication', 'committing', 'coma', 'cocaine', 'clouds', 'clarity', 'cena', 'cancelled', 'borrow', 'blazing', 'benjamin', 'bearing', 'beard', 'battlefield', 'banks', 'awaiting', 'avoids', 'article', 'almighty', 'aesthetic', 'admission', 'adapt', 'achievements', 'aaron', '010', 'zodiac', 'wheelchair', 'watcher', 'warrant', 'voyager', 'voodoo', 'vcr', 'vapid', 'uneasy', 'unconventional', 'traumatic', 'transport', 'tools', 'tess', 'stabbing', 'ss', 'spontaneous', 'spiral', 'sophia', 'somethings', 'slower', 'sinks', 'shoe', 'sharks', 'shameful', 'shahid', 'shah', 'sexist', 'sergio', 'serbian', 'senator', 'sections', 'seattle', 'screened', 'satanic', 'runaway', 'ruled', 'rolesbr', 'robotic', 'riff', 'restraint', 'rendering', 'remainder', 'reasonbr', 'ram', 'prop', 'progression', 'proceed', 'pretends', 'presidential', 'practical', 'plug', 'permanent', 'peggy', 'palm', 'overtones', 'overshadowed', 'originalbr', 'oblivious', 'nutshell', 'moores', 'mole', 'mock', 'mentor', 'lookalike', 'locke', 'lennon', 'juice', 'joining', 'jj', 'je', 'jan', 'jackman', 'isabelle', 'irritated', 'impending', 'ideabr', 'hometown', 'homebr', 'henchmen', 'gretchen', 'govinda', 'glossy', 'gilliam', 'ghostly', 'gena', 'garfield', 'frat', 'flavia', 'fires', 'fashions', 'fairness', 'facility', 'excellence', 'evoke', 'everett', 'ernest', 'epitome', 'enormously', 'encouraged', 'drivers', 'dreaming', 'distinction', 'desk', 'deepest', 'creations', 'courageous', 'coolest', 'contestant', 'confuse', 'conductor', 'climbing', 'classmates', 'clad', 'circa', 'chloe', 'cheering', 'celebrate', 'cedric', 'carlitos', 'buttons', 'busby', 'burnt', 'betrayed', 'bernsen', 'battling', 'bashing', 'awarded', 'avenge', 'automatic', 'aunts', 'assumes', 'artemisia', 'apple', 'apocalypse', 'advised', 'admiration', 'abundance', 'absorbed', '26', '1932', 'warehouse', 'versionbr', 'val', 'unleashed', 'transforms', 'thingsbr', 'theodore', 'superstar', 'submarine', 'suave', 'stab', 'solved', 'slater', 'sickness', 'sheep', 'shaped', 'selfcentered', 'secure', 'screenplays', 'rourke', 'roller', 'rivalry', 'riders', 'respond', 'reported', 'razor', 'raid', 'qualifies', 'quaint', 'pursuing', 'prologue', 'projected', 'principles', 'priests', 'possiblebr', 'plotline', 'picturebr', 'paz', 'pauline', 'ostensibly', 'organization', 'occupied', 'noting', 'notices', 'ninety', 'myrtle', 'meyer', 'meredith', 'meek', 'masked', 'marijuana', 'magazines', 'macmurray', 'linear', 'lindy', 'labeled', 'jo', 'jar', 'informer', 'incidental', 'incest', 'hum', 'hobgoblins', 'greene', 'goat', 'giovanna', 'gig', 'garage', 'fraud', 'ferrell', 'feinstone', 'failures', 'fades', 'experts', 'espionage', 'employees', 'electronic', 'effortlessly', 'eagle', 'dominate', 'distinctive', 'disregard', 'disappearance', 'diego', 'demeanor', 'defending', 'deadpan', 'dc', 'cursed', 'criticisms', 'convict', 'conveying', 'colony', 'coburn', 'clyde', 'chops', 'choir', 'chip', 'carpet', 'capote', 'caper', 'candle', 'brazilian', 'brashear', 'bout', 'bookbr', 'boobs', 'blondell', 'bimbo', 'bert', 'beforehand', 'beers', 'auto', 'assistance', 'antihero', 'ambiance', '1966', '1958', 'zelah', 'yells', 'worrying', 'woefully', 'weirdness', 'warners', 'warhols', 'vigilante', 'uncertain', 'turtle', 'torment', 'tolerance', 'tits', 'tightly', 'theatres', 'tended', 'tech', 'tackle', 'symbols', 'switching', 'sustain', 'strung', 'starship', 'spoofs', 'socially', 'sober', 'snap', 'slept', 'slavery', 'sites', 'signature', 'sensual', 'sensitivity', 'scriptwriter', 'sandy', 'saints', 'russo', 'revolver', 'responds', 'reject', 'rebellion', 'realbr', 'prostitution', 'prostitutes', 'predecessors', 'prank', 'pornographic', 'pompous', 'playful', 'pierre', 'patty', 'outset', 'ongoing', 'officially', 'offense', 'obrien', 'ninjas', 'nest', 'motivated', 'monroe', 'mira', 'mills', 'middleclass', 'marines', 'manipulated', 'managing', 'malden', 'mae', 'madison', 'lifelong', 'lara', 'lampoon', 'joint', 'jigsaw', 'investment', 'interiors', 'informs', 'inform', 'influential', 'influences', 'ideals', 'idealistic', 'highschool', 'harron', 'grease', 'gershwin', 'geek', 'gandolfini', 'frost', 'framing', 'forgiveness', 'filmography', 'fiend', 'fiancée', 'farmers', 'englund', 'edison', 'edges', 'dunst', 'dreyfuss', 'drawings', 'doyle', 'discipline', 'digging', 'detached', 'davids', 'croc', 'crashed', 'conscious', 'confines', 'combining', 'colman', 'cohesive', 'closure', 'clinic', 'cheech', 'cells', 'burgess', 'budding', 'brandon', 'bodyguard', 'boards', 'bloodbath', 'bless', 'blames', 'bennett', 'bean', 'barney', 'barnes', 'badness', 'associate', 'annoyance', 'ang', 'alonebr', 'ads', 'admirer', 'abomination', '1955', 'waynes', 'vincenzo', 'vet', 'varying', 'unravel', 'troopers', 'travolta', 'transported', 'tramp', 'tolerate', 'throwaway', 'theirs', 'surrender', 'superfluous', 'stupidbr', 'stink', 'standpoint', 'stabs', 'spelling', 'spade', 'spaceship', 'slam', 'shrek', 'shoved', 'shootouts', 'shield', 'seuss', 'seriousness', 'scratching', 'sara', 'sammy', 'sailors', 'sacrifices', 'rewrite', 'replacing', 'reasoning', 'reagan', 'protective', 'programming', 'pressed', 'policemen', 'polar', 'perverse', 'perspectives', 'peril', 'pen', 'peers', 'parodies', 'palmas', 'pairing', 'padding', 'oprah', 'norris', 'nearest', 'mythical', 'mustache', 'morse', 'monica', 'mixes', 'mines', 'midget', 'merry', 'mercifully', 'marrying', 'marine', 'marcus', 'manic', 'maintaining', 'lurid', 'loren', 'lingering', 'liberty', 'lays', 'kareena', 'kalifornia', 'justification', 'jurassic', 'jewelry', 'irving', 'interplay', 'inexperienced', 'inconsistencies', 'imitate', 'imho', 'identified', 'holt', 'happenings', 'hallucinations', 'gruff', 'groove', 'griffiths', 'grating', 'grandpa', 'goodman', 'gino', 'geoffrey', 'gadgets', 'functions', 'forrest', 'fodder', 'flowing', 'fixed', 'facebr', 'fabric', 'existing', 'emphasize', 'egg', 'economy', 'echoes', 'division', 'diving', 'distorted', 'dish', 'directtovideo', 'dim', 'dictator', 'determine', 'dern', 'derived', 'depend', 'damsel', 'cunning', 'crowded', 'cringing', 'cravens', 'cracks', 'coworkers', 'counterparts', 'consciousness', 'connie', 'conclusions', 'concentration', 'collector', 'collapse', 'cody', 'captive', 'cannibals', 'buffy', 'britney', 'breathe', 'boyfriends', 'blessed', 'bites', 'berenger', 'believability', 'beetle', 'awry', 'asset', 'animations', 'anguish', 'amid', 'allan', 'alexandra', 'advances', 'acclaim', '1946', 'yearbr', 'yarn', 'widower', 'weary', 'villa', 'vertigo', 'uptight', 'tsui', 'trigger', 'transplant', 'torturing', 'temptation', 'systems', 'switches', 'surf', 'subtitled', 'structured', 'strained', 'stoned', 'steaming', 'stares', 'staging', 'spelled', 'sorrow', 'slut', 'simons', 'significantly', 'showcases', 'shelter', 'sensibilities', 'sensational', 'seduction', 'sasquatch', 'russians', 'rousing', 'romania', 'representing', 'representative', 'regime', 'reese', 'reckless', 'radiation', 'profoundly', 'portions', 'plagued', 'placement', 'pia', 'paycheck', 'pals', 'paired', 'overwrought', 'outlaw', 'ossessione', 'orlando', 'opposition', 'officials', 'natali', 'muni', 'monologues', 'mobster', 'melbourne', 'mcadams', 'marvin', 'manga', 'mack', 'luxury', 'lords', 'loony', 'longbr', 'locate', 'locale', 'lo', 'linebr', 'lightweight', 'lifts', 'liberties', 'lars', 'kristofferson', 'kidnaps', 'keanu', 'katie', 'k', 'inhabit', 'identities', 'heroines', 'henchman', 'heather', 'heap', 'hartleys', 'hardboiled', 'hanzo', 'hans', 'han', 'hairy', 'haha', 'grossly', 'graces', 'gibson', 'genetic', 'gathered', 'gasp', 'funky', 'foreboding', 'flew', 'fiery', 'federal', 'faye', 'faint', 'examine', 'er', 'entertains', 'engineer', 'elected', 'egypt', 'edmund', 'earns', 'duchovny', 'drummer', 'drastically', 'downfall', 'downbeat', 'dom', 'disappoints', 'depardieu', 'denying', 'dedication', 'deck', 'decency', 'dash', 'darkly', 'czech', 'cradle', 'cowardly', 'coward', 'cousins', 'contributes', 'continuously', 'confronts', 'condemned', 'communism', 'cloak', 'censorship', 'categories', 'cages', 'butchered', 'brush', 'borrows', 'bon', 'benny', 'bastard', 'bartender', 'animators', 'anchors', 'altmans', 'ali', 'airing', 'adultery', 'actionbr', 'abu', 'zu', 'youngsters', 'wielding', 'warbr', 'visconti', 'virtue', 'vaughn', 'uninspiring', 'underused', 'undercover', 'tricked', 'transitions', 'tina', 'threads', 'thereafter', 'tasty', 'taime', 'sykes', 'sweeping', 'surgeon', 'supportive', 'supermarket', 'sucking', 'subdued', 'straighttovideo', 'stirring', 'spotted', 'spells', 'sophistication', 'snowy', 'sleeper', 'sixteen', 'shrill', 'shiny', 'shelves', 'shaun', 'sensation', 'scattered', 'romanian', 'rogue', 'rockets', 'retirement', 'register', 'redford', 'rapes', 'puzzled', 'prolific', 'presume', 'premiered', 'prefers', 'preferably', 'pleasures', 'pepper', 'pecker', 'owe', 'oscarwinning', 'optimism', 'ogre', 'nuns', 'nora', 'nifty', 'myra', 'monday', 'modernday', 'mediocrity', 'maurice', 'massey', 'madman', 'loner', 'liotta', 'lindsey', 'likebr', 'ledger', 'lds', 'lawn', 'latino', 'laser', 'languages', 'knocking', 'knees', 'intelligently', 'intellectually', 'injustice', 'increase', 'imprisoned', 'impressions', 'illustrate', 'il', 'icons', 'hypnotic', 'hurry', 'hunky', 'hugo', 'hmm', 'halfhour', 'golf', 'goldsworthy', 'godard', 'glow', 'glenda', 'gently', 'geniuses', 'fuss', 'freed', 'freaked', 'fierce', 'fewer', 'fence', 'fellini', 'fanning', 'fallon', 'eyed', 'extraordinarily', 'expresses', 'ewoks', 'establishment', 'erabr', 'ensue', 'engagement', 'emmy', 'eh', 'echo', 'ebay', 'drum', 'dreamlike', 'dodgy', 'distinctly', 'developments', 'deservedly', 'della', 'defy', 'dealers', 'crypt', 'crooked', 'cowritten', 'correctness', 'coop', 'consumed', 'conniving', 'confirmed', 'collaboration', 'cockney', 'clutter', 'cloth', 'clockwork', 'client', 'clarence', 'chemical', 'cheesiness', 'chans', 'ceremony', 'ceiling', 'capitalism', 'byron', 'brit', 'bothers', 'booth', 'boost', 'boogeyman', 'bliss', 'bleeding', 'billing', 'belle', 'bart', 'aura', 'atrocity', 'atlantic', 'artistically', 'applause', 'apollo', 'anti', 'alter', 'allies', 'alarm', 'aircraft', 'accomplishment', 'abstract', 'abroad', 'aboard', '20s', 'zhang', 'zany', 'yourselfbr', 'wrongly', 'willingly', 'visceral', 'verhoevens', 'unwilling', 'trusted', 'trendy', 'traveled', 'todaybr', 'thug', 'thereof', 'taker', 'supports', 'succession', 'strain', 'springs', 'slowmotion', 'slips', 'sleepy', 'slaughtered', 'sinatras', 'simpler', 'shout', 'shocker', 'shawn', 'shady', 'sematary', 'scarlet', 'scarier', 'satisfactory', 'roommates', 'romeros', 'rodney', 'robbing', 'roads', 'rhyme', 'retrieve', 'reportedly', 'relates', 'recovering', 'ravishing', 'rapid', 'rant', 'proudly', 'protecting', 'proportions', 'prone', 'promoting', 'predicted', 'predictability', 'preacher', 'potent', 'plummer', 'photograph', 'peterson', 'periodbr', 'perceived', 'overtly', 'operating', 'operate', 'oneill', 'notwithstanding', 'nerdy', 'natasha', 'mutants', 'muscular', 'muriel', 'mud', 'moderately', 'mockery', 'mishmash', 'messbr', 'maturity', 'mastermind', 'manipulate', 'luthor', 'lure', 'lt', 'lorre', 'lists', 'limp', 'legion', 'lawyers', 'launched', 'lansbury', 'knives', 'kilmer', 'kenny', 'judgement', 'joshua', 'imply', 'illusion', 'icy', 'henderson', 'helena', 'heavenly', 'heartless', 'harilal', 'grisly', 'grendel', 'grandparents', 'governments', 'gosh', 'gobr', 'gladiator', 'gi', 'fur', 'fulfilling', 'fulfill', 'friendsbr', 'forsythe', 'forbes', 'fleeting', 'fleeing', 'flamboyant', 'fighters', 'fetched', 'fastforward', 'farrah', 'fagin', 'exgirlfriend', 'encourages', 'electricity', 'elder', 'dunne', 'drain', 'doris', 'denver', 'defining', 'deborah', 'data', 'darius', 'daria', 'cynicism', 'cowrote', 'corbin', 'conflicted', 'comprised', 'cinematographic', 'christensen', 'chevy', 'chandler', 'censors', 'bs', 'brick', 'breakthrough', 'bloke', 'blackmail', 'bitchy', 'bing', 'barton', 'ballroom', 'baddie', 'backdrops', 'autobiography', 'attic', 'attendant', 'astonishingly', 'arnie', 'armor', 'appalled', 'anythingbr', 'anxiety', 'analyze', 'amoral', 'alcoholism', '700', '51', '1964', '1957', '150', 'zabriskie', 'wwi', 'wrath', 'worship', 'wolves', 'wee', 'virginity', 'violently', 'vibe', 'vaudeville', 'ursula', 'urgency', 'upbringing', 'unnerving', 'unlucky', 'unconscious', 'treating', 'tourists', 'tobe', 'throne', 'theo', 'terrorism', 'temporary', 'tasks', 'tango', 'tacked', 'tables', 'swords', 'supremacy', 'superiors', 'stumbling', 'stereotyping', 'steamy', 'sore', 'sibling', 'sheridan', 'shatner', 'shamelessly', 'seventh', 'semi', 'sammi', 'sack', 'rudd', 'rosenstrasse', 'rko', 'ridden', 'richly', 'replay', 'reno', 'relaxing', 'redgrave', 'recurring', 'recreation', 'ratio', 'ranger', 'quirks', 'prolonged', 'prejudices', 'pour', 'poke', 'placing', 'pistol', 'pertwee', 'penguin', 'peaks', 'payne', 'patriotic', 'passions', 'padded', 'overwhelmed', 'overused', 'overacts', 'observed', 'notions', 'neverending', 'needlessly', 'moonstruck', 'miyazakis', 'missions', 'meyers', 'mcdowell', 'mcdermott', 'marx', 'martino', 'mandatory', 'management', 'ma', 'liz', 'liar', 'levy', 'lesbians', 'leaps', 'largest', 'kornbluth', 'jolly', 'jerky', 'jam', 'iti', 'irresponsible', 'irresistible', 'interspersed', 'innuendo', 'inhabited', 'inducing', 'increasing', 'immigrants', 'imitating', 'illustrated', 'honey', 'hilton', 'herrings', 'helmet', 'heir', 'hector', 'hazzard', 'harbor', 'happier', 'hale', 'gusto', 'gravity', 'grady', 'girlbr', 'giggle', 'gays', 'gardens', 'flame', 'fitzgerald', 'fiasco', 'feared', 'farnsworth', 'expressing', 'expand', 'episodebr', 'enthralling', 'elisha', 'ecstasy', 'eastwoods', 'dwarf', 'dukakis', 'doses', 'dodge', 'dive', 'distinguished', 'disasters', 'dillon', 'diaz', 'destructive', 'denial', 'dangers', 'curtain', 'crass', 'countrys', 'counterpart', 'counted', 'coppola', 'continuous', 'confession', 'concentrated', 'compassionate', 'coal', 'clubs', 'climbs', 'climate', 'civilians', 'chop', 'cheung', 'cheat', 'castro', 'cassie', 'burden', 'bullies', 'brunette', 'brilliantbr', 'brennan', 'borderline', 'booker', 'bombed', 'bloodshed', 'bigfoot', 'benoit', 'believablebr', 'behaving', 'behaves', 'azumi', 'aztec', 'auteur', 'attributes', 'athletic', 'astronauts', 'assortment', 'associates', 'archer', 'antichrist', 'anonymous', 'annoyingly', 'aniston', 'alienation', 'alba', 'academic', '98', '27', 'yearning', 'y', 'worm', 'woke', 'whipped', 'whip', 'vulnerability', 'volumes', 'vienna', 'vets', 'versa', 'vera', 'vault', 'valerie', 'unemployed', 'truthful', 'traumatized', 'transformers', 'torch', 'thumb', 'thorn', 'swiss', 'stupidest', 'stripper', 'stretches', 'stalks', 'spitting', 'spinning', 'smarmy', 'sm', 'slew', 'skipping', 'sessions', 'sequelbr', 'segal', 'seal', 'screamed', 'scandal', 'sarne', 'saddest', 'rusty', 'rotting', 'roach', 'restless', 'relied', 'reincarnation', 'regrets', 'recipe', 'rapture', 'purse', 'pub', 'psychiatric', 'prophet', 'profile', 'princes', 'prices', 'pranks', 'practices', 'posh', 'pond', 'poet', 'percent', 'perceive', 'penis', 'penalty', 'paragraph', 'palestinian', 'outs', 'opponents', 'nutty', 'noam', 'nightbr', 'nerds', 'neglect', 'neeson', 'nailed', 'muted', 'montages', 'mindset', 'midway', 'midler', 'melt', 'mechanic', 'meanings', 'marathon', 'maiden', 'maguire', 'lubitsch', 'lowbrow', 'lin', 'lightly', 'lecture', 'lang', 'knack', 'keitel', 'joanna', 'izzard', 'itd', 'italians', 'irrational', 'intellect', 'inherited', 'incompetence', 'improvised', 'idiocy', 'hustler', 'hopeful', 'honeymoon', 'holland', 'hmmm', 'hesitate', 'guru', 'goofs', 'gimmicks', 'gannon', 'frenzy', 'footsteps', 'floriane', 'flipping', 'firsttime', 'finely', 'featurelength', 'farewell', 'fable', 'exwife', 'explanations', 'expanded', 'existential', 'enhances', 'embarrass', 'elmer', 'elevate', 'efficient', 'drugged', 'dopey', 'dogma', 'disdain', 'discernible', 'disappearing', 'dickinson', 'darling', 'dani', 'customs', 'custody', 'crowds', 'crenna', 'coverage', 'cortez', 'corky', 'contemplate', 'consisted', 'conquest', 'confronting', 'concludes', 'concentrates', 'compositions', 'companions', 'collecting', 'cocktail', 'coaster', 'classicbr', 'chocolate', 'celine', 'caution', 'casually', 'casebr', 'camps', 'bursts', 'buildup', 'btk', 'bothering', 'bonding', 'bishop', 'billion', 'beth', 'bald', 'awfulness', 'aweigh', 'astronaut', 'architecture', 'approximately', 'alienate', 'agobr', 'afghanistan', 'adequately', '48', '250', 'zealand', 'wits', 'wisecracking', 'wipe', 'wills', 'welcomed', 'weaver', 'walters', 'waits', 'viggo', 'victorias', 'versatile', 'vengeful', 'undeveloped', 'uncredited', 'toss', 'throats', 'themselvesbr', 'thatll', 'thankful', 'tested', 'tensions', 'tenants', 'teddy', 'suspended', 'surpasses', 'supporters', 'suggestive', 'subtleties', 'submit', 'strikingly', 'stoic', 'stepped', 'stature', 'squeeze', 'spielbergs', 'spectacularly', 'sparse', 'snippets', 'snappy', 'smarter', 'slows', 'slipped', 'sleuth', 'shootings', 'shaolin', 'shakespearean', 'rushes', 'rugged', 'rizzo', 'ripoffs', 'rightfully', 'rico', 'revive', 'rests', 'rehearsal', 'regal', 'regain', 'rebecca', 'rack', 'proverbial', 'profit', 'productionbr', 'prevented', 'prevalent', 'preteen', 'premises', 'postmodern', 'plants', 'planted', 'performancesbr', 'pauses', 'passenger', 'partial', 'pam', 'outrage', 'oppressive', 'oddball', 'norton', 'nineties', 'naval', 'murphys', 'mourning', 'mostel', 'monstrous', 'mold', 'micheal', 'metropolis', 'melinda', 'maverick', 'marred', 'lyrical', 'luzhin', 'lung', 'lucio', 'lovingly', 'loop', 'looney', 'locales', 'listing', 'limbs', 'lange', 'kramer', 'kiddie', 'kerr', 'keeler', 'kaufman', 'kamal', 'jock', 'january', 'it´s', 'islam', 'irs', 'insignificant', 'insects', 'insanely', 'impeccable', 'immersed', 'illiterate', 'hug', 'horn', 'hitchhiker', 'hilariousbr', 'healing', 'harrys', 'harlem', 'guided', 'graves', 'grain', 'goodnatured', 'goers', 'garnered', 'garcia', 'gage', 'fulllength', 'fugitive', 'friendships', 'flip', 'fatherson', 'fanatics', 'examined', 'everybodys', 'empathize', 'elliot', 'ella', 'eliminate', 'dyke', 'dusty', 'duryea', 'durbin', 'dreadfully', 'downtown', 'documents', 'discussions', 'diabolical', 'dental', 'democracy', 'delve', 'december', 'deathstalker', 'daphne', 'daisies', 'cruella', 'creeps', 'cowriter', 'corridors', 'converted', 'continent', 'connor', 'conduct', 'condescending', 'conclusionbr', 'conception', 'compromise', 'comebr', 'collar', 'coleman', 'cocky', 'citys', 'cillian', 'choke', 'chock', 'chewing', 'chapters', 'carole', 'capt', 'candidates', 'callahan', 'bury', 'bucket', 'brink', 'branch', 'braindead', 'bombing', 'bolivia', 'betrays', 'believer', 'bearable', 'bash', 'barbarian', 'balloon', 'backwoods', 'babysitter', 'atomic', 'association', 'assist', 'ash', 'architect', 'apprentice', 'apologize', 'apartheid', 'alternately', 'allison', 'albums', 'ahmad', 'adventurous', 'adopt', 'acknowledged', '400', '2009', '1949', '1938', '1931', '18th', 'woven', 'wondrous', 'witless', 'willem', 'wheels', 'welch', 'weirdo', 'voiceovers', 'villagers', 'variations', 'vanishing', 'untrue', 'unrated', 'universally', 'unimpressive', 'undertaker', 'unborn', 'tucker', 'truebr', 'til', 'throughoutbr', 'thinner', 'tepid', 'telly', 'tedium', 'switzerland', 'swamp', 'surrogate', 'surfers', 'stubborn', 'stripped', 'straw', 'strangest', 'stir', 'stimulating', 'spectrum', 'soulless', 'sorvino', 'societies', 'snatch', 'smoothly', 'smitten', 'sloane', 'siege', 'shouts', 'shinae', 'shack', 'sentenced', 'seinfeld', 'sciencefiction', 'satellite', 'sans', 'sacrificed', 'rollercoaster', 'rohmer', 'rigid', 'revelations', 'retain', 'requisite', 'render', 'recalls', 'ranging', 'rainer', 'psychologically', 'presumed', 'prehistoric', 'practicing', 'plotted', 'platoon', 'pita', 'philadelphia', 'pavarotti', 'pauls', 'paperhouse', 'palette', 'overt', 'overseas', 'outtakes', 'outta', 'oriental', 'obscene', 'nuance', 'november', 'norwegian', 'norma', 'mutated', 'mpaa', 'morgana', 'mocking', 'misplaced', 'mischievous', 'mining', 'millennium', 'menbr', 'matching', 'marquis', 'malcolm', 'mac', 'lotr', 'locks', 'll', 'lizard', 'livesbr', 'lineup', 'lieutenant', 'layered', 'lamas', 'kinky', 'kindness', 'kentucky', 'jessie', 'janitor', 'irwin', 'intruder', 'intestines', 'interpreted', 'insulted', 'insteadbr', 'illustrates', 'hurting', 'hungarian', 'hoods', 'honorable', 'hogan', 'hockey', 'hispanic', 'hisher', 'heroin', 'hedy', 'hating', 'harmony', 'hardest', 'haired', 'guevara', 'grumpy', 'grips', 'greta', 'granger', 'gesture', 'gen', 'gamut', 'gamebr', 'gaining', 'futurebr', 'forgivable', 'floors', 'flee', 'fireworks', 'fatherbr', 'exposing', 'exhibit', 'evolved', 'equals', 'eponymous', 'episodic', 'entertainer', 'edits', 'dw', 'duties', 'duff', 'dominick', 'distributors', 'disgruntled', 'directorbr', 'directionbr', 'dimwitted', 'desolate', 'dense', 'denied', 'darkest', 'culkin', 'crow', 'criminally', 'connolly', 'connecting', 'confirm', 'comicbook', 'cloud', 'classified', 'chore', 'cheaper', 'celebrating', 'cbc', 'cathy', 'casted', 'carson', 'caroline', 'carnival', 'carlito', 'carface', 'careerbr', 'bryan', 'bets', 'benson', 'batwoman', 'basil', 'barker', 'backyard', 'assassins', 'anyonebr', 'andersons', 'anchor', 'amok', 'allegedly', 'admirably', 'administration', 'adapting', 'achieving', '510', '500', 'zatoichi', 'yetbr', 'wicker', 'weaves', 'wb', 'voting', 'voters', 'vivah', 'usage', 'unsuccessful', 'unnamed', 'unfinished', 'unfairly', 'undertones', 'underdog', 'twodimensional', 'transform', 'transferred', 'transcends', 'tigerland', 'texture', 'textbook', 'terriblebr', 'teds', 'tearjerker', 'tasteful', 'talentless', 'swift', 'swat', 'supplies', 'streisands', 'streak', 'stills', 'stealth', 'spreading', 'spears', 'spaces', 'soles', 'societal', 'smalltown', 'smallest', 'slug', 'skywalker', 'skimpy', 'singin', 'shrink', 'shakes', 'shadowy', 'seriouslybr', 'secluded', 'schemes', 'sacred', 'rumors', 'rewatch', 'retrospect', 'rerun', 'request', 'redeemed', 'rabid', 'puzzling', 'pursues', 'prototype', 'prevents', 'preserved', 'positions', 'poppins', 'polite', 'pokes', 'plantation', 'phyllis', 'pets', 'patch', 'participation', 'owning', 'ounce', 'otoole', 'osullivan', 'orphanage', 'orgy', 'organs', 'operas', 'onesided', 'olympic', 'napoleon', 'motif', 'monumental', 'monstrosity', 'monastery', 'mj', 'miracles', 'michel', 'mastroianni', 'marvellous', 'marlene', 'mamet', 'lombard', 'logo', 'liza', 'leno', 'leia', 'lap', 'lambs', 'kisses', 'kingsley', 'jew', 'jed', 'jackass', 'itchy', 'interpret', 'integrated', 'instruments', 'insisted', 'indulge', 'inch', 'inc', 'imdbs', 'hosts', 'holidays', 'historians', 'hiring', 'hi', 'hawaii', 'hardships', 'handy']\n"
          ]
        }
      ],
      "source": [
        "# sorted by frequency\n",
        "print(encoder.get_vocabulary())"
      ]
    },
    {
      "cell_type": "code",
      "execution_count": null,
      "metadata": {
        "colab": {
          "base_uri": "https://localhost:8080/"
        },
        "id": "vDZC6eKGAjdx",
        "outputId": "ae6e8c96-e866-4d47-8915-7044afc4f659"
      },
      "outputs": [
        {
          "output_type": "execute_result",
          "data": {
            "text/plain": [
              "<tf.Tensor: shape=(10000,), dtype=float32, numpy=array([1., 0., 0., ..., 0., 0., 0.], dtype=float32)>"
            ]
          },
          "metadata": {},
          "execution_count": 13
        }
      ],
      "source": [
        "text = \"Hallo Welt\"\n",
        "encoder(text)"
      ]
    },
    {
      "cell_type": "code",
      "execution_count": null,
      "metadata": {
        "id": "s1ZFxXuVBzIQ"
      },
      "outputs": [],
      "source": [
        "# Not everything in encoder-vocabulary\n",
        "#assert \"Welt\" in encoder.get_vocabulary()"
      ]
    },
    {
      "cell_type": "code",
      "execution_count": null,
      "metadata": {
        "id": "Imv1luyrCTWp"
      },
      "outputs": [],
      "source": [
        "# Store training in cache for higher speed\n",
        "dataset_train = dataset_train_original.cache()\n",
        "dataset_train = dataset_train.shuffle(25_000)\n",
        "# Parallelize for speed and smooth gradients\n",
        "dataset_train = dataset_train.batch(128)\n",
        "\n",
        "dataset_validate = dataset_validate_original.cache()\n",
        "dataset_validate = dataset_validate.batch(128)"
      ]
    },
    {
      "cell_type": "code",
      "execution_count": null,
      "metadata": {
        "id": "9OTZgj33EK3R"
      },
      "outputs": [],
      "source": [
        "dataset_test = dataset_test_original.cache()\n",
        "dataset_test = dataset_test.batch(128)"
      ]
    },
    {
      "cell_type": "code",
      "execution_count": null,
      "metadata": {
        "colab": {
          "base_uri": "https://localhost:8080/"
        },
        "id": "TJTmjjhNEcGc",
        "outputId": "c9b0303d-0f21-4f37-8c51-a05ea03b82e6"
      },
      "outputs": [
        {
          "output_type": "stream",
          "name": "stdout",
          "text": [
            "Model: \"sequential\"\n",
            "_________________________________________________________________\n",
            " Layer (type)                Output Shape              Param #   \n",
            "=================================================================\n",
            " text_vectorization (TextVe  (None, 10000)             0         \n",
            " ctorization)                                                    \n",
            "                                                                 \n",
            " dense (Dense)               (None, 64)                640064    \n",
            "                                                                 \n",
            " dropout (Dropout)           (None, 64)                0         \n",
            "                                                                 \n",
            " dense_1 (Dense)             (None, 1)                 65        \n",
            "                                                                 \n",
            "=================================================================\n",
            "Total params: 640129 (2.44 MB)\n",
            "Trainable params: 640129 (2.44 MB)\n",
            "Non-trainable params: 0 (0.00 Byte)\n",
            "_________________________________________________________________\n"
          ]
        }
      ],
      "source": [
        "model = models.Sequential()\n",
        "model.add(encoder)\n",
        "model.add(layers.Dense(64, activation=\"relu\"))\n",
        "# Dropout Layer added for lower overfitting\n",
        "model.add(layers.Dropout(0.1))\n",
        "# Binary categorization\n",
        "model.add(layers.Dense(1, activation=\"sigmoid\"))\n",
        "model.summary()"
      ]
    },
    {
      "cell_type": "code",
      "execution_count": null,
      "metadata": {
        "colab": {
          "base_uri": "https://localhost:8080/"
        },
        "id": "teaOIvXjEmPy",
        "outputId": "55383473-3711-434a-e4ac-89b97540abca"
      },
      "outputs": [
        {
          "output_type": "stream",
          "name": "stdout",
          "text": [
            "1/1 [==============================] - 3s 3s/step\n"
          ]
        },
        {
          "output_type": "execute_result",
          "data": {
            "text/plain": [
              "array([[0.5090092]], dtype=float32)"
            ]
          },
          "metadata": {},
          "execution_count": 18
        }
      ],
      "source": [
        "model.predict([\"Lord of the rings is a triology about people hiking and I love that.\"])"
      ]
    },
    {
      "cell_type": "code",
      "execution_count": null,
      "metadata": {
        "id": "cgOt4KbmHVrD"
      },
      "outputs": [],
      "source": [
        "model.compile(\n",
        "    optimizer=tf.keras.optimizers.Adam(), # alt simply only \"adam\", but then setting of learning rate not right here\n",
        "    # loss function for binary classification\n",
        "    loss=\"binary_crossentropy\",\n",
        "    metrics=[\"accuracy\"]\n",
        ")"
      ]
    },
    {
      "cell_type": "code",
      "execution_count": null,
      "metadata": {
        "colab": {
          "base_uri": "https://localhost:8080/"
        },
        "id": "Lh5DlGL7IkRM",
        "outputId": "a9e34e2e-040b-4a0a-898f-8cde31ec771d"
      },
      "outputs": [
        {
          "output_type": "stream",
          "name": "stdout",
          "text": [
            "98/98 [==============================] - 4s 39ms/step - loss: 0.6924 - accuracy: 0.5132\n",
            "Loss: 0.6923984885215759 Accuracy: 0.5131999850273132\n"
          ]
        }
      ],
      "source": [
        "loss, accuracy = model.evaluate(dataset_test)\n",
        "print(f\"Loss: {loss} Accuracy: {accuracy}\")"
      ]
    },
    {
      "cell_type": "code",
      "execution_count": null,
      "metadata": {
        "colab": {
          "base_uri": "https://localhost:8080/"
        },
        "id": "wOWcoL0bNuBZ",
        "outputId": "9ff9eb7c-1a87-4512-bd6c-a537ae226c9d"
      },
      "outputs": [
        {
          "output_type": "stream",
          "name": "stdout",
          "text": [
            "Epoch 1/10\n",
            "196/196 [==============================] - 7s 25ms/step - loss: 0.3418 - accuracy: 0.8600 - val_loss: 0.2851 - val_accuracy: 0.8822\n",
            "Epoch 2/10\n",
            "196/196 [==============================] - 3s 16ms/step - loss: 0.1918 - accuracy: 0.9272 - val_loss: 0.3050 - val_accuracy: 0.8766\n",
            "Epoch 3/10\n",
            "196/196 [==============================] - 4s 21ms/step - loss: 0.1389 - accuracy: 0.9498 - val_loss: 0.3337 - val_accuracy: 0.8736\n",
            "Epoch 4/10\n",
            "196/196 [==============================] - 4s 19ms/step - loss: 0.1012 - accuracy: 0.9642 - val_loss: 0.3672 - val_accuracy: 0.8685\n",
            "Epoch 5/10\n",
            "196/196 [==============================] - 3s 15ms/step - loss: 0.0706 - accuracy: 0.9775 - val_loss: 0.4188 - val_accuracy: 0.8635\n",
            "Epoch 6/10\n",
            "196/196 [==============================] - 4s 18ms/step - loss: 0.0489 - accuracy: 0.9864 - val_loss: 0.4838 - val_accuracy: 0.8630\n",
            "Epoch 7/10\n",
            "196/196 [==============================] - 4s 21ms/step - loss: 0.0305 - accuracy: 0.9937 - val_loss: 0.5236 - val_accuracy: 0.8635\n",
            "Epoch 8/10\n",
            "196/196 [==============================] - 3s 15ms/step - loss: 0.0216 - accuracy: 0.9967 - val_loss: 0.5940 - val_accuracy: 0.8602\n",
            "Epoch 9/10\n",
            "196/196 [==============================] - 3s 15ms/step - loss: 0.0135 - accuracy: 0.9988 - val_loss: 0.6253 - val_accuracy: 0.8617\n",
            "Epoch 10/10\n",
            "196/196 [==============================] - 6s 30ms/step - loss: 0.0091 - accuracy: 0.9994 - val_loss: 0.6792 - val_accuracy: 0.8599\n"
          ]
        }
      ],
      "source": [
        "history = model.fit(\n",
        "    dataset_train,\n",
        "    epochs=10,\n",
        "    validation_data=dataset_validate\n",
        ")\n",
        "# 196 = batches\n",
        "# accuracy going up, loss (cross entropy) going down.\n",
        "# However, same on validation going the other way\n",
        "# --> Overfitting!"
      ]
    },
    {
      "cell_type": "code",
      "execution_count": null,
      "metadata": {
        "colab": {
          "base_uri": "https://localhost:8080/",
          "height": 843
        },
        "id": "3VmPBwR2PX3a",
        "outputId": "c1854e51-b89f-4a79-e780-2190fec3ff0b"
      },
      "outputs": [
        {
          "output_type": "display_data",
          "data": {
            "text/plain": [
              "<Figure size 640x480 with 1 Axes>"
            ],
            "image/png": "[encoded data removed]"
          },
          "metadata": {}
        },
        {
          "output_type": "display_data",
          "data": {
            "text/plain": [
              "<Figure size 640x480 with 1 Axes>"
            ],
            "image/png": "[encoded data removed]"
          },
          "metadata": {}
        }
      ],
      "source": [
        "def render_history(history):\n",
        "  #print(history.history\n",
        "  plt.plot(history.history[\"loss\"], label=\"loss\")\n",
        "  plt.plot(history.history[\"val_loss\"], label=\"val_loss\")\n",
        "  plt.legend()\n",
        "  plt.show()\n",
        "\n",
        "  plt.plot(history.history[\"accuracy\"], label=\"accuracy\")\n",
        "  plt.plot(history.history[\"val_accuracy\"], label=\"val_accuracy\")\n",
        "  plt.legend()\n",
        "  plt.show()\n",
        "\n",
        "\n",
        "render_history(history)"
      ]
    },
    {
      "cell_type": "code",
      "execution_count": null,
      "metadata": {
        "colab": {
          "base_uri": "https://localhost:8080/"
        },
        "id": "bssif2ANQhkC",
        "outputId": "64ec9657-62af-4a8c-d0e5-9fb072ed34da"
      },
      "outputs": [
        {
          "output_type": "stream",
          "name": "stdout",
          "text": [
            "1/1 [==============================] - 0s 297ms/step\n"
          ]
        },
        {
          "output_type": "execute_result",
          "data": {
            "text/plain": [
              "array([[0.7297786]], dtype=float32)"
            ]
          },
          "metadata": {},
          "execution_count": 23
        }
      ],
      "source": [
        "model.predict([\"Lord of the rings is a triology about people hiking and I love that.\"])"
      ]
    },
    {
      "cell_type": "markdown",
      "source": [
        "#Word embeddings"
      ],
      "metadata": {
        "id": "wg3ldQ3BNLe6"
      }
    },
    {
      "cell_type": "code",
      "source": [
        "vocabulary_size = 10_000\n",
        "sequence_length = 128\n",
        "\n",
        "encoder = layers.TextVectorization(\n",
        "    max_tokens=vocabulary_size,\n",
        "    output_sequence_length=sequence_length,\n",
        "    standardize=\"lower_and_strip_punctuation\",\n",
        "    split=\"whitespace\",\n",
        "    output_mode=\"int\"\n",
        ")\n",
        "encoder.adapt(dataset_train_original.map(lambda text, _: text).batch(2048))"
      ],
      "metadata": {
        "id": "UA_LpdMBNMvZ"
      },
      "execution_count": null,
      "outputs": []
    },
    {
      "cell_type": "code",
      "source": [
        "print(encoder.get_vocabulary())\n",
        "# [UNK] = unknown. All the words that are cut off (because of vocabulary size do not fit in it), are summed up into the token \"unknown\""
      ],
      "metadata": {
        "colab": {
          "base_uri": "https://localhost:8080/"
        },
        "id": "VYq6nM5xQCpz",
        "outputId": "b2d84319-7dc7-4848-b85c-7d046d870e67"
      },
      "execution_count": null,
      "outputs": [
        {
          "output_type": "stream",
          "name": "stdout",
          "text": [
            "['', '[UNK]', 'the', 'and', 'a', 'of', 'to', 'is', 'in', 'it', 'i', 'this', 'that', 'br', 'was', 'as', 'for', 'with', 'movie', 'but', 'film', 'on', 'not', 'you', 'are', 'his', 'have', 'he', 'be', 'one', 'its', 'at', 'all', 'by', 'an', 'they', 'from', 'who', 'so', 'like', 'her', 'just', 'or', 'about', 'has', 'if', 'out', 'some', 'there', 'what', 'good', 'when', 'more', 'very', 'even', 'she', 'my', 'no', 'up', 'would', 'which', 'only', 'time', 'really', 'story', 'their', 'were', 'had', 'see', 'can', 'me', 'than', 'we', 'much', 'well', 'been', 'get', 'will', 'into', 'also', 'because', 'other', 'do', 'people', 'bad', 'great', 'first', 'how', 'most', 'him', 'dont', 'made', 'then', 'movies', 'make', 'films', 'could', 'way', 'them', 'any', 'too', 'after', 'characters', 'think', 'watch', 'two', 'many', 'being', 'seen', 'character', 'never', 'little', 'acting', 'where', 'plot', 'best', 'love', 'did', 'know', 'life', 'show', 'does', 'ever', 'your', 'still', 'better', 'over', 'off', 'these', 'end', 'say', 'while', 'here', 'man', 'why', 'scene', 'such', 'scenes', 'go', 'should', 'something', 'through', 'im', 'back', 'those', 'doesnt', 'real', 'watching', 'years', 'though', 'now', 'thing', 'actors', 'didnt', 'another', 'new', 'before', 'actually', 'nothing', 'makes', 'find', 'work', 'funny', 'look', 'few', 'old', 'going', 'same', 'every', 'lot', 'us', 'part', 'director', 'again', 'thats', 'cant', 'quite', 'cast', 'want', 'pretty', 'things', 'seems', 'young', 'got', 'around', 'fact', 'however', 'down', 'world', 'take', 'enough', 'both', 'give', 'between', 'may', 'ive', 'big', 'horror', 'original', 'thought', 'own', 'without', 'gets', 'always', 'series', 'right', 'long', 'isnt', 'saw', 'come', 'almost', 'times', 'least', 'theres', 'role', 'point', 'action', 'must', 'interesting', 'whole', 'comedy', 'bit', 'family', 'music', 'done', 'script', 'last', 'might', 'hes', 'anything', 'guy', 'since', 'feel', 'minutes', 'far', 'probably', 'performance', 'am', 'kind', 'rather', 'worst', 'yet', 'away', 'sure', 'tv', 'making', 'woman', 'girl', 'each', 'found', 'fun', 'played', 'having', 'anyone', 'our', 'although', 'believe', 'comes', 'trying', 'course', 'especially', 'goes', 'day', 'looks', 'hard', 'shows', 'put', 'different', 'wasnt', 'place', 'maybe', 'book', 'once', 'set', 'main', 'reason', 'money', 'worth', 'sense', 'everything', 'looking', 'true', 'ending', 'someone', 'watched', 'plays', 'job', '2', 'actor', 'seem', 'three', 'said', 'takes', 'screen', 'dvd', 'together', 'play', 'instead', 'john', 'during', 'beautiful', 'later', '10', 'effects', 'himself', 'everyone', 'version', 'left', 'seeing', 'special', 'audience', 'night', 'excellent', 'house', 'american', 'idea', 'simply', 'nice', 'wife', 'shot', 'youre', 'read', 'high', 'black', 'less', 'completely', 'second', 'kids', 'help', 'else', 'poor', 'fan', 'war', 'star', 'used', 'given', 'year', 'try', 'father', 'death', 'friends', 'need', 'use', 'rest', 'enjoy', 'home', 'men', 'performances', 'short', 'mind', 'classic', 'until', 'either', 'truly', 'along', 'hollywood', 'boring', 'half', 'dead', 'wrong', 'tell', 'production', 'women', 'line', 'remember', 'couple', 'came', 'next', 'recommend', 'start', 'perhaps', 'full', 'let', 'understand', 'wonderful', 'stupid', 'getting', 'others', 'mean', 'moments', 'playing', 'awful', 'keep', 'episode', 'terrible', 'camera', 'small', 'definitely', 'gives', 'often', 'stars', 'doing', 'sex', 'video', 'early', 'perfect', 'become', 'finally', 'name', 'felt', 'school', 'human', 'supposed', 'face', 'couldnt', 'liked', 'lines', 'dialogue', 'piece', 'person', 'itself', 'lost', 'absolutely', 'top', 'yes', 'case', 'against', 'entire', 'went', 'certainly', 'written', 'live', 'title', 'waste', 'shes', 'sort', 'head', 'budget', 'hope', 'problem', 'style', 'several', 'overall', 'picture', 'loved', 'evil', 'mr', 'worse', 'id', 'fans', 'becomes', 'entertaining', '3', 'cinema', 'boy', 'beginning', 'seemed', 'white', 'based', 'already', 'despite', 'care', 'oh', 'wanted', 'example', 'dark', '\\x96', 'lives', 'guys', 'unfortunately', 'killer', 'throughout', 'mother', 'direction', 'final', 'friend', 'turn', 'totally', 'fine', 'wont', '1', 'wants', 'children', 'amazing', 'sound', 'laugh', 'girls', 'drama', 'youll', 'guess', 'lead', 'tries', 'low', 'called', 'humor', 'writing', 'under', 'michael', 'works', 'history', 'turns', 'able', 'enjoyed', 'theyre', 'behind', 'past', 'quality', 'days', 'gave', 'favorite', 'starts', 'son', 'kill', 'game', 'act', 'sometimes', 'side', 'viewer', 'town', 'horrible', 'parts', 'car', 'actress', 'soon', 'child', 'ones', 'eyes', 'expect', 'obviously', 'flick', 'themselves', 'directed', 'thinking', 'heart', 'art', 'brilliant', 'stories', 'ill', 'decent', 'highly', 'run', 'feeling', 'myself', 'genre', 'late', 'blood', 'stuff', 'fight', 'says', 'close', 'took', 'city', 'except', 'cannot', 'heard', 'hand', 'leave', 'killed', 'kid', 'matter', 'police', 'hell', 'moment', 'wouldnt', 'extremely', 'strong', 'roles', 'happens', 'particularly', 'lack', 'hour', 'involved', 'happened', 'obvious', 'attempt', 'james', 'told', 'living', 'chance', 'violence', 'wonder', 'including', 'etc', 'complete', 'save', 'voice', 'coming', 'murder', 'anyway', 'group', 'daughter', 'looked', 'age', 'please', 'type', 'itbr', 'alone', 'experience', 'simple', 'none', 'god', 'number', 'score', 'exactly', 'slow', 'shown', 'happen', 'ok', 'ago', 'lets', 'interest', 'whose', 'taken', 'brother', 'usually', 'serious', 'david', 'across', 'stop', 'cinematography', 'somewhat', 'running', 'hours', 'annoying', 'sad', 'opening', 'song', 'known', 'ends', 'musical', 'usual', 'possible', 'finds', 'career', 'wish', 'hit', 'yourself', 'released', 'started', 'huge', 'gore', 'relationship', 'seriously', 'scary', 'jokes', 'change', 'saying', 'order', 'crap', 'mostly', 'shots', 'reality', 'ridiculous', 'cut', 'today', 'robert', 'english', 'taking', 'major', 'episodes', 'hilarious', 'novel', 'cool', 'female', 'body', 'talking', 'opinion', '4', 'call', 'apparently', 'directors', 'strange', 'due', 'basically', '5', 'important', 'hero', 'supporting', 'clearly', 'power', 'knows', 'documentary', 'knew', 'happy', 'events', 'view', 'turned', 'husband', 'songs', 'talent', 'level', 'arent', 'king', 'british', 'room', 'easily', 'tells', 'single', 'local', 'rating', 'attention', 'word', 'moviebr', 'bring', 'words', 'problems', 'cheap', 'whats', 'modern', 'silly', 'television', 'beyond', 'sequence', 'whether', 'disappointed', 'light', 'jack', 'falls', 'sets', 'four', 'future', 'five', 'similar', 'paul', 'miss', 'country', 'needs', 'appears', 'romantic', 'giving', 'upon', 'earth', 'viewers', 'comic', 'richard', 'predictable', 'george', 'talk', 'entertainment', 'within', 'review', 'havent', 'feels', 'nearly', 'mention', 'message', 'enjoyable', 'animation', 'bunch', 'filmbr', 'theater', 'lots', 'lady', 'storyline', 'rock', 'add', 'actual', 'using', 'moving', 'points', 'above', 'middle', 'surprised', 'named', 'theme', 'mystery', 'herself', 'ten', 'dull', 'among', 'begins', 'comments', 'writer', 'ways', 'typical', 'fantastic', 'stay', 'showing', 'sequel', 'york', 'elements', 'easy', 'certain', 'thriller', 'team', 'tried', 'fall', 'effort', 'clear', 'near', 'avoid', 'release', 'hate', 'french', 'tale', 'famous', 'sorry', 'somehow', 'parents', 'means', 'straight', 'leads', 'peter', 'red', 'kept', 'working', 'buy', 'greatest', 'dialog', 'doubt', 'soundtrack', 'form', 'class', 'season', 'editing', 'sister', 'general', 'brought', 'weak', 'tom', 'filmed', 'figure', 'feature', 'oscar', 'hear', 'gone', 'whos', 'particular', 'material', 'check', 'viewing', 'learn', 'realistic', 'imagine', 'eventually', 'youve', 'eye', 'move', 'fast', 'atmosphere', 'reviews', 'decided', 'sequences', 'possibly', 'period', 'forget', 'lame', 'deal', 'third', 'premise', 'lee', 'follow', 'de', 'became', 'space', 'dance', 'wait', 'stand', 'indeed', 'japanese', 'zombie', 'sit', 'difficult', 'poorly', 'sexual', 'expected', 'die', 'whatever', 'writers', 'surprise', 'nor', 'crime', 'nature', 'rent', 'average', '80s', 'suspense', 'leaves', 'subject', 'okay', 'stage', 'killing', 'truth', 'believable', 'screenplay', 'needed', 'filmmakers', 'reading', 'note', 'meets', 'meet', 'dr', 'question', 'begin', 'boys', 'joe', 'romance', 'street', 'realize', 'forced', 'otherwise', 'emotional', 'memorable', 'unless', 'write', 'superb', 'shame', 'older', 'minute', 'interested', 'earlier', 'keeps', 'baby', 'weird', 'situation', 'disney', 'whom', 'footage', 'features', 'dramatic', 'credits', 'beauty', 'towards', 'dog', 'badly', 'ask', 'total', 'previous', 'hot', 'sounds', 'crazy', 'brings', 'comment', 'male', 'plenty', 'personal', 'worked', 'incredibly', 'plus', 'directing', 'society', 'quickly', 'perfectly', 'cheesy', 'admit', 'result', 'unique', 'deep', 'return', 'america', 'laughs', 'free', 'creepy', 'development', 'leading', 'appear', 'meant', 'hardly', 'open', 'brothers', '20', 'imdb', 'hands', 'b', 'apart', 'mark', 'various', 'casting', 'remake', 'effect', 'create', 'setting', 'christmas', 'potential', 'mess', 'bill', 'battle', 'background', 'scifi', 'monster', 'forward', 'powerful', 'portrayed', 'dream', 'inside', 'outside', '70s', 'fairly', 'business', 'la', 'manages', 'ideas', 'expecting', 'jane', 'fails', 'deserves', 'present', 'political', 'missing', 'attempts', 'twist', 'secret', 'fire', 'dumb', 'unlike', 'fighting', 'fantasy', 'pay', 'air', 'joke', 'gay', 'ben', 'william', 'recently', 'rich', 'front', 'nudity', 'married', 'further', 'masterpiece', 'reasons', 'copy', 'match', 'box', 'sadly', 'agree', 'acted', 'break', 'telling', 'talented', 'plain', 'western', 'success', 'cute', 'pure', 'villain', 'missed', 'incredible', 'odd', 'girlfriend', 'doctor', 'crew', 'following', 'caught', 'decides', 'cop', 'social', 'large', 'considering', 'waiting', 'sees', 'mentioned', 'members', 'uses', 'flat', 'popular', 'hold', 'ended', 'slightly', 'wasted', 'public', 'suddenly', 'pace', 'neither', 'compared', 'wrote', 'sweet', 'spent', 'kills', 'entirely', 'rate', 'intelligent', 'created', 'familiar', 'office', 'audiences', 'ultimately', 'cause', 'tension', 'scott', 'convincing', 'clever', 'bored', 'visual', 'party', 'escape', 'era', 'moves', 'cartoon', 'basic', 'credit', 'biggest', 'mary', 'list', 'revenge', 'laughing', 'fear', 'successful', 'recent', 'consider', 'spirit', 'island', 'trouble', 'spend', 'violent', 'positive', 'gun', 'choice', 'dancing', 'cover', 'books', 'appreciate', 'zombies', 'water', 'speak', 'science', 'former', 'died', 'cold', 'singing', 'filled', 'concept', 'younger', 'portrayal', '12', 'produced', 'value', 'solid', 'adult', 'state', 'exciting', 'common', 'bizarre', '8', 'werent', 'amount', 'walk', 'focus', 'animated', 'showed', 'language', 'effective', 'band', 'amusing', 'german', 'italian', 'producers', 'fit', 'follows', '7', 'van', 'runs', 'considered', 'impressive', 'impossible', 'decide', 'chemistry', 'cat', 'tone', 'won', 'pointless', 'company', '15', 'store', 'depth', 'barely', 'win', 'somewhere', 'control', 'studio', 'situations', 'prison', 'mad', 'sick', 'leaving', 'college', 'project', 'respect', 'force', 'changed', 'recommended', 'hair', 'surprisingly', 'aside', 'tony', 'starring', 'awesome', 'trip', 'century', 'longer', 'likes', 'generally', 'failed', 'shooting', 'planet', 'charming', 'slasher', 'involving', 'questions', 'honest', 'trash', 'thanks', 'immediately', 'literally', 'images', 'disturbing', 'accent', 'steve', 'spoilers', '30', 'values', 'utterly', 'bought', 'south', 'ghost', 'fake', 'touch', 'pictures', 'magic', 'jim', 'natural', 'conclusion', 'west', 'glad', 'sitting', 'ability', 'pathetic', 'honestly', 'frank', 'aspect', 'adaptation', 'computer', 'adventure', 'explain', 'normal', 'fair', 'culture', 'appearance', 'stick', 'personally', 'cult', 'camp', 'knowing', 'alive', 'tough', 'added', 'remains', 'rare', 'dad', 'catch', 'thinks', 'meaning', 'yeah', 'detective', 'sam', 'appeal', 'silent', 'humour', 'army', 'genius', 'beautifully', 'terms', 'managed', 'attack', 'walking', 'thank', 'taste', 'sexy', 'military', 'equally', 'standard', 'soldiers', 'smith', 'garbage', 'twists', 'subtle', 'london', 'harry', 'dreams', 'loves', 'journey', 'comedies', '100', 'pick', 'nowhere', 'terrific', 'touching', 'purpose', 'naked', 'complex', 'woods', 'nobody', 'likely', 'wild', 'channel', 'surely', 'mood', 'lovely', 'excuse', 'plan', 'master', 'fully', 'thus', 'narrative', 'chase', 'road', 'contains', 'cinematic', 'themes', 'fiction', 'constantly', 'central', 'unbelievable', 'outstanding', 'issues', 'youd', 'week', 'slowly', 'self', 'brain', 'painful', 'innocent', 'chris', 'batman', 'thrown', 'presented', 'pass', 'disappointing', 'presence', 'historical', 'marriage', 'date', 'christopher', 'animals', 'stunning', 'mysterious', 'laughable', 'charles', 'impression', 'hoping', 'besides', 'shoot', 'places', 'minor', 'costumes', 'club', 'mistake', 'critics', 'bottom', 'stands', 'makers', 'edge', 'details', 'sent', 'photography', 'indian', 'stewart', 'soul', 'justice', 'charm', 'makeup', 'door', 'aspects', '9', 'ride', 'law', 'heavy', 'finish', 'brief', 'boss', 'vampire', 'mainly', 'government', 'exception', 'feelings', 'climax', 'throw', 'suppose', 'support', 'manner', 'festival', 'color', 'train', 'scenery', 'pieces', 'paris', 'opportunity', 'hey', 'gang', 'expectations', 'element', 'cry', 'names', 'loud', 'filming', 'charlie', 'acts', 'victims', 'rated', 'bother', 'track', 'puts', 'fascinating', '6', 'smart', 'serial', 'falling', 'changes', 'award', 'intended', 'emotions', 'drawn', 'available', 'tired', 'victim', 'suggest', 'henry', 'speaking', 'include', 'church', 'disappointment', 'blue', 'twice', 'hasnt', 'likable', 'emotion', 'confused', 'building', 'hotel', 'followed', 'wow', 'compelling', 'students', 'motion', 'green', 'giant', 'appeared', 'image', 'everybody', 'dies', 'developed', 'ahead', 'pain', 'mans', 'laughed', 'bruce', 'lacks', 'kelly', 'gorgeous', 'approach', 'share', 'impact', 'difference', 'supposedly', 'offer', 'million', 'hurt', 'forever', 'fellow', 'fresh', 'bed', 'wondering', 'trailer', 'moral', 'merely', 'proves', 'jerry', 'happening', 'confusing', 'shock', 'helps', 'funniest', 'finding', 'relationships', 'putting', 'notice', 'grade', 'drive', 'billy', 'bar', 'answer', 'adults', 'system', 'random', 'student', 'producer', 'mix', 'key', 'creative', 'spoiler', 'numbers', 'mediocre', 'delivers', 'christian', 'zero', 'opera', 'noir', 'murders', 'lighting', 'jones', 'damn', 'provides', 'born', 'paid', 'absolute', 'thoroughly', 'summer', 'timebr', 'negative', 'lived', 'drug', 'content', 'addition', 'seemingly', 'reminded', 'ms', 'impressed', 'fell', 'event', 'becoming', 'alien', 'tragedy', 'park', 'offers', 'land', 'gem', 'flying', 'flicks', 'childhood', 'boyfriend', 'lover', 'imagination', 'hospital', 'attractive', 'stuck', 'lose', 'williams', 'race', 'holes', 'flaws', 'extreme', 'al', 'tragic', 'ii', 'ugly', 'six', 'rented', 'page', 'nasty', 'hidden', 'arthur', 'americans', 'shouldnt', 'martin', 'held', 'agent', '90', 'spot', 'adds', 'standards', 'rape', 'intense', 'folks', 'alan', 'ray', 'pull', 'faces', 'detail', 'beat', 'asks', 'artistic', 'afraid', 'turning', 'therefore', 'seconds', 'filmmaker', 'super', 'step', 'porn', 'games', 'latter', 'industry', 'davis', 'collection', 'states', 'shocking', 'forgotten', 'favourite', 'describe', 'affair', 'picked', 'onto', 'angry', 'teenage', 'seven', 'redeeming', 'ready', 'led', 'brian', 'actresses', 'mom', 'dirty', 'design', 'count', 'deliver', 'area', 'wooden', 'soldier', 'information', 'compare', 'queen', 'carry', 'allowed', 'thin', 'struggle', 'lord', 'willing', 'stephen', 'news', 'inspired', 'includes', 'chinese', 'allen', 'personality', 'moved', 'location', 'jason', 'apartment', 'helped', 'ground', 'fashion', 'desperate', 'deeply', 'cliché', 'animal', 'wonderfully', 'martial', 'intelligence', 'bond', 'wars', 'quick', 'listen', 'castle', 'uncle', 'professional', 'member', 'grace', 'don', 'direct', 'criminal', 'trust', 'scientist', 'rarely', 'food', 'cops', 'captain', 'began', 'todays', 'creature', 'clothes', 'cgi', 'humans', 'worthy', 'phone', 'mental', 'introduced', 'double', 'wearing', 'theatre', 'necessary', 'independent', 'comedic', 'realized', 'plane', 'fox', 'anymore', 'allow', 'unusual', 'treat', 'technical', 'tears', 'superior', 'drugs', 'commentary', 'apparent', 'physical', 'energy', 'dying', 'wall', 'provide', 'tim', 'sky', 'ship', 'normally', 'epic', 'desire', 'continue', 'nightmare', 'danny', 'stone', 'sight', 'remarkable', 'mouth', 'douglas', 'arts', 'filmmaking', 'accident', 'scared', 'returns', 'powers', 'limited', 'station', 'ring', 'reminds', 'holds', 'heroes', 'bloody', 'accept', 'witch', 'suspect', 'search', 'pleasure', 'engaging', '60s', 'wedding', 'warning', 'surprising', 'intriguing', 'brutal', 'actions', 'wanting', 'teacher', 'machine', 'hated', 'build', 'according', 'whatsoever', 'russian', 'fred', 'disaster', 'asked', 'academy', 'unnecessary', 'sleep', 'skip', 'pacing', 'grand', 'clichés', 'johnny', 'finished', 'constant', 'vision', 'bits', 'andy', 'religious', 'nicely', 'joan', 'ie', 'extra', 'anybody', 'suicide', 'sat', 'process', 'originally', 'legend', 'heres', 'artist', 'passion', 'lies', 'growing', 'ed', 'absurd', 'roll', 'monsters', 'blame', 'anywhere', 'toward', 'suit', 'media', 'lovers', 'killers', 'joy', 'gotten', 'ladies', 'faith', 'explanation', 'dangerous', 'watchable', 'players', 'met', 'instance', 'eddie', 'deserve', 'unknown', 'memory', 'kevin', 'jeff', 'dick', 'winning', 'whilst', 'villains', 'somebody', 'quiet', 'higher', 'hadnt', 'torture', 'starting', 'smile', 'nick', 'capture', 'accurate', '40', 'pilot', 'jump', 'heads', 'cars', 'superman', 'hopes', 'heaven', 'creating', 'jr', 'guns', 'featuring', 'fail', 'exist', 'dressed', 'community', 'adam', 'river', 'responsible', 'teen', 'friendship', 'fights', 'worlds', 'vs', 'tarzan', 'saved', 'record', 'pulled', 'prince', 'england', 'moon', 'months', 'keeping', 'jesus', 'european', 'understanding', 'terribly', 'taylor', 'reviewers', 'lowbudget', 'jean', 'treated', 'mixed', 'manage', 'kinda', 'explained', 'whenever', 'radio', 'numerous', 'memories', 'knowledge', 'hits', 'finest', 'thembr', 'loving', 'judge', 'delightful', 'private', 'price', 'pop', 'player', 'peoples', 'officer', 'lacking', 'jackson', 'issue', 'gene', 'fat', '50', 'weve', 'unfunny', 'bland', 'vhs', 'sucks', 'psychological', 'prove', 'mike', 'forces', 'eat', 'discover', 'deserved', 'screaming', 'pretentious', 'loose', 'japan', 'horse', 'floor', 'witty', 'streets', 'sign', 'regular', 'ordinary', 'loss', 'included', 'field', 'spanish', 'opposite', 'heroine', 'empty', 'drunk', 'driving', 'broken', 'saving', 'portray', 'loses', 'humanity', 'dated', 'cage', 'cable', 'skills', 'opens', 'noticed', 'naturally', 'conflict', 'bright', 'cuts', 'c', 'bigger', 'aware', 'talents', 'locations', 'discovered', 'calls', 'breaks', 'wind', 'visually', 'partner', 'international', 'essentially', 'deals', 'dealing', 'continues', 'blonde', 'youth', 'werewolf', 'visit', 'theyve', 'soap', 'morning', 'jimmy', 'humorous', 'fate', 'captured', 'scream', 'morgan', 'mine', 'magnificent', 'length', 'golden', 'curious', 'ball', '1010', 'traditional', 'realism', 'plots', 'miles', 'kate', 'gold', 'gags', 'current', 'connection', 'concerned', 'shallow', 'results', 'received', 'occasionally', 'nonsense', 'genuine', 'debut', 'sing', 'sean', 'satire', 'rubbish', 'perspective', 'murdered', 'frankly', 'allows', 'advice', 'versions', 'genuinely', 'below', 'anthony', 'national', 'learned', 'gary', 'bob', 'washington', 'behavior', 'proved', 'mrs', 'lesson', 'kong', 'grew', 'blind', 'bank', '90s', '1950s', 'welles', 'stock', 'segment', 'santa', 'rob', 'revealed', 'mission', 'fathers', 'corny', 'context', 'vampires', 'underrated', 'unable', 'ultimate', 'sudden', 'sheer', 'keaton', 'cameo', 'visuals', 'unexpected', 'shop', 'meanwhile', 'formula', 'ford', 'favor', 'develop', 'albert', 'thisbr', 'steal', 'owner', 'jennifer', 'himbr', 'finale', 'survive', 'study', 'remembered', 'references', 'reach', 'luck', 'harris', 'efforts', 'ann', 'ages', 'window', 'village', 'singer', 'logic', 'identity', 'gonna', 'eric', 'decade', 'cross', 'brilliantly', 'sea', 'program', 'passed', 'ice', 'discovers', 'awkward', 'wise', 'utter', 'strength', 'spectacular', 'desert', 'crappy', 'steven', 'standing', 'majority', 'grant', 'gangster', 'dan', 'candy', 'types', 'stereotypes', 'sisters', 'sake', 'leader', 'flashbacks', 'existence', 'delivered', 'board', 'awards', 'creates', 'bet', 'robin', 'relate', 'reaction', 'ran', 'lucky', 'lake', 'insane', 'caused', 'trek', 'sucked', 'pair', 'painfully', 'meeting', 'gratuitous', 'graphic', 'foreign', 'dreadful', 'daughters', 'speed', 'relief', 'practically', 'pleasant', 'edited', 'devil', 'travel', 'fault', 'families', 'emotionally', 'boat', 'technology', 'nevertheless', 'endless', 'author', 'twenty', 'thomas', 'site', 'simon', 'reviewer', 'overly', 'native', 'decision', 'comparison', 'seasons', 'portrays', 'freedom', 'failure', 'described', 'combination', 'barbara', 'assume', 'anime', 'ancient', 'aka', 'test', 'rules', 'proper', 'president', 'feet', 'attitude', 'wide', 'vehicle', 'treatment', 'parody', 'hearing', 'brown', 'stopped', 'sell', 'range', 'portraying', 'howard', 'foot', 'eating', 'choose', 'buddy', 'bear', 'asking', 'uk', 'marry', 'luke', 'learns', 'laughter', 'hitler', 'halloween', 'executed', 'drew', 'chosen', 'capable', 'believes', 'tape', 'lynch', 'largely', 'involves', 'gory', 'fill', 'excited', 'evening', 'daniel', 'commercial', 'anna', 'allbr', 'wood', 'religion', 'recall', 'produce', 'grow', 'classics', 'broadway', 'wit', 'theatrical', 'product', 'model', 'victor', 'unrealistic', 'theaters', 'sheriff', 'parker', 'kick', 'haunting', 'entertained', 'contrived', 'center', '50s', 'suffering', 'strongly', 'storybr', 'ruined', 'round', 'rise', 'levels', 'depressing', 'clue', 'sequels', 'rescue', 'r', 'joseph', 'irritating', 'freddy', 'extras', 'd', 'contrast', 'built', 'appealing', 'woody', 'rose', 'onebr', 'heck', 'handsome', 'costs', 'claim', 'sympathetic', 'sports', 'shakespeare', 'research', 'matt', 'losing', 'individual', 'destroy', '11', 'talks', 'protagonist', 'generation', 'evidence', 'embarrassing', 'disgusting', 'clean', 'captures', 'vote', 'thatbr', 'tend', 'post', 'patrick', 'matters', 'hill', 'facts', 'dry', 'chief', 'chick', 'appropriate', 'hunter', 'hanging', 'fame', 'canadian', 'alex', 'voices', 'virtually', 'naive', 'hopefully', 'grown', 'football', 'exploitation', 'bringing', 'asian', 'walks', 'training', 'scare', 'roy', 'relatively', 'obsessed', 'jackie', 'horribly', 'haunted', 'costume', 'cares', 'thoughts', 'steals', 'spoil', 'saturday', 'safe', 'promise', 'priest', 'pity', 'mask', 'lousy', 'louis', 'france', 'fits', 'convinced', 'bomb', 'walter', 'teenagers', 'insult', 'frame', 'cost', 'correct', 'till', 'teenager', 'ryan', 'oliver', 'mebr', 'dogs', 'crowd', 'creatures', 'wellbr', 'send', 'satisfying', 'initial', 'halfway', 'fly', 'excitement', 'dubbed', 'depicted', 'winner', 'united', 's', 'remain', 'gordon', 'europe', 'cinderella', 'cash', 'angel', 'amateurish', '1970s', 'tiny', 'texas', 'tedious', 'nancy', 'lower', 'influence', 'holding', 'hide', 'germany', 'contemporary', 'anne', 'weekend', 'unlikely', 'unfortunate', 'substance', 'soft', 'psycho', 'nominated', 'lewis', 'cowboy', 'circumstances', 'asleep', 'viewed', 'touches', 'presents', 'marie', 'lawyer', 'flesh', 'continuity', 'closer', 'bodies', 'baseball', 'witness', 'serves', 'provided', 'max', 'f', 'drag', 'danger', 'australian', '810', 'trilogy', 'suffers', 'shocked', 'reporter', 'handled', 'fool', 'cartoons', 'brave', 'amateur', 'weeks', 'wayne', 'surreal', 'structure', 'source', 'sons', 'ruin', 'roger', 'repeated', 'refreshing', 'fare', 'category', 'supernatural', 'seat', 'politics', 'plans', 'offensive', 'latest', 'hunt', 'fu', 'display', 'deaths', 'chose', 'africa', 'accidentally', 'welcome', 'warm', 'surprises', 'studios', 'sinatra', 'robot', 'promising', 'pile', 'north', 'market', 'angles', 'target', 'speaks', 'realizes', 'qualities', 'previously', 'overthetop', 'colors', 'claims', 'bugs', 'harsh', 'granted', 'experiences', 'edward', 'deadly', 'convince', 'adventures', 'accents', 'storytelling', 'factor', 'designed', 'covered', 'artists', 'wouldve', 'whoever', 'veteran', 'universal', 'speech', 'skin', 'service', 'rental', 'recognize', 'movement', 'lesbian', 'hall', 'draw', 'believed', 'victoria', 'routine', 'professor', 'mainstream', 'highlight', 'degree', 'uninteresting', 'rain', 'propaganda', 'occasional', 'mistakes', 'kim', 'hat', 'enter', 'columbo', 'walked', 'twisted', 'technically', 'sympathy', 'struggling', 'peace', 'outbr', 'minds', 'magical', 'guilty', 'directly', 'aliens', 'nude', 'massive', 'kinds', 'invisible', 'friday', 'focused', 'explains', 'downright', 'combined', 'breaking', 'teens', 'section', 'print', 'princess', 'paper', 'inner', 'committed', '710', 'remotely', 'offered', 'narration', 'j', 'gritty', 'donald', 'ass', 'suspenseful', 'spends', 'sorts', 'prime', 'multiple', 'moore', 'irish', 'featured', 'experienced', 'enemy', 'atrocious', 'universe', 'treasure', 'sharp', 'reveal', 'regret', 'lonely', 'legendary', 'insight', 'frightening', 'express', 'execution', 'variety', 'security', 'reputation', 'performed', 'hong', 'forgettable', 'figured', 'exact', 'dollars', 'anger', '25', 'waybr', 'surface', 'stolen', 'rings', 'prior', 'path', 'passing', 'herebr', 'forest', 'figures', 'fictional', 'false', 'dozen', 'crash', 'bothered', 'birth', 'abuse', 'abandoned', '1980s', 'theory', 'subtitles', 'spy', 'pulls', 'powell', 'hired', 'ghosts', 'fairy', 'eight', 'darkness', 'crying', 'conversation', '13', 'von', 'statement', 'russell', 'reveals', 'required', 'paint', 'paced', 'melodrama', 'isbr', 'erotic', 'emma', 'cutting', 'core', 'anderson', 'wilson', 'urban', 'trapped', 'terror', 'stays', 'stayed', 'significant', 'mountain', 'hed', 'gas', 'effectively', 'drop', 'demons', 'blow', 'worthwhile', 'slapstick', 'paying', 'grim', 'crude', '14', 'rights', 'proud', 'mgm', 'mere', 'listening', 'jon', 'focuses', 'dean', 'clark', 'buying', 'wear', 'spite', 'sir', 'quest', 'necessarily', 'lights', 'bmovie', 'beach', 'african', 'account', 'unconvincing', 'scale', 'jobs', 'heavily', 'grave', 'forth', 'titanic', 'sunday', 'scares', 'network', 'julia', 'facial', 'everywhere', 'destroyed', 'department', 'delivery', 'cruel', 'clichéd', 'childrens', 'caine', 'bus', 'andor', 'amazed', 'afternoon', '1930s', 'vietnam', 'scenario', 'san', 'murphy', 'metal', 'matrix', 'imagery', 'driven', 'desperately', 'closing', 'changing', 'alright', 'thankfully', 'sounded', 'skill', 'sensitive', 'rule', 'ron', 'reminiscent', 'position', 'placed', 'mothers', 'midnight', 'mature', 'junk', 'idiot', 'forgot', 'flashback', 'favorites', 'faithful', 'fabulous', 'device', 'code', 'blockbuster', 'belief', 'alice', 'suffer', 'stereotypical', 'revolution', 'pitt', 'novels', 'mexican', 'interview', 'ignore', 'extraordinary', 'driver', 'campy', 'aint', '110', 'views', 'summary', 'sleeping', 'settings', 'seek', 'musicals', 'lifetime', 'happiness', 'greater', 'examples', 'dude', 'deeper', 'california', 'beloved', 'angle', 'amazingly', 'understood', 'sarah', 'renting', 'prefer', 'pacino', 'notorious', 'initially', 'inept', 'helping', 'fourth', 'dennis', 'criminals', 'court', 'burns', 'blah', 'beast', 'achieve', 'teeth', 'susan', 'sitcom', 'rolling', 'regarding', 'pregnant', 'lifebr', 'learning', 'league', 'depiction', 'breathtaking', 'brad', 'bourne', 'rip', 'raw', 'mexico', 'lisa', 'larry', 'jungle', 'endbr', 'couldve', 'convey', 'complicated', 'china', 'bore', 'table', 'quirky', 'purely', 'picks', 'kung', 'indie', 'format', 'entertain', 'encounter', 'cultural', 'starred', 'rough', 'rachel', 'prepared', 'ned', 'murderer', 'mildly', 'julie', 'freeman', 'expert', 'dragon', 'disbelief', 'description', 'decades', 'critical', 'calling', 'cabin', 'writerdirector', 'via', 'underground', 'touched', 'throws', 'throwing', 'status', 'serve', 'productions', 'notable', 'leslie', 'join', 'funnier', 'friendly', 'drinking', 'appreciated', 'subplot', 'onbr', 'introduction', 'flight', 'expression', 'everyday', 'dress', 'carries', 'basis', 'arms', 'answers', 'adding', 'task', 'strangely', 'raised', 'protect', 'honor', 'criticism', 'comical', 'bollywood', 'blown', 'base', 'againbr', 'wears', 'suck', 'succeeds', 'racist', 'kiss', 'intellectual', 'fallen', 'extent', 'caring', 'brooks', 'amongst', 'usa', 'truck', 'ted', 'sword', 'shadow', 'regard', 'raise', 'originality', 'inspiration', 'hoffman', 'foster', 'environment', 'claire', 'causes', 'carrying', 'carried', 'attempting', 'x', 'weapons', 'socalled', 'ripoff', 'protagonists', 'praise', 'michelle', 'maria', 'johnson', 'jessica', 'handle', 'enjoying', 'embarrassed', 'choices', 'charge', 'challenge', 'cell', 'cases', 'angels', '410', 'tales', 'spoof', 'sinister', 'sidney', 'shut', 'rogers', 'related', 'ludicrous', 'lazy', 'warned', 'turkey', 'southern', 'replaced', 'obnoxious', 'needless', 'lugosi', 'locked', 'ironic', 'gruesome', 'experiment', 'elizabeth', 'determined', 'breath', 'wins', 'westerns', 'sun', 'sleazy', 'screening', 'properly', 'pet', 'nowadays', 'lie', 'interpretation', 'escapes', 'daily', 'burt', 'aunt', 'trick', 'tradition', 'remote', 'obsession', 'jail', 'hardy', 'graphics', 'clips', 'chilling', 'blair', 'bbc', 'attacked', 'wave', 'warner', 'u', 'tight', 'stanley', 'served', 'scripts', 'remind', 'reference', 'laura', 'jumps', 'interviews', 'exists', 'essential', 'arrives', 'alas', 'stops', 'st', 'sold', 'punch', 'navy', 'marvelous', 'india', 'hitchcock', 'fortunately', 'contain', 'busy', 'timing', 'successfully', 'oddly', 'nonexistent', 'hills', 'goofy', 'goodbr', 'frequently', 'established', 'dollar', 'ashamed', '310', 'term', 'sum', 'stylish', 'rival', 'revolves', 'refuses', 'ratings', 'oscars', 'o', 'jewish', 'inspector', 'flawed', 'drives', 'balance', 'authentic', 'warn', 'upset', 'struggles', 'risk', 'nation', 'mirror', 'mindless', 'mentally', 'manager', 'legs', 'horrific', 'hence', 'guard', 'flow', 'che', 'andrews', 'tree', 'titles', 'sides', 'shower', 'riding', 'retarded', 'philip', 'par', 'overcome', 'hood', 'greatly', 'delight', 'comedian', 'bette', 'toy', 'tense', 'suspects', 'stomach', 'spoken', 'roberts', 'poignant', 'nonetheless', 'mob', 'mansion', 'lesser', 'lane', 'intentions', 'intensity', 'gods', 'cynical', 'bridge', 'attacks', 'albeit', 'wishes', 'topic', 'thousands', 'presentation', 'madness', 'lion', 'lessons', 'jay', 'husbands', 'fbi', 'expressions', 'cooper', 'controversial', 'buck', 'bitter', 'wealthy', 'wasting', 'vacation', 'thrilling', 'suffered', 'stupidity', 'stranger', 'seeking', 'personalities', 'opened', 'medical', 'lucy', 'glimpse', 'demon', 'confusion', 'chan', 'adapted', 'storm', 'scientists', 'pride', 'nazi', 'internet', 'hundreds', 'holmes', 'guessing', 'eg', 'dubbing', 'dinner', 'bound', '30s', 'whereas', 'uncomfortable', 'tracy', 'thief', 'text', 'shorts', 'shines', 'separate', 'perform', 'patient', 'mass', 'infamous', 'hint', 'happily', 'gross', 'dislike', 'courage', 'contact', 'broke', 'advantage', 'trite', 'sings', 'reed', 'performers', 'noble', 'miscast', 'miller', 'countries', 'corner', 'chases', 'chair', 'trial', 'suggests', 'shape', 'rocks', 'physically', 'mouse', 'millions', 'letting', 'innocence', 'horses', 'helen', 'elvis', 'east', 'credible', 'credibility', 'atmospheric', '910', '2006', '1960s', 'womans', 'tied', 'therebr', 'technique', 'sin', 'sexuality', 'reunion', 'racism', 'hundred', 'hole', 'glass', 'cook', 'consists', 'youbr', 'troubled', 'steps', 'portrait', 'pool', 'lying', 'lovable', 'gripping', 'grey', 'ensemble', 'develops', 'curse', 'crisis', 'cameos', 'badbr', '2000', 'torn', 'stretch', 'screenwriter', 'saves', 'ralph', 'oneliners', 'noted', 'meaningful', 'idiotic', 'holiday', 'hanks', 'concert', 'catholic', 'bo', 'bettie', 'bears', 'wwii', 'weapon', 'vincent', 'unforgettable', 'sentimental', 'searching', 'proof', 'plastic', 'neat', 'kurt', 'gain', 'exceptional', 'enjoyment', 'drink', 'accepted', 'toobr', 'thrillers', 'shed', 'imaginative', 'host', 'hiding', 'herbr', 'franchise', 'fish', 'entry', 'dig', 'dialogs', 'connected', 'belongs', 'attraction', 'spots', 'solve', 'sends', 'sandler', 'nine', 'lincoln', 'hoped', 'concerns', 'christ', 'card', 'annoyed', 'andrew', 'aired', 'worry', 'widmark', 'virgin', 'succeed', 'quote', 'object', 'n', 'lucas', 'jake', 'italy', 'guts', 'flaw', 'endearing', 'closely', 'assistant', 'arm', 'achieved', 'striking', 'repeat', 'redemption', 'profound', 'irony', 'homeless', 'hearts', 'ha', 'fortune', 'equal', 'encounters', 'eerie', 'dealt', 'crimes', 'cousin', 'colorful', 'checking', 'battles', 'bag', 'appearances', 'aged', 'videos', 'tune', 'tribute', 'tour', 'teach', 'sutherland', 'stanwyck', 'segments', 'persons', 'pat', 'oil', 'nights', 'nelson', 'neighborhood', 'mst3k', 'library', 'h', 'factory', 'dragged', 'dentist', 'covers', 'complaint', '1st', 'stan', 'snow', 'slight', 'pointed', 'ourselves', 'miniseries', 'hunting', 'hooked', 'hang', 'hamlet', 'essence', 'dear', 'cube', 'civil', 'bucks', 'believing', 'bat', 'thousand', 'surrounding', 'strikes', 'split', 'shoots', 'seagal', 'rush', 'pitch', 'pack', 'moviesbr', 'laid', 'knife', 'incoherent', 'health', 'glory', 'expensive', 'dare', 'countless', 'cheese', 'charisma', 'branagh', 'baker', 'appearing', '18', 'zone', 'workers', 'theyd', 'surrounded', 'stood', 'stealing', 'spending', 'matthau', 'massacre', 'lloyd', 'jeremy', 'dorothy', 'dancer', 'condition', 'competent', 'chasing', 'charismatic', 'chances', 'catherine', 'briefly', 'attempted', 'unintentionally', 'tons', 'terrifying', 'stunts', 'stronger', 'specific', 'shall', 'rushed', 'rochester', 'ripped', 'intention', 'horrendous', 'grows', 'fx', 'elsewhere', 'denzel', 'curtis', 'crafted', 'colour', 'birthday', 'attached', 'aforementioned', 'wing', 'wanna', 'trade', 'sullivan', 'sexually', 'setup', 'reactions', 'messages', 'individuals', 'hip', 'easier', 'betterbr', 'associated', 'admittedly', '80', 'university', 'tricks', 'requires', 'perfection', 'noise', 'month', 'magazine', 'le', 'guilt', 'gag', 'forgive', 'creators', 'burning', 'beating', 'arnold', '2001', 'wake', 'typically', 'stunt', 'stated', 'spike', 'silver', 'revelation', 'per', 'nose', 'luckily', 'increasingly', 'identify', 'homage', 'guest', 'goal', 'gift', 'dropped', 'drags', 'corrupt', '17', 'vague', 'strictly', 'represents', 'overrated', 'neck', 'kings', 'importance', 'ian', 'gotta', 'gothic', 'fired', 'faced', 'exercise', 'dramas', 'dawn', 'chuck', 'cats', 'cardboard', 'boredom', 'allowing', 'winter', 'walls', 'virus', 'techniques', 't', 'reynolds', 'ps', 'performing', 'painting', 'mild', 'medium', 'loser', 'killings', 'kidnapped', 'kicks', 'kane', 'instantly', 'importantly', 'hype', 'fitting', 'fifteen', 'enters', 'contract', 'commit', 'chaplin', 'camerawork', 'barry', 'sophisticated', 'row', 'relevant', 'pushed', 'presumably', 'jesse', 'horrors', 'handful', 'godfather', 'disagree', 'carefully', 'brando', 'boll', 'bobby', 'basement', '24', 'wonders', 'weight', 'thumbs', 'shining', 'sally', 'reallife', 'realise', 'pleased', 'plague', 'pie', 'partly', 'packed', 'nuclear', 'notch', 'letter', 'flash', 'eva', 'doors', 'brand', '45', 'wondered', 'tremendous', 'toilet', 'talked', 'superhero', 'silence', 'returning', 'resolution', 'pleasantly', 'overlooked', 'occurs', 'mustsee', 'marks', 'korean', 'hudson', 'hitting', 'heat', 'frustrated', 'executive', 'destruction', 'derek', 'continued', 'comics', 'buried', 'britain', 'admire', 'acceptable', 'worthless', 'superbly', 'strip', 'secretary', 'prevent', 'persona', 'listed', 'lab', 'jamie', 'inevitable', 'iii', 'fears', 'evident', 'competition', 'canada', 'bride', 'breasts', 'arrested', 'subplots', 'strike', 'stiff', 'spell', 'shy', 'relative', 'regardless', 'projects', 'press', 'picking', 'opposed', 'masters', 'larger', 'investigation', 'flawless', 'fatal', 'estate', 'doc', 'digital', 'citizen', 'carol', 'bush', 'bullets', 'boxing', 'bible', 'beings', 'attracted', 'accused', 'walken', 'struck', 'splendid', 'spiritual', 'someones', 'root', 'revealing', 'planning', 'outrageous', 'nazis', 'menacing', 'mafia', 'los', 'kudos', 'karloff', 'jumping', 'highlights', 'glover', 'directorial', 'closeups', 'burn', 'appalling', 'afterwards', '40s', '3d', 'useless', 'union', 'uninspired', 'thrills', 'suits', 'subsequent', 'spooky', 'sole', 'slightest', 'savage', 'remaining', 'precious', 'notes', 'logical', 'lacked', 'ironically', 'inspiring', 'hire', 'guide', 'genres', 'flynn', 'dvds', 'cup', 'conspiracy', 'characterization', 'brilliance', 'ambitious', '911', '2005', 'wes', 'watches', 'ward', 'twin', 'streisand', 'spoiled', 'souls', 'repetitive', 'repeatedly', 'reasonably', 'raped', 'pulling', 'photographed', 'notably', 'neighbor', 'morality', 'melodramatic', 'ken', 'installment', 'heston', 'francisco', 'elderly', 'documentaries', 'dire', 'depression', 'curiosity', 'creation', 'convoluted', 'clues', 'blob', 'aimed', 'accomplished', 'worldbr', 'wicked', 'wannabe', 'timothy', 'ticket', 'theyll', 'territory', 'tea', 'smooth', 'shortly', 'screams', 'samurai', 'rid', 'response', 'push', 'providing', 'poverty', 'overdone', 'minimal', 'loosely', 'jerk', 'intrigued', 'insulting', 'generous', 'forbidden', 'duke', 'drunken', 'draws', 'cox', 'con', 'cia', 'cared', 'border', 'bleak', 'achievement', 'timeless', 'spring', 'shadows', 'ritter', 'reduced', 'psychiatrist', 'non', 'neil', 'mile', 'mid', 'mel', 'jealous', 'hatred', 'gradually', 'futuristic', 'funnybr', 'filmsbr', 'failing', 'explore', 'emily', 'elvira', 'distant', 'definite', 'davies', 'darker', 'corpse', 'adams', '20th', 'wells', 'thirty', 'tall', 'sticks', 'shell', 'reasonable', 'piano', 'outcome', 'obscure', 'meat', 'manhattan', 'laurel', 'intent', 'goldberg', 'carpenter', 'captivating', 'blows', 'unbelievably', 'trap', 'spielberg', 'rap', 'pushing', 'nurse', 'motivation', 'mitchell', 'misses', 'knock', 'indians', 'improved', 'ignored', 'grandmother', 'gentle', 'elaborate', 'doctors', 'discussion', 'burton', 'beaten', 'argument', 'alike', 'ad', 'absence', 'turner', 'tunes', 'tortured', 'stole', 'spin', 'resembles', 'psychotic', 'norman', 'miserably', 'liberal', 'huh', 'fisher', 'farce', 'explicit', 'et', 'em', 'disease', 'dave', 'cruise', 'cried', 'contrary', 'connect', 'concerning', 'childish', 'cameras', 'brazil', 'beer', 'alexander', 'worried', 'waters', 'warrior', 'vicious', 'throat', 'threat', 'temple', 'string', 'sloppy', 'shoes', 'shark', 'returned', 'reached', 'ranks', 'purple', 'monkey', 'lou', 'kenneth', 'horrid', 'hardcore', 'glenn', 'fancy', 'extended', 'exaggerated', 'eve', 'displays', 'diamond', 'danes', 'currently', 'craig', 'complain', 'cole', 'builds', 'blend', 'affected', 'wreck', 'website', 'upbr', 'threw', 'swedish', 'sunshine', 'subjects', 'spoilersbr', 'spirits', 'sacrifice', 'prom', 'pretend', 'panic', 'ought', 'matthew', 'idiots', 'houses', 'hollow', 'fay', 'enjoys', 'distance', 'demands', 'dancers', 'consequences', 'charactersbr', 'carter', 'arrive', 'alltime', 'warren', 'triumph', 'smoking', 'robots', 'ridiculously', 'restaurant', 'receive', 'poster', 'photographer', 'overacting', 'hysterical', 'harder', 'fever', 'farm', 'eyre', 'drivel', 'drawing', 'broad', 'blank', 'beats', 'argue', 'smoke', 'size', 'scripted', 'progress', 'officers', 'movements', 'modesty', 'landscape', 'jet', 'groups', 'greek', 'dynamic', 'duo', 'conversations', 'burned', 'australia', 'annie', 'upper', 'trio', 'styles', 'staying', 'selling', 'scientific', 'ruth', 'recognized', 'popcorn', 'murderous', 'load', 'ireland', 'involvement', 'investigate', 'incident', 'hugh', 'holy', 'heroic', 'exposed', 'engaged', 'empire', 'dignity', 'devoted', 'daring', 'cusack', 'commercials', 'comfortable', 'carrey', 'buddies', 'broadcast', 'brains', 'anyways', 'vivid', 'translation', 'titled', 'threatening', 'symbolism', 'swear', 'superficial', 'selfish', 'secrets', 'rural', 'producing', 'proceedings', 'orders', 'offering', 'occur', 'newspaper', 'mountains', 'machines', 'lily', 'kitchen', 'journalist', 'joey', 'existed', 'escaped', 'dinosaurs', 'differences', 'critic', 'couples', 'choreography', 'cagney', 'brosnan', 'bands', 'astaire', 'areas', 'aging', '210', 'winters', 'uneven', 'tame', 'relies', 'rage', 'margaret', 'lips', 'innovative', 'gray', 'grab', 'explaining', 'ex', 'discovery', 'detailed', 'deliberately', 'clint', 'block', 'bite', 'bathroom', 'apes', '60', '2nd', '16', 'workbr', 'wealth', 'versus', 'unpleasant', 'twelve', 'timesbr', 'thugs', 'stiller', 'staff', 'soviet', 'signs', 'removed', 'possibility', 'perry', 'occurred', 'nearby', 'mildred', 'merit', 'mate', 'lighthearted', 'juvenile', 'intrigue', 'ingredients', 'implausible', 'imagined', 'hollywoods', 'folk', 'focusing', 'felix', 'editor', 'dialogues', 'dawson', 'causing', 'birds', 'bell', 'audio', '2004', 'web', 'watchbr', 'undoubtedly', 'travels', 'sidekick', 'showbr', 'sadness', 'sadistic', 'resemblance', 'primary', 'population', 'pays', 'overwhelming', 'onscreen', 'nightmares', 'meaningless', 'maker', 'lawrence', 'kirk', 'generic', 'furthermore', 'disturbed', 'defeat', 'damage', 'craft', 'conventional', 'combat', 'chain', 'catches', 'adequate', 'abilities', 'abc', '2003', 'w', 'unbearable', 'trees', 'ships', 'remarkably', 'pulp', 'primarily', 'portion', 'passes', 'narrator', 'lifestyle', 'karen', 'hurts', 'headed', 'flies', 'falk', 'explosion', 'eccentric', 'discuss', 'devoid', 'composed', 'clumsy', 'clothing', 'bin', 'banned', 'atlantis', 'altogether', '0', 'yesterday', 'winds', 'unintentional', 'thrill', 'surviving', 'spare', 'settle', 'secondly', 'react', 'official', 'maggie', 'liking', 'leg', 'jeffrey', 'itll', 'hitman', 'highest', 'hates', 'glorious', 'giallo', 'g', 'financial', 'explored', 'exotic', 'enormous', 'dracula', 'dozens', 'cuba', 'chaos', 'cameron', 'backdrop', 'antics', 'afford', '2002', 'urge', 'survival', 'smaller', 'shine', 'scheme', 'roman', 'represent', 'reaches', 'morebr', 'models', 'mixture', 'mickey', 'kapoor', 'gandhi', 'fond', 'doomed', 'disjointed', 'decisions', 'consistently', 'carl', 'blatant', 'bird', 'beneath', '1990s', 'wallace', 'walker', 'uwe', 'ups', 'unwatchable', 'slap', 'rank', 'rambo', 'props', 'paulie', 'outer', 'odds', 'notion', 'notbr', 'neighbors', 'mistaken', 'judging', 'hints', 'fighter', 'errors', 'edie', 'dutch', 'distracting', 'disc', 'describes', 'coherent', 'clown', 'cheating', 'cary', 'careers', 'brady', 'bold', 'vast', 'trailers', 'tommy', 'thick', 'tear', 'tap', 'survivors', 'subtlety', 'sport', 'specifically', 'senseless', 'sellers', 'scenebr', 'richards', 'possessed', 'offended', 'monkeys', 'kennedy', 'instant', 'influenced', 'impress', 'ideal', 'hideous', 'heartwarming', 'hal', 'garden', 'gangsters', 'freak', 'florida', 'everyones', 'enterprise', 'drops', 'directs', 'diane', 'dating', 'dances', 'contained', 'butt', 'brooklyn', 'blew', 'bedroom', 'april', 'amy', 'ah', 'advance', '3rd', 'wolf', 'whale', 'weakest', 'voight', 'toys', 'topless', 'ties', 'stellar', 'soccer', 'simplistic', 'seenbr', 'screenbr', 'revolutionary', 'relations', 'rebel', 'practice', 'peters', 'performer', 'montage', 'matches', 'loads', 'linda', 'lasted', 'jazz', 'introduces', 'guessed', 'frustration', 'explosions', 'etcbr', 'ego', 'desperation', 'depressed', 'dedicated', 'commented', 'classes', 'celluloid', 'blake', 'benefit', 'adorable', 'todd', 'tender', 'suited', 'succeeded', 'staged', 'shelf', 'seventies', 'satan', 'saga', 'ruthless', 'rooms', 'rick', 'principal', 'politically', 'philosophy', 'passionate', 'occasion', 'mysteries', 'miserable', 'method', 'loyal', 'leonard', 'justify', 'involve', 'immensely', 'illogical', 'honesty', 'holly', 'hammer', 'forms', 'flop', 'emphasis', 'eastwood', 'doll', 'developing', 'crush', 'countryside', 'coffee', 'claimed', 'circle', 'bare', 'backgrounds', 'awake', 'arrogant', 'wrestling', 'wasbr', 'unfolds', 'traveling', 'trashy', 'transformation', 'tracks', 'thoughtful', 'tad', 'synopsis', 'stress', 'solely', 'similarities', 'severe', 'recorded', 'realizing', 'planned', 'outfit', 'motives', 'melting', 'measure', 'lust', 'link', 'kicked', 'jonathan', 'interaction', 'hank', 'funeral', 'endure', 'endings', 'disappeared', 'disappear', 'destiny', 'considerable', 'command', 'chorus', 'bone', 'blues', 'wore', 'treats', 'stereotype', 'shirley', 'quotes', 'photos', 'orson', 'menace', 'lemmon', 'isolated', 'hbo', 'harvey', 'hamilton', 'ginger', 'facing', 'ease', 'displayed', 'dickens', 'cure', 'corruption', 'consistent', 'comparing', 'companion', 'chased', 'cards', 'avoided', 'authority', 'angeles', 'aid', 'agrees', 'yellow', 'waited', 'tongue', 'taught', 'switch', 'swimming', 'surfing', 'sits', 'similarly', 'scenesbr', 'satisfied', 'riveting', 'represented', 'report', 'purchase', 'preview', 'possibilities', 'moody', 'madefortv', 'lyrics', 'kidding', 'inventive', 'helicopter', 'grasp', 'goodness', 'formulaic', 'enemies', 'ellen', 'eighties', 'e', 'donna', 'dolls', 'colonel', 'celebrity', 'buffs', 'bonus', 'amanda', 'wished', 'widow', 'voiceover', 'vegas', 'user', 'terrorist', 'solo', 'snl', 'relation', 'prostitute', 'promised', 'onedimensional', 'nervous', 'myers', 'mario', 'march', 'judy', 'improve', 'hunters', 'handed', 'embarrassment', 'ears', 'duty', 'divorce', 'delivering', 'defend', 'combine', 'cliff', 'charlotte', 'cg', 'carrie', 'behave', 'akshay', '1999', 'wives', 'waves', 'valuable', 'unsettling', 'unhappy', 'transfer', 'suitable', 'reads', 'philosophical', 'parent', 'pages', 'oz', 'l', 'ignorant', 'horrifying', 'hook', 'godzilla', 'global', 'fix', 'crack', 'closet', 'closest', 'chess', 'buildings', 'blond', '1996', '1980', 'virginia', 'tonight', 'thru', 'stooges', 'stinker', 'snake', 'scottish', 'scores', 'sappy', 'reflect', 'reaching', 'painted', 'online', 'nicholson', 'motivations', 'maintain', 'lately', 'kingdom', 'inbr', 'inane', 'humble', 'hart', 'faster', 'engage', 'elegant', 'education', 'diana', 'destroying', 'corporate', 'buff', 'blacks', 'bebr', 'artificial', 'agents', 'affect', 'yelling', 'wet', 'wed', 'useful', 'understandable', 'tiresome', 'terry', 'stinks', 'stevens', 'staring', 'splatter', 'slave', 'shake', 'sentence', 'seed', 'secretly', 'scope', 'scarecrow', 'safety', 'rotten', 'rex', 'remarks', 'racial', 'questionable', 'pretending', 'potentially', 'plant', 'museum', 'miracle', 'miike', 'letters', 'lees', 'germans', 'fooled', 'earned', 'disappoint', 'conflicts', 'concern', 'coach', 'cleverly', 'centers', 'bullet', 'armed', 'airport', 'airplane', 'access', 'abysmal', 'wandering', 'trained', 'survived', 'slick', 'sandra', 'rocket', 'purchased', 'provoking', 'poetic', 'nostalgic', 'nicholas', 'mall', 'm', 'lay', 'jumped', 'iron', 'intentionally', 'inferior', 'hung', 'gadget', 'francis', 'firstly', 'finger', 'faults', 'exploration', 'elephant', 'dub', 'disneys', 'dinosaur', 'depicts', 'communist', 'civilization', 'campbell', 'brutally', 'blunt', 'blade', 'amounts', 'americas', 'alongside', 'alcoholic', 'advise', 'womens', 'wizard', 'willis', 'vulnerable', 'understated', 'troops', 'tie', 'sub', 'streep', 'stilted', 'steel', 'spoke', 'showcase', 'september', 'robbery', 'rising', 'rendition', 'raising', 'punk', 'proceeds', 'porno', 'pokemon', 'plight', 'patients', 'nomination', 'namely', 'mini', 'lengthy', 'lena', 'joined', 'illegal', 'guarantee', 'grinch', 'greedy', 'fonda', 'floating', 'ethan', 'edgar', 'convincingly', 'confidence', 'channels', 'beliefs', 'bath', 'arrived', 'arguably', 'advanced', 'abusive', '2007', 'wrapped', 'witches', 'visits', 'transition', 'spread', 'species', 'resort', 'relatives', 'pig', 'peoplebr', 'nonstop', 'morris', 'madonna', 'homosexual', 'gundam', 'fascinated', 'familys', 'downhill', 'dimensional', 'designs', 'construction', 'cinematographer', 'chicago', 'carradine', 'careful', 'cake', 'bottle', 'beatty', 'balls', 'ballet', 'attitudes', 'ape', 'agreed', 'advertising', 'accompanied', '70', '3000', '1940s', 'wound', 'worker', 'taxi', 'sue', 'simplicity', 'signed', 'shirt', 'satisfy', 'ruby', 'recognition', 'pops', 'parallel', 'nyc', 'niro', 'molly', 'macy', 'lowest', 'lit', 'limits', 'likewise', 'li', 'latin', 'junior', 'june', 'jenny', 'intimate', 'hopper', 'heartbreaking', 'frequent', 'foul', 'devils', 'demented', 'damon', 'copies', 'complexity', 'compelled', 'classical', 'cities', 'christians', 'cave', 'catchy', 'capturing', 'berlin', 'aids', '1972', 'ya', 'vengeance', 'v', 'tends', 'schools', 'robinson', 'prisoner', 'prequel', 'phantom', 'paltrow', 'opinions', 'olivier', 'nostalgia', 'nonsensical', 'mundane', 'mars', 'manipulative', 'losers', 'lone', 'khan', 'inappropriate', 'illness', 'hilariously', 'grandfather', 'gerard', 'georges', 'exceptionally', 'equivalent', 'eager', 'dreary', 'descent', 'der', 'del', 'daddy', 'crucial', 'chicks', 'cheated', 'challenging', 'bang', 'bakshi', 'babe', 'alternate', '1990', 'writes', 'witnesses', 'wishing', 'widely', 'wellknown', 'twilight', 'tomatoes', 'suspicious', 'shelley', 'seeks', 'scooby', 'restored', 'remakes', 'raymond', 'rat', 'pursuit', 'prisoners', 'poetry', 'pearl', 'overlook', 'ocean', 'muchbr', 'montana', 'misery', 'lol', 'lively', 'leo', 'incomprehensible', 'homer', 'excessive', 'edition', 'eaten', 'domestic', 'demand', 'cinemas', 'choreographed', 'chooses', 'chest', 'capital', 'boot', 'awe', 'appreciation', 'amitabh', '1968', 'wisdom', 'vaguely', 'suspend', 'square', 'smiling', 'sincere', 'simmons', 'seriesbr', 'royal', 'robbins', 'resources', 'progresses', 'prize', 'plotbr', 'plausible', 'performs', 'paranoia', 'opportunities', 'nations', 'methods', 'messed', 'masterful', 'mann', 'literature', 'legal', 'laws', 'landscapes', 'kicking', 'justin', 'invasion', 'introduce', 'incompetent', 'franco', 'experiments', 'enthusiasm', 'elm', 'doubts', 'desired', 'dalton', 'da', 'crocodile', 'constructed', 'conservative', 'calm', 'bumbling', 'brenda', 'blowing', 'belong', 'bela', 'basketball', 'awfully', 'wacky', 'viewings', 'trademark', 'tag', 'suffice', 'richardson', 'responsibility', 'resist', 'resident', 'recording', 'randomly', 'promises', 'polished', 'petty', 'nuts', 'mummy', 'mentions', 'mechanical', 'mayor', 'masterpieces', 'louise', 'loaded', 'kay', 'generations', 'feed', 'eitherbr', 'earl', 'distinct', 'creativity', 'craven', 'climactic', 'cd', 'borrowed', 'bacall', 'assigned', 'assault', 'arrival', '1983', 'wounded', 'witnessed', 'wholly', 'wendy', 'waitress', 'visible', 'unoriginal', 'underlying', 'unaware', 'troubles', 'terrorists', 'teachers', 'strangers', 'stones', 'stargate', 'standout', 'stale', 'spirited', 'solution', 'sneak', 'slaughter', 'sink', 'simpson', 'showdown', 'scrooge', 'ruins', 'receives', 'rangers', 'punishment', 'polanski', 'poem', 'pit', 'parties', 'operation', 'omen', 'marty', 'map', 'jaws', 'inevitably', 'improvement', 'icon', 'heights', 'greed', 'gifted', 'fury', 'fields', 'expressed', 'dust', 'dolph', 'creep', 'conceived', 'betty', 'attorney', 'attend', 'assumed', 'ashley', '–', 'willie', 'whoopi', 'warriors', 'warmth', 'unit', 'testament', 'teaching', 'straightforward', 'rats', 'randy', 'rabbit', 'quit', 'property', 'pot', 'overlong', 'offbr', 'muslim', 'mighty', 'mentioning', 'lumet', 'laughably', 'keith', 'iraq', 'iran', 'instinct', 'historically', 'gabriel', 'females', 'educational', 'edgy', 'contest', 'closed', 'chapter', 'businessman', 'bergman', 'angela', 'alfred', 'activities', 'acid', 'aboutbr', '1973', 'wouldbe', 'withbr', 'voiced', 'verhoeven', 'twins', 'tooth', 'tiger', 'swim', 'survivor', 'supported', 'stunned', 'spain', 'sid', 'rolled', 'rocky', 'popularity', 'pink', 'pamela', 'moronic', 'mistress', 'minutesbr', 'minimum', 'middleaged', 'meryl', 'merits', 'kubrick', 'irrelevant', 'imitation', 'household', 'hello', 'greg', 'grabs', 'garbo', 'funbr', 'fashioned', 'exposure', 'equipment', 'domino', 'depicting', 'christy', 'catching', 'button', 'bull', 'boom', 'alert', '13th', 'valley', 'uplifting', 'unseen', 'unreal', 'unpredictable', 'tribe', 'timon', 'suggested', 'subjected', 'stretched', 'spock', 'sounding', 'significance', 'shaw', 'shaky', 'seldom', 'rubber', 'romero', 'resulting', 'resemble', 'psychic', 'pressure', 'pierce', 'phony', 'noone', 'masses', 'marketing', 'loyalty', 'kyle', 'invented', 'integrity', 'heartfelt', 'fulci', 'fought', 'feelgood', 'exchange', 'eugene', 'empathy', 'doom', 'disliked', 'directions', 'despair', 'definition', 'daybr', 'cringe', 'confrontation', 'compassion', 'championship', 'cannibal', 'butler', 'bud', 'bay', 'astonishing', 'analysis', 'ambiguous', 'accuracy', '35', 'wrongbr', 'wretched', 'wifes', 'watson', 'unexpectedly', 'trail', 'stumbled', 'sopranos', 'simultaneously', 'roots', 'retired', 'remained', 'reflection', 'ramones', 'peak', 'patience', 'pants', 'palace', 'package', 'otherbr', 'othello', 'orleans', 'ollie', 'nicole', 'monk', 'metaphor', 'landing', 'lackluster', 'josh', 'interests', 'inability', 'immediate', 'hopeless', 'grayson', 'gather', 'furious', 'firm', 'fascination', 'expedition', 'drake', 'distribution', 'defined', 'defense', 'darren', 'costar', 'confess', 'comfort', 'cliche', 'checked', 'biography', 'austin', 'album', 'adaptations', '1984', 'victory', 'unfair', 'underneath', 'travesty', 'technicolor', 'sums', 'spacey', 'sixties', 'shanghai', 'roth', 'roommate', 'require', 'refused', 'reel', 'rave', 'raises', 'primitive', 'presenting', 'phil', 'pan', 'objective', 'newly', 'nail', 'marion', 'mankind', 'legacy', 'kissing', 'israel', 'hears', 'frightened', 'farrell', 'eastern', 'dixon', 'difficulties', 'dee', 'deceased', 'daniels', 'dana', 'creator', 'conditions', 'composer', 'companies', 'closeup', 'clip', 'claus', 'blast', 'antwone', 'alec', 'actingbr', 'abraham', 'yearsbr', 'wakes', 'vulgar', 'ustinov', 'unlikable', 'teaches', 'tastes', 'subpar', 'stark', 'specially', 'softcore', 'sissy', 'sharon', 'screens', 'scotland', 'rises', 'respected', 'replace', 'remade', 'reid', 'rates', 'raines', 'quietly', 'precisely', 'photo', 'passable', 'pal', 'owen', 'musicians', 'milk', 'maniac', 'maid', 'lundgren', 'karl', 'julian', 'joins', 'joel', 'interactions', 'glasses', 'gentleman', 'gender', 'frustrating', 'flair', 'fido', 'favour', 'experimental', 'dreck', 'discovering', 'dimension', 'desires', 'deranged', 'connery', 'comedians', 'coast', 'christianity', 'buffalo', 'barrymore', 'andre', 'abused', '1971', '1933', 'yard', 'widescreen', 'warming', 'wang', 'walsh', 'thingbr', 'tank', 'sunny', 'stuart', 'rude', 'rely', 'relax', 'reeves', 'nowbr', 'ninja', 'nerd', 'nathan', 'muddled', 'matched', 'literary', 'lands', 'inexplicably', 'hyde', 'griffith', 'graham', 'framed', 'examination', 'encourage', 'electric', 'dysfunctional', 'dresses', 'dose', 'correctly', 'characterbr', 'casts', 'carell', 'brutality', 'behaviour', 'awhile', 'audiencebr', 'assassin', 'aspiring', 'appropriately', 'amused', 'alcohol', 'adopted', 'wrap', 'wildly', 'visiting', 'tracking', 'tomorrow', 'teams', 'tacky', 'shouldve', 'shoddy', 'shared', 'sentinel', 'sentiment', 'sabrina', 'ross', 'roof', 'rifle', 'referred', 'purposes', 'provocative', 'preston', 'preposterous', 'prepare', 'premiere', 'positively', 'phrase', 'pg13', 'paradise', 'parade', 'ordered', 'musician', 'mode', 'masks', 'marshall', 'macarthur', 'lock', 'les', 'knocked', 'invites', 'hopkins', 'generated', 'frankenstein', 'fingers', 'filling', 'fest', 'femme', 'exposition', 'emperor', 'downey', 'credited', 'choppy', 'chicken', 'charged', 'bunny', 'bernard', 'automatically', 'amusement', 'alternative', 'additional', 'absent', '75', '1993', '1987', 'yearold', 'vice', 'vance', 'unfold', 'uncut', 'tube', 'translated', 'topnotch', 'swing', 'sung', 'spark', 'senses', 'rooney', 'romp', 'respective', 'releases', 'reign', 'region', 'refer', 'realised', 'posters', 'poison', 'murdering', 'moreover', 'morbid', 'mclaglen', 'madebr', 'loneliness', 'leon', 'ladder', 'items', 'insurance', 'hopelessly', 'hawke', 'hackneyed', 'greatness', 'glowing', 'fantasies', 'demise', 'deaf', 'counts', 'complaining', 'citizens', 'cattle', 'biko', 'beverly', 'babies', 'alicia', 'accomplish', 'youngest', 'wellwritten', 'weakness', 'trend', 'thoughtprovoking', 'skull', 'singers', 'silliness', 'shoulders', 'shares', 'russia', 'regarded', 'realm', 'pun', 'pitiful', 'objects', 'nephew', 'naughty', 'mtv', 'misleading', 'lush', 'laurence', 'kansas', 'invited', 'infected', 'indication', 'imaginable', 'ignorance', 'harm', 'handling', 'guests', 'grotesque', 'gambling', 'function', 'forty', 'fi', 'fed', 'eternal', 'ensues', 'deserted', 'costars', 'corpses', 'complaints', 'challenges', 'celebration', 'caricatures', 'bridget', 'bargain', 'alison', 'admirable', 'accepts', 'absurdity', 'abrupt', '19th', '1995', 'towns', 'threatens', 'suspension', 'skits', 'severely', 'servant', 'secondary', 'sci', 'respectively', 'reflects', 'recycled', 'recommendation', 'receiving', 'puppet', 'promote', 'pro', 'prey', 'phillips', 'partners', 'palance', 'owners', 'oldest', 'noises', 'nod', 'nicolas', 'muppets', 'minded', 'jews', 'insipid', 'iconic', 'ho', 'hk', 'hitlers', 'grief', 'evidently', 'drove', 'din', 'devices', 'depending', 'crystal', 'cruelty', 'cope', 'conveys', 'coincidence', 'chills', 'chainsaw', 'canyon', 'beside', 'asylum', 'affection', 'address', 'active', '1997', '1986', 'wilderness', 'weaknesses', 'visited', 'venture', 'underworld', 'understands', 'tyler', 'togetherbr', 'tasteless', 'sympathize', 'strongest', 'stores', 'standup', 'squad', 'shades', 'rita', 'reluctant', 'records', 'priceless', 'prejudice', 'posted', 'portrayals', 'policeman', 'paramount', 'outing', 'outfits', 'occasions', 'obligatory', 'nolan', 'minus', 'mill', 'mccoy', 'malone', 'lois', 'lifted', 'kumar', 'investigating', 'industrial', 'hughes', 'heros', 'heading', 'hammy', 'freaks', 'el', 'edit', 'disappears', 'deniro', 'damme', 'cue', 'crawford', 'conviction', 'conventions', 'conscience', 'comparisons', 'buster', 'burst', 'belushi', 'baldwin', 'authors', 'aim', 'affairs', 'acclaimed', 'acceptance', '73', '1970', '1936', 'wwe', 'trivia', 'tobr', 'thread', 'terrified', 'suitably', 'studying', 'steady', 'stages', 'spinal', 'sketch', 'shakespeares', 'selection', 'renaissance', 'rejected', 'redeem', 'psychology', 'programs', 'profanity', 'previews', 'predict', 'pointbr', 'phenomenon', 'penny', 'patricia', 'murray', 'muppet', 'morally', 'misguided', 'locals', 'labor', 'kolchak', 'interestingly', 'hers', 'heist', 'hapless', 'guaranteed', 'gregory', 'frankie', 'fog', 'fishing', 'filler', 'fiancé', 'explores', 'entitled', 'emerges', 'elses', 'ear', 'difficulty', 'designer', 'demonstrates', 'dates', 'darn', 'cassidy', 'caliber', 'bros', 'billed', 'attract', 'anywaybr', 'ants', '2008', '1989', '1979', '1978', 'zombi', 'worn', 'vital', 'visions', 'vibrant', 'vein', 'unexplained', 'tripe', 'soup', 'sooner', 'someday', 'snakes', 'slimy', 'sht', 'shouting', 'sending', 'rome', 'representation', 'reader', 'ratso', 'prominent', 'physics', 'pg', 'palma', 'orange', 'option', 'michaels', 'marvel', 'marries', 'iv', 'insists', 'inconsistent', 'hippie', 'harold', 'harmless', 'guitar', 'gems', 'forcing', 'flashy', 'filth', 'feminist', 'eats', 'dud', 'discussing', 'diehard', 'despicable', 'deleted', 'cream', 'conclude', 'communicate', 'commander', 'clock', 'claustrophobic', 'clarke', 'cancer', 'betrayal', 'beatles', 'basinger', 'banal', 'assuming', 'anticipation', 'agenda', 'winchester', 'welldone', 'vader', 'unrelated', 'transformed', 'tierney', 'tempted', 'studies', 'springer', 'sox', 'slice', 'sirk', 'shootout', 'route', 'rod', 'rhythm', 'pounds', 'placebr', 'mentality', 'martha', 'lindsay', 'kungfu', 'knight', 'kitty', 'jacksons', 'ingenious', 'immature', 'housewife', 'flowers', 'europa', 'downbr', 'depends', 'delicate', 'danish', 'crazed', 'considerably', 'clueless', 'clan', 'claiming', 'circus', 'champion', 'casual', 'cannon', 'bread', 'blatantly', 'bike', 'biased', 'befriends', 'wings', 'wellmade', 'voted', 'towers', 'tail', 'symbolic', 'stumbles', 'soso', 'smiles', 'shortcomings', 'schlock', 'sassy', 'rukh', 'rolebr', 'riot', 'repeating', 'remove', 'recognizable', 'quinn', 'pete', 'paxton', 'mirrors', 'millionaire', 'melody', 'meg', 'marlon', 'limit', 'lifeless', 'legends', 'kathryn', 'iq', 'inhabitants', 'inexplicable', 'hokey', 'historic', 'height', 'grudge', 'grainy', 'glamorous', 'gina', 'gear', 'fuller', 'foxx', 'fontaine', 'fluff', 'fifty', 'exploring', 'ethnic', 'dukes', 'dressing', 'detectives', 'defeated', 'coupled', 'connections', 'co', 'charlton', 'challenged', 'carla', 'campaign', 'boston', 'bend', 'awaybr', 'audrey', 'altman', 'allens', 'agency', 'adolescent', 'addicted', 'vocal', 'uniformly', 'tunnel', 'trials', 'ton', 'thompson', 'swept', 'surgery', 'static', 'stairs', 'sorely', 'shopping', 'serving', 'screwed', 'screenwriters', 'satirical', 'rapist', 'praised', 'partially', 'parsons', 'paintings', 'outright', 'offbeat', 'novak', 'nemesis', 'minority', 'las', 'keen', 'item', 'institution', 'independence', 'incidentally', 'hangs', 'handles', 'freddys', 'firing', 'feeding', 'familybr', 'exceptions', 'esther', 'employed', 'drivein', 'disgusted', 'disguise', 'deserving', 'departure', 'coup', 'couch', 'controlled', 'continually', 'computers', 'chuckle', 'childs', 'charms', 'boyle', 'bars', 'backs', 'assassination', 'ambition', 'ace', '23', 'wax', 'toronto', 'token', 'tip', 'thrilled', 'threatened', 'sugar', 'shoulder', 'ripping', 'preferred', 'preachy', 'posey', 'pacific', 'outdated', 'northern', 'newer', 'neurotic', 'natives', 'nails', 'messy', 'mercy', 'melissa', 'macho', 'kidman', 'inspire', 'insightful', 'hilarity', 'hearted', 'hack', 'girlfriends', 'gate', 'garner', 'firmly', 'feat', 'farfetched', 'elite', 'earn', 'dylan', 'duck', 'disastrous', 'dirt', 'destroys', 'debate', 'curly', 'commenting', 'colin', 'cheer', 'centre', 'cassavetes', 'camcorder', 'bully', 'bridges', 'brendan', 'boxer', 'bowl', 'bondage', 'bogus', 'bates', 'bacon', 'artwork', 'artsy', 'arthouse', 'accurately', '4th', '1988', '1981', 'yeti', 'windows', 'wheres', 'vile', 'vain', 'unlikeable', 'uma', 'triangle', 'traffic', 'topics', 'suggestion', 'subtly', 'strings', 'steele', 'stalker', 'speeches', 'somethingbr', 'sleeps', 'sincerely', 'sharing', 'shaking', 'rooting', 'refuse', 'readers', 'predecessor', 'organized', 'obtain', 'norm', 'neatly', 'mutual', 'mayhem', 'males', 'liners', 'leigh', 'layers', 'kline', 'info', 'hides', 'healthy', 'harrison', 'guinness', 'gillian', 'fist', 'fade', 'excess', 'evolution', 'entered', 'engrossing', 'endingbr', 'election', 'duration', 'dudley', 'doo', 'donebr', 'disorder', 'destined', 'describing', 'demonic', 'containing', 'concepts', 'completed', 'chavez', 'centered', 'cartoonish', 'brooding', 'boringbr', 'boasts', 'bent', 'audition', 'anton', '22', '1976', '1969', '1000', 'woo', 'wig', 'weather', 'weaker', 'wanders', 'vastly', 'undead', 'triple', 'ta', 'stopping', 'stack', 'sometime', 'sobr', 'skit', 'seedy', 'saint', 'rope', 'reruns', 'rendered', 'relentless', 'refers', 'raj', 'quaid', 'punches', 'profession', 'politician', 'pole', 'originals', 'nope', 'newman', 'mesmerizing', 'masterfully', 'mannerisms', 'loretta', 'lifes', 'leaders', 'jess', 'injured', 'hungry', 'hugely', 'hires', 'helpless', 'helpful', 'hartley', 'guards', 'genie', 'gal', 'frances', 'exquisite', 'elevator', 'des', 'deny', 'dazzling', 'damaged', 'critique', 'christine', 'carmen', 'bulk', 'boris', 'beware', 'authorities', 'applaud', 'anyones', 'affects', 'advertised', '1945', 'wendigo', 'users', 'unsuspecting', 'tower', 'tops', 'thunderbirds', 'tenant', 'tarantino', 'stunningly', 'strengths', 'statue', 'startling', 'stare', 'stallone', 'shorter', 'scoop', 'scariest', 'rides', 'restrained', 'residents', 'realities', 'randolph', 'racing', 'publicity', 'proving', 'preparing', 'passengers', 'owes', 'nut', 'nina', 'myth', 'motive', 'mixing', 'min', 'lukas', 'luis', 'lift', 'lauren', 'lasts', 'lasting', 'knowbr', 'knightley', 'jared', 'itselfbr', 'internal', 'ingrid', 'hulk', 'goodbye', 'gained', 'fifties', 'fastpaced', 'exploits', 'excellently', 'error', 'emerge', 'duvall', 'dropping', 'detract', 'demanding', 'crashes', 'contempt', 'conrad', 'cliches', 'chronicles', 'choosing', 'cbs', 'carey', 'candidate', 'btw', 'breed', 'bow', 'behold', 'backwards', 'alvin', 'alley', 'akin', 'activity', '\\x85', 'zizek', 'youthful', 'wardrobe', 'votes', 'vanessa', 'valentine', 'tokyo', 'timberlake', 'tara', 'suburban', 'storys', 'spree', 'soylent', 'sniper', 'sleaze', 'sinking', 'servants', 'screw', 'referring', 'rapidly', 'radical', 'puerto', 'promptly', 'poker', 'origins', 'origin', 'nolte', 'netflix', 'net', 'mutant', 'modest', 'misfortune', 'minister', 'miami', 'mail', 'macabre', 'lovebr', 'located', 'limitations', 'label', 'kent', 'justified', 'jordan', 'joker', 'jaw', 'insults', 'insights', 'inaccurate', 'highway', 'heels', 'grounds', 'globe', 'gimmick', 'giants', 'gere', 'galaxy', 'forbr', 'fools', 'fifth', 'factors', 'expertly', 'everbr', 'errol', 'entering', 'elsebr', 'eleven', 'dubious', 'dj', 'disguised', 'disappointedbr', 'didbr', 'deliverance', 'cracking', 'convinces', 'contribution', 'continuing', 'confronted', 'confront', 'compete', 'cerebral', 'casino', 'buys', 'bronson', 'breakfast', 'bitch', 'belt', 'banter', 'bachelor', 'authenticity', 'attenborough', 'ariel', 'approaches', 'antonio', 'anil', 'alexandre', 'abruptly', '21st', '1991', '1939', 'wander', 'walt', 'vividly', 'unsure', 'underwater', 'undeniably', 'tossed', 'tormented', 'toni', 'supply', 'sticking', 'sf', 'salvation', 'salt', 'rookie', 'ronald', 'reward', 'repulsive', 'repressed', 'regards', 'rampage', 'puppets', 'principals', 'phillip', 'perception', 'pale', 'painter', 'owns', 'ol', 'monty', 'mol', 'mitch', 'lowkey', 'lend', 'landed', 'jarring', 'interact', 'insanity', 'inherent', 'homicide', 'homes', 'heavyhanded', 'growth', 'greatbr', 'grateful', 'formed', 'fords', 'expects', 'eventual', 'endlessly', 'differently', 'derivative', 'depths', 'definitive', 'dandy', 'crapbr', 'convicted', 'confident', 'conan', 'comedybr', 'colours', 'cents', 'braveheart', 'bmovies', 'bitten', 'biblical', 'austen', 'approaching', 'altered', 'accessible', '1977', 'yokai', 'witchcraft', 'wisely', 'vehicles', 'unattractive', 'terminator', 'survives', 'stranded', 'spies', 'siblings', 'sg1', 'separated', 'sensible', 'scriptbr', 'sale', 'runner', 'reviewing', 'published', 'pray', 'polly', 'pickup', 'photographs', 'peck', 'overblown', 'outline', 'nominations', 'natalie', 'moe', 'mobile', 'mice', 'meandering', 'mathieu', 'marc', 'letdown', 'juliet', 'jules', 'judd', 'jedi', 'irene', 'incapable', 'imo', 'immortal', 'identical', 'heavens', 'hats', 'handheld', 'ham', 'gunga', 'goodlooking', 'godawful', 'glued', 'gates', 'frames', 'flimsy', 'flashes', 'fatale', 'exterior', 'exploit', 'exit', 'evelyn', 'eternity', 'energetic', 'ebert', 'dragons', 'dobr', 'dismal', 'devastating', 'depict', 'decidedly', 'damned', 'cries', 'conveyed', 'concentrate', 'cemetery', 'caricature', 'buzz', 'bruno', 'bravo', 'beforebr', 'barrel', 'assured', 'angst', 'ally', 'adore', 'zane', 'wtf', 'wonderland', 'wagner', 'volume', 'unimaginative', 'uniform', 'thoughbr', 'tapes', 'swallow', 'subway', 'sublime', 'stalking', 'sophie', 'soderbergh', 'simpsons', 'severed', 'scarface', 'rivers', 'respectable', 'reports', 'reminder', 'reliable', 'quantum', 'psychopath', 'promoted', 'principle', 'pleasing', 'playboy', 'performancebr', 'penn', 'pc', 'payoff', 'pattern', 'papers', 'owned', 'overbr', 'oldfashioned', 'niece', 'mermaid', 'longest', 'lester', 'lance', 'judgment', 'janes', 'intricate', 'inspirational', 'improbable', 'implied', 'homosexuality', 'hindi', 'harriet', 'fragile', 'filthy', 'farmer', 'expose', 'excruciatingly', 'entirety', 'enthusiastic', 'ensure', 'enhanced', 'dread', 'downs', 'divine', 'disgrace', 'disabled', 'demonstrate', 'delicious', 'cypher', 'cushing', 'cultures', 'crossing', 'crisp', 'crippled', 'creek', 'contribute', 'cons', 'combines', 'colleagues', 'cliffhanger', 'cleaning', 'clara', 'chopped', 'characteristics', 'cecil', 'butcher', 'butch', 'bug', 'bsg', 'bones', 'bloom', 'beowulf', 'arguing', 'arab', 'appeals', 'antonioni', 'africanamerican', 'addict', 'accounts', 'absorbing', '300', '1985', '1950', 'youtube', 'whiny', 'whining', 'victorian', 'vanilla', 'ultimatum', 'tremendously', 'tendency', 'switched', 'steam', 'sidewalk', 'sergeant', 'sentimentality', 'senior', 'seeming', 'scratch', 'salman', 'revolt', 'reeve', 'rainy', 'quentin', 'pursue', 'possess', 'popping', 'pirate', 'pickford', 'paula', 'parallels', 'packs', 'p', 'ominous', 'ohara', 'ny', 'noticeable', 'nightclub', 'nerves', 'morals', 'mitchum', 'missile', 'miranda', 'mindbr', 'lighter', 'lex', 'leather', 'kidnapping', 'jodie', 'jacket', 'immense', 'holocaust', 'hippies', 'habit', 'fairbanks', 'experiencing', 'estranged', 'escaping', 'embrace', 'email', 'dustin', 'drinks', 'divorced', 'distract', 'deer', 'decline', 'cyborg', 'collect', 'christina', 'budgets', 'boyer', 'bills', 'attacking', 'astounding', 'assembled', 'anyhow', 'answered', 'amrita', 'aided', 'affleck', '95', '28', '1994', '1974', '1920s', 'yours', 'wounds', 'wire', 'wilder', 'werewolves', 'wellacted', 'voyage', 'virtual', 'vince', 'updated', 'unsatisfying', 'turmoil', 'truman', 'toby', 'theories', 'sydney', 'sucker', 'subtext', 'stewarts', 'stardom', 'spectacle', 'spaghetti', 'sought', 'seymour', 'selected', 'sand', 'rounded', 'reviewed', 'resulted', 'resolved', 'rescued', 'remembering', 'rebellious', 'precode', 'postwar', 'pin', 'peculiar', 'peaceful', 'messing', 'manbr', 'magician', 'longtime', 'longing', 'lola', 'logan', 'literal', 'liam', 'lavish', 'kurosawa', 'knocks', 'juliette', 'jill', 'jaded', 'isolation', 'havoc', 'hackman', 'grass', 'goldblum', 'glaring', 'ghetto', 'garland', 'gable', 'forgiven', 'foolish', 'followup', 'fills', 'expectation', 'exorcist', 'earnest', 'disgust', 'dilemma', 'denis', 'demonstrated', 'deliberate', 'daysbr', 'dashing', 'dame', 'crown', 'crashing', 'corporation', 'copied', 'conveniently', 'contestants', 'collective', 'classy', 'clash', 'christie', 'chill', 'cheaply', 'casper', 'begging', 'bach', 'avoiding', 'asia', 'approached', 'amazon', 'alleged', 'aiming', 'adrian', '21', '200', '19', '\\x97', 'yep', 'worms', 'whites', 'wartime', 'verdict', 'vega', 'traits', 'trains', 'tourist', 'tonys', 'thieves', 'thelma', 'taped', 'swearing', 'suspected', 'spit', 'spencer', 'span', 'snuff', 'slip', 'slaves', 'slapped', 'skilled', 'settled', 'serials', 'scotts', 'samantha', 'rowlands', 'romeo', 'ritchie', 'relentlessly', 'rehash', 'rear', 'quarter', 'q', 'potter', 'poses', 'pocket', 'plotting', 'planets', 'pad', 'odyssey', 'mystical', 'mum', 'morons', 'melvyn', 'liveaction', 'liu', 'lightning', 'laurie', 'kellys', 'keatons', 'karate', 'judged', 'jobbr', 'jealousy', 'indiana', 'hayworth', 'goods', 'gentlemen', 'gamera', 'feast', 'executives', 'excuses', 'establish', 'erika', 'enhance', 'dump', 'dramatically', 'diverse', 'delighted', 'define', 'debt', 'dealer', 'contributed', 'commits', 'coat', 'climb', 'cinemabr', 'cher', 'celebrated', 'canceled', 'bw', 'burke', 'borders', 'bombs', 'bittersweet', 'aussie', 'arriving', 'arc', 'admired', 'addiction', 'acquired', 'achieves', 'accepting', '1959', 'yawn', 'worsebr', 'wiped', 'vintage', 'vanity', 'underwear', 'ultra', 'uh', 'tool', 'tax', 'taboo', 'suggesting', 'strict', 'stella', 'spice', 'slugs', 'shepherd', 'serum', 'seebr', 'seductive', 'seasoned', 'sarcastic', 'romances', 'ritual', 'rewarding', 'remembers', 'redundant', 'readily', 'races', 'pumbaa', 'psychologist', 'preminger', 'predictably', 'posing', 'populated', 'planes', 'pirates', 'phenomenal', 'pedestrian', 'pause', 'overboard', 'novelty', 'nbc', 'moron', 'mason', 'lunch', 'loy', 'likeable', 'legitimate', 'leap', 'korea', 'jersey', 'introducing', 'intentional', 'insist', 'inmates', 'informed', 'incorrect', 'immigrant', 'horny', 'hepburn', 'headache', 'gypo', 'guinea', 'graveyard', 'furniture', 'frontier', 'freaky', 'fluid', 'flavor', 'explosive', 'exploding', 'expense', 'drab', 'delightfully', 'deliciously', 'defies', 'dads', 'cuban', 'covering', 'courtroom', 'cookie', 'comprehend', 'commitment', 'cohen', 'circles', 'cheek', 'cape', 'bye', 'breakdown', 'brainless', 'bounty', 'bestbr', 'basket', 'backbr', 'axe', 'attending', 'amidst', '1944', 'wine', 'wider', 'watchingbr', 'wastes', 'unsympathetic', 'trace', 'tongueincheek', 'tolerable', 'thirties', 'symbol', 'stylized', 'stroke', 'stephanie', 'steer', 'slide', 'sixth', 'shockingly', 'sgt', 'sells', 'screwball', 'robbers', 'ricky', 'respects', 'redneck', 'ranch', 'pushes', 'produces', 'pound', 'possession', 'possesses', 'politicians', 'polish', 'poe', 'pixar', 'pilots', 'phase', 'passage', 'parking', 'pans', 'otto', 'nuances', 'newcomer', 'mysteriously', 'mouths', 'mortal', 'mins', 'medieval', 'meantime', 'lucille', 'lethal', 'lends', 'lean', 'kinnear', 'jacques', 'ira', 'instincts', 'hybrid', 'gwyneth', 'groundbreaking', 'gilbert', 'gielgud', 'franklin', 'foundation', 'firstrate', 'festivals', 'experiencebr', 'europeans', 'establishing', 'encountered', 'embarrassingly', 'einstein', 'dominated', 'deciding', 'debbie', 'deanna', 'daylewis', 'crosby', 'counter', 'corbett', 'consist', 'consideration', 'clive', 'cliched', 'clerk', 'cigarette', 'charlies', 'caron', 'carnage', 'cal', 'branaghs', 'beg', 'barbra', 'bachchan', 'awakening', 'attended', 'arrest', 'arranged', 'apply', 'anytime', 'anxious', 'additionally', 'actorsbr', '10br', 'xfiles', 'viewpoint', 'unusually', 'unanswered', 'tickets', 'tactics', 'stating', 'stabbed', 'sparks', 'sources', 'session', 'scorsese', 'scored', 'sarandon', 'salesman', 'routines', 'roughly', 'rider', 'reverse', 'rejects', 'rational', 'queens', 'pursued', 'psyche', 'porter', 'pfeiffer', 'penelope', 'ordeal', 'optimistic', 'olivia', 'obstacles', 'obsessive', 'noteworthy', 'neglected', 'narrow', 'mute', 'motions', 'misunderstood', 'milo', 'mens', 'marilyn', 'longoria', 'laterbr', 'kubricks', 'keys', 'kazan', 'kathy', 'jury', 'july', 'jewel', 'invite', 'invention', 'informative', 'indifferent', 'indicate', 'incidents', 'huston', 'horrified', 'hop', 'herbert', 'hateful', 'haines', 'gloria', 'freaking', 'forgetting', 'flock', 'flickbr', 'feminine', 'feeble', 'exploited', 'explodes', 'excruciating', 'en', 'dumped', 'dumbest', 'duel', 'document', 'distress', 'distracted', 'diary', 'denise', 'degrees', 'deathbr', 'daisy', 'controlling', 'compliment', 'clone', 'cindy', 'casablanca', 'busey', 'brides', 'breathing', 'blandings', 'begs', 'arty', 'armstrong', 'anticipated', 'anthology', 'aftermath', 'adaption', 'abandon', '99', '1975', '1953', 'whore', 'warns', 'void', 'veterans', 'verbal', 'varied', 'upcoming', 'uncanny', 'un', 'tvs', 'turd', 'translate', 'thurman', 'targets', 'sundance', 'stations', 'spiderman', 'sickening', 'sensebr', 'sanders', 'rosemarys', 'rightbr', 'relevance', 'regularly', 'rambling', 'puzzle', 'pros', 'products', 'pointing', 'pathos', 'participants', 'ofbr', 'niven', 'mythology', 'murky', 'moss', 'mormon', 'monologue', 'minnelli', 'meal', 'mcqueen', 'martian', 'mama', 'jenna', 'iranian', 'intensely', 'instances', 'inaccuracies', 'historybr', 'hannah', 'grandma', 'grabbed', 'goals', 'generate', 'gangs', 'fright', 'freeze', 'frantic', 'flower', 'fishburne', 'eagerly', 'distraction', 'depictions', 'debra', 'daylight', 'darth', 'cunningham', 'corn', 'corman', 'corey', 'cooking', 'convention', 'combs', 'columbia', 'ches', 'centuries', 'cannes', 'biopic', 'belly', 'arquette', 'arguments', 'angie', 'agony', 'aggressive', 'afterward', '34', '1998', '1940', 'zorro', 'z', 'widowed', 'whybr', 'upside', 'update', 'tuned', 'traps', 'tomei', 'tcm', 'swinging', 'suspicion', 'sunrise', 'statements', 'starters', 'starsbr', 'stance', 'spine', 'sondra', 'shifts', 'shift', 'services', 'seats', 'sang', 'rounds', 'rosario', 'resembling', 'replies', 'releasing', 'relating', 'realization', 'realistically', 'predator', 'policy', 'plodding', 'phones', 'paths', 'parks', 'paints', 'overbearing', 'nerve', 'naschy', 'motorcycle', 'midst', 'mates', 'masterson', 'manners', 'lurking', 'lowe', 'lip', 'lions', 'lionel', 'launch', 'laputa', 'kidnap', 'juan', 'jose', 'jolie', 'intro', 'interestingbr', 'inclusion', 'ignoring', 'hyped', 'hoot', 'herman', 'heath', 'harlow', 'hadley', 'grip', 'gooding', 'glimpses', 'glance', 'gallery', 'funding', 'forties', 'followers', 'flames', 'fanatic', 'exclusively', 'evans', 'enigmatic', 'enchanted', 'employee', 'economic', 'dumber', 'dismiss', 'discussed', 'dillinger', 'deputy', 'deed', 'curiously', 'criticize', 'controversy', 'coffin', 'click', 'claude', 'carpenters', 'bogart', 'blamed', 'berkeley', 'begun', 'august', 'ambitions', 'ambiguity', 'admitted', '85', '1982', '1948', 'wong', 'warden', 'uniforms', 'troma', 'syndrome', 'sweden', 'surroundings', 'substantial', 'stuffbr', 'stream', 'stiles', 'sterling', 'stereotyped', 'stardust', 'stalked', 'snowman', 'snipes', 'smash', 'sly', 'skinny', 'sketches', 'shore', 'shepard', 'sentences', 'selfindulgent', 'scripting', 'scenarios', 'scarecrows', 'saloon', 'safely', 'rupert', 'ruining', 'rewarded', 'reunite', 'reiser', 'reflected', 'qualify', 'popped', 'platform', 'periods', 'pains', 'ownbr', 'omar', 'offscreen', 'october', 'necessity', 'narrated', 'murderers', 'moneybr', 'moms', 'miyazaki', 'meteor', 'maureen', 'maintains', 'mabel', 'linked', 'lastly', 'kris', 'kathleen', 'imaginary', 'ignores', 'idol', 'hinted', 'hines', 'haunt', 'goldie', 'gloomy', 'gigantic', 'gestures', 'gap', 'frontal', 'frog', 'fried', 'foremost', 'foil', 'fleshed', 'factual', 'extensive', 'envy', 'enoughbr', 'educated', 'edith', 'dynamics', 'dreamy', 'dominic', 'cycle', 'county', 'consequently', 'consequence', 'comeback', 'cheadle', 'chamber', 'capacity', 'campus', 'bosses', 'biker', 'battlestar', 'backed', 'avid', 'assignment', 'apt', 'applies', 'applied', 'angelina', 'ample', 'alot', 'abortion', '1934', 'witnessing', 'wheel', 'wayans', 'valid', 'unstable', 'unfolding', 'ugh', 'trier', 'tones', 'tho', 'therapy', 'soprano', 'smell', 'slim', 'sins', 'sights', 'sheets', 'shaggy', 'sebastian', 'schneider', 'schedule', 'sammo', 'sailor', 'russ', 'rodriguez', 'robertson', 'rips', 'revolving', 'revival', 'reunited', 'resume', 'resistance', 'replacement', 'repeats', 're', 'protest', 'precise', 'pose', 'pornography', 'phantasm', 'pegg', 'paranoid', 'observe', 'nuanced', 'muslims', 'moviemaking', 'moviegoers', 'momentum', 'momentsbr', 'mick', 'medicine', 'marisa', 'knights', 'kells', 'jacks', 'israeli', 'islands', 'investigator', 'invested', 'intact', 'insomnia', 'homicidal', 'gus', 'graduate', 'georgia', 'genrebr', 'gaps', 'frozen', 'entrance', 'eli', 'du', 'diner', 'denouement', 'delirious', 'daytime', 'collins', 'clunky', 'clay', 'characterizations', 'characterisation', 'chamberlain', 'castbr', 'carlos', 'cap', 'cab', 'bubble', 'brooke', 'breast', 'bonnie', 'blockbusters', 'bleed', 'blaise', 'biting', 'bikini', 'benefits', 'beckinsale', 'bats', 'bait', 'awfulbr', 'assure', 'arrow', 'array', 'arkin', 'anita', 'alliance', 'acknowledge', '1992', '101', 'weekly', 'waking', 'vivian', 'villainous', 'unhinged', 'tomb', 'tire', 'throughbr', 'thereby', 'talky', 'supreme', 'sufficient', 'studied', 'stern', 'stadium', 'spider', 'sour', 'sonny', 'skeptical', 'sitcoms', 'similarity', 'silverman', 'shotgun', 'shocks', 'sherlock', 'sheen', 'sensibility', 'seduce', 'sarcasm', 'rolls', 'rightly', 'retelling', 'reserved', 'relying', 'rebels', 'realises', 'raging', 'questioning', 'prophecy', 'playwright', 'pivotal', 'parrot', 'offend', 'networks', 'needing', 'mustve', 'moviei', 'marked', 'lynchs', 'lopez', 'lil', 'landmark', 'laboratory', 'jude', 'joking', 'johns', 'johansson', 'interrupted', 'inadvertently', 'hysterically', 'hooker', 'hayes', 'geisha', 'gathering', 'fuzzy', 'fundamental', 'fortunate', 'fleet', 'famed', 'ernie', 'entertainingbr', 'enchanting', 'displaying', 'detroit', 'deemed', 'customers', 'crushed', 'cow', 'commanding', 'colored', 'collette', 'coke', 'clooney', 'childlike', 'chiba', 'cheers', 'boundaries', 'bias', 'bc', 'bauer', 'balanced', 'babes', 'artistry', 'admits', 'abound', '1967', 'ww2', 'worldwide', 'washed', 'wash', 'visitor', 'vignettes', 'vargas', 'usbr', 'upstairs', 'unnatural', 'unfamiliar', 'understandably', 'unclear', 'truths', 'trivial', 'trauma', 'sweat', 'sunset', 'substitute', 'subsequently', 'subgenre', 'stumble', 'stake', 'spotlight', 'smug', 'shred', 'shameless', 'scheming', 'samuel', 'rice', 'republic', 'reminding', 'reluctantly', 'randall', 'quintessential', 'puppy', 'psychedelic', 'progressed', 'professionals', 'phoenix', 'penned', 'olsen', 'observations', 'northam', 'nauseating', 'myrna', 'maximum', 'mandy', 'madsen', 'madeleine', 'lunatic', 'janet', 'iturbi', 'interviewed', 'interior', 'insert', 'howling', 'hostel', 'hitchcocks', 'harrowing', 'hardened', 'handicapped', 'gackt', 'fuel', 'fruit', 'frombr', 'forgets', 'finishing', 'finishes', 'favourites', 'fassbinder', 'fart', 'evokes', 'epics', 'enduring', 'egyptian', 'drowned', 'doug', 'divided', 'diversity', 'district', 'disco', 'determination', 'despise', 'demille', 'deathtrap', 'criticized', 'coworker', 'courtesy', 'convent', 'controls', 'confined', 'complications', 'comparable', 'commendable', 'chew', 'cheerful', 'charges', 'chaotic', 'celebrities', 'caretaker', 'caprica', 'bust', 'brett', 'boots', 'boogie', 'beckham', 'bakshis', 'baddies', 'awareness', 'arrogance', 'arebr', 'announced', 'ala', 'ajay', 'addressed', 'accompanying', 'accidental', '1943', 'yell', 'wright', 'wholesome', 'whod', 'whimsical', 'verge', 'unnecessarily', 'um', 'travis', 'transparent', 'traditions', 'titular', 'timmy', 'tide', 'thrust', 'thailand', 'testing', 'temper', 'tashan', 'targeted', 'sylvia', 'surround', 'summed', 'spoiling', 'sincerity', 'sholay', 'shannon', 'seth', 'semblance', 'scarlett', 'sanity', 'salvage', 'roses', 'relaxed', 'recover', 'rea', 'python', 'programme', 'perverted', 'participate', 'owl', 'outlandish', 'orchestra', 'olds', 'occult', 'obscurity', 'musicbr', 'monotonous', 'monks', 'misty', 'meadows', 'mccarthy', 'martians', 'magically', 'license', 'lens', 'laying', 'krueger', 'kirsten', 'kindly', 'judges', 'interpretations', 'inserted', 'injury', 'infinitely', 'hunted', 'hostile', 'hostage', 'hiphop', 'himselfbr', 'hawn', 'hallmark', 'gut', 'guardian', 'gorilla', 'galactica', 'flows', 'file', 'fascist', 'fairytale', 'explode', 'entries', 'earliest', 'dynamite', 'distributed', 'destination', 'deeds', 'cutter', 'convenient', 'considers', 'composition', 'colleague', 'cmon', 'chuckles', 'chong', 'characteristic', 'captivated', 'camping', 'cameraman', 'cain', 'burial', 'brent', 'brat', 'bonds', 'bonanza', 'blackandwhite', 'baron', 'backstory', 'aroundbr', 'antagonist', 'annoy', 'affecting', 'adele', '1963', '1951', 'wrestler', 'winners', 'whove', 'wherever', 'wesley', 'walmart', 'vomit', 'variation', 'upbeat', 'understatement', 'underdeveloped', 'unappealing', 'turkish', 'toxic', 'toned', 'thunder', 'taut', 'takashi', 'suzanne', 'sunk', 'stuffed', 'stepmother', 'sporting', 'spoilerbr', 'smiths', 'slashers', 'sho', 'searched', 'se', 'scoobydoo', 'satisfaction', 'sane', 'sales', 'robbed', 'rivals', 'resolve', 'remark', 'recreate', 'raunchy', 'rampant', 'protection', 'preaching', 'portuguese', 'plate', 'pizza', 'pigs', 'philo', 'partbr', 'outrageously', 'othersbr', 'orphan', 'openly', 'observation', 'nun', 'novelist', 'nightmarish', 'motel', 'mister', 'miraculously', 'miikes', 'melancholy', 'marcel', 'manipulation', 'macdonald', 'listened', 'kinski', 'jagger', 'intend', 'inclined', 'incestuous', 'implies', 'hooper', 'herd', 'happenbr', 'gypsy', 'grin', 'ghastly', 'fritz', 'flashing', 'flag', 'finney', 'fetish', 'faded', 'eyesbr', 'exploitative', 'excels', 'engine', 'elsa', 'elliott', 'elephants', 'ealing', 'dwight', 'dvdbr', 'duh', 'drowning', 'drift', 'dragging', 'devotion', 'dangerously', 'dallas', 'dahmer', 'dafoe', 'crosses', 'crossed', 'crooks', 'creasy', 'counting', 'constraints', 'complained', 'compensate', 'communication', 'committing', 'coma', 'cocaine', 'clouds', 'clarity', 'cena', 'cancelled', 'borrow', 'blazing', 'benjamin', 'bearing', 'beard', 'battlefield', 'banks', 'awaiting', 'avoids', 'article', 'almighty', 'aesthetic', 'admission', 'adapt', 'achievements', 'aaron', '010', 'zodiac', 'wheelchair', 'watcher', 'warrant', 'voyager', 'voodoo', 'vcr', 'vapid', 'uneasy', 'unconventional', 'traumatic', 'transport', 'tools', 'tess', 'stabbing', 'ss', 'spontaneous', 'spiral', 'sophia', 'somethings', 'slower', 'sinks', 'shoe', 'sharks', 'shameful', 'shahid', 'shah', 'sexist', 'sergio', 'serbian', 'senator', 'sections', 'seattle', 'screened', 'satanic', 'runaway', 'ruled', 'rolesbr', 'robotic', 'riff', 'restraint', 'rendering', 'remainder', 'reasonbr', 'ram', 'prop', 'progression', 'proceed', 'pretends', 'presidential', 'practical', 'plug', 'permanent', 'peggy', 'palm', 'overtones', 'overshadowed', 'originalbr', 'oblivious', 'nutshell', 'moores', 'mole', 'mock', 'mentor', 'lookalike', 'locke', 'lennon', 'juice', 'joining', 'jj', 'je', 'jan', 'jackman', 'isabelle', 'irritated', 'impending', 'ideabr', 'hometown', 'homebr', 'henchmen', 'gretchen', 'govinda', 'glossy', 'gilliam', 'ghostly', 'gena', 'garfield', 'frat', 'flavia', 'fires', 'fashions', 'fairness', 'facility', 'excellence', 'evoke', 'everett', 'ernest', 'epitome', 'enormously', 'encouraged', 'drivers', 'dreaming', 'distinction', 'desk', 'deepest', 'creations', 'courageous', 'coolest', 'contestant', 'confuse', 'conductor', 'climbing', 'classmates', 'clad', 'circa', 'chloe', 'cheering', 'celebrate', 'cedric', 'carlitos', 'buttons', 'busby', 'burnt', 'betrayed', 'bernsen', 'battling', 'bashing', 'awarded', 'avenge', 'automatic', 'aunts', 'assumes', 'artemisia', 'apple', 'apocalypse', 'advised', 'admiration', 'abundance', 'absorbed', '26', '1932', 'warehouse', 'versionbr', 'val', 'unleashed', 'transforms', 'thingsbr', 'theodore', 'superstar', 'submarine', 'suave', 'stab', 'solved', 'slater', 'sickness', 'sheep', 'shaped', 'selfcentered', 'secure', 'screenplays', 'rourke', 'roller', 'rivalry', 'riders', 'respond', 'reported', 'razor', 'raid', 'qualifies', 'quaint', 'pursuing', 'prologue', 'projected', 'principles', 'priests', 'possiblebr', 'plotline', 'picturebr', 'paz', 'pauline', 'ostensibly', 'organization', 'occupied', 'noting', 'notices', 'ninety', 'myrtle', 'meyer', 'meredith', 'meek', 'masked', 'marijuana', 'magazines', 'macmurray', 'linear', 'lindy', 'labeled', 'jo', 'jar', 'informer', 'incidental', 'incest', 'hum', 'hobgoblins', 'greene', 'goat', 'giovanna', 'gig', 'garage', 'fraud', 'ferrell', 'feinstone', 'failures', 'fades', 'experts', 'espionage', 'employees', 'electronic', 'effortlessly', 'eagle', 'dominate', 'distinctive', 'disregard', 'disappearance', 'diego', 'demeanor', 'defending', 'deadpan', 'dc', 'cursed', 'criticisms', 'convict', 'conveying', 'colony', 'coburn', 'clyde', 'chops', 'choir', 'chip', 'carpet', 'capote', 'caper', 'candle', 'brazilian', 'brashear', 'bout', 'bookbr', 'boobs', 'blondell', 'bimbo', 'bert', 'beforehand', 'beers', 'auto', 'assistance', 'antihero', 'ambiance', '1966', '1958', 'zelah', 'yells', 'worrying', 'woefully', 'weirdness', 'warners', 'warhols', 'vigilante', 'uncertain', 'turtle', 'torment', 'tolerance', 'tits', 'tightly', 'theatres', 'tended', 'tech', 'tackle', 'symbols', 'switching', 'sustain', 'strung', 'starship', 'spoofs', 'socially', 'sober', 'snap', 'slept', 'slavery', 'sites', 'signature', 'sensual', 'sensitivity', 'scriptwriter', 'sandy', 'saints', 'russo', 'revolver', 'responds', 'reject', 'rebellion', 'realbr', 'prostitution', 'prostitutes', 'predecessors', 'prank', 'pornographic', 'pompous', 'playful', 'pierre', 'patty', 'outset', 'ongoing', 'officially', 'offense', 'obrien', 'ninjas', 'nest', 'motivated', 'monroe', 'mira', 'mills', 'middleclass', 'marines', 'manipulated', 'managing', 'malden', 'mae', 'madison', 'lifelong', 'lara', 'lampoon', 'joint', 'jigsaw', 'investment', 'interiors', 'informs', 'inform', 'influential', 'influences', 'ideals', 'idealistic', 'highschool', 'harron', 'grease', 'gershwin', 'geek', 'gandolfini', 'frost', 'framing', 'forgiveness', 'filmography', 'fiend', 'fiancée', 'farmers', 'englund', 'edison', 'edges', 'dunst', 'dreyfuss', 'drawings', 'doyle', 'discipline', 'digging', 'detached', 'davids', 'croc', 'crashed', 'conscious', 'confines', 'combining', 'colman', 'cohesive', 'closure', 'clinic', 'cheech', 'cells', 'burgess', 'budding', 'brandon', 'bodyguard', 'boards', 'bloodbath', 'bless', 'blames', 'bennett', 'bean', 'barney', 'barnes', 'badness', 'associate', 'annoyance', 'ang', 'alonebr', 'ads', 'admirer', 'abomination', '1955', 'waynes', 'vincenzo', 'vet', 'varying', 'unravel', 'troopers', 'travolta', 'transported', 'tramp', 'tolerate', 'throwaway', 'theirs', 'surrender', 'superfluous', 'stupidbr', 'stink', 'standpoint', 'stabs', 'spelling', 'spade', 'spaceship', 'slam', 'shrek', 'shoved', 'shootouts', 'shield', 'seuss', 'seriousness', 'scratching', 'sara', 'sammy', 'sailors', 'sacrifices', 'rewrite', 'replacing', 'reasoning', 'reagan', 'protective', 'programming', 'pressed', 'policemen', 'polar', 'perverse', 'perspectives', 'peril', 'pen', 'peers', 'parodies', 'palmas', 'pairing', 'padding', 'oprah', 'norris', 'nearest', 'mythical', 'mustache', 'morse', 'monica', 'mixes', 'mines', 'midget', 'merry', 'mercifully', 'marrying', 'marine', 'marcus', 'manic', 'maintaining', 'lurid', 'loren', 'lingering', 'liberty', 'lays', 'kareena', 'kalifornia', 'justification', 'jurassic', 'jewelry', 'irving', 'interplay', 'inexperienced', 'inconsistencies', 'imitate', 'imho', 'identified', 'holt', 'happenings', 'hallucinations', 'gruff', 'groove', 'griffiths', 'grating', 'grandpa', 'goodman', 'gino', 'geoffrey', 'gadgets', 'functions', 'forrest', 'fodder', 'flowing', 'fixed', 'facebr', 'fabric', 'existing', 'emphasize', 'egg', 'economy', 'echoes', 'division', 'diving', 'distorted', 'dish', 'directtovideo', 'dim', 'dictator', 'determine', 'dern', 'derived', 'depend', 'damsel', 'cunning', 'crowded', 'cringing', 'cravens', 'cracks', 'coworkers', 'counterparts', 'consciousness', 'connie', 'conclusions', 'concentration', 'collector', 'collapse', 'cody', 'captive', 'cannibals', 'buffy', 'britney', 'breathe', 'boyfriends', 'blessed', 'bites', 'berenger', 'believability', 'beetle', 'awry', 'asset', 'animations', 'anguish', 'amid', 'allan', 'alexandra', 'advances', 'acclaim', '1946', 'yearbr', 'yarn', 'widower', 'weary', 'villa', 'vertigo', 'uptight', 'tsui', 'trigger', 'transplant', 'torturing', 'temptation', 'systems', 'switches', 'surf', 'subtitled', 'structured', 'strained', 'stoned', 'steaming', 'stares', 'staging', 'spelled', 'sorrow', 'slut', 'simons', 'significantly', 'showcases', 'shelter', 'sensibilities', 'sensational', 'seduction', 'sasquatch', 'russians', 'rousing', 'romania', 'representing', 'representative', 'regime', 'reese', 'reckless', 'radiation', 'profoundly', 'portions', 'plagued', 'placement', 'pia', 'paycheck', 'pals', 'paired', 'overwrought', 'outlaw', 'ossessione', 'orlando', 'opposition', 'officials', 'natali', 'muni', 'monologues', 'mobster', 'melbourne', 'mcadams', 'marvin', 'manga', 'mack', 'luxury', 'lords', 'loony', 'longbr', 'locate', 'locale', 'lo', 'linebr', 'lightweight', 'lifts', 'liberties', 'lars', 'kristofferson', 'kidnaps', 'keanu', 'katie', 'k', 'inhabit', 'identities', 'heroines', 'henchman', 'heather', 'heap', 'hartleys', 'hardboiled', 'hanzo', 'hans', 'han', 'hairy', 'haha', 'grossly', 'graces', 'gibson', 'genetic', 'gathered', 'gasp', 'funky', 'foreboding', 'flew', 'fiery', 'federal', 'faye', 'faint', 'examine', 'er', 'entertains', 'engineer', 'elected', 'egypt', 'edmund', 'earns', 'duchovny', 'drummer', 'drastically', 'downfall', 'downbeat', 'dom', 'disappoints', 'depardieu', 'denying', 'dedication', 'deck', 'decency', 'dash', 'darkly', 'czech', 'cradle', 'cowardly', 'coward', 'cousins', 'contributes', 'continuously', 'confronts', 'condemned', 'communism', 'cloak', 'censorship', 'categories', 'cages', 'butchered', 'brush', 'borrows', 'bon', 'benny', 'bastard', 'bartender', 'animators', 'anchors', 'altmans', 'ali', 'airing', 'adultery', 'actionbr', 'abu', 'zu', 'youngsters', 'wielding', 'warbr', 'visconti', 'virtue', 'vaughn', 'uninspiring', 'underused', 'undercover', 'tricked', 'transitions', 'tina', 'threads', 'thereafter', 'tasty', 'taime', 'sykes', 'sweeping', 'surgeon', 'supportive', 'supermarket', 'sucking', 'subdued', 'straighttovideo', 'stirring', 'spotted', 'spells', 'sophistication', 'snowy', 'sleeper', 'sixteen', 'shrill', 'shiny', 'shelves', 'shaun', 'sensation', 'scattered', 'romanian', 'rogue', 'rockets', 'retirement', 'register', 'redford', 'rapes', 'puzzled', 'prolific', 'presume', 'premiered', 'prefers', 'preferably', 'pleasures', 'pepper', 'pecker', 'owe', 'oscarwinning', 'optimism', 'ogre', 'nuns', 'nora', 'nifty', 'myra', 'monday', 'modernday', 'mediocrity', 'maurice', 'massey', 'madman', 'loner', 'liotta', 'lindsey', 'likebr', 'ledger', 'lds', 'lawn', 'latino', 'laser', 'languages', 'knocking', 'knees', 'intelligently', 'intellectually', 'injustice', 'increase', 'imprisoned', 'impressions', 'illustrate', 'il', 'icons', 'hypnotic', 'hurry', 'hunky', 'hugo', 'hmm', 'halfhour', 'golf', 'goldsworthy', 'godard', 'glow', 'glenda', 'gently', 'geniuses', 'fuss', 'freed', 'freaked', 'fierce', 'fewer', 'fence', 'fellini', 'fanning', 'fallon', 'eyed', 'extraordinarily', 'expresses', 'ewoks', 'establishment', 'erabr', 'ensue', 'engagement', 'emmy', 'eh', 'echo', 'ebay', 'drum', 'dreamlike', 'dodgy', 'distinctly', 'developments', 'deservedly', 'della', 'defy', 'dealers', 'crypt', 'crooked', 'cowritten', 'correctness', 'coop', 'consumed', 'conniving', 'confirmed', 'collaboration', 'cockney', 'clutter', 'cloth', 'clockwork', 'client', 'clarence', 'chemical', 'cheesiness', 'chans', 'ceremony', 'ceiling', 'capitalism', 'byron', 'brit', 'bothers', 'booth', 'boost', 'boogeyman', 'bliss', 'bleeding', 'billing', 'belle', 'bart', 'aura', 'atrocity', 'atlantic', 'artistically', 'applause', 'apollo', 'anti', 'alter', 'allies', 'alarm', 'aircraft', 'accomplishment', 'abstract', 'abroad', 'aboard', '20s', 'zhang', 'zany', 'yourselfbr', 'wrongly', 'willingly', 'visceral', 'verhoevens', 'unwilling', 'trusted', 'trendy', 'traveled', 'todaybr', 'thug', 'thereof', 'taker', 'supports', 'succession', 'strain', 'springs', 'slowmotion', 'slips', 'sleepy', 'slaughtered', 'sinatras', 'simpler', 'shout', 'shocker', 'shawn', 'shady', 'sematary', 'scarlet', 'scarier', 'satisfactory', 'roommates', 'romeros', 'rodney', 'robbing', 'roads', 'rhyme', 'retrieve', 'reportedly', 'relates', 'recovering', 'ravishing', 'rapid', 'rant', 'proudly', 'protecting', 'proportions', 'prone', 'promoting', 'predicted', 'predictability', 'preacher', 'potent', 'plummer', 'photograph', 'peterson', 'periodbr', 'perceived', 'overtly', 'operating', 'operate', 'oneill', 'notwithstanding', 'nerdy', 'natasha', 'mutants', 'muscular', 'muriel', 'mud', 'moderately', 'mockery', 'mishmash', 'messbr', 'maturity', 'mastermind', 'manipulate', 'luthor', 'lure', 'lt', 'lorre', 'lists', 'limp', 'legion', 'lawyers', 'launched', 'lansbury', 'knives', 'kilmer', 'kenny', 'judgement', 'joshua', 'imply', 'illusion', 'icy', 'henderson', 'helena', 'heavenly', 'heartless', 'harilal', 'grisly', 'grendel', 'grandparents', 'governments', 'gosh', 'gobr', 'gladiator', 'gi', 'fur', 'fulfilling', 'fulfill', 'friendsbr', 'forsythe', 'forbes', 'fleeting', 'fleeing', 'flamboyant', 'fighters', 'fetched', 'fastforward', 'farrah', 'fagin', 'exgirlfriend', 'encourages', 'electricity', 'elder', 'dunne', 'drain', 'doris', 'denver', 'defining', 'deborah', 'data', 'darius', 'daria', 'cynicism', 'cowrote', 'corbin', 'conflicted', 'comprised', 'cinematographic', 'christensen', 'chevy', 'chandler', 'censors', 'bs', 'brick', 'breakthrough', 'bloke', 'blackmail', 'bitchy', 'bing', 'barton', 'ballroom', 'baddie', 'backdrops', 'autobiography', 'attic', 'attendant', 'astonishingly', 'arnie', 'armor', 'appalled', 'anythingbr', 'anxiety', 'analyze', 'amoral', 'alcoholism', '700', '51', '1964', '1957', '150', 'zabriskie', 'wwi', 'wrath', 'worship', 'wolves', 'wee', 'virginity', 'violently', 'vibe', 'vaudeville', 'ursula', 'urgency', 'upbringing', 'unnerving', 'unlucky', 'unconscious', 'treating', 'tourists', 'tobe', 'throne', 'theo', 'terrorism', 'temporary', 'tasks', 'tango', 'tacked', 'tables', 'swords', 'supremacy', 'superiors', 'stumbling', 'stereotyping', 'steamy', 'sore', 'sibling', 'sheridan', 'shatner', 'shamelessly', 'seventh', 'semi', 'sammi', 'sack', 'rudd', 'rosenstrasse', 'rko', 'ridden', 'richly', 'replay', 'reno', 'relaxing', 'redgrave', 'recurring', 'recreation', 'ratio', 'ranger', 'quirks', 'prolonged', 'prejudices', 'pour', 'poke', 'placing', 'pistol', 'pertwee', 'penguin', 'peaks', 'payne', 'patriotic', 'passions', 'padded', 'overwhelmed', 'overused', 'overacts', 'observed', 'notions', 'neverending', 'needlessly', 'moonstruck', 'miyazakis', 'missions', 'meyers', 'mcdowell', 'mcdermott', 'marx', 'martino', 'mandatory', 'management', 'ma', 'liz', 'liar', 'levy', 'lesbians', 'leaps', 'largest', 'kornbluth', 'jolly', 'jerky', 'jam', 'iti', 'irresponsible', 'irresistible', 'interspersed', 'innuendo', 'inhabited', 'inducing', 'increasing', 'immigrants', 'imitating', 'illustrated', 'honey', 'hilton', 'herrings', 'helmet', 'heir', 'hector', 'hazzard', 'harbor', 'happier', 'hale', 'gusto', 'gravity', 'grady', 'girlbr', 'giggle', 'gays', 'gardens', 'flame', 'fitzgerald', 'fiasco', 'feared', 'farnsworth', 'expressing', 'expand', 'episodebr', 'enthralling', 'elisha', 'ecstasy', 'eastwoods', 'dwarf', 'dukakis', 'doses', 'dodge', 'dive', 'distinguished', 'disasters', 'dillon', 'diaz', 'destructive', 'denial', 'dangers', 'curtain', 'crass', 'countrys', 'counterpart', 'counted', 'coppola', 'continuous', 'confession', 'concentrated', 'compassionate', 'coal', 'clubs', 'climbs', 'climate', 'civilians', 'chop', 'cheung', 'cheat', 'castro', 'cassie', 'burden', 'bullies', 'brunette', 'brilliantbr', 'brennan', 'borderline', 'booker', 'bombed', 'bloodshed', 'bigfoot', 'benoit', 'believablebr', 'behaving', 'behaves', 'azumi', 'aztec', 'auteur', 'attributes', 'athletic', 'astronauts', 'assortment', 'associates', 'archer', 'antichrist', 'anonymous', 'annoyingly', 'aniston', 'alienation', 'alba', 'academic', '98', '27', 'yearning', 'y', 'worm', 'woke', 'whipped', 'whip', 'vulnerability', 'volumes', 'vienna', 'vets', 'versa', 'vera', 'vault', 'valerie', 'unemployed', 'truthful', 'traumatized', 'transformers', 'torch', 'thumb', 'thorn', 'swiss', 'stupidest', 'stripper', 'stretches', 'stalks', 'spitting', 'spinning', 'smarmy', 'sm', 'slew', 'skipping', 'sessions', 'sequelbr', 'segal', 'seal', 'screamed', 'scandal', 'sarne', 'saddest', 'rusty', 'rotting', 'roach', 'restless', 'relied', 'reincarnation', 'regrets', 'recipe', 'rapture', 'purse', 'pub', 'psychiatric', 'prophet', 'profile', 'princes', 'prices', 'pranks', 'practices', 'posh', 'pond', 'poet', 'percent', 'perceive', 'penis', 'penalty', 'paragraph', 'palestinian', 'outs', 'opponents', 'nutty', 'noam', 'nightbr', 'nerds', 'neglect', 'neeson', 'nailed', 'muted', 'montages', 'mindset', 'midway', 'midler', 'melt', 'mechanic', 'meanings', 'marathon', 'maiden', 'maguire', 'lubitsch', 'lowbrow', 'lin', 'lightly', 'lecture', 'lang', 'knack', 'keitel', 'joanna', 'izzard', 'itd', 'italians', 'irrational', 'intellect', 'inherited', 'incompetence', 'improvised', 'idiocy', 'hustler', 'hopeful', 'honeymoon', 'holland', 'hmmm', 'hesitate', 'guru', 'goofs', 'gimmicks', 'gannon', 'frenzy', 'footsteps', 'floriane', 'flipping', 'firsttime', 'finely', 'featurelength', 'farewell', 'fable', 'exwife', 'explanations', 'expanded', 'existential', 'enhances', 'embarrass', 'elmer', 'elevate', 'efficient', 'drugged', 'dopey', 'dogma', 'disdain', 'discernible', 'disappearing', 'dickinson', 'darling', 'dani', 'customs', 'custody', 'crowds', 'crenna', 'coverage', 'cortez', 'corky', 'contemplate', 'consisted', 'conquest', 'confronting', 'concludes', 'concentrates', 'compositions', 'companions', 'collecting', 'cocktail', 'coaster', 'classicbr', 'chocolate', 'celine', 'caution', 'casually', 'casebr', 'camps', 'bursts', 'buildup', 'btk', 'bothering', 'bonding', 'bishop', 'billion', 'beth', 'bald', 'awfulness', 'aweigh', 'astronaut', 'architecture', 'approximately', 'alienate', 'agobr', 'afghanistan', 'adequately', '48', '250', 'zealand', 'wits', 'wisecracking', 'wipe', 'wills', 'welcomed', 'weaver', 'walters', 'waits', 'viggo', 'victorias', 'versatile', 'vengeful', 'undeveloped', 'uncredited', 'toss', 'throats', 'themselvesbr', 'thatll', 'thankful', 'tested', 'tensions', 'tenants', 'teddy', 'suspended', 'surpasses', 'supporters', 'suggestive', 'subtleties', 'submit', 'strikingly', 'stoic', 'stepped', 'stature', 'squeeze', 'spielbergs', 'spectacularly', 'sparse', 'snippets', 'snappy', 'smarter', 'slows', 'slipped', 'sleuth', 'shootings', 'shaolin', 'shakespearean', 'rushes', 'rugged', 'rizzo', 'ripoffs', 'rightfully', 'rico', 'revive', 'rests', 'rehearsal', 'regal', 'regain', 'rebecca', 'rack', 'proverbial', 'profit', 'productionbr', 'prevented', 'prevalent', 'preteen', 'premises', 'postmodern', 'plants', 'planted', 'performancesbr', 'pauses', 'passenger', 'partial', 'pam', 'outrage', 'oppressive', 'oddball', 'norton', 'nineties', 'naval', 'murphys', 'mourning', 'mostel', 'monstrous', 'mold', 'micheal', 'metropolis', 'melinda', 'maverick', 'marred', 'lyrical', 'luzhin', 'lung', 'lucio', 'lovingly', 'loop', 'looney', 'locales', 'listing', 'limbs', 'lange', 'kramer', 'kiddie', 'kerr', 'keeler', 'kaufman', 'kamal', 'jock', 'january', 'it´s', 'islam', 'irs', 'insignificant', 'insects', 'insanely', 'impeccable', 'immersed', 'illiterate', 'hug', 'horn', 'hitchhiker', 'hilariousbr', 'healing', 'harrys', 'harlem', 'guided', 'graves', 'grain', 'goodnatured', 'goers', 'garnered', 'garcia', 'gage', 'fulllength', 'fugitive', 'friendships', 'flip', 'fatherson', 'fanatics', 'examined', 'everybodys', 'empathize', 'elliot', 'ella', 'eliminate', 'dyke', 'dusty', 'duryea', 'durbin', 'dreadfully', 'downtown', 'documents', 'discussions', 'diabolical', 'dental', 'democracy', 'delve', 'december', 'deathstalker', 'daphne', 'daisies', 'cruella', 'creeps', 'cowriter', 'corridors', 'converted', 'continent', 'connor', 'conduct', 'condescending', 'conclusionbr', 'conception', 'compromise', 'comebr', 'collar', 'coleman', 'cocky', 'citys', 'cillian', 'choke', 'chock', 'chewing', 'chapters', 'carole', 'capt', 'candidates', 'callahan', 'bury', 'bucket', 'brink', 'branch', 'braindead', 'bombing', 'bolivia', 'betrays', 'believer', 'bearable', 'bash', 'barbarian', 'balloon', 'backwoods', 'babysitter', 'atomic', 'association', 'assist', 'ash', 'architect', 'apprentice', 'apologize', 'apartheid', 'alternately', 'allison', 'albums', 'ahmad', 'adventurous', 'adopt', 'acknowledged', '400', '2009', '1949', '1938', '1931', '18th', 'woven', 'wondrous', 'witless', 'willem', 'wheels', 'welch', 'weirdo', 'voiceovers', 'villagers', 'variations', 'vanishing', 'untrue', 'unrated', 'universally', 'unimpressive', 'undertaker', 'unborn', 'tucker', 'truebr', 'til', 'throughoutbr', 'thinner', 'tepid', 'telly', 'tedium', 'switzerland', 'swamp', 'surrogate', 'surfers', 'stubborn', 'stripped', 'straw', 'strangest', 'stir', 'stimulating', 'spectrum', 'soulless', 'sorvino', 'societies', 'snatch', 'smoothly', 'smitten', 'sloane', 'siege', 'shouts', 'shinae', 'shack', 'sentenced', 'seinfeld', 'sciencefiction', 'satellite', 'sans', 'sacrificed', 'rollercoaster', 'rohmer', 'rigid', 'revelations', 'retain', 'requisite', 'render', 'recalls', 'ranging', 'rainer', 'psychologically', 'presumed', 'prehistoric', 'practicing', 'plotted', 'platoon', 'pita', 'philadelphia', 'pavarotti', 'pauls', 'paperhouse', 'palette', 'overt', 'overseas', 'outtakes', 'outta', 'oriental', 'obscene', 'nuance', 'november', 'norwegian', 'norma', 'mutated', 'mpaa', 'morgana', 'mocking', 'misplaced', 'mischievous', 'mining', 'millennium', 'menbr', 'matching', 'marquis', 'malcolm', 'mac', 'lotr', 'locks', 'll', 'lizard', 'livesbr', 'lineup', 'lieutenant', 'layered', 'lamas', 'kinky', 'kindness', 'kentucky', 'jessie', 'janitor', 'irwin', 'intruder', 'intestines', 'interpreted', 'insulted', 'insteadbr', 'illustrates', 'hurting', 'hungarian', 'hoods', 'honorable', 'hogan', 'hockey', 'hispanic', 'hisher', 'heroin', 'hedy', 'hating', 'harmony', 'hardest', 'haired', 'guevara', 'grumpy', 'grips', 'greta', 'granger', 'gesture', 'gen', 'gamut', 'gamebr', 'gaining', 'futurebr', 'forgivable', 'floors', 'flee', 'fireworks', 'fatherbr', 'exposing', 'exhibit', 'evolved', 'equals', 'eponymous', 'episodic', 'entertainer', 'edits', 'dw', 'duties', 'duff', 'dominick', 'distributors', 'disgruntled', 'directorbr', 'directionbr', 'dimwitted', 'desolate', 'dense', 'denied', 'darkest', 'culkin', 'crow', 'criminally', 'connolly', 'connecting', 'confirm', 'comicbook', 'cloud', 'classified', 'chore', 'cheaper', 'celebrating', 'cbc', 'cathy', 'casted', 'carson', 'caroline', 'carnival', 'carlito', 'carface', 'careerbr', 'bryan', 'bets', 'benson', 'batwoman', 'basil', 'barker', 'backyard', 'assassins', 'anyonebr', 'andersons', 'anchor', 'amok', 'allegedly', 'admirably', 'administration', 'adapting', 'achieving', '510', '500', 'zatoichi', 'yetbr', 'wicker', 'weaves', 'wb', 'voting', 'voters', 'vivah', 'usage', 'unsuccessful', 'unnamed', 'unfinished', 'unfairly', 'undertones', 'underdog', 'twodimensional', 'transform', 'transferred', 'transcends', 'tigerland', 'texture', 'textbook', 'terriblebr', 'teds', 'tearjerker', 'tasteful', 'talentless', 'swift', 'swat', 'supplies', 'streisands', 'streak', 'stills', 'stealth', 'spreading', 'spears', 'spaces', 'soles', 'societal', 'smalltown', 'smallest', 'slug', 'skywalker', 'skimpy', 'singin', 'shrink', 'shakes', 'shadowy', 'seriouslybr', 'secluded', 'schemes', 'sacred', 'rumors', 'rewatch', 'retrospect', 'rerun', 'request', 'redeemed', 'rabid', 'puzzling', 'pursues', 'prototype', 'prevents', 'preserved', 'positions', 'poppins', 'polite', 'pokes', 'plantation', 'phyllis', 'pets', 'patch', 'participation', 'owning', 'ounce', 'otoole', 'osullivan', 'orphanage', 'orgy', 'organs', 'operas', 'onesided', 'olympic', 'napoleon', 'motif', 'monumental', 'monstrosity', 'monastery', 'mj', 'miracles', 'michel', 'mastroianni', 'marvellous', 'marlene', 'mamet', 'lombard', 'logo', 'liza', 'leno', 'leia', 'lap', 'lambs', 'kisses', 'kingsley', 'jew', 'jed', 'jackass', 'itchy', 'interpret', 'integrated', 'instruments', 'insisted', 'indulge', 'inch', 'inc', 'imdbs', 'hosts', 'holidays', 'historians', 'hiring', 'hi', 'hawaii', 'hardships']\n"
          ]
        }
      ]
    },
    {
      "cell_type": "code",
      "source": [
        "encoder.get_vocabulary()[0] # Padding token\n",
        "# Reviews that are shorter than sequence_length will get filled up with the padding token"
      ],
      "metadata": {
        "colab": {
          "base_uri": "https://localhost:8080/",
          "height": 35
        },
        "id": "luZLd9EzQLr6",
        "outputId": "81fd60c9-31e9-43a3-b479-ab7692df86d1"
      },
      "execution_count": null,
      "outputs": [
        {
          "output_type": "execute_result",
          "data": {
            "text/plain": [
              "''"
            ],
            "application/vnd.google.colaboratory.intrinsic+json": {
              "type": "string"
            }
          },
          "metadata": {},
          "execution_count": 26
        }
      ]
    },
    {
      "cell_type": "code",
      "source": [
        "encoder(\"Hi kids! This is a text we will now put into the encoder to see what will happen.\")\n",
        "# e.g. \"a\" got encoded to 4, just as we've seen before when we put out the vocabulary (4 in list above!)"
      ],
      "metadata": {
        "colab": {
          "base_uri": "https://localhost:8080/"
        },
        "id": "mYHmkQpJQnhU",
        "outputId": "88cc6ea1-be22-4065-d112-bd65efed708d"
      },
      "execution_count": null,
      "outputs": [
        {
          "output_type": "execute_result",
          "data": {
            "text/plain": [
              "<tf.Tensor: shape=(128,), dtype=int64, numpy=\n",
              "array([9997,  327,   11,    7,    4, 3074,   72,   77,  150,  266,   78,\n",
              "          2,    1,    6,   68,   49,   77,  596,    0,    0,    0,    0,\n",
              "          0,    0,    0,    0,    0,    0,    0,    0,    0,    0,    0,\n",
              "          0,    0,    0,    0,    0,    0,    0,    0,    0,    0,    0,\n",
              "          0,    0,    0,    0,    0,    0,    0,    0,    0,    0,    0,\n",
              "          0,    0,    0,    0,    0,    0,    0,    0,    0,    0,    0,\n",
              "          0,    0,    0,    0,    0,    0,    0,    0,    0,    0,    0,\n",
              "          0,    0,    0,    0,    0,    0,    0,    0,    0,    0,    0,\n",
              "          0,    0,    0,    0,    0,    0,    0,    0,    0,    0,    0,\n",
              "          0,    0,    0,    0,    0,    0,    0,    0,    0,    0,    0,\n",
              "          0,    0,    0,    0,    0,    0,    0,    0,    0,    0,    0,\n",
              "          0,    0,    0,    0,    0,    0,    0])>"
            ]
          },
          "metadata": {},
          "execution_count": 27
        }
      ]
    },
    {
      "cell_type": "code",
      "source": [
        "model = models.Sequential()\n",
        "model.add(encoder)\n",
        "model.add(layers.Embedding(input_dim=vocabulary_size, output_dim=32))\n",
        "model.summary()\n",
        "\n",
        "prediction= model.predict([\"Last night a little dancer came dancing to my door. Last night a little angel came pumping on my floor.\"])\n",
        "# In Output shpe of model summary, \"none\" is placeholder for batch size. In example above, batchsize = 1"
      ],
      "metadata": {
        "colab": {
          "base_uri": "https://localhost:8080/"
        },
        "id": "tn4x6_uoZox7",
        "outputId": "496fe9bd-00fb-478d-ff63-fa32d1ba57e5"
      },
      "execution_count": null,
      "outputs": [
        {
          "output_type": "stream",
          "name": "stdout",
          "text": [
            "Model: \"sequential_1\"\n",
            "_________________________________________________________________\n",
            " Layer (type)                Output Shape              Param #   \n",
            "=================================================================\n",
            " text_vectorization_1 (Text  (None, 128)               0         \n",
            " Vectorization)                                                  \n",
            "                                                                 \n",
            " embedding (Embedding)       (None, 128, 32)           320000    \n",
            "                                                                 \n",
            "=================================================================\n",
            "Total params: 320000 (1.22 MB)\n",
            "Trainable params: 320000 (1.22 MB)\n",
            "Non-trainable params: 0 (0.00 Byte)\n",
            "_________________________________________________________________\n",
            "1/1 [==============================] - 0s 156ms/step\n"
          ]
        }
      ]
    },
    {
      "cell_type": "code",
      "source": [
        "# Before adding layers, network only does the encoding\n",
        "print(prediction.shape, prediction.dtype)\n",
        "plt.imshow(prediction[0])\n",
        "# Image represents vectors of the embedding and padding to fill up item to end of max size"
      ],
      "metadata": {
        "colab": {
          "base_uri": "https://localhost:8080/",
          "height": 469
        },
        "id": "71_v-O5jT26b",
        "outputId": "540a8655-3784-493a-d521-0d60ef15bb85"
      },
      "execution_count": null,
      "outputs": [
        {
          "output_type": "stream",
          "name": "stdout",
          "text": [
            "(1, 128, 32) float32\n"
          ]
        },
        {
          "output_type": "execute_result",
          "data": {
            "text/plain": [
              "<matplotlib.image.AxesImage at 0x7b2cd0e59d80>"
            ]
          },
          "metadata": {},
          "execution_count": 29
        },
        {
          "output_type": "display_data",
          "data": {
            "text/plain": [
              "<Figure size 640x480 with 1 Axes>"
            ],
            "image/png": "[encoded data removed]"
          },
          "metadata": {}
        }
      ]
    },
    {
      "cell_type": "code",
      "source": [
        "model = models.Sequential()\n",
        "model.add(encoder)\n",
        "model.add(layers.Embedding(input_dim=vocabulary_size, output_dim=32))\n",
        "model.add(layers.Flatten()) # Flatten to reduce to one dimension\n",
        "model.add(layers.Dense(512, activation=\"relu\"))\n",
        "model.add(layers.Dense(1, activation=\"sigmoid\")) # For classification, only sigmoid and softmax are valid activation functions. Relu would be for hidden layers\n",
        "model.summary()\n",
        "\n",
        "prediction= model.predict([\"Last night a little dancer came dancing to my door. Last night a little angel came pumping on my floor.\"])\n",
        "# In Output shpe of model summary, \"none\" is placeholder for batch size. In example above, batchsize = 1"
      ],
      "metadata": {
        "colab": {
          "base_uri": "https://localhost:8080/"
        },
        "id": "vzwHqTLCRIV0",
        "outputId": "898a3891-e0ca-4efe-a1ba-b0eff8f78ea5"
      },
      "execution_count": null,
      "outputs": [
        {
          "output_type": "stream",
          "name": "stdout",
          "text": [
            "Model: \"sequential_2\"\n",
            "_________________________________________________________________\n",
            " Layer (type)                Output Shape              Param #   \n",
            "=================================================================\n",
            " text_vectorization_1 (Text  (None, 128)               0         \n",
            " Vectorization)                                                  \n",
            "                                                                 \n",
            " embedding_1 (Embedding)     (None, 128, 32)           320000    \n",
            "                                                                 \n",
            " flatten (Flatten)           (None, 4096)              0         \n",
            "                                                                 \n",
            " dense_2 (Dense)             (None, 512)               2097664   \n",
            "                                                                 \n",
            " dense_3 (Dense)             (None, 1)                 513       \n",
            "                                                                 \n",
            "=================================================================\n",
            "Total params: 2418177 (9.22 MB)\n",
            "Trainable params: 2418177 (9.22 MB)\n",
            "Non-trainable params: 0 (0.00 Byte)\n",
            "_________________________________________________________________\n",
            "1/1 [==============================] - 0s 195ms/step\n"
          ]
        }
      ]
    },
    {
      "cell_type": "code",
      "source": [
        "model.compile(\n",
        "    optimizer=\"adam\",\n",
        "    loss=\"binary_crossentropy\",\n",
        "    metrics=[\"accuracy\"]\n",
        ")"
      ],
      "metadata": {
        "id": "X_I0YIqdWGKa"
      },
      "execution_count": null,
      "outputs": []
    },
    {
      "cell_type": "code",
      "source": [
        "history = model.fit(\n",
        "    dataset_train,\n",
        "    validation_data=dataset_validate,\n",
        "    epochs=10\n",
        ")\n",
        "\n",
        "render_history(history)"
      ],
      "metadata": {
        "colab": {
          "base_uri": "https://localhost:8080/",
          "height": 1000
        },
        "id": "eK4LgxccY8Bz",
        "outputId": "d31ef2dc-441c-471c-86c1-6f6ac33ad3a4"
      },
      "execution_count": null,
      "outputs": [
        {
          "output_type": "stream",
          "name": "stdout",
          "text": [
            "Epoch 1/10\n",
            "196/196 [==============================] - 6s 30ms/step - loss: 3.3587e-04 - accuracy: 1.0000 - val_loss: 0.8684 - val_accuracy: 0.8106\n",
            "Epoch 2/10\n",
            "196/196 [==============================] - 4s 21ms/step - loss: 2.2494e-04 - accuracy: 1.0000 - val_loss: 0.8937 - val_accuracy: 0.8102\n",
            "Epoch 3/10\n",
            "196/196 [==============================] - 5s 23ms/step - loss: 1.6216e-04 - accuracy: 1.0000 - val_loss: 0.9165 - val_accuracy: 0.8106\n",
            "Epoch 4/10\n",
            "196/196 [==============================] - 4s 20ms/step - loss: 1.2290e-04 - accuracy: 1.0000 - val_loss: 0.9379 - val_accuracy: 0.8112\n",
            "Epoch 5/10\n",
            "196/196 [==============================] - 5s 24ms/step - loss: 9.5298e-05 - accuracy: 1.0000 - val_loss: 0.9558 - val_accuracy: 0.8112\n",
            "Epoch 6/10\n",
            "196/196 [==============================] - 5s 25ms/step - loss: 7.6103e-05 - accuracy: 1.0000 - val_loss: 0.9720 - val_accuracy: 0.8114\n",
            "Epoch 7/10\n",
            "196/196 [==============================] - 3s 17ms/step - loss: 6.1838e-05 - accuracy: 1.0000 - val_loss: 0.9888 - val_accuracy: 0.8119\n",
            "Epoch 8/10\n",
            "196/196 [==============================] - 4s 20ms/step - loss: 5.1028e-05 - accuracy: 1.0000 - val_loss: 1.0030 - val_accuracy: 0.8119\n",
            "Epoch 9/10\n",
            "196/196 [==============================] - 5s 24ms/step - loss: 4.2513e-05 - accuracy: 1.0000 - val_loss: 1.0176 - val_accuracy: 0.8124\n",
            "Epoch 10/10\n",
            "196/196 [==============================] - 3s 17ms/step - loss: 3.5750e-05 - accuracy: 1.0000 - val_loss: 1.0302 - val_accuracy: 0.8116\n"
          ]
        },
        {
          "output_type": "display_data",
          "data": {
            "text/plain": [
              "<Figure size 640x480 with 1 Axes>"
            ],
            "image/png": "[encoded data removed]"
          },
          "metadata": {}
        },
        {
          "output_type": "display_data",
          "data": {
            "text/plain": [
              "<Figure size 640x480 with 1 Axes>"
            ],
            "image/png": "[encoded data removed]"
          },
          "metadata": {}
        }
      ]
    },
    {
      "cell_type": "code",
      "source": [
        "# Embedding\n",
        "\n",
        "# \"\" 0 [....vector....]\n",
        "# [UNK] 1 [....vector....]\n",
        "# the 2 [....vector....]\n",
        "# and 3 [....vector....]\n",
        "# ...\n",
        "# hero 666 [....vector....]\n",
        "# ...\n",
        "# pure 1024 [....vector....]\n",
        "\n",
        "# Every word gets index in dictionary list and a vector with initially randomly generated figures"
      ],
      "metadata": {
        "id": "gXn2Lra5tKrf"
      },
      "execution_count": null,
      "outputs": []
    },
    {
      "cell_type": "markdown",
      "source": [
        "#LSTM\n"
      ],
      "metadata": {
        "id": "o4QHE9DLBej9"
      }
    },
    {
      "cell_type": "code",
      "source": [
        "model = models.Sequential()\n",
        "model.add(encoder)\n",
        "model.add(layers.Embedding(input_dim=vocabulary_size, output_dim=32))\n",
        "model.add(layers.LSTM(64))\n",
        "model.add(layers.Dense(1, activation=\"sigmoid\"))\n",
        "model.summary()"
      ],
      "metadata": {
        "colab": {
          "base_uri": "https://localhost:8080/"
        },
        "id": "LOgkTEMvuULi",
        "outputId": "8cbdfb62-87cc-4ce4-8a60-127dfad54f4a"
      },
      "execution_count": null,
      "outputs": [
        {
          "output_type": "stream",
          "name": "stdout",
          "text": [
            "Model: \"sequential_3\"\n",
            "_________________________________________________________________\n",
            " Layer (type)                Output Shape              Param #   \n",
            "=================================================================\n",
            " text_vectorization_1 (Text  (None, 128)               0         \n",
            " Vectorization)                                                  \n",
            "                                                                 \n",
            " embedding_2 (Embedding)     (None, 128, 32)           320000    \n",
            "                                                                 \n",
            " lstm (LSTM)                 (None, 64)                24832     \n",
            "                                                                 \n",
            " dense_4 (Dense)             (None, 1)                 65        \n",
            "                                                                 \n",
            "=================================================================\n",
            "Total params: 344897 (1.32 MB)\n",
            "Trainable params: 344897 (1.32 MB)\n",
            "Non-trainable params: 0 (0.00 Byte)\n",
            "_________________________________________________________________\n"
          ]
        }
      ]
    },
    {
      "cell_type": "code",
      "source": [
        "model.compile(\n",
        "    optimizer=\"adam\",\n",
        "    loss=\"binary_crossentropy\",\n",
        "    metrics=[\"accuracy\"]\n",
        ")"
      ],
      "metadata": {
        "id": "SCjJ-F-VClGr"
      },
      "execution_count": null,
      "outputs": []
    },
    {
      "cell_type": "code",
      "source": [
        "history = model.fit(\n",
        "    dataset_train,\n",
        "    validation_data=dataset_validate,\n",
        "    epochs=10\n",
        ")\n",
        "\n",
        "render_history(history)"
      ],
      "metadata": {
        "colab": {
          "base_uri": "https://localhost:8080/",
          "height": 1000
        },
        "id": "RAFr3u-vBxJV",
        "outputId": "6b598e73-a622-46c7-b19b-01bf301efc12"
      },
      "execution_count": null,
      "outputs": [
        {
          "output_type": "stream",
          "name": "stdout",
          "text": [
            "Epoch 1/10\n",
            "196/196 [==============================] - 25s 109ms/step - loss: 0.5176 - accuracy: 0.7216 - val_loss: 0.4326 - val_accuracy: 0.8234\n",
            "Epoch 2/10\n",
            "196/196 [==============================] - 14s 72ms/step - loss: 0.3042 - accuracy: 0.8778 - val_loss: 0.3983 - val_accuracy: 0.8206\n",
            "Epoch 3/10\n",
            "196/196 [==============================] - 10s 50ms/step - loss: 0.2410 - accuracy: 0.9067 - val_loss: 0.4304 - val_accuracy: 0.8280\n",
            "Epoch 4/10\n",
            "196/196 [==============================] - 8s 39ms/step - loss: 0.2003 - accuracy: 0.9279 - val_loss: 0.5466 - val_accuracy: 0.8122\n",
            "Epoch 5/10\n",
            "196/196 [==============================] - 6s 32ms/step - loss: 0.1637 - accuracy: 0.9421 - val_loss: 0.5171 - val_accuracy: 0.8164\n",
            "Epoch 6/10\n",
            "196/196 [==============================] - 7s 34ms/step - loss: 0.1373 - accuracy: 0.9530 - val_loss: 0.5920 - val_accuracy: 0.8169\n",
            "Epoch 7/10\n",
            "196/196 [==============================] - 7s 35ms/step - loss: 0.1228 - accuracy: 0.9584 - val_loss: 0.5637 - val_accuracy: 0.8106\n",
            "Epoch 8/10\n",
            "196/196 [==============================] - 7s 35ms/step - loss: 0.1076 - accuracy: 0.9648 - val_loss: 0.6423 - val_accuracy: 0.8048\n",
            "Epoch 9/10\n",
            "196/196 [==============================] - 5s 25ms/step - loss: 0.0907 - accuracy: 0.9701 - val_loss: 0.7066 - val_accuracy: 0.8052\n",
            "Epoch 10/10\n",
            "196/196 [==============================] - 6s 32ms/step - loss: 0.0870 - accuracy: 0.9716 - val_loss: 0.8170 - val_accuracy: 0.7996\n"
          ]
        },
        {
          "output_type": "display_data",
          "data": {
            "text/plain": [
              "<Figure size 640x480 with 1 Axes>"
            ],
            "image/png": "[encoded data removed]"
          },
          "metadata": {}
        },
        {
          "output_type": "display_data",
          "data": {
            "text/plain": [
              "<Figure size 640x480 with 1 Axes>"
            ],
            "image/png": "[encoded data removed]"
          },
          "metadata": {}
        }
      ]
    },
    {
      "cell_type": "code",
      "source": [],
      "metadata": {
        "id": "tQKaiJmRDfst"
      },
      "execution_count": null,
      "outputs": []
    },
    {
      "cell_type": "code",
      "source": [
        "model = models.Sequential()\n",
        "model.add(encoder)\n",
        "model.add(layers.Embedding(input_dim=vocabulary_size, output_dim=32))\n",
        "model.add(layers.LSTM(64, return_sequences=True)) # with return_sequences you can stack LSTM on top of each other (because they return matrices)\n",
        "model.add(layers.LSTM(128, return_sequences=True))\n",
        "model.add(layers.LSTM(256, return_sequences=False)) # Not so with return_sequence = False. Here a vector is returned (See above in output shape)\n",
        "model.add(layers.Dense(1, activation=\"sigmoid\"))\n",
        "model.summary()"
      ],
      "metadata": {
        "colab": {
          "base_uri": "https://localhost:8080/"
        },
        "outputId": "11e1092f-bb43-4e4a-ff8f-b955f3de596b",
        "id": "GqDH4ofmDgJb"
      },
      "execution_count": null,
      "outputs": [
        {
          "output_type": "stream",
          "name": "stdout",
          "text": [
            "Model: \"sequential_6\"\n",
            "_________________________________________________________________\n",
            " Layer (type)                Output Shape              Param #   \n",
            "=================================================================\n",
            " text_vectorization_1 (Text  (None, 128)               0         \n",
            " Vectorization)                                                  \n",
            "                                                                 \n",
            " embedding_5 (Embedding)     (None, 128, 32)           320000    \n",
            "                                                                 \n",
            " lstm_3 (LSTM)               (None, 128, 64)           24832     \n",
            "                                                                 \n",
            " lstm_4 (LSTM)               (None, 128, 128)          98816     \n",
            "                                                                 \n",
            " lstm_5 (LSTM)               (None, 256)               394240    \n",
            "                                                                 \n",
            " dense_5 (Dense)             (None, 1)                 257       \n",
            "                                                                 \n",
            "=================================================================\n",
            "Total params: 838145 (3.20 MB)\n",
            "Trainable params: 838145 (3.20 MB)\n",
            "Non-trainable params: 0 (0.00 Byte)\n",
            "_________________________________________________________________\n"
          ]
        }
      ]
    }
  ],
  "metadata": {
    "accelerator": "GPU",
    "colab": {
      "provenance": [],
      "gpuType": "T4",
      "authorship_tag": "ABX9TyP1Ac36nOFQpvn3H4iweqyq"
    },
    "kernelspec": {
      "display_name": "Python 3",
      "name": "python3"
    },
    "language_info": {
      "name": "python"
    },
    "widgets": {
      "application/vnd.jupyter.widget-state+json": {
        "10ebd4ed2b814ce7a948442fce1a4cca": {
          "model_module": "@jupyter-widgets/controls",
          "model_name": "HBoxModel",
          "model_module_version": "1.5.0",
          "state": {
            "_dom_classes": [],
            "_model_module": "@jupyter-widgets/controls",
            "_model_module_version": "1.5.0",
            "_model_name": "HBoxModel",
            "_view_count": null,
            "_view_module": "@jupyter-widgets/controls",
            "_view_module_version": "1.5.0",
            "_view_name": "HBoxView",
            "box_style": "",
            "children": [
              "IPY_MODEL_0c87a1dbd2b8462a82a2e27c77d2a03d",
              "IPY_MODEL_ab3c22a4e3c6493fb8ea8718475ce276",
              "IPY_MODEL_a339ed34d7e248eba393a32689c266f8"
            ],
            "layout": "IPY_MODEL_2ddf7e43661744939877aa16b85ca307"
          }
        },
        "0c87a1dbd2b8462a82a2e27c77d2a03d": {
          "model_module": "@jupyter-widgets/controls",
          "model_name": "HTMLModel",
          "model_module_version": "1.5.0",
          "state": {
            "_dom_classes": [],
            "_model_module": "@jupyter-widgets/controls",
            "_model_module_version": "1.5.0",
            "_model_name": "HTMLModel",
            "_view_count": null,
            "_view_module": "@jupyter-widgets/controls",
            "_view_module_version": "1.5.0",
            "_view_name": "HTMLView",
            "description": "",
            "description_tooltip": null,
            "layout": "IPY_MODEL_b8a7edad01a143009377ddba17f40eb6",
            "placeholder": "​",
            "style": "IPY_MODEL_8fbd958cb9254b3f942c4eeabb3e6545",
            "value": "Dl Completed...: 100%"
          }
        },
        "ab3c22a4e3c6493fb8ea8718475ce276": {
          "model_module": "@jupyter-widgets/controls",
          "model_name": "FloatProgressModel",
          "model_module_version": "1.5.0",
          "state": {
            "_dom_classes": [],
            "_model_module": "@jupyter-widgets/controls",
            "_model_module_version": "1.5.0",
            "_model_name": "FloatProgressModel",
            "_view_count": null,
            "_view_module": "@jupyter-widgets/controls",
            "_view_module_version": "1.5.0",
            "_view_name": "ProgressView",
            "bar_style": "success",
            "description": "",
            "description_tooltip": null,
            "layout": "IPY_MODEL_22db3b58218142aa9c0eed32d7a8f8f4",
            "max": 1,
            "min": 0,
            "orientation": "horizontal",
            "style": "IPY_MODEL_4b4893b3676c4db0a8bfdccc10293383",
            "value": 1
          }
        },
        "a339ed34d7e248eba393a32689c266f8": {
          "model_module": "@jupyter-widgets/controls",
          "model_name": "HTMLModel",
          "model_module_version": "1.5.0",
          "state": {
            "_dom_classes": [],
            "_model_module": "@jupyter-widgets/controls",
            "_model_module_version": "1.5.0",
            "_model_name": "HTMLModel",
            "_view_count": null,
            "_view_module": "@jupyter-widgets/controls",
            "_view_module_version": "1.5.0",
            "_view_name": "HTMLView",
            "description": "",
            "description_tooltip": null,
            "layout": "IPY_MODEL_fab7b1528942403aa00b01ff639f80af",
            "placeholder": "​",
            "style": "IPY_MODEL_1c9ed272883d47f09027dd08b838fc5f",
            "value": " 1/1 [00:02&lt;00:00,  2.79s/ url]"
          }
        },
        "2ddf7e43661744939877aa16b85ca307": {
          "model_module": "@jupyter-widgets/base",
          "model_name": "LayoutModel",
          "model_module_version": "1.2.0",
          "state": {
            "_model_module": "@jupyter-widgets/base",
            "_model_module_version": "1.2.0",
            "_model_name": "LayoutModel",
            "_view_count": null,
            "_view_module": "@jupyter-widgets/base",
            "_view_module_version": "1.2.0",
            "_view_name": "LayoutView",
            "align_content": null,
            "align_items": null,
            "align_self": null,
            "border": null,
            "bottom": null,
            "display": null,
            "flex": null,
            "flex_flow": null,
            "grid_area": null,
            "grid_auto_columns": null,
            "grid_auto_flow": null,
            "grid_auto_rows": null,
            "grid_column": null,
            "grid_gap": null,
            "grid_row": null,
            "grid_template_areas": null,
            "grid_template_columns": null,
            "grid_template_rows": null,
            "height": null,
            "justify_content": null,
            "justify_items": null,
            "left": null,
            "margin": null,
            "max_height": null,
            "max_width": null,
            "min_height": null,
            "min_width": null,
            "object_fit": null,
            "object_position": null,
            "order": null,
            "overflow": null,
            "overflow_x": null,
            "overflow_y": null,
            "padding": null,
            "right": null,
            "top": null,
            "visibility": null,
            "width": null
          }
        },
        "b8a7edad01a143009377ddba17f40eb6": {
          "model_module": "@jupyter-widgets/base",
          "model_name": "LayoutModel",
          "model_module_version": "1.2.0",
          "state": {
            "_model_module": "@jupyter-widgets/base",
            "_model_module_version": "1.2.0",
            "_model_name": "LayoutModel",
            "_view_count": null,
            "_view_module": "@jupyter-widgets/base",
            "_view_module_version": "1.2.0",
            "_view_name": "LayoutView",
            "align_content": null,
            "align_items": null,
            "align_self": null,
            "border": null,
            "bottom": null,
            "display": null,
            "flex": null,
            "flex_flow": null,
            "grid_area": null,
            "grid_auto_columns": null,
            "grid_auto_flow": null,
            "grid_auto_rows": null,
            "grid_column": null,
            "grid_gap": null,
            "grid_row": null,
            "grid_template_areas": null,
            "grid_template_columns": null,
            "grid_template_rows": null,
            "height": null,
            "justify_content": null,
            "justify_items": null,
            "left": null,
            "margin": null,
            "max_height": null,
            "max_width": null,
            "min_height": null,
            "min_width": null,
            "object_fit": null,
            "object_position": null,
            "order": null,
            "overflow": null,
            "overflow_x": null,
            "overflow_y": null,
            "padding": null,
            "right": null,
            "top": null,
            "visibility": null,
            "width": null
          }
        },
        "8fbd958cb9254b3f942c4eeabb3e6545": {
          "model_module": "@jupyter-widgets/controls",
          "model_name": "DescriptionStyleModel",
          "model_module_version": "1.5.0",
          "state": {
            "_model_module": "@jupyter-widgets/controls",
            "_model_module_version": "1.5.0",
            "_model_name": "DescriptionStyleModel",
            "_view_count": null,
            "_view_module": "@jupyter-widgets/base",
            "_view_module_version": "1.2.0",
            "_view_name": "StyleView",
            "description_width": ""
          }
        },
        "22db3b58218142aa9c0eed32d7a8f8f4": {
          "model_module": "@jupyter-widgets/base",
          "model_name": "LayoutModel",
          "model_module_version": "1.2.0",
          "state": {
            "_model_module": "@jupyter-widgets/base",
            "_model_module_version": "1.2.0",
            "_model_name": "LayoutModel",
            "_view_count": null,
            "_view_module": "@jupyter-widgets/base",
            "_view_module_version": "1.2.0",
            "_view_name": "LayoutView",
            "align_content": null,
            "align_items": null,
            "align_self": null,
            "border": null,
            "bottom": null,
            "display": null,
            "flex": null,
            "flex_flow": null,
            "grid_area": null,
            "grid_auto_columns": null,
            "grid_auto_flow": null,
            "grid_auto_rows": null,
            "grid_column": null,
            "grid_gap": null,
            "grid_row": null,
            "grid_template_areas": null,
            "grid_template_columns": null,
            "grid_template_rows": null,
            "height": null,
            "justify_content": null,
            "justify_items": null,
            "left": null,
            "margin": null,
            "max_height": null,
            "max_width": null,
            "min_height": null,
            "min_width": null,
            "object_fit": null,
            "object_position": null,
            "order": null,
            "overflow": null,
            "overflow_x": null,
            "overflow_y": null,
            "padding": null,
            "right": null,
            "top": null,
            "visibility": null,
            "width": "20px"
          }
        },
        "4b4893b3676c4db0a8bfdccc10293383": {
          "model_module": "@jupyter-widgets/controls",
          "model_name": "ProgressStyleModel",
          "model_module_version": "1.5.0",
          "state": {
            "_model_module": "@jupyter-widgets/controls",
            "_model_module_version": "1.5.0",
            "_model_name": "ProgressStyleModel",
            "_view_count": null,
            "_view_module": "@jupyter-widgets/base",
            "_view_module_version": "1.2.0",
            "_view_name": "StyleView",
            "bar_color": null,
            "description_width": ""
          }
        },
        "fab7b1528942403aa00b01ff639f80af": {
          "model_module": "@jupyter-widgets/base",
          "model_name": "LayoutModel",
          "model_module_version": "1.2.0",
          "state": {
            "_model_module": "@jupyter-widgets/base",
            "_model_module_version": "1.2.0",
            "_model_name": "LayoutModel",
            "_view_count": null,
            "_view_module": "@jupyter-widgets/base",
            "_view_module_version": "1.2.0",
            "_view_name": "LayoutView",
            "align_content": null,
            "align_items": null,
            "align_self": null,
            "border": null,
            "bottom": null,
            "display": null,
            "flex": null,
            "flex_flow": null,
            "grid_area": null,
            "grid_auto_columns": null,
            "grid_auto_flow": null,
            "grid_auto_rows": null,
            "grid_column": null,
            "grid_gap": null,
            "grid_row": null,
            "grid_template_areas": null,
            "grid_template_columns": null,
            "grid_template_rows": null,
            "height": null,
            "justify_content": null,
            "justify_items": null,
            "left": null,
            "margin": null,
            "max_height": null,
            "max_width": null,
            "min_height": null,
            "min_width": null,
            "object_fit": null,
            "object_position": null,
            "order": null,
            "overflow": null,
            "overflow_x": null,
            "overflow_y": null,
            "padding": null,
            "right": null,
            "top": null,
            "visibility": null,
            "width": null
          }
        },
        "1c9ed272883d47f09027dd08b838fc5f": {
          "model_module": "@jupyter-widgets/controls",
          "model_name": "DescriptionStyleModel",
          "model_module_version": "1.5.0",
          "state": {
            "_model_module": "@jupyter-widgets/controls",
            "_model_module_version": "1.5.0",
            "_model_name": "DescriptionStyleModel",
            "_view_count": null,
            "_view_module": "@jupyter-widgets/base",
            "_view_module_version": "1.2.0",
            "_view_name": "StyleView",
            "description_width": ""
          }
        },
        "d5327c954b1d4f7999b2ba52fa24cbc0": {
          "model_module": "@jupyter-widgets/controls",
          "model_name": "HBoxModel",
          "model_module_version": "1.5.0",
          "state": {
            "_dom_classes": [],
            "_model_module": "@jupyter-widgets/controls",
            "_model_module_version": "1.5.0",
            "_model_name": "HBoxModel",
            "_view_count": null,
            "_view_module": "@jupyter-widgets/controls",
            "_view_module_version": "1.5.0",
            "_view_name": "HBoxView",
            "box_style": "",
            "children": [
              "IPY_MODEL_0291302a53ca4a55a57853203156e838",
              "IPY_MODEL_ebd8249670c2459d901ba99ed9e9c8ac",
              "IPY_MODEL_9a9b698b7cac459f8f56f953a38cee92"
            ],
            "layout": "IPY_MODEL_171f5108e83a489d8acb81f2123712b2"
          }
        },
        "0291302a53ca4a55a57853203156e838": {
          "model_module": "@jupyter-widgets/controls",
          "model_name": "HTMLModel",
          "model_module_version": "1.5.0",
          "state": {
            "_dom_classes": [],
            "_model_module": "@jupyter-widgets/controls",
            "_model_module_version": "1.5.0",
            "_model_name": "HTMLModel",
            "_view_count": null,
            "_view_module": "@jupyter-widgets/controls",
            "_view_module_version": "1.5.0",
            "_view_name": "HTMLView",
            "description": "",
            "description_tooltip": null,
            "layout": "IPY_MODEL_2b03c0012d3f457cbfae3487aec15e67",
            "placeholder": "​",
            "style": "IPY_MODEL_950e11e02fa14eaf8ab59b40a96e80a6",
            "value": "Dl Size...: 100%"
          }
        },
        "ebd8249670c2459d901ba99ed9e9c8ac": {
          "model_module": "@jupyter-widgets/controls",
          "model_name": "FloatProgressModel",
          "model_module_version": "1.5.0",
          "state": {
            "_dom_classes": [],
            "_model_module": "@jupyter-widgets/controls",
            "_model_module_version": "1.5.0",
            "_model_name": "FloatProgressModel",
            "_view_count": null,
            "_view_module": "@jupyter-widgets/controls",
            "_view_module_version": "1.5.0",
            "_view_name": "ProgressView",
            "bar_style": "success",
            "description": "",
            "description_tooltip": null,
            "layout": "IPY_MODEL_ce80190b2835431ab6a582ac0538dc4c",
            "max": 1,
            "min": 0,
            "orientation": "horizontal",
            "style": "IPY_MODEL_c6f25ea7e5884d598cf5b99d66964ade",
            "value": 1
          }
        },
        "9a9b698b7cac459f8f56f953a38cee92": {
          "model_module": "@jupyter-widgets/controls",
          "model_name": "HTMLModel",
          "model_module_version": "1.5.0",
          "state": {
            "_dom_classes": [],
            "_model_module": "@jupyter-widgets/controls",
            "_model_module_version": "1.5.0",
            "_model_name": "HTMLModel",
            "_view_count": null,
            "_view_module": "@jupyter-widgets/controls",
            "_view_module_version": "1.5.0",
            "_view_name": "HTMLView",
            "description": "",
            "description_tooltip": null,
            "layout": "IPY_MODEL_07861eb7c61b4f19823574b0bc413701",
            "placeholder": "​",
            "style": "IPY_MODEL_ea961471bf77423b9d07104c14ad5427",
            "value": " 80/80 [00:02&lt;00:00, 54.04 MiB/s]"
          }
        },
        "171f5108e83a489d8acb81f2123712b2": {
          "model_module": "@jupyter-widgets/base",
          "model_name": "LayoutModel",
          "model_module_version": "1.2.0",
          "state": {
            "_model_module": "@jupyter-widgets/base",
            "_model_module_version": "1.2.0",
            "_model_name": "LayoutModel",
            "_view_count": null,
            "_view_module": "@jupyter-widgets/base",
            "_view_module_version": "1.2.0",
            "_view_name": "LayoutView",
            "align_content": null,
            "align_items": null,
            "align_self": null,
            "border": null,
            "bottom": null,
            "display": null,
            "flex": null,
            "flex_flow": null,
            "grid_area": null,
            "grid_auto_columns": null,
            "grid_auto_flow": null,
            "grid_auto_rows": null,
            "grid_column": null,
            "grid_gap": null,
            "grid_row": null,
            "grid_template_areas": null,
            "grid_template_columns": null,
            "grid_template_rows": null,
            "height": null,
            "justify_content": null,
            "justify_items": null,
            "left": null,
            "margin": null,
            "max_height": null,
            "max_width": null,
            "min_height": null,
            "min_width": null,
            "object_fit": null,
            "object_position": null,
            "order": null,
            "overflow": null,
            "overflow_x": null,
            "overflow_y": null,
            "padding": null,
            "right": null,
            "top": null,
            "visibility": null,
            "width": null
          }
        },
        "2b03c0012d3f457cbfae3487aec15e67": {
          "model_module": "@jupyter-widgets/base",
          "model_name": "LayoutModel",
          "model_module_version": "1.2.0",
          "state": {
            "_model_module": "@jupyter-widgets/base",
            "_model_module_version": "1.2.0",
            "_model_name": "LayoutModel",
            "_view_count": null,
            "_view_module": "@jupyter-widgets/base",
            "_view_module_version": "1.2.0",
            "_view_name": "LayoutView",
            "align_content": null,
            "align_items": null,
            "align_self": null,
            "border": null,
            "bottom": null,
            "display": null,
            "flex": null,
            "flex_flow": null,
            "grid_area": null,
            "grid_auto_columns": null,
            "grid_auto_flow": null,
            "grid_auto_rows": null,
            "grid_column": null,
            "grid_gap": null,
            "grid_row": null,
            "grid_template_areas": null,
            "grid_template_columns": null,
            "grid_template_rows": null,
            "height": null,
            "justify_content": null,
            "justify_items": null,
            "left": null,
            "margin": null,
            "max_height": null,
            "max_width": null,
            "min_height": null,
            "min_width": null,
            "object_fit": null,
            "object_position": null,
            "order": null,
            "overflow": null,
            "overflow_x": null,
            "overflow_y": null,
            "padding": null,
            "right": null,
            "top": null,
            "visibility": null,
            "width": null
          }
        },
        "950e11e02fa14eaf8ab59b40a96e80a6": {
          "model_module": "@jupyter-widgets/controls",
          "model_name": "DescriptionStyleModel",
          "model_module_version": "1.5.0",
          "state": {
            "_model_module": "@jupyter-widgets/controls",
            "_model_module_version": "1.5.0",
            "_model_name": "DescriptionStyleModel",
            "_view_count": null,
            "_view_module": "@jupyter-widgets/base",
            "_view_module_version": "1.2.0",
            "_view_name": "StyleView",
            "description_width": ""
          }
        },
        "ce80190b2835431ab6a582ac0538dc4c": {
          "model_module": "@jupyter-widgets/base",
          "model_name": "LayoutModel",
          "model_module_version": "1.2.0",
          "state": {
            "_model_module": "@jupyter-widgets/base",
            "_model_module_version": "1.2.0",
            "_model_name": "LayoutModel",
            "_view_count": null,
            "_view_module": "@jupyter-widgets/base",
            "_view_module_version": "1.2.0",
            "_view_name": "LayoutView",
            "align_content": null,
            "align_items": null,
            "align_self": null,
            "border": null,
            "bottom": null,
            "display": null,
            "flex": null,
            "flex_flow": null,
            "grid_area": null,
            "grid_auto_columns": null,
            "grid_auto_flow": null,
            "grid_auto_rows": null,
            "grid_column": null,
            "grid_gap": null,
            "grid_row": null,
            "grid_template_areas": null,
            "grid_template_columns": null,
            "grid_template_rows": null,
            "height": null,
            "justify_content": null,
            "justify_items": null,
            "left": null,
            "margin": null,
            "max_height": null,
            "max_width": null,
            "min_height": null,
            "min_width": null,
            "object_fit": null,
            "object_position": null,
            "order": null,
            "overflow": null,
            "overflow_x": null,
            "overflow_y": null,
            "padding": null,
            "right": null,
            "top": null,
            "visibility": null,
            "width": "20px"
          }
        },
        "c6f25ea7e5884d598cf5b99d66964ade": {
          "model_module": "@jupyter-widgets/controls",
          "model_name": "ProgressStyleModel",
          "model_module_version": "1.5.0",
          "state": {
            "_model_module": "@jupyter-widgets/controls",
            "_model_module_version": "1.5.0",
            "_model_name": "ProgressStyleModel",
            "_view_count": null,
            "_view_module": "@jupyter-widgets/base",
            "_view_module_version": "1.2.0",
            "_view_name": "StyleView",
            "bar_color": null,
            "description_width": ""
          }
        },
        "07861eb7c61b4f19823574b0bc413701": {
          "model_module": "@jupyter-widgets/base",
          "model_name": "LayoutModel",
          "model_module_version": "1.2.0",
          "state": {
            "_model_module": "@jupyter-widgets/base",
            "_model_module_version": "1.2.0",
            "_model_name": "LayoutModel",
            "_view_count": null,
            "_view_module": "@jupyter-widgets/base",
            "_view_module_version": "1.2.0",
            "_view_name": "LayoutView",
            "align_content": null,
            "align_items": null,
            "align_self": null,
            "border": null,
            "bottom": null,
            "display": null,
            "flex": null,
            "flex_flow": null,
            "grid_area": null,
            "grid_auto_columns": null,
            "grid_auto_flow": null,
            "grid_auto_rows": null,
            "grid_column": null,
            "grid_gap": null,
            "grid_row": null,
            "grid_template_areas": null,
            "grid_template_columns": null,
            "grid_template_rows": null,
            "height": null,
            "justify_content": null,
            "justify_items": null,
            "left": null,
            "margin": null,
            "max_height": null,
            "max_width": null,
            "min_height": null,
            "min_width": null,
            "object_fit": null,
            "object_position": null,
            "order": null,
            "overflow": null,
            "overflow_x": null,
            "overflow_y": null,
            "padding": null,
            "right": null,
            "top": null,
            "visibility": null,
            "width": null
          }
        },
        "ea961471bf77423b9d07104c14ad5427": {
          "model_module": "@jupyter-widgets/controls",
          "model_name": "DescriptionStyleModel",
          "model_module_version": "1.5.0",
          "state": {
            "_model_module": "@jupyter-widgets/controls",
            "_model_module_version": "1.5.0",
            "_model_name": "DescriptionStyleModel",
            "_view_count": null,
            "_view_module": "@jupyter-widgets/base",
            "_view_module_version": "1.2.0",
            "_view_name": "StyleView",
            "description_width": ""
          }
        },
        "1f02fd0d4d944125b06a060745da423a": {
          "model_module": "@jupyter-widgets/controls",
          "model_name": "HBoxModel",
          "model_module_version": "1.5.0",
          "state": {
            "_dom_classes": [],
            "_model_module": "@jupyter-widgets/controls",
            "_model_module_version": "1.5.0",
            "_model_name": "HBoxModel",
            "_view_count": null,
            "_view_module": "@jupyter-widgets/controls",
            "_view_module_version": "1.5.0",
            "_view_name": "HBoxView",
            "box_style": "",
            "children": [
              "IPY_MODEL_efd28e93da424cd68e01bdb3611fb088",
              "IPY_MODEL_fc3500bec4f34dc583b86d37ee51c106",
              "IPY_MODEL_9a2d9e2ae3a840b5937358fca5121dc3"
            ],
            "layout": "IPY_MODEL_45f8162da4744f8fa76e30463beca2cb"
          }
        },
        "efd28e93da424cd68e01bdb3611fb088": {
          "model_module": "@jupyter-widgets/controls",
          "model_name": "HTMLModel",
          "model_module_version": "1.5.0",
          "state": {
            "_dom_classes": [],
            "_model_module": "@jupyter-widgets/controls",
            "_model_module_version": "1.5.0",
            "_model_name": "HTMLModel",
            "_view_count": null,
            "_view_module": "@jupyter-widgets/controls",
            "_view_module_version": "1.5.0",
            "_view_name": "HTMLView",
            "description": "",
            "description_tooltip": null,
            "layout": "IPY_MODEL_34f88fdf8fc24ab4a23181e8a5044d06",
            "placeholder": "​",
            "style": "IPY_MODEL_a0a458d04e7847239c9ea8e35317b9e8",
            "value": "Generating splits...: 100%"
          }
        },
        "fc3500bec4f34dc583b86d37ee51c106": {
          "model_module": "@jupyter-widgets/controls",
          "model_name": "FloatProgressModel",
          "model_module_version": "1.5.0",
          "state": {
            "_dom_classes": [],
            "_model_module": "@jupyter-widgets/controls",
            "_model_module_version": "1.5.0",
            "_model_name": "FloatProgressModel",
            "_view_count": null,
            "_view_module": "@jupyter-widgets/controls",
            "_view_module_version": "1.5.0",
            "_view_name": "ProgressView",
            "bar_style": "",
            "description": "",
            "description_tooltip": null,
            "layout": "IPY_MODEL_2559fbe2c69c498dafe3f7fdf769d9d9",
            "max": 3,
            "min": 0,
            "orientation": "horizontal",
            "style": "IPY_MODEL_1f0dc689f890410197502689ac2ca001",
            "value": 3
          }
        },
        "9a2d9e2ae3a840b5937358fca5121dc3": {
          "model_module": "@jupyter-widgets/controls",
          "model_name": "HTMLModel",
          "model_module_version": "1.5.0",
          "state": {
            "_dom_classes": [],
            "_model_module": "@jupyter-widgets/controls",
            "_model_module_version": "1.5.0",
            "_model_name": "HTMLModel",
            "_view_count": null,
            "_view_module": "@jupyter-widgets/controls",
            "_view_module_version": "1.5.0",
            "_view_name": "HTMLView",
            "description": "",
            "description_tooltip": null,
            "layout": "IPY_MODEL_38ef9436276949c1bd003d6f19f64afb",
            "placeholder": "​",
            "style": "IPY_MODEL_091c234ed0654dcbbc45f67449b9e67f",
            "value": " 3/3 [00:34&lt;00:00, 11.79s/ splits]"
          }
        },
        "45f8162da4744f8fa76e30463beca2cb": {
          "model_module": "@jupyter-widgets/base",
          "model_name": "LayoutModel",
          "model_module_version": "1.2.0",
          "state": {
            "_model_module": "@jupyter-widgets/base",
            "_model_module_version": "1.2.0",
            "_model_name": "LayoutModel",
            "_view_count": null,
            "_view_module": "@jupyter-widgets/base",
            "_view_module_version": "1.2.0",
            "_view_name": "LayoutView",
            "align_content": null,
            "align_items": null,
            "align_self": null,
            "border": null,
            "bottom": null,
            "display": null,
            "flex": null,
            "flex_flow": null,
            "grid_area": null,
            "grid_auto_columns": null,
            "grid_auto_flow": null,
            "grid_auto_rows": null,
            "grid_column": null,
            "grid_gap": null,
            "grid_row": null,
            "grid_template_areas": null,
            "grid_template_columns": null,
            "grid_template_rows": null,
            "height": null,
            "justify_content": null,
            "justify_items": null,
            "left": null,
            "margin": null,
            "max_height": null,
            "max_width": null,
            "min_height": null,
            "min_width": null,
            "object_fit": null,
            "object_position": null,
            "order": null,
            "overflow": null,
            "overflow_x": null,
            "overflow_y": null,
            "padding": null,
            "right": null,
            "top": null,
            "visibility": "hidden",
            "width": null
          }
        },
        "34f88fdf8fc24ab4a23181e8a5044d06": {
          "model_module": "@jupyter-widgets/base",
          "model_name": "LayoutModel",
          "model_module_version": "1.2.0",
          "state": {
            "_model_module": "@jupyter-widgets/base",
            "_model_module_version": "1.2.0",
            "_model_name": "LayoutModel",
            "_view_count": null,
            "_view_module": "@jupyter-widgets/base",
            "_view_module_version": "1.2.0",
            "_view_name": "LayoutView",
            "align_content": null,
            "align_items": null,
            "align_self": null,
            "border": null,
            "bottom": null,
            "display": null,
            "flex": null,
            "flex_flow": null,
            "grid_area": null,
            "grid_auto_columns": null,
            "grid_auto_flow": null,
            "grid_auto_rows": null,
            "grid_column": null,
            "grid_gap": null,
            "grid_row": null,
            "grid_template_areas": null,
            "grid_template_columns": null,
            "grid_template_rows": null,
            "height": null,
            "justify_content": null,
            "justify_items": null,
            "left": null,
            "margin": null,
            "max_height": null,
            "max_width": null,
            "min_height": null,
            "min_width": null,
            "object_fit": null,
            "object_position": null,
            "order": null,
            "overflow": null,
            "overflow_x": null,
            "overflow_y": null,
            "padding": null,
            "right": null,
            "top": null,
            "visibility": null,
            "width": null
          }
        },
        "a0a458d04e7847239c9ea8e35317b9e8": {
          "model_module": "@jupyter-widgets/controls",
          "model_name": "DescriptionStyleModel",
          "model_module_version": "1.5.0",
          "state": {
            "_model_module": "@jupyter-widgets/controls",
            "_model_module_version": "1.5.0",
            "_model_name": "DescriptionStyleModel",
            "_view_count": null,
            "_view_module": "@jupyter-widgets/base",
            "_view_module_version": "1.2.0",
            "_view_name": "StyleView",
            "description_width": ""
          }
        },
        "2559fbe2c69c498dafe3f7fdf769d9d9": {
          "model_module": "@jupyter-widgets/base",
          "model_name": "LayoutModel",
          "model_module_version": "1.2.0",
          "state": {
            "_model_module": "@jupyter-widgets/base",
            "_model_module_version": "1.2.0",
            "_model_name": "LayoutModel",
            "_view_count": null,
            "_view_module": "@jupyter-widgets/base",
            "_view_module_version": "1.2.0",
            "_view_name": "LayoutView",
            "align_content": null,
            "align_items": null,
            "align_self": null,
            "border": null,
            "bottom": null,
            "display": null,
            "flex": null,
            "flex_flow": null,
            "grid_area": null,
            "grid_auto_columns": null,
            "grid_auto_flow": null,
            "grid_auto_rows": null,
            "grid_column": null,
            "grid_gap": null,
            "grid_row": null,
            "grid_template_areas": null,
            "grid_template_columns": null,
            "grid_template_rows": null,
            "height": null,
            "justify_content": null,
            "justify_items": null,
            "left": null,
            "margin": null,
            "max_height": null,
            "max_width": null,
            "min_height": null,
            "min_width": null,
            "object_fit": null,
            "object_position": null,
            "order": null,
            "overflow": null,
            "overflow_x": null,
            "overflow_y": null,
            "padding": null,
            "right": null,
            "top": null,
            "visibility": null,
            "width": null
          }
        },
        "1f0dc689f890410197502689ac2ca001": {
          "model_module": "@jupyter-widgets/controls",
          "model_name": "ProgressStyleModel",
          "model_module_version": "1.5.0",
          "state": {
            "_model_module": "@jupyter-widgets/controls",
            "_model_module_version": "1.5.0",
            "_model_name": "ProgressStyleModel",
            "_view_count": null,
            "_view_module": "@jupyter-widgets/base",
            "_view_module_version": "1.2.0",
            "_view_name": "StyleView",
            "bar_color": null,
            "description_width": ""
          }
        },
        "38ef9436276949c1bd003d6f19f64afb": {
          "model_module": "@jupyter-widgets/base",
          "model_name": "LayoutModel",
          "model_module_version": "1.2.0",
          "state": {
            "_model_module": "@jupyter-widgets/base",
            "_model_module_version": "1.2.0",
            "_model_name": "LayoutModel",
            "_view_count": null,
            "_view_module": "@jupyter-widgets/base",
            "_view_module_version": "1.2.0",
            "_view_name": "LayoutView",
            "align_content": null,
            "align_items": null,
            "align_self": null,
            "border": null,
            "bottom": null,
            "display": null,
            "flex": null,
            "flex_flow": null,
            "grid_area": null,
            "grid_auto_columns": null,
            "grid_auto_flow": null,
            "grid_auto_rows": null,
            "grid_column": null,
            "grid_gap": null,
            "grid_row": null,
            "grid_template_areas": null,
            "grid_template_columns": null,
            "grid_template_rows": null,
            "height": null,
            "justify_content": null,
            "justify_items": null,
            "left": null,
            "margin": null,
            "max_height": null,
            "max_width": null,
            "min_height": null,
            "min_width": null,
            "object_fit": null,
            "object_position": null,
            "order": null,
            "overflow": null,
            "overflow_x": null,
            "overflow_y": null,
            "padding": null,
            "right": null,
            "top": null,
            "visibility": null,
            "width": null
          }
        },
        "091c234ed0654dcbbc45f67449b9e67f": {
          "model_module": "@jupyter-widgets/controls",
          "model_name": "DescriptionStyleModel",
          "model_module_version": "1.5.0",
          "state": {
            "_model_module": "@jupyter-widgets/controls",
            "_model_module_version": "1.5.0",
            "_model_name": "DescriptionStyleModel",
            "_view_count": null,
            "_view_module": "@jupyter-widgets/base",
            "_view_module_version": "1.2.0",
            "_view_name": "StyleView",
            "description_width": ""
          }
        },
        "6422c41cca96459f8145b8af4de3759d": {
          "model_module": "@jupyter-widgets/controls",
          "model_name": "HBoxModel",
          "model_module_version": "1.5.0",
          "state": {
            "_dom_classes": [],
            "_model_module": "@jupyter-widgets/controls",
            "_model_module_version": "1.5.0",
            "_model_name": "HBoxModel",
            "_view_count": null,
            "_view_module": "@jupyter-widgets/controls",
            "_view_module_version": "1.5.0",
            "_view_name": "HBoxView",
            "box_style": "",
            "children": [
              "IPY_MODEL_38b72741bb6448cba637c0493ef8fb4a",
              "IPY_MODEL_57ce1c7e25884dd8b3bfc5c3c14fa5ed",
              "IPY_MODEL_476d7a89be344fbf8a7f6376e016d86c"
            ],
            "layout": "IPY_MODEL_043fe10452ea40629ebb153301a9d8bd"
          }
        },
        "38b72741bb6448cba637c0493ef8fb4a": {
          "model_module": "@jupyter-widgets/controls",
          "model_name": "HTMLModel",
          "model_module_version": "1.5.0",
          "state": {
            "_dom_classes": [],
            "_model_module": "@jupyter-widgets/controls",
            "_model_module_version": "1.5.0",
            "_model_name": "HTMLModel",
            "_view_count": null,
            "_view_module": "@jupyter-widgets/controls",
            "_view_module_version": "1.5.0",
            "_view_name": "HTMLView",
            "description": "",
            "description_tooltip": null,
            "layout": "IPY_MODEL_309c3282be8d494b88e2e4a9b7527e69",
            "placeholder": "​",
            "style": "IPY_MODEL_46761f2b3dc54f2ea4927ce2168802b1",
            "value": "Generating train examples...:  77%"
          }
        },
        "57ce1c7e25884dd8b3bfc5c3c14fa5ed": {
          "model_module": "@jupyter-widgets/controls",
          "model_name": "FloatProgressModel",
          "model_module_version": "1.5.0",
          "state": {
            "_dom_classes": [],
            "_model_module": "@jupyter-widgets/controls",
            "_model_module_version": "1.5.0",
            "_model_name": "FloatProgressModel",
            "_view_count": null,
            "_view_module": "@jupyter-widgets/controls",
            "_view_module_version": "1.5.0",
            "_view_name": "ProgressView",
            "bar_style": "",
            "description": "",
            "description_tooltip": null,
            "layout": "IPY_MODEL_8f6b3b2b5abb40f4b336bab41fde318e",
            "max": 25000,
            "min": 0,
            "orientation": "horizontal",
            "style": "IPY_MODEL_2defd5a6b8f04a75881a366427c7e846",
            "value": 25000
          }
        },
        "476d7a89be344fbf8a7f6376e016d86c": {
          "model_module": "@jupyter-widgets/controls",
          "model_name": "HTMLModel",
          "model_module_version": "1.5.0",
          "state": {
            "_dom_classes": [],
            "_model_module": "@jupyter-widgets/controls",
            "_model_module_version": "1.5.0",
            "_model_name": "HTMLModel",
            "_view_count": null,
            "_view_module": "@jupyter-widgets/controls",
            "_view_module_version": "1.5.0",
            "_view_name": "HTMLView",
            "description": "",
            "description_tooltip": null,
            "layout": "IPY_MODEL_0d0c77d1b6234bdb8bef26c1a9a078e3",
            "placeholder": "​",
            "style": "IPY_MODEL_ed16fcdaf1304d5a83d17d8a850f329d",
            "value": " 19230/25000 [00:06&lt;00:01, 4234.97 examples/s]"
          }
        },
        "043fe10452ea40629ebb153301a9d8bd": {
          "model_module": "@jupyter-widgets/base",
          "model_name": "LayoutModel",
          "model_module_version": "1.2.0",
          "state": {
            "_model_module": "@jupyter-widgets/base",
            "_model_module_version": "1.2.0",
            "_model_name": "LayoutModel",
            "_view_count": null,
            "_view_module": "@jupyter-widgets/base",
            "_view_module_version": "1.2.0",
            "_view_name": "LayoutView",
            "align_content": null,
            "align_items": null,
            "align_self": null,
            "border": null,
            "bottom": null,
            "display": null,
            "flex": null,
            "flex_flow": null,
            "grid_area": null,
            "grid_auto_columns": null,
            "grid_auto_flow": null,
            "grid_auto_rows": null,
            "grid_column": null,
            "grid_gap": null,
            "grid_row": null,
            "grid_template_areas": null,
            "grid_template_columns": null,
            "grid_template_rows": null,
            "height": null,
            "justify_content": null,
            "justify_items": null,
            "left": null,
            "margin": null,
            "max_height": null,
            "max_width": null,
            "min_height": null,
            "min_width": null,
            "object_fit": null,
            "object_position": null,
            "order": null,
            "overflow": null,
            "overflow_x": null,
            "overflow_y": null,
            "padding": null,
            "right": null,
            "top": null,
            "visibility": "hidden",
            "width": null
          }
        },
        "309c3282be8d494b88e2e4a9b7527e69": {
          "model_module": "@jupyter-widgets/base",
          "model_name": "LayoutModel",
          "model_module_version": "1.2.0",
          "state": {
            "_model_module": "@jupyter-widgets/base",
            "_model_module_version": "1.2.0",
            "_model_name": "LayoutModel",
            "_view_count": null,
            "_view_module": "@jupyter-widgets/base",
            "_view_module_version": "1.2.0",
            "_view_name": "LayoutView",
            "align_content": null,
            "align_items": null,
            "align_self": null,
            "border": null,
            "bottom": null,
            "display": null,
            "flex": null,
            "flex_flow": null,
            "grid_area": null,
            "grid_auto_columns": null,
            "grid_auto_flow": null,
            "grid_auto_rows": null,
            "grid_column": null,
            "grid_gap": null,
            "grid_row": null,
            "grid_template_areas": null,
            "grid_template_columns": null,
            "grid_template_rows": null,
            "height": null,
            "justify_content": null,
            "justify_items": null,
            "left": null,
            "margin": null,
            "max_height": null,
            "max_width": null,
            "min_height": null,
            "min_width": null,
            "object_fit": null,
            "object_position": null,
            "order": null,
            "overflow": null,
            "overflow_x": null,
            "overflow_y": null,
            "padding": null,
            "right": null,
            "top": null,
            "visibility": null,
            "width": null
          }
        },
        "46761f2b3dc54f2ea4927ce2168802b1": {
          "model_module": "@jupyter-widgets/controls",
          "model_name": "DescriptionStyleModel",
          "model_module_version": "1.5.0",
          "state": {
            "_model_module": "@jupyter-widgets/controls",
            "_model_module_version": "1.5.0",
            "_model_name": "DescriptionStyleModel",
            "_view_count": null,
            "_view_module": "@jupyter-widgets/base",
            "_view_module_version": "1.2.0",
            "_view_name": "StyleView",
            "description_width": ""
          }
        },
        "8f6b3b2b5abb40f4b336bab41fde318e": {
          "model_module": "@jupyter-widgets/base",
          "model_name": "LayoutModel",
          "model_module_version": "1.2.0",
          "state": {
            "_model_module": "@jupyter-widgets/base",
            "_model_module_version": "1.2.0",
            "_model_name": "LayoutModel",
            "_view_count": null,
            "_view_module": "@jupyter-widgets/base",
            "_view_module_version": "1.2.0",
            "_view_name": "LayoutView",
            "align_content": null,
            "align_items": null,
            "align_self": null,
            "border": null,
            "bottom": null,
            "display": null,
            "flex": null,
            "flex_flow": null,
            "grid_area": null,
            "grid_auto_columns": null,
            "grid_auto_flow": null,
            "grid_auto_rows": null,
            "grid_column": null,
            "grid_gap": null,
            "grid_row": null,
            "grid_template_areas": null,
            "grid_template_columns": null,
            "grid_template_rows": null,
            "height": null,
            "justify_content": null,
            "justify_items": null,
            "left": null,
            "margin": null,
            "max_height": null,
            "max_width": null,
            "min_height": null,
            "min_width": null,
            "object_fit": null,
            "object_position": null,
            "order": null,
            "overflow": null,
            "overflow_x": null,
            "overflow_y": null,
            "padding": null,
            "right": null,
            "top": null,
            "visibility": null,
            "width": null
          }
        },
        "2defd5a6b8f04a75881a366427c7e846": {
          "model_module": "@jupyter-widgets/controls",
          "model_name": "ProgressStyleModel",
          "model_module_version": "1.5.0",
          "state": {
            "_model_module": "@jupyter-widgets/controls",
            "_model_module_version": "1.5.0",
            "_model_name": "ProgressStyleModel",
            "_view_count": null,
            "_view_module": "@jupyter-widgets/base",
            "_view_module_version": "1.2.0",
            "_view_name": "StyleView",
            "bar_color": null,
            "description_width": ""
          }
        },
        "0d0c77d1b6234bdb8bef26c1a9a078e3": {
          "model_module": "@jupyter-widgets/base",
          "model_name": "LayoutModel",
          "model_module_version": "1.2.0",
          "state": {
            "_model_module": "@jupyter-widgets/base",
            "_model_module_version": "1.2.0",
            "_model_name": "LayoutModel",
            "_view_count": null,
            "_view_module": "@jupyter-widgets/base",
            "_view_module_version": "1.2.0",
            "_view_name": "LayoutView",
            "align_content": null,
            "align_items": null,
            "align_self": null,
            "border": null,
            "bottom": null,
            "display": null,
            "flex": null,
            "flex_flow": null,
            "grid_area": null,
            "grid_auto_columns": null,
            "grid_auto_flow": null,
            "grid_auto_rows": null,
            "grid_column": null,
            "grid_gap": null,
            "grid_row": null,
            "grid_template_areas": null,
            "grid_template_columns": null,
            "grid_template_rows": null,
            "height": null,
            "justify_content": null,
            "justify_items": null,
            "left": null,
            "margin": null,
            "max_height": null,
            "max_width": null,
            "min_height": null,
            "min_width": null,
            "object_fit": null,
            "object_position": null,
            "order": null,
            "overflow": null,
            "overflow_x": null,
            "overflow_y": null,
            "padding": null,
            "right": null,
            "top": null,
            "visibility": null,
            "width": null
          }
        },
        "ed16fcdaf1304d5a83d17d8a850f329d": {
          "model_module": "@jupyter-widgets/controls",
          "model_name": "DescriptionStyleModel",
          "model_module_version": "1.5.0",
          "state": {
            "_model_module": "@jupyter-widgets/controls",
            "_model_module_version": "1.5.0",
            "_model_name": "DescriptionStyleModel",
            "_view_count": null,
            "_view_module": "@jupyter-widgets/base",
            "_view_module_version": "1.2.0",
            "_view_name": "StyleView",
            "description_width": ""
          }
        },
        "163889520c71403e80c4a68f1593a987": {
          "model_module": "@jupyter-widgets/controls",
          "model_name": "HBoxModel",
          "model_module_version": "1.5.0",
          "state": {
            "_dom_classes": [],
            "_model_module": "@jupyter-widgets/controls",
            "_model_module_version": "1.5.0",
            "_model_name": "HBoxModel",
            "_view_count": null,
            "_view_module": "@jupyter-widgets/controls",
            "_view_module_version": "1.5.0",
            "_view_name": "HBoxView",
            "box_style": "",
            "children": [
              "IPY_MODEL_f6b5a036854f4bdba3b8ce3a013c2cc3",
              "IPY_MODEL_0ca81fd196a04dd7889601c14808efb1",
              "IPY_MODEL_68bb9cd3cbcc416c8f842f15a0375a06"
            ],
            "layout": "IPY_MODEL_0b4c204308154a0c8f52083fd717e747"
          }
        },
        "f6b5a036854f4bdba3b8ce3a013c2cc3": {
          "model_module": "@jupyter-widgets/controls",
          "model_name": "HTMLModel",
          "model_module_version": "1.5.0",
          "state": {
            "_dom_classes": [],
            "_model_module": "@jupyter-widgets/controls",
            "_model_module_version": "1.5.0",
            "_model_name": "HTMLModel",
            "_view_count": null,
            "_view_module": "@jupyter-widgets/controls",
            "_view_module_version": "1.5.0",
            "_view_name": "HTMLView",
            "description": "",
            "description_tooltip": null,
            "layout": "IPY_MODEL_91eae0506fed44dcba0c60a402cbf057",
            "placeholder": "​",
            "style": "IPY_MODEL_e7952ce258164cb2817faf21ad5f325f",
            "value": "Shuffling /root/tensorflow_datasets/imdb_reviews/plain_text/1.0.0.incompleteWWDHGG/imdb_reviews-train.tfrecord*...:  66%"
          }
        },
        "0ca81fd196a04dd7889601c14808efb1": {
          "model_module": "@jupyter-widgets/controls",
          "model_name": "FloatProgressModel",
          "model_module_version": "1.5.0",
          "state": {
            "_dom_classes": [],
            "_model_module": "@jupyter-widgets/controls",
            "_model_module_version": "1.5.0",
            "_model_name": "FloatProgressModel",
            "_view_count": null,
            "_view_module": "@jupyter-widgets/controls",
            "_view_module_version": "1.5.0",
            "_view_name": "ProgressView",
            "bar_style": "",
            "description": "",
            "description_tooltip": null,
            "layout": "IPY_MODEL_ab4e8f451eeb477cacc6dc3271d155ee",
            "max": 25000,
            "min": 0,
            "orientation": "horizontal",
            "style": "IPY_MODEL_7868208e953a44a59cf166a5a070df2c",
            "value": 25000
          }
        },
        "68bb9cd3cbcc416c8f842f15a0375a06": {
          "model_module": "@jupyter-widgets/controls",
          "model_name": "HTMLModel",
          "model_module_version": "1.5.0",
          "state": {
            "_dom_classes": [],
            "_model_module": "@jupyter-widgets/controls",
            "_model_module_version": "1.5.0",
            "_model_name": "HTMLModel",
            "_view_count": null,
            "_view_module": "@jupyter-widgets/controls",
            "_view_module_version": "1.5.0",
            "_view_name": "HTMLView",
            "description": "",
            "description_tooltip": null,
            "layout": "IPY_MODEL_654d7d1cb9f84ff89e75393b1626e2ed",
            "placeholder": "​",
            "style": "IPY_MODEL_9ee3eb9a929e40a386c8a2c0d77b407d",
            "value": " 16515/25000 [00:00&lt;00:00, 165130.87 examples/s]"
          }
        },
        "0b4c204308154a0c8f52083fd717e747": {
          "model_module": "@jupyter-widgets/base",
          "model_name": "LayoutModel",
          "model_module_version": "1.2.0",
          "state": {
            "_model_module": "@jupyter-widgets/base",
            "_model_module_version": "1.2.0",
            "_model_name": "LayoutModel",
            "_view_count": null,
            "_view_module": "@jupyter-widgets/base",
            "_view_module_version": "1.2.0",
            "_view_name": "LayoutView",
            "align_content": null,
            "align_items": null,
            "align_self": null,
            "border": null,
            "bottom": null,
            "display": null,
            "flex": null,
            "flex_flow": null,
            "grid_area": null,
            "grid_auto_columns": null,
            "grid_auto_flow": null,
            "grid_auto_rows": null,
            "grid_column": null,
            "grid_gap": null,
            "grid_row": null,
            "grid_template_areas": null,
            "grid_template_columns": null,
            "grid_template_rows": null,
            "height": null,
            "justify_content": null,
            "justify_items": null,
            "left": null,
            "margin": null,
            "max_height": null,
            "max_width": null,
            "min_height": null,
            "min_width": null,
            "object_fit": null,
            "object_position": null,
            "order": null,
            "overflow": null,
            "overflow_x": null,
            "overflow_y": null,
            "padding": null,
            "right": null,
            "top": null,
            "visibility": "hidden",
            "width": null
          }
        },
        "91eae0506fed44dcba0c60a402cbf057": {
          "model_module": "@jupyter-widgets/base",
          "model_name": "LayoutModel",
          "model_module_version": "1.2.0",
          "state": {
            "_model_module": "@jupyter-widgets/base",
            "_model_module_version": "1.2.0",
            "_model_name": "LayoutModel",
            "_view_count": null,
            "_view_module": "@jupyter-widgets/base",
            "_view_module_version": "1.2.0",
            "_view_name": "LayoutView",
            "align_content": null,
            "align_items": null,
            "align_self": null,
            "border": null,
            "bottom": null,
            "display": null,
            "flex": null,
            "flex_flow": null,
            "grid_area": null,
            "grid_auto_columns": null,
            "grid_auto_flow": null,
            "grid_auto_rows": null,
            "grid_column": null,
            "grid_gap": null,
            "grid_row": null,
            "grid_template_areas": null,
            "grid_template_columns": null,
            "grid_template_rows": null,
            "height": null,
            "justify_content": null,
            "justify_items": null,
            "left": null,
            "margin": null,
            "max_height": null,
            "max_width": null,
            "min_height": null,
            "min_width": null,
            "object_fit": null,
            "object_position": null,
            "order": null,
            "overflow": null,
            "overflow_x": null,
            "overflow_y": null,
            "padding": null,
            "right": null,
            "top": null,
            "visibility": null,
            "width": null
          }
        },
        "e7952ce258164cb2817faf21ad5f325f": {
          "model_module": "@jupyter-widgets/controls",
          "model_name": "DescriptionStyleModel",
          "model_module_version": "1.5.0",
          "state": {
            "_model_module": "@jupyter-widgets/controls",
            "_model_module_version": "1.5.0",
            "_model_name": "DescriptionStyleModel",
            "_view_count": null,
            "_view_module": "@jupyter-widgets/base",
            "_view_module_version": "1.2.0",
            "_view_name": "StyleView",
            "description_width": ""
          }
        },
        "ab4e8f451eeb477cacc6dc3271d155ee": {
          "model_module": "@jupyter-widgets/base",
          "model_name": "LayoutModel",
          "model_module_version": "1.2.0",
          "state": {
            "_model_module": "@jupyter-widgets/base",
            "_model_module_version": "1.2.0",
            "_model_name": "LayoutModel",
            "_view_count": null,
            "_view_module": "@jupyter-widgets/base",
            "_view_module_version": "1.2.0",
            "_view_name": "LayoutView",
            "align_content": null,
            "align_items": null,
            "align_self": null,
            "border": null,
            "bottom": null,
            "display": null,
            "flex": null,
            "flex_flow": null,
            "grid_area": null,
            "grid_auto_columns": null,
            "grid_auto_flow": null,
            "grid_auto_rows": null,
            "grid_column": null,
            "grid_gap": null,
            "grid_row": null,
            "grid_template_areas": null,
            "grid_template_columns": null,
            "grid_template_rows": null,
            "height": null,
            "justify_content": null,
            "justify_items": null,
            "left": null,
            "margin": null,
            "max_height": null,
            "max_width": null,
            "min_height": null,
            "min_width": null,
            "object_fit": null,
            "object_position": null,
            "order": null,
            "overflow": null,
            "overflow_x": null,
            "overflow_y": null,
            "padding": null,
            "right": null,
            "top": null,
            "visibility": null,
            "width": null
          }
        },
        "7868208e953a44a59cf166a5a070df2c": {
          "model_module": "@jupyter-widgets/controls",
          "model_name": "ProgressStyleModel",
          "model_module_version": "1.5.0",
          "state": {
            "_model_module": "@jupyter-widgets/controls",
            "_model_module_version": "1.5.0",
            "_model_name": "ProgressStyleModel",
            "_view_count": null,
            "_view_module": "@jupyter-widgets/base",
            "_view_module_version": "1.2.0",
            "_view_name": "StyleView",
            "bar_color": null,
            "description_width": ""
          }
        },
        "654d7d1cb9f84ff89e75393b1626e2ed": {
          "model_module": "@jupyter-widgets/base",
          "model_name": "LayoutModel",
          "model_module_version": "1.2.0",
          "state": {
            "_model_module": "@jupyter-widgets/base",
            "_model_module_version": "1.2.0",
            "_model_name": "LayoutModel",
            "_view_count": null,
            "_view_module": "@jupyter-widgets/base",
            "_view_module_version": "1.2.0",
            "_view_name": "LayoutView",
            "align_content": null,
            "align_items": null,
            "align_self": null,
            "border": null,
            "bottom": null,
            "display": null,
            "flex": null,
            "flex_flow": null,
            "grid_area": null,
            "grid_auto_columns": null,
            "grid_auto_flow": null,
            "grid_auto_rows": null,
            "grid_column": null,
            "grid_gap": null,
            "grid_row": null,
            "grid_template_areas": null,
            "grid_template_columns": null,
            "grid_template_rows": null,
            "height": null,
            "justify_content": null,
            "justify_items": null,
            "left": null,
            "margin": null,
            "max_height": null,
            "max_width": null,
            "min_height": null,
            "min_width": null,
            "object_fit": null,
            "object_position": null,
            "order": null,
            "overflow": null,
            "overflow_x": null,
            "overflow_y": null,
            "padding": null,
            "right": null,
            "top": null,
            "visibility": null,
            "width": null
          }
        },
        "9ee3eb9a929e40a386c8a2c0d77b407d": {
          "model_module": "@jupyter-widgets/controls",
          "model_name": "DescriptionStyleModel",
          "model_module_version": "1.5.0",
          "state": {
            "_model_module": "@jupyter-widgets/controls",
            "_model_module_version": "1.5.0",
            "_model_name": "DescriptionStyleModel",
            "_view_count": null,
            "_view_module": "@jupyter-widgets/base",
            "_view_module_version": "1.2.0",
            "_view_name": "StyleView",
            "description_width": ""
          }
        },
        "12fa7fcb354743ca80eea29b7e6cbecd": {
          "model_module": "@jupyter-widgets/controls",
          "model_name": "HBoxModel",
          "model_module_version": "1.5.0",
          "state": {
            "_dom_classes": [],
            "_model_module": "@jupyter-widgets/controls",
            "_model_module_version": "1.5.0",
            "_model_name": "HBoxModel",
            "_view_count": null,
            "_view_module": "@jupyter-widgets/controls",
            "_view_module_version": "1.5.0",
            "_view_name": "HBoxView",
            "box_style": "",
            "children": [
              "IPY_MODEL_0e6116e6e40647c3a3e5d569d1454821",
              "IPY_MODEL_8c4232585a1046c7a6f170831f99cdb9",
              "IPY_MODEL_a7fe2ddfe44042f3a3cddfae644859c9"
            ],
            "layout": "IPY_MODEL_cd9fea6fff4744cfa19d4710d710bf65"
          }
        },
        "0e6116e6e40647c3a3e5d569d1454821": {
          "model_module": "@jupyter-widgets/controls",
          "model_name": "HTMLModel",
          "model_module_version": "1.5.0",
          "state": {
            "_dom_classes": [],
            "_model_module": "@jupyter-widgets/controls",
            "_model_module_version": "1.5.0",
            "_model_name": "HTMLModel",
            "_view_count": null,
            "_view_module": "@jupyter-widgets/controls",
            "_view_module_version": "1.5.0",
            "_view_name": "HTMLView",
            "description": "",
            "description_tooltip": null,
            "layout": "IPY_MODEL_7af3e5d8b0504b24809c0d67f3db3c4c",
            "placeholder": "​",
            "style": "IPY_MODEL_7933246183f5404fa2ea6c5035cb0ea6",
            "value": "Generating test examples...:  84%"
          }
        },
        "8c4232585a1046c7a6f170831f99cdb9": {
          "model_module": "@jupyter-widgets/controls",
          "model_name": "FloatProgressModel",
          "model_module_version": "1.5.0",
          "state": {
            "_dom_classes": [],
            "_model_module": "@jupyter-widgets/controls",
            "_model_module_version": "1.5.0",
            "_model_name": "FloatProgressModel",
            "_view_count": null,
            "_view_module": "@jupyter-widgets/controls",
            "_view_module_version": "1.5.0",
            "_view_name": "ProgressView",
            "bar_style": "",
            "description": "",
            "description_tooltip": null,
            "layout": "IPY_MODEL_707ac35e82e64c9aba0257c282f7719c",
            "max": 25000,
            "min": 0,
            "orientation": "horizontal",
            "style": "IPY_MODEL_a9af48381d0d4cf9ab6779ccb576158e",
            "value": 25000
          }
        },
        "a7fe2ddfe44042f3a3cddfae644859c9": {
          "model_module": "@jupyter-widgets/controls",
          "model_name": "HTMLModel",
          "model_module_version": "1.5.0",
          "state": {
            "_dom_classes": [],
            "_model_module": "@jupyter-widgets/controls",
            "_model_module_version": "1.5.0",
            "_model_name": "HTMLModel",
            "_view_count": null,
            "_view_module": "@jupyter-widgets/controls",
            "_view_module_version": "1.5.0",
            "_view_name": "HTMLView",
            "description": "",
            "description_tooltip": null,
            "layout": "IPY_MODEL_8f3146057879408894e61c359658de34",
            "placeholder": "​",
            "style": "IPY_MODEL_200cafe55b8742d8b0a09361349c7708",
            "value": " 21014/25000 [00:04&lt;00:00, 5627.33 examples/s]"
          }
        },
        "cd9fea6fff4744cfa19d4710d710bf65": {
          "model_module": "@jupyter-widgets/base",
          "model_name": "LayoutModel",
          "model_module_version": "1.2.0",
          "state": {
            "_model_module": "@jupyter-widgets/base",
            "_model_module_version": "1.2.0",
            "_model_name": "LayoutModel",
            "_view_count": null,
            "_view_module": "@jupyter-widgets/base",
            "_view_module_version": "1.2.0",
            "_view_name": "LayoutView",
            "align_content": null,
            "align_items": null,
            "align_self": null,
            "border": null,
            "bottom": null,
            "display": null,
            "flex": null,
            "flex_flow": null,
            "grid_area": null,
            "grid_auto_columns": null,
            "grid_auto_flow": null,
            "grid_auto_rows": null,
            "grid_column": null,
            "grid_gap": null,
            "grid_row": null,
            "grid_template_areas": null,
            "grid_template_columns": null,
            "grid_template_rows": null,
            "height": null,
            "justify_content": null,
            "justify_items": null,
            "left": null,
            "margin": null,
            "max_height": null,
            "max_width": null,
            "min_height": null,
            "min_width": null,
            "object_fit": null,
            "object_position": null,
            "order": null,
            "overflow": null,
            "overflow_x": null,
            "overflow_y": null,
            "padding": null,
            "right": null,
            "top": null,
            "visibility": "hidden",
            "width": null
          }
        },
        "7af3e5d8b0504b24809c0d67f3db3c4c": {
          "model_module": "@jupyter-widgets/base",
          "model_name": "LayoutModel",
          "model_module_version": "1.2.0",
          "state": {
            "_model_module": "@jupyter-widgets/base",
            "_model_module_version": "1.2.0",
            "_model_name": "LayoutModel",
            "_view_count": null,
            "_view_module": "@jupyter-widgets/base",
            "_view_module_version": "1.2.0",
            "_view_name": "LayoutView",
            "align_content": null,
            "align_items": null,
            "align_self": null,
            "border": null,
            "bottom": null,
            "display": null,
            "flex": null,
            "flex_flow": null,
            "grid_area": null,
            "grid_auto_columns": null,
            "grid_auto_flow": null,
            "grid_auto_rows": null,
            "grid_column": null,
            "grid_gap": null,
            "grid_row": null,
            "grid_template_areas": null,
            "grid_template_columns": null,
            "grid_template_rows": null,
            "height": null,
            "justify_content": null,
            "justify_items": null,
            "left": null,
            "margin": null,
            "max_height": null,
            "max_width": null,
            "min_height": null,
            "min_width": null,
            "object_fit": null,
            "object_position": null,
            "order": null,
            "overflow": null,
            "overflow_x": null,
            "overflow_y": null,
            "padding": null,
            "right": null,
            "top": null,
            "visibility": null,
            "width": null
          }
        },
        "7933246183f5404fa2ea6c5035cb0ea6": {
          "model_module": "@jupyter-widgets/controls",
          "model_name": "DescriptionStyleModel",
          "model_module_version": "1.5.0",
          "state": {
            "_model_module": "@jupyter-widgets/controls",
            "_model_module_version": "1.5.0",
            "_model_name": "DescriptionStyleModel",
            "_view_count": null,
            "_view_module": "@jupyter-widgets/base",
            "_view_module_version": "1.2.0",
            "_view_name": "StyleView",
            "description_width": ""
          }
        },
        "707ac35e82e64c9aba0257c282f7719c": {
          "model_module": "@jupyter-widgets/base",
          "model_name": "LayoutModel",
          "model_module_version": "1.2.0",
          "state": {
            "_model_module": "@jupyter-widgets/base",
            "_model_module_version": "1.2.0",
            "_model_name": "LayoutModel",
            "_view_count": null,
            "_view_module": "@jupyter-widgets/base",
            "_view_module_version": "1.2.0",
            "_view_name": "LayoutView",
            "align_content": null,
            "align_items": null,
            "align_self": null,
            "border": null,
            "bottom": null,
            "display": null,
            "flex": null,
            "flex_flow": null,
            "grid_area": null,
            "grid_auto_columns": null,
            "grid_auto_flow": null,
            "grid_auto_rows": null,
            "grid_column": null,
            "grid_gap": null,
            "grid_row": null,
            "grid_template_areas": null,
            "grid_template_columns": null,
            "grid_template_rows": null,
            "height": null,
            "justify_content": null,
            "justify_items": null,
            "left": null,
            "margin": null,
            "max_height": null,
            "max_width": null,
            "min_height": null,
            "min_width": null,
            "object_fit": null,
            "object_position": null,
            "order": null,
            "overflow": null,
            "overflow_x": null,
            "overflow_y": null,
            "padding": null,
            "right": null,
            "top": null,
            "visibility": null,
            "width": null
          }
        },
        "a9af48381d0d4cf9ab6779ccb576158e": {
          "model_module": "@jupyter-widgets/controls",
          "model_name": "ProgressStyleModel",
          "model_module_version": "1.5.0",
          "state": {
            "_model_module": "@jupyter-widgets/controls",
            "_model_module_version": "1.5.0",
            "_model_name": "ProgressStyleModel",
            "_view_count": null,
            "_view_module": "@jupyter-widgets/base",
            "_view_module_version": "1.2.0",
            "_view_name": "StyleView",
            "bar_color": null,
            "description_width": ""
          }
        },
        "8f3146057879408894e61c359658de34": {
          "model_module": "@jupyter-widgets/base",
          "model_name": "LayoutModel",
          "model_module_version": "1.2.0",
          "state": {
            "_model_module": "@jupyter-widgets/base",
            "_model_module_version": "1.2.0",
            "_model_name": "LayoutModel",
            "_view_count": null,
            "_view_module": "@jupyter-widgets/base",
            "_view_module_version": "1.2.0",
            "_view_name": "LayoutView",
            "align_content": null,
            "align_items": null,
            "align_self": null,
            "border": null,
            "bottom": null,
            "display": null,
            "flex": null,
            "flex_flow": null,
            "grid_area": null,
            "grid_auto_columns": null,
            "grid_auto_flow": null,
            "grid_auto_rows": null,
            "grid_column": null,
            "grid_gap": null,
            "grid_row": null,
            "grid_template_areas": null,
            "grid_template_columns": null,
            "grid_template_rows": null,
            "height": null,
            "justify_content": null,
            "justify_items": null,
            "left": null,
            "margin": null,
            "max_height": null,
            "max_width": null,
            "min_height": null,
            "min_width": null,
            "object_fit": null,
            "object_position": null,
            "order": null,
            "overflow": null,
            "overflow_x": null,
            "overflow_y": null,
            "padding": null,
            "right": null,
            "top": null,
            "visibility": null,
            "width": null
          }
        },
        "200cafe55b8742d8b0a09361349c7708": {
          "model_module": "@jupyter-widgets/controls",
          "model_name": "DescriptionStyleModel",
          "model_module_version": "1.5.0",
          "state": {
            "_model_module": "@jupyter-widgets/controls",
            "_model_module_version": "1.5.0",
            "_model_name": "DescriptionStyleModel",
            "_view_count": null,
            "_view_module": "@jupyter-widgets/base",
            "_view_module_version": "1.2.0",
            "_view_name": "StyleView",
            "description_width": ""
          }
        },
        "9b5dbfbcd0e7442ea0e2dc645fda20cb": {
          "model_module": "@jupyter-widgets/controls",
          "model_name": "HBoxModel",
          "model_module_version": "1.5.0",
          "state": {
            "_dom_classes": [],
            "_model_module": "@jupyter-widgets/controls",
            "_model_module_version": "1.5.0",
            "_model_name": "HBoxModel",
            "_view_count": null,
            "_view_module": "@jupyter-widgets/controls",
            "_view_module_version": "1.5.0",
            "_view_name": "HBoxView",
            "box_style": "",
            "children": [
              "IPY_MODEL_b3b916fed99e44cc97f09d72d242d928",
              "IPY_MODEL_92d0abac11ff4611931c7dc9ae1ee203",
              "IPY_MODEL_b5ef5432fa9d41ba8e4420fa05b201f4"
            ],
            "layout": "IPY_MODEL_b037bdfd429e4d0b9032e2a9c534750b"
          }
        },
        "b3b916fed99e44cc97f09d72d242d928": {
          "model_module": "@jupyter-widgets/controls",
          "model_name": "HTMLModel",
          "model_module_version": "1.5.0",
          "state": {
            "_dom_classes": [],
            "_model_module": "@jupyter-widgets/controls",
            "_model_module_version": "1.5.0",
            "_model_name": "HTMLModel",
            "_view_count": null,
            "_view_module": "@jupyter-widgets/controls",
            "_view_module_version": "1.5.0",
            "_view_name": "HTMLView",
            "description": "",
            "description_tooltip": null,
            "layout": "IPY_MODEL_be6cff1939ff487b8ccd44e405c1eb18",
            "placeholder": "​",
            "style": "IPY_MODEL_aa89271f9cfd496e9c3c7dd4f61dc090",
            "value": "Shuffling /root/tensorflow_datasets/imdb_reviews/plain_text/1.0.0.incompleteWWDHGG/imdb_reviews-test.tfrecord*...:  65%"
          }
        },
        "92d0abac11ff4611931c7dc9ae1ee203": {
          "model_module": "@jupyter-widgets/controls",
          "model_name": "FloatProgressModel",
          "model_module_version": "1.5.0",
          "state": {
            "_dom_classes": [],
            "_model_module": "@jupyter-widgets/controls",
            "_model_module_version": "1.5.0",
            "_model_name": "FloatProgressModel",
            "_view_count": null,
            "_view_module": "@jupyter-widgets/controls",
            "_view_module_version": "1.5.0",
            "_view_name": "ProgressView",
            "bar_style": "",
            "description": "",
            "description_tooltip": null,
            "layout": "IPY_MODEL_e52839fa183443c79e6b72c42822c9fa",
            "max": 25000,
            "min": 0,
            "orientation": "horizontal",
            "style": "IPY_MODEL_4a4d426385564bfdbdf611e3c787f07c",
            "value": 25000
          }
        },
        "b5ef5432fa9d41ba8e4420fa05b201f4": {
          "model_module": "@jupyter-widgets/controls",
          "model_name": "HTMLModel",
          "model_module_version": "1.5.0",
          "state": {
            "_dom_classes": [],
            "_model_module": "@jupyter-widgets/controls",
            "_model_module_version": "1.5.0",
            "_model_name": "HTMLModel",
            "_view_count": null,
            "_view_module": "@jupyter-widgets/controls",
            "_view_module_version": "1.5.0",
            "_view_name": "HTMLView",
            "description": "",
            "description_tooltip": null,
            "layout": "IPY_MODEL_73cb8ae3b0544f4fad5a64b59618bdfe",
            "placeholder": "​",
            "style": "IPY_MODEL_916fdab00442450e8228528fb89d5c62",
            "value": " 16372/25000 [00:00&lt;00:00, 163702.59 examples/s]"
          }
        },
        "b037bdfd429e4d0b9032e2a9c534750b": {
          "model_module": "@jupyter-widgets/base",
          "model_name": "LayoutModel",
          "model_module_version": "1.2.0",
          "state": {
            "_model_module": "@jupyter-widgets/base",
            "_model_module_version": "1.2.0",
            "_model_name": "LayoutModel",
            "_view_count": null,
            "_view_module": "@jupyter-widgets/base",
            "_view_module_version": "1.2.0",
            "_view_name": "LayoutView",
            "align_content": null,
            "align_items": null,
            "align_self": null,
            "border": null,
            "bottom": null,
            "display": null,
            "flex": null,
            "flex_flow": null,
            "grid_area": null,
            "grid_auto_columns": null,
            "grid_auto_flow": null,
            "grid_auto_rows": null,
            "grid_column": null,
            "grid_gap": null,
            "grid_row": null,
            "grid_template_areas": null,
            "grid_template_columns": null,
            "grid_template_rows": null,
            "height": null,
            "justify_content": null,
            "justify_items": null,
            "left": null,
            "margin": null,
            "max_height": null,
            "max_width": null,
            "min_height": null,
            "min_width": null,
            "object_fit": null,
            "object_position": null,
            "order": null,
            "overflow": null,
            "overflow_x": null,
            "overflow_y": null,
            "padding": null,
            "right": null,
            "top": null,
            "visibility": "hidden",
            "width": null
          }
        },
        "be6cff1939ff487b8ccd44e405c1eb18": {
          "model_module": "@jupyter-widgets/base",
          "model_name": "LayoutModel",
          "model_module_version": "1.2.0",
          "state": {
            "_model_module": "@jupyter-widgets/base",
            "_model_module_version": "1.2.0",
            "_model_name": "LayoutModel",
            "_view_count": null,
            "_view_module": "@jupyter-widgets/base",
            "_view_module_version": "1.2.0",
            "_view_name": "LayoutView",
            "align_content": null,
            "align_items": null,
            "align_self": null,
            "border": null,
            "bottom": null,
            "display": null,
            "flex": null,
            "flex_flow": null,
            "grid_area": null,
            "grid_auto_columns": null,
            "grid_auto_flow": null,
            "grid_auto_rows": null,
            "grid_column": null,
            "grid_gap": null,
            "grid_row": null,
            "grid_template_areas": null,
            "grid_template_columns": null,
            "grid_template_rows": null,
            "height": null,
            "justify_content": null,
            "justify_items": null,
            "left": null,
            "margin": null,
            "max_height": null,
            "max_width": null,
            "min_height": null,
            "min_width": null,
            "object_fit": null,
            "object_position": null,
            "order": null,
            "overflow": null,
            "overflow_x": null,
            "overflow_y": null,
            "padding": null,
            "right": null,
            "top": null,
            "visibility": null,
            "width": null
          }
        },
        "aa89271f9cfd496e9c3c7dd4f61dc090": {
          "model_module": "@jupyter-widgets/controls",
          "model_name": "DescriptionStyleModel",
          "model_module_version": "1.5.0",
          "state": {
            "_model_module": "@jupyter-widgets/controls",
            "_model_module_version": "1.5.0",
            "_model_name": "DescriptionStyleModel",
            "_view_count": null,
            "_view_module": "@jupyter-widgets/base",
            "_view_module_version": "1.2.0",
            "_view_name": "StyleView",
            "description_width": ""
          }
        },
        "e52839fa183443c79e6b72c42822c9fa": {
          "model_module": "@jupyter-widgets/base",
          "model_name": "LayoutModel",
          "model_module_version": "1.2.0",
          "state": {
            "_model_module": "@jupyter-widgets/base",
            "_model_module_version": "1.2.0",
            "_model_name": "LayoutModel",
            "_view_count": null,
            "_view_module": "@jupyter-widgets/base",
            "_view_module_version": "1.2.0",
            "_view_name": "LayoutView",
            "align_content": null,
            "align_items": null,
            "align_self": null,
            "border": null,
            "bottom": null,
            "display": null,
            "flex": null,
            "flex_flow": null,
            "grid_area": null,
            "grid_auto_columns": null,
            "grid_auto_flow": null,
            "grid_auto_rows": null,
            "grid_column": null,
            "grid_gap": null,
            "grid_row": null,
            "grid_template_areas": null,
            "grid_template_columns": null,
            "grid_template_rows": null,
            "height": null,
            "justify_content": null,
            "justify_items": null,
            "left": null,
            "margin": null,
            "max_height": null,
            "max_width": null,
            "min_height": null,
            "min_width": null,
            "object_fit": null,
            "object_position": null,
            "order": null,
            "overflow": null,
            "overflow_x": null,
            "overflow_y": null,
            "padding": null,
            "right": null,
            "top": null,
            "visibility": null,
            "width": null
          }
        },
        "4a4d426385564bfdbdf611e3c787f07c": {
          "model_module": "@jupyter-widgets/controls",
          "model_name": "ProgressStyleModel",
          "model_module_version": "1.5.0",
          "state": {
            "_model_module": "@jupyter-widgets/controls",
            "_model_module_version": "1.5.0",
            "_model_name": "ProgressStyleModel",
            "_view_count": null,
            "_view_module": "@jupyter-widgets/base",
            "_view_module_version": "1.2.0",
            "_view_name": "StyleView",
            "bar_color": null,
            "description_width": ""
          }
        },
        "73cb8ae3b0544f4fad5a64b59618bdfe": {
          "model_module": "@jupyter-widgets/base",
          "model_name": "LayoutModel",
          "model_module_version": "1.2.0",
          "state": {
            "_model_module": "@jupyter-widgets/base",
            "_model_module_version": "1.2.0",
            "_model_name": "LayoutModel",
            "_view_count": null,
            "_view_module": "@jupyter-widgets/base",
            "_view_module_version": "1.2.0",
            "_view_name": "LayoutView",
            "align_content": null,
            "align_items": null,
            "align_self": null,
            "border": null,
            "bottom": null,
            "display": null,
            "flex": null,
            "flex_flow": null,
            "grid_area": null,
            "grid_auto_columns": null,
            "grid_auto_flow": null,
            "grid_auto_rows": null,
            "grid_column": null,
            "grid_gap": null,
            "grid_row": null,
            "grid_template_areas": null,
            "grid_template_columns": null,
            "grid_template_rows": null,
            "height": null,
            "justify_content": null,
            "justify_items": null,
            "left": null,
            "margin": null,
            "max_height": null,
            "max_width": null,
            "min_height": null,
            "min_width": null,
            "object_fit": null,
            "object_position": null,
            "order": null,
            "overflow": null,
            "overflow_x": null,
            "overflow_y": null,
            "padding": null,
            "right": null,
            "top": null,
            "visibility": null,
            "width": null
          }
        },
        "916fdab00442450e8228528fb89d5c62": {
          "model_module": "@jupyter-widgets/controls",
          "model_name": "DescriptionStyleModel",
          "model_module_version": "1.5.0",
          "state": {
            "_model_module": "@jupyter-widgets/controls",
            "_model_module_version": "1.5.0",
            "_model_name": "DescriptionStyleModel",
            "_view_count": null,
            "_view_module": "@jupyter-widgets/base",
            "_view_module_version": "1.2.0",
            "_view_name": "StyleView",
            "description_width": ""
          }
        },
        "7e4c339a1aea45dc9da028697b83f397": {
          "model_module": "@jupyter-widgets/controls",
          "model_name": "HBoxModel",
          "model_module_version": "1.5.0",
          "state": {
            "_dom_classes": [],
            "_model_module": "@jupyter-widgets/controls",
            "_model_module_version": "1.5.0",
            "_model_name": "HBoxModel",
            "_view_count": null,
            "_view_module": "@jupyter-widgets/controls",
            "_view_module_version": "1.5.0",
            "_view_name": "HBoxView",
            "box_style": "",
            "children": [
              "IPY_MODEL_6a6c25c0b7514e8da808be6142589be3",
              "IPY_MODEL_56b078197ed747c0bc1c2c61389c292b",
              "IPY_MODEL_2f1047396c9d4774b1663260d2b7b341"
            ],
            "layout": "IPY_MODEL_ec5e8b0f9df84a9e9121603165793ed0"
          }
        },
        "6a6c25c0b7514e8da808be6142589be3": {
          "model_module": "@jupyter-widgets/controls",
          "model_name": "HTMLModel",
          "model_module_version": "1.5.0",
          "state": {
            "_dom_classes": [],
            "_model_module": "@jupyter-widgets/controls",
            "_model_module_version": "1.5.0",
            "_model_name": "HTMLModel",
            "_view_count": null,
            "_view_module": "@jupyter-widgets/controls",
            "_view_module_version": "1.5.0",
            "_view_name": "HTMLView",
            "description": "",
            "description_tooltip": null,
            "layout": "IPY_MODEL_cd1de4fb6e5c48d7a51db54288a4f529",
            "placeholder": "​",
            "style": "IPY_MODEL_e8bad309c989426ca68ed711d7521811",
            "value": "Generating unsupervised examples...:  99%"
          }
        },
        "56b078197ed747c0bc1c2c61389c292b": {
          "model_module": "@jupyter-widgets/controls",
          "model_name": "FloatProgressModel",
          "model_module_version": "1.5.0",
          "state": {
            "_dom_classes": [],
            "_model_module": "@jupyter-widgets/controls",
            "_model_module_version": "1.5.0",
            "_model_name": "FloatProgressModel",
            "_view_count": null,
            "_view_module": "@jupyter-widgets/controls",
            "_view_module_version": "1.5.0",
            "_view_name": "ProgressView",
            "bar_style": "",
            "description": "",
            "description_tooltip": null,
            "layout": "IPY_MODEL_022555e2c17941d2b6730f5b7c7fcee6",
            "max": 50000,
            "min": 0,
            "orientation": "horizontal",
            "style": "IPY_MODEL_461b39e6bf904e77a58af39e8a625302",
            "value": 50000
          }
        },
        "2f1047396c9d4774b1663260d2b7b341": {
          "model_module": "@jupyter-widgets/controls",
          "model_name": "HTMLModel",
          "model_module_version": "1.5.0",
          "state": {
            "_dom_classes": [],
            "_model_module": "@jupyter-widgets/controls",
            "_model_module_version": "1.5.0",
            "_model_name": "HTMLModel",
            "_view_count": null,
            "_view_module": "@jupyter-widgets/controls",
            "_view_module_version": "1.5.0",
            "_view_name": "HTMLView",
            "description": "",
            "description_tooltip": null,
            "layout": "IPY_MODEL_ff06b14ee31b4c61a91be0e3de20d4e8",
            "placeholder": "​",
            "style": "IPY_MODEL_fb0cc00bd48c4e6fa102aaa937ab7b6a",
            "value": " 49473/50000 [00:13&lt;00:00, 4582.49 examples/s]"
          }
        },
        "ec5e8b0f9df84a9e9121603165793ed0": {
          "model_module": "@jupyter-widgets/base",
          "model_name": "LayoutModel",
          "model_module_version": "1.2.0",
          "state": {
            "_model_module": "@jupyter-widgets/base",
            "_model_module_version": "1.2.0",
            "_model_name": "LayoutModel",
            "_view_count": null,
            "_view_module": "@jupyter-widgets/base",
            "_view_module_version": "1.2.0",
            "_view_name": "LayoutView",
            "align_content": null,
            "align_items": null,
            "align_self": null,
            "border": null,
            "bottom": null,
            "display": null,
            "flex": null,
            "flex_flow": null,
            "grid_area": null,
            "grid_auto_columns": null,
            "grid_auto_flow": null,
            "grid_auto_rows": null,
            "grid_column": null,
            "grid_gap": null,
            "grid_row": null,
            "grid_template_areas": null,
            "grid_template_columns": null,
            "grid_template_rows": null,
            "height": null,
            "justify_content": null,
            "justify_items": null,
            "left": null,
            "margin": null,
            "max_height": null,
            "max_width": null,
            "min_height": null,
            "min_width": null,
            "object_fit": null,
            "object_position": null,
            "order": null,
            "overflow": null,
            "overflow_x": null,
            "overflow_y": null,
            "padding": null,
            "right": null,
            "top": null,
            "visibility": "hidden",
            "width": null
          }
        },
        "cd1de4fb6e5c48d7a51db54288a4f529": {
          "model_module": "@jupyter-widgets/base",
          "model_name": "LayoutModel",
          "model_module_version": "1.2.0",
          "state": {
            "_model_module": "@jupyter-widgets/base",
            "_model_module_version": "1.2.0",
            "_model_name": "LayoutModel",
            "_view_count": null,
            "_view_module": "@jupyter-widgets/base",
            "_view_module_version": "1.2.0",
            "_view_name": "LayoutView",
            "align_content": null,
            "align_items": null,
            "align_self": null,
            "border": null,
            "bottom": null,
            "display": null,
            "flex": null,
            "flex_flow": null,
            "grid_area": null,
            "grid_auto_columns": null,
            "grid_auto_flow": null,
            "grid_auto_rows": null,
            "grid_column": null,
            "grid_gap": null,
            "grid_row": null,
            "grid_template_areas": null,
            "grid_template_columns": null,
            "grid_template_rows": null,
            "height": null,
            "justify_content": null,
            "justify_items": null,
            "left": null,
            "margin": null,
            "max_height": null,
            "max_width": null,
            "min_height": null,
            "min_width": null,
            "object_fit": null,
            "object_position": null,
            "order": null,
            "overflow": null,
            "overflow_x": null,
            "overflow_y": null,
            "padding": null,
            "right": null,
            "top": null,
            "visibility": null,
            "width": null
          }
        },
        "e8bad309c989426ca68ed711d7521811": {
          "model_module": "@jupyter-widgets/controls",
          "model_name": "DescriptionStyleModel",
          "model_module_version": "1.5.0",
          "state": {
            "_model_module": "@jupyter-widgets/controls",
            "_model_module_version": "1.5.0",
            "_model_name": "DescriptionStyleModel",
            "_view_count": null,
            "_view_module": "@jupyter-widgets/base",
            "_view_module_version": "1.2.0",
            "_view_name": "StyleView",
            "description_width": ""
          }
        },
        "022555e2c17941d2b6730f5b7c7fcee6": {
          "model_module": "@jupyter-widgets/base",
          "model_name": "LayoutModel",
          "model_module_version": "1.2.0",
          "state": {
            "_model_module": "@jupyter-widgets/base",
            "_model_module_version": "1.2.0",
            "_model_name": "LayoutModel",
            "_view_count": null,
            "_view_module": "@jupyter-widgets/base",
            "_view_module_version": "1.2.0",
            "_view_name": "LayoutView",
            "align_content": null,
            "align_items": null,
            "align_self": null,
            "border": null,
            "bottom": null,
            "display": null,
            "flex": null,
            "flex_flow": null,
            "grid_area": null,
            "grid_auto_columns": null,
            "grid_auto_flow": null,
            "grid_auto_rows": null,
            "grid_column": null,
            "grid_gap": null,
            "grid_row": null,
            "grid_template_areas": null,
            "grid_template_columns": null,
            "grid_template_rows": null,
            "height": null,
            "justify_content": null,
            "justify_items": null,
            "left": null,
            "margin": null,
            "max_height": null,
            "max_width": null,
            "min_height": null,
            "min_width": null,
            "object_fit": null,
            "object_position": null,
            "order": null,
            "overflow": null,
            "overflow_x": null,
            "overflow_y": null,
            "padding": null,
            "right": null,
            "top": null,
            "visibility": null,
            "width": null
          }
        },
        "461b39e6bf904e77a58af39e8a625302": {
          "model_module": "@jupyter-widgets/controls",
          "model_name": "ProgressStyleModel",
          "model_module_version": "1.5.0",
          "state": {
            "_model_module": "@jupyter-widgets/controls",
            "_model_module_version": "1.5.0",
            "_model_name": "ProgressStyleModel",
            "_view_count": null,
            "_view_module": "@jupyter-widgets/base",
            "_view_module_version": "1.2.0",
            "_view_name": "StyleView",
            "bar_color": null,
            "description_width": ""
          }
        },
        "ff06b14ee31b4c61a91be0e3de20d4e8": {
          "model_module": "@jupyter-widgets/base",
          "model_name": "LayoutModel",
          "model_module_version": "1.2.0",
          "state": {
            "_model_module": "@jupyter-widgets/base",
            "_model_module_version": "1.2.0",
            "_model_name": "LayoutModel",
            "_view_count": null,
            "_view_module": "@jupyter-widgets/base",
            "_view_module_version": "1.2.0",
            "_view_name": "LayoutView",
            "align_content": null,
            "align_items": null,
            "align_self": null,
            "border": null,
            "bottom": null,
            "display": null,
            "flex": null,
            "flex_flow": null,
            "grid_area": null,
            "grid_auto_columns": null,
            "grid_auto_flow": null,
            "grid_auto_rows": null,
            "grid_column": null,
            "grid_gap": null,
            "grid_row": null,
            "grid_template_areas": null,
            "grid_template_columns": null,
            "grid_template_rows": null,
            "height": null,
            "justify_content": null,
            "justify_items": null,
            "left": null,
            "margin": null,
            "max_height": null,
            "max_width": null,
            "min_height": null,
            "min_width": null,
            "object_fit": null,
            "object_position": null,
            "order": null,
            "overflow": null,
            "overflow_x": null,
            "overflow_y": null,
            "padding": null,
            "right": null,
            "top": null,
            "visibility": null,
            "width": null
          }
        },
        "fb0cc00bd48c4e6fa102aaa937ab7b6a": {
          "model_module": "@jupyter-widgets/controls",
          "model_name": "DescriptionStyleModel",
          "model_module_version": "1.5.0",
          "state": {
            "_model_module": "@jupyter-widgets/controls",
            "_model_module_version": "1.5.0",
            "_model_name": "DescriptionStyleModel",
            "_view_count": null,
            "_view_module": "@jupyter-widgets/base",
            "_view_module_version": "1.2.0",
            "_view_name": "StyleView",
            "description_width": ""
          }
        },
        "1bf25e24f9b6452f8fa78f51c24caf24": {
          "model_module": "@jupyter-widgets/controls",
          "model_name": "HBoxModel",
          "model_module_version": "1.5.0",
          "state": {
            "_dom_classes": [],
            "_model_module": "@jupyter-widgets/controls",
            "_model_module_version": "1.5.0",
            "_model_name": "HBoxModel",
            "_view_count": null,
            "_view_module": "@jupyter-widgets/controls",
            "_view_module_version": "1.5.0",
            "_view_name": "HBoxView",
            "box_style": "",
            "children": [
              "IPY_MODEL_16021ddd9a684c9eb28f7731597e0048",
              "IPY_MODEL_58d2cba9701b47f4ba170b1aa9122e16",
              "IPY_MODEL_875cfb0777a546dbba7acf9ebe6f3625"
            ],
            "layout": "IPY_MODEL_3647a0f888ee44998e7601188ec3c575"
          }
        },
        "16021ddd9a684c9eb28f7731597e0048": {
          "model_module": "@jupyter-widgets/controls",
          "model_name": "HTMLModel",
          "model_module_version": "1.5.0",
          "state": {
            "_dom_classes": [],
            "_model_module": "@jupyter-widgets/controls",
            "_model_module_version": "1.5.0",
            "_model_name": "HTMLModel",
            "_view_count": null,
            "_view_module": "@jupyter-widgets/controls",
            "_view_module_version": "1.5.0",
            "_view_name": "HTMLView",
            "description": "",
            "description_tooltip": null,
            "layout": "IPY_MODEL_65d4f2b3b11140df8950786832bde64b",
            "placeholder": "​",
            "style": "IPY_MODEL_8eadff4b2da547e88404145be18368d9",
            "value": "Shuffling /root/tensorflow_datasets/imdb_reviews/plain_text/1.0.0.incompleteWWDHGG/imdb_reviews-unsupervised.tfrecord*...:  72%"
          }
        },
        "58d2cba9701b47f4ba170b1aa9122e16": {
          "model_module": "@jupyter-widgets/controls",
          "model_name": "FloatProgressModel",
          "model_module_version": "1.5.0",
          "state": {
            "_dom_classes": [],
            "_model_module": "@jupyter-widgets/controls",
            "_model_module_version": "1.5.0",
            "_model_name": "FloatProgressModel",
            "_view_count": null,
            "_view_module": "@jupyter-widgets/controls",
            "_view_module_version": "1.5.0",
            "_view_name": "ProgressView",
            "bar_style": "",
            "description": "",
            "description_tooltip": null,
            "layout": "IPY_MODEL_4d84ea2a793e4ce4a12f9f23aa681ea5",
            "max": 50000,
            "min": 0,
            "orientation": "horizontal",
            "style": "IPY_MODEL_8fbda60cee414d67a949edd0bc20484e",
            "value": 50000
          }
        },
        "875cfb0777a546dbba7acf9ebe6f3625": {
          "model_module": "@jupyter-widgets/controls",
          "model_name": "HTMLModel",
          "model_module_version": "1.5.0",
          "state": {
            "_dom_classes": [],
            "_model_module": "@jupyter-widgets/controls",
            "_model_module_version": "1.5.0",
            "_model_name": "HTMLModel",
            "_view_count": null,
            "_view_module": "@jupyter-widgets/controls",
            "_view_module_version": "1.5.0",
            "_view_name": "HTMLView",
            "description": "",
            "description_tooltip": null,
            "layout": "IPY_MODEL_f100bcad80b84538a5b75260318af16b",
            "placeholder": "​",
            "style": "IPY_MODEL_eae68175c2fe44819cbd6134b5b96d6d",
            "value": " 35872/50000 [00:00&lt;00:00, 196683.94 examples/s]"
          }
        },
        "3647a0f888ee44998e7601188ec3c575": {
          "model_module": "@jupyter-widgets/base",
          "model_name": "LayoutModel",
          "model_module_version": "1.2.0",
          "state": {
            "_model_module": "@jupyter-widgets/base",
            "_model_module_version": "1.2.0",
            "_model_name": "LayoutModel",
            "_view_count": null,
            "_view_module": "@jupyter-widgets/base",
            "_view_module_version": "1.2.0",
            "_view_name": "LayoutView",
            "align_content": null,
            "align_items": null,
            "align_self": null,
            "border": null,
            "bottom": null,
            "display": null,
            "flex": null,
            "flex_flow": null,
            "grid_area": null,
            "grid_auto_columns": null,
            "grid_auto_flow": null,
            "grid_auto_rows": null,
            "grid_column": null,
            "grid_gap": null,
            "grid_row": null,
            "grid_template_areas": null,
            "grid_template_columns": null,
            "grid_template_rows": null,
            "height": null,
            "justify_content": null,
            "justify_items": null,
            "left": null,
            "margin": null,
            "max_height": null,
            "max_width": null,
            "min_height": null,
            "min_width": null,
            "object_fit": null,
            "object_position": null,
            "order": null,
            "overflow": null,
            "overflow_x": null,
            "overflow_y": null,
            "padding": null,
            "right": null,
            "top": null,
            "visibility": "hidden",
            "width": null
          }
        },
        "65d4f2b3b11140df8950786832bde64b": {
          "model_module": "@jupyter-widgets/base",
          "model_name": "LayoutModel",
          "model_module_version": "1.2.0",
          "state": {
            "_model_module": "@jupyter-widgets/base",
            "_model_module_version": "1.2.0",
            "_model_name": "LayoutModel",
            "_view_count": null,
            "_view_module": "@jupyter-widgets/base",
            "_view_module_version": "1.2.0",
            "_view_name": "LayoutView",
            "align_content": null,
            "align_items": null,
            "align_self": null,
            "border": null,
            "bottom": null,
            "display": null,
            "flex": null,
            "flex_flow": null,
            "grid_area": null,
            "grid_auto_columns": null,
            "grid_auto_flow": null,
            "grid_auto_rows": null,
            "grid_column": null,
            "grid_gap": null,
            "grid_row": null,
            "grid_template_areas": null,
            "grid_template_columns": null,
            "grid_template_rows": null,
            "height": null,
            "justify_content": null,
            "justify_items": null,
            "left": null,
            "margin": null,
            "max_height": null,
            "max_width": null,
            "min_height": null,
            "min_width": null,
            "object_fit": null,
            "object_position": null,
            "order": null,
            "overflow": null,
            "overflow_x": null,
            "overflow_y": null,
            "padding": null,
            "right": null,
            "top": null,
            "visibility": null,
            "width": null
          }
        },
        "8eadff4b2da547e88404145be18368d9": {
          "model_module": "@jupyter-widgets/controls",
          "model_name": "DescriptionStyleModel",
          "model_module_version": "1.5.0",
          "state": {
            "_model_module": "@jupyter-widgets/controls",
            "_model_module_version": "1.5.0",
            "_model_name": "DescriptionStyleModel",
            "_view_count": null,
            "_view_module": "@jupyter-widgets/base",
            "_view_module_version": "1.2.0",
            "_view_name": "StyleView",
            "description_width": ""
          }
        },
        "4d84ea2a793e4ce4a12f9f23aa681ea5": {
          "model_module": "@jupyter-widgets/base",
          "model_name": "LayoutModel",
          "model_module_version": "1.2.0",
          "state": {
            "_model_module": "@jupyter-widgets/base",
            "_model_module_version": "1.2.0",
            "_model_name": "LayoutModel",
            "_view_count": null,
            "_view_module": "@jupyter-widgets/base",
            "_view_module_version": "1.2.0",
            "_view_name": "LayoutView",
            "align_content": null,
            "align_items": null,
            "align_self": null,
            "border": null,
            "bottom": null,
            "display": null,
            "flex": null,
            "flex_flow": null,
            "grid_area": null,
            "grid_auto_columns": null,
            "grid_auto_flow": null,
            "grid_auto_rows": null,
            "grid_column": null,
            "grid_gap": null,
            "grid_row": null,
            "grid_template_areas": null,
            "grid_template_columns": null,
            "grid_template_rows": null,
            "height": null,
            "justify_content": null,
            "justify_items": null,
            "left": null,
            "margin": null,
            "max_height": null,
            "max_width": null,
            "min_height": null,
            "min_width": null,
            "object_fit": null,
            "object_position": null,
            "order": null,
            "overflow": null,
            "overflow_x": null,
            "overflow_y": null,
            "padding": null,
            "right": null,
            "top": null,
            "visibility": null,
            "width": null
          }
        },
        "8fbda60cee414d67a949edd0bc20484e": {
          "model_module": "@jupyter-widgets/controls",
          "model_name": "ProgressStyleModel",
          "model_module_version": "1.5.0",
          "state": {
            "_model_module": "@jupyter-widgets/controls",
            "_model_module_version": "1.5.0",
            "_model_name": "ProgressStyleModel",
            "_view_count": null,
            "_view_module": "@jupyter-widgets/base",
            "_view_module_version": "1.2.0",
            "_view_name": "StyleView",
            "bar_color": null,
            "description_width": ""
          }
        },
        "f100bcad80b84538a5b75260318af16b": {
          "model_module": "@jupyter-widgets/base",
          "model_name": "LayoutModel",
          "model_module_version": "1.2.0",
          "state": {
            "_model_module": "@jupyter-widgets/base",
            "_model_module_version": "1.2.0",
            "_model_name": "LayoutModel",
            "_view_count": null,
            "_view_module": "@jupyter-widgets/base",
            "_view_module_version": "1.2.0",
            "_view_name": "LayoutView",
            "align_content": null,
            "align_items": null,
            "align_self": null,
            "border": null,
            "bottom": null,
            "display": null,
            "flex": null,
            "flex_flow": null,
            "grid_area": null,
            "grid_auto_columns": null,
            "grid_auto_flow": null,
            "grid_auto_rows": null,
            "grid_column": null,
            "grid_gap": null,
            "grid_row": null,
            "grid_template_areas": null,
            "grid_template_columns": null,
            "grid_template_rows": null,
            "height": null,
            "justify_content": null,
            "justify_items": null,
            "left": null,
            "margin": null,
            "max_height": null,
            "max_width": null,
            "min_height": null,
            "min_width": null,
            "object_fit": null,
            "object_position": null,
            "order": null,
            "overflow": null,
            "overflow_x": null,
            "overflow_y": null,
            "padding": null,
            "right": null,
            "top": null,
            "visibility": null,
            "width": null
          }
        },
        "eae68175c2fe44819cbd6134b5b96d6d": {
          "model_module": "@jupyter-widgets/controls",
          "model_name": "DescriptionStyleModel",
          "model_module_version": "1.5.0",
          "state": {
            "_model_module": "@jupyter-widgets/controls",
            "_model_module_version": "1.5.0",
            "_model_name": "DescriptionStyleModel",
            "_view_count": null,
            "_view_module": "@jupyter-widgets/base",
            "_view_module_version": "1.2.0",
            "_view_name": "StyleView",
            "description_width": ""
          }
        }
      }
    }
  },
  "nbformat": 4,
  "nbformat_minor": 0
}